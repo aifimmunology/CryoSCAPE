{
 "cells": [
  {
   "cell_type": "code",
   "execution_count": 2,
   "id": "be9cffb1-3f5c-4d07-9bf4-9e28e2d3e93f",
   "metadata": {},
   "outputs": [
    {
     "data": {
      "text/plain": [
       "['BL05401',\n",
       " 'PB05402',\n",
       " 'PB05111',\n",
       " 'PB05401',\n",
       " 'BL05111',\n",
       " 'BL05402',\n",
       " 'BL05113',\n",
       " 'PB05113']"
      ]
     },
     "execution_count": 2,
     "metadata": {},
     "output_type": "execute_result"
    }
   ],
   "source": [
    "import os\n",
    "import shutil\n",
    "\n",
    "# Directory containing your directories\n",
    "base_directory = \"/home/jupyter/CS15_WHBL/Exp00964_PBMC_vs_CS15/Exp00964_resCITE/outs/per_sample_outs/\"\n",
    "\n",
    "# Get a list of directories\n",
    "directories = [d for d in os.listdir(base_directory) if os.path.isdir(os.path.join(base_directory, d))]\n",
    "\n",
    "directories = [i for i in directories if i[0] != '.']\n",
    "directories"
   ]
  },
  {
   "cell_type": "code",
   "execution_count": 4,
   "id": "904fe247-17a9-48ed-998e-938b4063ae2b",
   "metadata": {},
   "outputs": [
    {
     "name": "stdout",
     "output_type": "stream",
     "text": [
      "File copied from /home/jupyter/CS15_WHBL/Exp00964_PBMC_vs_CS15/Exp00964_resCITE/outs/per_sample_outs/BL05401/count/sample_filtered_feature_bc_matrix.h5 to /home/jupyter/CS15_WHBL/PAPER/exp964_scrublet/BL05401_sample_filtered_feature_bc_matrix.h5\n",
      "File copied from /home/jupyter/CS15_WHBL/Exp00964_PBMC_vs_CS15/Exp00964_resCITE/outs/per_sample_outs/PB05402/count/sample_filtered_feature_bc_matrix.h5 to /home/jupyter/CS15_WHBL/PAPER/exp964_scrublet/PB05402_sample_filtered_feature_bc_matrix.h5\n",
      "File copied from /home/jupyter/CS15_WHBL/Exp00964_PBMC_vs_CS15/Exp00964_resCITE/outs/per_sample_outs/PB05111/count/sample_filtered_feature_bc_matrix.h5 to /home/jupyter/CS15_WHBL/PAPER/exp964_scrublet/PB05111_sample_filtered_feature_bc_matrix.h5\n",
      "File copied from /home/jupyter/CS15_WHBL/Exp00964_PBMC_vs_CS15/Exp00964_resCITE/outs/per_sample_outs/PB05401/count/sample_filtered_feature_bc_matrix.h5 to /home/jupyter/CS15_WHBL/PAPER/exp964_scrublet/PB05401_sample_filtered_feature_bc_matrix.h5\n",
      "File copied from /home/jupyter/CS15_WHBL/Exp00964_PBMC_vs_CS15/Exp00964_resCITE/outs/per_sample_outs/BL05111/count/sample_filtered_feature_bc_matrix.h5 to /home/jupyter/CS15_WHBL/PAPER/exp964_scrublet/BL05111_sample_filtered_feature_bc_matrix.h5\n",
      "File copied from /home/jupyter/CS15_WHBL/Exp00964_PBMC_vs_CS15/Exp00964_resCITE/outs/per_sample_outs/BL05402/count/sample_filtered_feature_bc_matrix.h5 to /home/jupyter/CS15_WHBL/PAPER/exp964_scrublet/BL05402_sample_filtered_feature_bc_matrix.h5\n",
      "File copied from /home/jupyter/CS15_WHBL/Exp00964_PBMC_vs_CS15/Exp00964_resCITE/outs/per_sample_outs/BL05113/count/sample_filtered_feature_bc_matrix.h5 to /home/jupyter/CS15_WHBL/PAPER/exp964_scrublet/BL05113_sample_filtered_feature_bc_matrix.h5\n",
      "File copied from /home/jupyter/CS15_WHBL/Exp00964_PBMC_vs_CS15/Exp00964_resCITE/outs/per_sample_outs/PB05113/count/sample_filtered_feature_bc_matrix.h5 to /home/jupyter/CS15_WHBL/PAPER/exp964_scrublet/PB05113_sample_filtered_feature_bc_matrix.h5\n"
     ]
    }
   ],
   "source": [
    "destination_dir = \"/home/jupyter/CS15_WHBL/PAPER/exp964_scrublet\"\n",
    "\n",
    "# Create destination directory if it doesn't exist\n",
    "os.makedirs(destination_dir, exist_ok=True)\n",
    "\n",
    "# Iterate over each directory\n",
    "for directory in directories:\n",
    "    # Source file path\n",
    "    source_file = os.path.join(base_directory, directory,'count/', \"sample_filtered_feature_bc_matrix.h5\")\n",
    "    \n",
    "    # Destination file path with the name of the original directory\n",
    "    destination_file = os.path.join(destination_dir, f\"{directory}_sample_filtered_feature_bc_matrix.h5\")\n",
    "    \n",
    "    # Copy file\n",
    "    shutil.copy(source_file, destination_file)\n",
    "    print(f\"File copied from {source_file} to {destination_file}\")"
   ]
  },
  {
   "cell_type": "code",
   "execution_count": null,
   "id": "a23478f0-6390-4ebd-ac3d-1a7867cdf649",
   "metadata": {},
   "outputs": [],
   "source": []
  },
  {
   "cell_type": "code",
   "execution_count": null,
   "id": "99b75cf1-1b73-4c57-9fed-79de2222124c",
   "metadata": {},
   "outputs": [],
   "source": []
  },
  {
   "cell_type": "markdown",
   "id": "e22fb40d-23ea-4886-a8f8-1dad2553c332",
   "metadata": {},
   "source": [
    "Retain:"
   ]
  },
  {
   "cell_type": "code",
   "execution_count": 9,
   "id": "a5c467b1-0787-421f-9f37-64d2904377e1",
   "metadata": {},
   "outputs": [
    {
     "name": "stdout",
     "output_type": "stream",
     "text": [
      "File moved from /home/jupyter/CS15_WHBL/Exp00888_WHBL_7and1/Exp00888_w1/outs/per_sample_outs/scrublet/BL05729_Bead/count/_sample_filtered_feature_bc_matrix.h5 to /home/jupyter/CS15_WHBL/Exp00888_WHBL_7and1/Exp00888_w1/outs/per_sample_outs/BL05729_Bead/count/sample_filtered_feature_bc_matrix.h5\n",
      "File moved from /home/jupyter/CS15_WHBL/Exp00888_WHBL_7and1/Exp00888_w1/outs/per_sample_outs/scrublet/BL05045_Bead/count/_sample_filtered_feature_bc_matrix.h5 to /home/jupyter/CS15_WHBL/Exp00888_WHBL_7and1/Exp00888_w1/outs/per_sample_outs/BL05045_Bead/count/sample_filtered_feature_bc_matrix.h5\n",
      "File moved from /home/jupyter/CS15_WHBL/Exp00888_WHBL_7and1/Exp00888_w1/outs/per_sample_outs/scrublet/BL05730_FACS/count/_sample_filtered_feature_bc_matrix.h5 to /home/jupyter/CS15_WHBL/Exp00888_WHBL_7and1/Exp00888_w1/outs/per_sample_outs/BL05730_FACS/count/sample_filtered_feature_bc_matrix.h5\n",
      "File moved from /home/jupyter/CS15_WHBL/Exp00888_WHBL_7and1/Exp00888_w1/outs/per_sample_outs/scrublet/PB02183_FACS/count/_sample_filtered_feature_bc_matrix.h5 to /home/jupyter/CS15_WHBL/Exp00888_WHBL_7and1/Exp00888_w1/outs/per_sample_outs/PB02183_FACS/count/sample_filtered_feature_bc_matrix.h5\n",
      "File moved from /home/jupyter/CS15_WHBL/Exp00888_WHBL_7and1/Exp00888_w1/outs/per_sample_outs/scrublet/BL05012_Bead/count/_sample_filtered_feature_bc_matrix.h5 to /home/jupyter/CS15_WHBL/Exp00888_WHBL_7and1/Exp00888_w1/outs/per_sample_outs/BL05012_Bead/count/sample_filtered_feature_bc_matrix.h5\n",
      "File moved from /home/jupyter/CS15_WHBL/Exp00888_WHBL_7and1/Exp00888_w1/outs/per_sample_outs/scrublet/BL05731_Bead/count/_sample_filtered_feature_bc_matrix.h5 to /home/jupyter/CS15_WHBL/Exp00888_WHBL_7and1/Exp00888_w1/outs/per_sample_outs/BL05731_Bead/count/sample_filtered_feature_bc_matrix.h5\n",
      "File moved from /home/jupyter/CS15_WHBL/Exp00888_WHBL_7and1/Exp00888_w1/outs/per_sample_outs/scrublet/BL05013_Bead/count/_sample_filtered_feature_bc_matrix.h5 to /home/jupyter/CS15_WHBL/Exp00888_WHBL_7and1/Exp00888_w1/outs/per_sample_outs/BL05013_Bead/count/sample_filtered_feature_bc_matrix.h5\n",
      "File moved from /home/jupyter/CS15_WHBL/Exp00888_WHBL_7and1/Exp00888_w1/outs/per_sample_outs/scrublet/BL05045_FACS/count/_sample_filtered_feature_bc_matrix.h5 to /home/jupyter/CS15_WHBL/Exp00888_WHBL_7and1/Exp00888_w1/outs/per_sample_outs/BL05045_FACS/count/sample_filtered_feature_bc_matrix.h5\n",
      "File moved from /home/jupyter/CS15_WHBL/Exp00888_WHBL_7and1/Exp00888_w1/outs/per_sample_outs/scrublet/BL05012_FACS/count/_sample_filtered_feature_bc_matrix.h5 to /home/jupyter/CS15_WHBL/Exp00888_WHBL_7and1/Exp00888_w1/outs/per_sample_outs/BL05012_FACS/count/sample_filtered_feature_bc_matrix.h5\n",
      "File moved from /home/jupyter/CS15_WHBL/Exp00888_WHBL_7and1/Exp00888_w1/outs/per_sample_outs/scrublet/BL05731_FACS/count/_sample_filtered_feature_bc_matrix.h5 to /home/jupyter/CS15_WHBL/Exp00888_WHBL_7and1/Exp00888_w1/outs/per_sample_outs/BL05731_FACS/count/sample_filtered_feature_bc_matrix.h5\n",
      "File moved from /home/jupyter/CS15_WHBL/Exp00888_WHBL_7and1/Exp00888_w1/outs/per_sample_outs/scrublet/BL05044_Bead/count/_sample_filtered_feature_bc_matrix.h5 to /home/jupyter/CS15_WHBL/Exp00888_WHBL_7and1/Exp00888_w1/outs/per_sample_outs/BL05044_Bead/count/sample_filtered_feature_bc_matrix.h5\n",
      "File moved from /home/jupyter/CS15_WHBL/Exp00888_WHBL_7and1/Exp00888_w1/outs/per_sample_outs/scrublet/PB02183_Bead/count/_sample_filtered_feature_bc_matrix.h5 to /home/jupyter/CS15_WHBL/Exp00888_WHBL_7and1/Exp00888_w1/outs/per_sample_outs/PB02183_Bead/count/sample_filtered_feature_bc_matrix.h5\n",
      "File moved from /home/jupyter/CS15_WHBL/Exp00888_WHBL_7and1/Exp00888_w1/outs/per_sample_outs/scrublet/BL05044_FACS/count/_sample_filtered_feature_bc_matrix.h5 to /home/jupyter/CS15_WHBL/Exp00888_WHBL_7and1/Exp00888_w1/outs/per_sample_outs/BL05044_FACS/count/sample_filtered_feature_bc_matrix.h5\n",
      "File moved from /home/jupyter/CS15_WHBL/Exp00888_WHBL_7and1/Exp00888_w1/outs/per_sample_outs/scrublet/BL05729_FACS/count/_sample_filtered_feature_bc_matrix.h5 to /home/jupyter/CS15_WHBL/Exp00888_WHBL_7and1/Exp00888_w1/outs/per_sample_outs/BL05729_FACS/count/sample_filtered_feature_bc_matrix.h5\n",
      "File moved from /home/jupyter/CS15_WHBL/Exp00888_WHBL_7and1/Exp00888_w1/outs/per_sample_outs/scrublet/BL05730_Bead/count/_sample_filtered_feature_bc_matrix.h5 to /home/jupyter/CS15_WHBL/Exp00888_WHBL_7and1/Exp00888_w1/outs/per_sample_outs/BL05730_Bead/count/sample_filtered_feature_bc_matrix.h5\n",
      "File moved from /home/jupyter/CS15_WHBL/Exp00888_WHBL_7and1/Exp00888_w1/outs/per_sample_outs/scrublet/BL05013_FACS/count/_sample_filtered_feature_bc_matrix.h5 to /home/jupyter/CS15_WHBL/Exp00888_WHBL_7and1/Exp00888_w1/outs/per_sample_outs/BL05013_FACS/count/sample_filtered_feature_bc_matrix.h5\n"
     ]
    }
   ],
   "source": [
    "# Destination directory for copied files\n",
    "destination_dir = \"/home/jupyter/CS15_WHBL/Exp00888_WHBL_7and1/Exp00888_w1/outs/per_sample_outs/\"\n",
    "\n",
    "# Create destination directory if it doesn't exist\n",
    "os.makedirs(destination_dir, exist_ok=True)\n",
    "\n",
    "# Iterate over each directory\n",
    "for directory in directories:\n",
    "    # Source file path\n",
    "    source_file = os.path.join(base_directory, directory, \"_sample_filtered_feature_bc_matrix.h5\")\n",
    "    \n",
    "    # Destination file path with the name of the original directory\n",
    "    destination_file = os.path.join(destination_dir, f\"{directory}sample_filtered_feature_bc_matrix.h5\")\n",
    "    \n",
    "    # Copy file\n",
    "    try:\n",
    "        os.makedirs(os.path.join(destination_dir,directory))\n",
    "    except FileExistsError:\n",
    "        pass\n",
    "    os.rename(source_file, destination_file)\n",
    "    print(f\"File moved from {source_file} to {destination_file}\")\n"
   ]
  },
  {
   "cell_type": "code",
   "execution_count": null,
   "id": "81605049-3f7c-42c2-96bb-9bf73571cac8",
   "metadata": {},
   "outputs": [],
   "source": []
  }
 ],
 "metadata": {
  "kernelspec": {
   "display_name": "Python 3 (ipykernel)",
   "language": "python",
   "name": "python3"
  },
  "language_info": {
   "codemirror_mode": {
    "name": "ipython",
    "version": 3
   },
   "file_extension": ".py",
   "mimetype": "text/x-python",
   "name": "python",
   "nbconvert_exporter": "python",
   "pygments_lexer": "ipython3",
   "version": "3.7.12"
  }
 },
 "nbformat": 4,
 "nbformat_minor": 5
}

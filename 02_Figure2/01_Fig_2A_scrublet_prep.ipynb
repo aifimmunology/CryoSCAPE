{
 "cells": [
  {
   "cell_type": "code",
   "execution_count": 1,
   "id": "be9cffb1-3f5c-4d07-9bf4-9e28e2d3e93f",
   "metadata": {},
   "outputs": [
    {
     "data": {
      "text/plain": [
       "['PB00618-03-02',\n",
       " 'PB00607-06-02',\n",
       " 'PB00617-03-02',\n",
       " 'PB00609-06-02',\n",
       " 'PB00616-03-01',\n",
       " 'PB00616-03-02',\n",
       " 'IMM19-688-01',\n",
       " 'PB00610-06-02',\n",
       " 'PB00617-03-01',\n",
       " 'IMM19-688-02',\n",
       " 'PB00622-03-01',\n",
       " 'PB00609-06-01',\n",
       " 'PB00610-06-01',\n",
       " 'PB00607-06-01',\n",
       " 'PB00622-03-02',\n",
       " 'PB00618-03-01']"
      ]
     },
     "execution_count": 1,
     "metadata": {},
     "output_type": "execute_result"
    }
   ],
   "source": [
    "import os\n",
    "import shutil\n",
    "\n",
    "# Directory containing your directories\n",
    "base_directory = \"/home/jupyter/CS15_WHBL/CWB_Paper/01_Final_Data/02_Data/exp340/Exp00340_w7/outs/per_sample_outs/\"\n",
    "\n",
    "# Get a list of directories\n",
    "directories = [d for d in os.listdir(base_directory) if os.path.isdir(os.path.join(base_directory, d))]\n",
    "\n",
    "directories = [i for i in directories if i[0] != '.']\n",
    "directories"
   ]
  },
  {
   "cell_type": "code",
   "execution_count": 2,
   "id": "904fe247-17a9-48ed-998e-938b4063ae2b",
   "metadata": {},
   "outputs": [
    {
     "name": "stdout",
     "output_type": "stream",
     "text": [
      "File copied from /home/jupyter/CS15_WHBL/CWB_Paper/01_Final_Data/02_Data/exp340/Exp00340_w7/outs/per_sample_outs/PB00618-03-02/count/sample_filtered_feature_bc_matrix.h5 to /home/jupyter/CS15_WHBL/CWB_Paper/01_Final_Data/02_Data/exp340/scrublet_fig2a/PB00618-03-02_sample_filtered_feature_bc_matrix.h5\n",
      "File copied from /home/jupyter/CS15_WHBL/CWB_Paper/01_Final_Data/02_Data/exp340/Exp00340_w7/outs/per_sample_outs/PB00607-06-02/count/sample_filtered_feature_bc_matrix.h5 to /home/jupyter/CS15_WHBL/CWB_Paper/01_Final_Data/02_Data/exp340/scrublet_fig2a/PB00607-06-02_sample_filtered_feature_bc_matrix.h5\n",
      "File copied from /home/jupyter/CS15_WHBL/CWB_Paper/01_Final_Data/02_Data/exp340/Exp00340_w7/outs/per_sample_outs/PB00617-03-02/count/sample_filtered_feature_bc_matrix.h5 to /home/jupyter/CS15_WHBL/CWB_Paper/01_Final_Data/02_Data/exp340/scrublet_fig2a/PB00617-03-02_sample_filtered_feature_bc_matrix.h5\n",
      "File copied from /home/jupyter/CS15_WHBL/CWB_Paper/01_Final_Data/02_Data/exp340/Exp00340_w7/outs/per_sample_outs/PB00609-06-02/count/sample_filtered_feature_bc_matrix.h5 to /home/jupyter/CS15_WHBL/CWB_Paper/01_Final_Data/02_Data/exp340/scrublet_fig2a/PB00609-06-02_sample_filtered_feature_bc_matrix.h5\n",
      "File copied from /home/jupyter/CS15_WHBL/CWB_Paper/01_Final_Data/02_Data/exp340/Exp00340_w7/outs/per_sample_outs/PB00616-03-01/count/sample_filtered_feature_bc_matrix.h5 to /home/jupyter/CS15_WHBL/CWB_Paper/01_Final_Data/02_Data/exp340/scrublet_fig2a/PB00616-03-01_sample_filtered_feature_bc_matrix.h5\n",
      "File copied from /home/jupyter/CS15_WHBL/CWB_Paper/01_Final_Data/02_Data/exp340/Exp00340_w7/outs/per_sample_outs/PB00616-03-02/count/sample_filtered_feature_bc_matrix.h5 to /home/jupyter/CS15_WHBL/CWB_Paper/01_Final_Data/02_Data/exp340/scrublet_fig2a/PB00616-03-02_sample_filtered_feature_bc_matrix.h5\n",
      "File copied from /home/jupyter/CS15_WHBL/CWB_Paper/01_Final_Data/02_Data/exp340/Exp00340_w7/outs/per_sample_outs/IMM19-688-01/count/sample_filtered_feature_bc_matrix.h5 to /home/jupyter/CS15_WHBL/CWB_Paper/01_Final_Data/02_Data/exp340/scrublet_fig2a/IMM19-688-01_sample_filtered_feature_bc_matrix.h5\n",
      "File copied from /home/jupyter/CS15_WHBL/CWB_Paper/01_Final_Data/02_Data/exp340/Exp00340_w7/outs/per_sample_outs/PB00610-06-02/count/sample_filtered_feature_bc_matrix.h5 to /home/jupyter/CS15_WHBL/CWB_Paper/01_Final_Data/02_Data/exp340/scrublet_fig2a/PB00610-06-02_sample_filtered_feature_bc_matrix.h5\n",
      "File copied from /home/jupyter/CS15_WHBL/CWB_Paper/01_Final_Data/02_Data/exp340/Exp00340_w7/outs/per_sample_outs/PB00617-03-01/count/sample_filtered_feature_bc_matrix.h5 to /home/jupyter/CS15_WHBL/CWB_Paper/01_Final_Data/02_Data/exp340/scrublet_fig2a/PB00617-03-01_sample_filtered_feature_bc_matrix.h5\n",
      "File copied from /home/jupyter/CS15_WHBL/CWB_Paper/01_Final_Data/02_Data/exp340/Exp00340_w7/outs/per_sample_outs/IMM19-688-02/count/sample_filtered_feature_bc_matrix.h5 to /home/jupyter/CS15_WHBL/CWB_Paper/01_Final_Data/02_Data/exp340/scrublet_fig2a/IMM19-688-02_sample_filtered_feature_bc_matrix.h5\n",
      "File copied from /home/jupyter/CS15_WHBL/CWB_Paper/01_Final_Data/02_Data/exp340/Exp00340_w7/outs/per_sample_outs/PB00622-03-01/count/sample_filtered_feature_bc_matrix.h5 to /home/jupyter/CS15_WHBL/CWB_Paper/01_Final_Data/02_Data/exp340/scrublet_fig2a/PB00622-03-01_sample_filtered_feature_bc_matrix.h5\n",
      "File copied from /home/jupyter/CS15_WHBL/CWB_Paper/01_Final_Data/02_Data/exp340/Exp00340_w7/outs/per_sample_outs/PB00609-06-01/count/sample_filtered_feature_bc_matrix.h5 to /home/jupyter/CS15_WHBL/CWB_Paper/01_Final_Data/02_Data/exp340/scrublet_fig2a/PB00609-06-01_sample_filtered_feature_bc_matrix.h5\n",
      "File copied from /home/jupyter/CS15_WHBL/CWB_Paper/01_Final_Data/02_Data/exp340/Exp00340_w7/outs/per_sample_outs/PB00610-06-01/count/sample_filtered_feature_bc_matrix.h5 to /home/jupyter/CS15_WHBL/CWB_Paper/01_Final_Data/02_Data/exp340/scrublet_fig2a/PB00610-06-01_sample_filtered_feature_bc_matrix.h5\n",
      "File copied from /home/jupyter/CS15_WHBL/CWB_Paper/01_Final_Data/02_Data/exp340/Exp00340_w7/outs/per_sample_outs/PB00607-06-01/count/sample_filtered_feature_bc_matrix.h5 to /home/jupyter/CS15_WHBL/CWB_Paper/01_Final_Data/02_Data/exp340/scrublet_fig2a/PB00607-06-01_sample_filtered_feature_bc_matrix.h5\n",
      "File copied from /home/jupyter/CS15_WHBL/CWB_Paper/01_Final_Data/02_Data/exp340/Exp00340_w7/outs/per_sample_outs/PB00622-03-02/count/sample_filtered_feature_bc_matrix.h5 to /home/jupyter/CS15_WHBL/CWB_Paper/01_Final_Data/02_Data/exp340/scrublet_fig2a/PB00622-03-02_sample_filtered_feature_bc_matrix.h5\n",
      "File copied from /home/jupyter/CS15_WHBL/CWB_Paper/01_Final_Data/02_Data/exp340/Exp00340_w7/outs/per_sample_outs/PB00618-03-01/count/sample_filtered_feature_bc_matrix.h5 to /home/jupyter/CS15_WHBL/CWB_Paper/01_Final_Data/02_Data/exp340/scrublet_fig2a/PB00618-03-01_sample_filtered_feature_bc_matrix.h5\n"
     ]
    }
   ],
   "source": [
    "destination_dir = \"/home/jupyter/CS15_WHBL/CWB_Paper/01_Final_Data/02_Data/exp340/scrublet_fig2a\"\n",
    "\n",
    "# Create destination directory if it doesn't exist\n",
    "os.makedirs(destination_dir, exist_ok=True)\n",
    "\n",
    "# Iterate over each directory\n",
    "for directory in directories:\n",
    "    # Source file path\n",
    "    source_file = os.path.join(base_directory, directory,'count/', \"sample_filtered_feature_bc_matrix.h5\")\n",
    "    \n",
    "    # Destination file path with the name of the original directory\n",
    "    destination_file = os.path.join(destination_dir, f\"{directory}_sample_filtered_feature_bc_matrix.h5\")\n",
    "    \n",
    "    # Copy file\n",
    "    shutil.copy(source_file, destination_file)\n",
    "    print(f\"File copied from {source_file} to {destination_file}\")"
   ]
  },
  {
   "cell_type": "code",
   "execution_count": null,
   "id": "a23478f0-6390-4ebd-ac3d-1a7867cdf649",
   "metadata": {},
   "outputs": [],
   "source": []
  },
  {
   "cell_type": "code",
   "execution_count": 3,
   "id": "1c4d679b-a944-4d62-9d69-19fd0ba5dfb2",
   "metadata": {},
   "outputs": [
    {
     "data": {
      "text/plain": [
       "['BL05731_FACS',\n",
       " 'BL05731_No_Enrichment',\n",
       " 'PB04745_FACS',\n",
       " 'BL05731_Bead_Enrichment']"
      ]
     },
     "execution_count": 3,
     "metadata": {},
     "output_type": "execute_result"
    }
   ],
   "source": [
    "# Directory containing your directories\n",
    "base_directory = \"/home/jupyter/CS15_WHBL/CWB_Paper/01_Final_Data/02_Data/2E_exp823/Exp00823_w2/outs/per_sample_outs/\"\n",
    "\n",
    "# Get a list of directories\n",
    "directories = [d for d in os.listdir(base_directory) if os.path.isdir(os.path.join(base_directory, d))]\n",
    "\n",
    "directories = [i for i in directories if i[0] != '.']\n",
    "directories"
   ]
  },
  {
   "cell_type": "code",
   "execution_count": 4,
   "id": "9f6d08ff-31eb-40b8-8398-512c738dfe35",
   "metadata": {},
   "outputs": [
    {
     "name": "stdout",
     "output_type": "stream",
     "text": [
      "File copied from /home/jupyter/CS15_WHBL/CWB_Paper/01_Final_Data/02_Data/2E_exp823/Exp00823_w2/outs/per_sample_outs/BL05731_FACS/count/sample_filtered_feature_bc_matrix.h5 to /home/jupyter/CS15_WHBL/CWB_Paper/01_Final_Data/02_Data/2E_exp823/scrublet_fig2e/BL05731_FACS_sample_filtered_feature_bc_matrix.h5\n",
      "File copied from /home/jupyter/CS15_WHBL/CWB_Paper/01_Final_Data/02_Data/2E_exp823/Exp00823_w2/outs/per_sample_outs/BL05731_No_Enrichment/count/sample_filtered_feature_bc_matrix.h5 to /home/jupyter/CS15_WHBL/CWB_Paper/01_Final_Data/02_Data/2E_exp823/scrublet_fig2e/BL05731_No_Enrichment_sample_filtered_feature_bc_matrix.h5\n",
      "File copied from /home/jupyter/CS15_WHBL/CWB_Paper/01_Final_Data/02_Data/2E_exp823/Exp00823_w2/outs/per_sample_outs/PB04745_FACS/count/sample_filtered_feature_bc_matrix.h5 to /home/jupyter/CS15_WHBL/CWB_Paper/01_Final_Data/02_Data/2E_exp823/scrublet_fig2e/PB04745_FACS_sample_filtered_feature_bc_matrix.h5\n",
      "File copied from /home/jupyter/CS15_WHBL/CWB_Paper/01_Final_Data/02_Data/2E_exp823/Exp00823_w2/outs/per_sample_outs/BL05731_Bead_Enrichment/count/sample_filtered_feature_bc_matrix.h5 to /home/jupyter/CS15_WHBL/CWB_Paper/01_Final_Data/02_Data/2E_exp823/scrublet_fig2e/BL05731_Bead_Enrichment_sample_filtered_feature_bc_matrix.h5\n"
     ]
    }
   ],
   "source": [
    "destination_dir = \"/home/jupyter/CS15_WHBL/CWB_Paper/01_Final_Data/02_Data/2E_exp823/scrublet_fig2e\"\n",
    "\n",
    "# Create destination directory if it doesn't exist\n",
    "os.makedirs(destination_dir, exist_ok=True)\n",
    "\n",
    "# Iterate over each directory\n",
    "for directory in directories:\n",
    "    # Source file path\n",
    "    source_file = os.path.join(base_directory, directory,'count/', \"sample_filtered_feature_bc_matrix.h5\")\n",
    "    \n",
    "    # Destination file path with the name of the original directory\n",
    "    destination_file = os.path.join(destination_dir, f\"{directory}_sample_filtered_feature_bc_matrix.h5\")\n",
    "    \n",
    "    # Copy file\n",
    "    shutil.copy(source_file, destination_file)\n",
    "    print(f\"File copied from {source_file} to {destination_file}\")"
   ]
  },
  {
   "cell_type": "code",
   "execution_count": null,
   "id": "38155a52-a10a-471c-a3f8-453e5ad79136",
   "metadata": {},
   "outputs": [],
   "source": []
  },
  {
   "cell_type": "code",
   "execution_count": 5,
   "id": "158bd3d8-ba6b-4ceb-965f-ed11716f6a62",
   "metadata": {},
   "outputs": [
    {
     "data": {
      "text/plain": [
       "['BL05044_FACS_Fix_neg_RNase',\n",
       " 'BL05012_Bead_Fix_neg_RNase',\n",
       " 'BL05044_Bead_Fix_neg_RNase',\n",
       " 'PB04745_Bead_Fix_neg_RNase',\n",
       " 'BL05044_Bead_Fix_Sup_RNase',\n",
       " 'BL05012_Bead_Fix_Sup_RNase',\n",
       " 'PB04745_Bead_Fix_Pro_RNase',\n",
       " 'PB04745_FACS_Fix_neg_RNase',\n",
       " 'BL05045_Bead_Fix_Pro_RNase',\n",
       " 'BL05045_Bead_Fix_neg_RNase',\n",
       " 'BL05045_Bead_Fix_Sup_RNase',\n",
       " 'PB04745_Bead_Fix_Sup_RNase',\n",
       " 'BL05044_Bead_Fix_Pro_RNase',\n",
       " 'BL05012_FACS_Fix_neg_RNase',\n",
       " 'BL05045_FACS_Fix_neg_RNase',\n",
       " 'BL05012_Bead_Fix_Pro_RNase']"
      ]
     },
     "execution_count": 5,
     "metadata": {},
     "output_type": "execute_result"
    }
   ],
   "source": [
    "# Directory containing your directories\n",
    "base_directory = \"/home/jupyter/CS15_WHBL/CWB_Paper/01_Final_Data/02_Data/2D_exp747/fixed/Exp00747_w1/outs/per_sample_outs/\"\n",
    "\n",
    "# Get a list of directories\n",
    "directories = [d for d in os.listdir(base_directory) if os.path.isdir(os.path.join(base_directory, d))]\n",
    "\n",
    "directories = [i for i in directories if i[0] != '.']\n",
    "directories"
   ]
  },
  {
   "cell_type": "code",
   "execution_count": 6,
   "id": "b6c3f528-08bb-4acc-ada7-b0e30dae1305",
   "metadata": {
    "scrolled": true,
    "tags": []
   },
   "outputs": [
    {
     "name": "stdout",
     "output_type": "stream",
     "text": [
      "File copied from /home/jupyter/CS15_WHBL/CWB_Paper/01_Final_Data/02_Data/2D_exp747/fixed/Exp00747_w1/outs/per_sample_outs/BL05044_FACS_Fix_neg_RNase/count/sample_filtered_feature_bc_matrix.h5 to /home/jupyter/CS15_WHBL/CWB_Paper/01_Final_Data/02_Data/2D_exp747/scrublet_fig2d/BL05044_FACS_Fix_neg_RNase_sample_filtered_feature_bc_matrix.h5\n",
      "File copied from /home/jupyter/CS15_WHBL/CWB_Paper/01_Final_Data/02_Data/2D_exp747/fixed/Exp00747_w1/outs/per_sample_outs/BL05012_Bead_Fix_neg_RNase/count/sample_filtered_feature_bc_matrix.h5 to /home/jupyter/CS15_WHBL/CWB_Paper/01_Final_Data/02_Data/2D_exp747/scrublet_fig2d/BL05012_Bead_Fix_neg_RNase_sample_filtered_feature_bc_matrix.h5\n",
      "File copied from /home/jupyter/CS15_WHBL/CWB_Paper/01_Final_Data/02_Data/2D_exp747/fixed/Exp00747_w1/outs/per_sample_outs/BL05044_Bead_Fix_neg_RNase/count/sample_filtered_feature_bc_matrix.h5 to /home/jupyter/CS15_WHBL/CWB_Paper/01_Final_Data/02_Data/2D_exp747/scrublet_fig2d/BL05044_Bead_Fix_neg_RNase_sample_filtered_feature_bc_matrix.h5\n",
      "File copied from /home/jupyter/CS15_WHBL/CWB_Paper/01_Final_Data/02_Data/2D_exp747/fixed/Exp00747_w1/outs/per_sample_outs/PB04745_Bead_Fix_neg_RNase/count/sample_filtered_feature_bc_matrix.h5 to /home/jupyter/CS15_WHBL/CWB_Paper/01_Final_Data/02_Data/2D_exp747/scrublet_fig2d/PB04745_Bead_Fix_neg_RNase_sample_filtered_feature_bc_matrix.h5\n",
      "File copied from /home/jupyter/CS15_WHBL/CWB_Paper/01_Final_Data/02_Data/2D_exp747/fixed/Exp00747_w1/outs/per_sample_outs/BL05044_Bead_Fix_Sup_RNase/count/sample_filtered_feature_bc_matrix.h5 to /home/jupyter/CS15_WHBL/CWB_Paper/01_Final_Data/02_Data/2D_exp747/scrublet_fig2d/BL05044_Bead_Fix_Sup_RNase_sample_filtered_feature_bc_matrix.h5\n",
      "File copied from /home/jupyter/CS15_WHBL/CWB_Paper/01_Final_Data/02_Data/2D_exp747/fixed/Exp00747_w1/outs/per_sample_outs/BL05012_Bead_Fix_Sup_RNase/count/sample_filtered_feature_bc_matrix.h5 to /home/jupyter/CS15_WHBL/CWB_Paper/01_Final_Data/02_Data/2D_exp747/scrublet_fig2d/BL05012_Bead_Fix_Sup_RNase_sample_filtered_feature_bc_matrix.h5\n",
      "File copied from /home/jupyter/CS15_WHBL/CWB_Paper/01_Final_Data/02_Data/2D_exp747/fixed/Exp00747_w1/outs/per_sample_outs/PB04745_Bead_Fix_Pro_RNase/count/sample_filtered_feature_bc_matrix.h5 to /home/jupyter/CS15_WHBL/CWB_Paper/01_Final_Data/02_Data/2D_exp747/scrublet_fig2d/PB04745_Bead_Fix_Pro_RNase_sample_filtered_feature_bc_matrix.h5\n",
      "File copied from /home/jupyter/CS15_WHBL/CWB_Paper/01_Final_Data/02_Data/2D_exp747/fixed/Exp00747_w1/outs/per_sample_outs/PB04745_FACS_Fix_neg_RNase/count/sample_filtered_feature_bc_matrix.h5 to /home/jupyter/CS15_WHBL/CWB_Paper/01_Final_Data/02_Data/2D_exp747/scrublet_fig2d/PB04745_FACS_Fix_neg_RNase_sample_filtered_feature_bc_matrix.h5\n",
      "File copied from /home/jupyter/CS15_WHBL/CWB_Paper/01_Final_Data/02_Data/2D_exp747/fixed/Exp00747_w1/outs/per_sample_outs/BL05045_Bead_Fix_Pro_RNase/count/sample_filtered_feature_bc_matrix.h5 to /home/jupyter/CS15_WHBL/CWB_Paper/01_Final_Data/02_Data/2D_exp747/scrublet_fig2d/BL05045_Bead_Fix_Pro_RNase_sample_filtered_feature_bc_matrix.h5\n",
      "File copied from /home/jupyter/CS15_WHBL/CWB_Paper/01_Final_Data/02_Data/2D_exp747/fixed/Exp00747_w1/outs/per_sample_outs/BL05045_Bead_Fix_neg_RNase/count/sample_filtered_feature_bc_matrix.h5 to /home/jupyter/CS15_WHBL/CWB_Paper/01_Final_Data/02_Data/2D_exp747/scrublet_fig2d/BL05045_Bead_Fix_neg_RNase_sample_filtered_feature_bc_matrix.h5\n",
      "File copied from /home/jupyter/CS15_WHBL/CWB_Paper/01_Final_Data/02_Data/2D_exp747/fixed/Exp00747_w1/outs/per_sample_outs/BL05045_Bead_Fix_Sup_RNase/count/sample_filtered_feature_bc_matrix.h5 to /home/jupyter/CS15_WHBL/CWB_Paper/01_Final_Data/02_Data/2D_exp747/scrublet_fig2d/BL05045_Bead_Fix_Sup_RNase_sample_filtered_feature_bc_matrix.h5\n",
      "File copied from /home/jupyter/CS15_WHBL/CWB_Paper/01_Final_Data/02_Data/2D_exp747/fixed/Exp00747_w1/outs/per_sample_outs/PB04745_Bead_Fix_Sup_RNase/count/sample_filtered_feature_bc_matrix.h5 to /home/jupyter/CS15_WHBL/CWB_Paper/01_Final_Data/02_Data/2D_exp747/scrublet_fig2d/PB04745_Bead_Fix_Sup_RNase_sample_filtered_feature_bc_matrix.h5\n",
      "File copied from /home/jupyter/CS15_WHBL/CWB_Paper/01_Final_Data/02_Data/2D_exp747/fixed/Exp00747_w1/outs/per_sample_outs/BL05044_Bead_Fix_Pro_RNase/count/sample_filtered_feature_bc_matrix.h5 to /home/jupyter/CS15_WHBL/CWB_Paper/01_Final_Data/02_Data/2D_exp747/scrublet_fig2d/BL05044_Bead_Fix_Pro_RNase_sample_filtered_feature_bc_matrix.h5\n",
      "File copied from /home/jupyter/CS15_WHBL/CWB_Paper/01_Final_Data/02_Data/2D_exp747/fixed/Exp00747_w1/outs/per_sample_outs/BL05012_FACS_Fix_neg_RNase/count/sample_filtered_feature_bc_matrix.h5 to /home/jupyter/CS15_WHBL/CWB_Paper/01_Final_Data/02_Data/2D_exp747/scrublet_fig2d/BL05012_FACS_Fix_neg_RNase_sample_filtered_feature_bc_matrix.h5\n",
      "File copied from /home/jupyter/CS15_WHBL/CWB_Paper/01_Final_Data/02_Data/2D_exp747/fixed/Exp00747_w1/outs/per_sample_outs/BL05045_FACS_Fix_neg_RNase/count/sample_filtered_feature_bc_matrix.h5 to /home/jupyter/CS15_WHBL/CWB_Paper/01_Final_Data/02_Data/2D_exp747/scrublet_fig2d/BL05045_FACS_Fix_neg_RNase_sample_filtered_feature_bc_matrix.h5\n",
      "File copied from /home/jupyter/CS15_WHBL/CWB_Paper/01_Final_Data/02_Data/2D_exp747/fixed/Exp00747_w1/outs/per_sample_outs/BL05012_Bead_Fix_Pro_RNase/count/sample_filtered_feature_bc_matrix.h5 to /home/jupyter/CS15_WHBL/CWB_Paper/01_Final_Data/02_Data/2D_exp747/scrublet_fig2d/BL05012_Bead_Fix_Pro_RNase_sample_filtered_feature_bc_matrix.h5\n"
     ]
    }
   ],
   "source": [
    "destination_dir = \"/home/jupyter/CS15_WHBL/CWB_Paper/01_Final_Data/02_Data/2D_exp747/scrublet_fig2d\"\n",
    "\n",
    "# Create destination directory if it doesn't exist\n",
    "os.makedirs(destination_dir, exist_ok=True)\n",
    "\n",
    "# Iterate over each directory\n",
    "for directory in directories:\n",
    "    # Source file path\n",
    "    source_file = os.path.join(base_directory, directory,'count/', \"sample_filtered_feature_bc_matrix.h5\")\n",
    "    \n",
    "    # Destination file path with the name of the original directory\n",
    "    destination_file = os.path.join(destination_dir, f\"{directory}_sample_filtered_feature_bc_matrix.h5\")\n",
    "    \n",
    "    # Copy file\n",
    "    shutil.copy(source_file, destination_file)\n",
    "    print(f\"File copied from {source_file} to {destination_file}\")"
   ]
  },
  {
   "cell_type": "code",
   "execution_count": null,
   "id": "09d289fd-d990-4207-8228-8a8c5cc63024",
   "metadata": {},
   "outputs": [],
   "source": []
  },
  {
   "cell_type": "code",
   "execution_count": 7,
   "id": "973c9ba9-017f-4924-a2ab-1eed2bd7fd7f",
   "metadata": {},
   "outputs": [
    {
     "data": {
      "text/plain": [
       "['BL05044_FACS_Fix_neg_RNase',\n",
       " 'BL05012_Bead_Fix_neg_RNase',\n",
       " 'BL05044_Bead_Fix_neg_RNase',\n",
       " 'PB04745_Bead_Fix_neg_RNase',\n",
       " 'BL05044_Bead_Fix_Sup_RNase',\n",
       " 'BL05012_Bead_Fix_Sup_RNase',\n",
       " 'PB04745_Bead_Fix_Pro_RNase',\n",
       " 'PB04745_FACS_Fix_neg_RNase',\n",
       " 'BL05045_Bead_Fix_Pro_RNase',\n",
       " 'BL05045_Bead_Fix_neg_RNase',\n",
       " 'BL05045_Bead_Fix_Sup_RNase',\n",
       " 'PB04745_Bead_Fix_Sup_RNase',\n",
       " 'BL05044_Bead_Fix_Pro_RNase',\n",
       " 'BL05012_FACS_Fix_neg_RNase',\n",
       " 'BL05045_FACS_Fix_neg_RNase',\n",
       " 'BL05012_Bead_Fix_Pro_RNase']"
      ]
     },
     "execution_count": 7,
     "metadata": {},
     "output_type": "execute_result"
    }
   ],
   "source": [
    "# Directory containing your directories\n",
    "base_directory = \"/home/jupyter/CS15_WHBL/CWB_Paper/01_Final_Data/02_Data/2D_exp747/fixed/Exp00747_w2/outs/per_sample_outs/\"\n",
    "\n",
    "# Get a list of directories\n",
    "directories = [d for d in os.listdir(base_directory) if os.path.isdir(os.path.join(base_directory, d))]\n",
    "\n",
    "directories = [i for i in directories if i[0] != '.']\n",
    "directories"
   ]
  },
  {
   "cell_type": "code",
   "execution_count": 8,
   "id": "1aeda933-a875-4958-b501-153f9e82ead4",
   "metadata": {
    "collapsed": true,
    "jupyter": {
     "outputs_hidden": true
    },
    "scrolled": true,
    "tags": []
   },
   "outputs": [
    {
     "name": "stdout",
     "output_type": "stream",
     "text": [
      "File copied from /home/jupyter/CS15_WHBL/CWB_Paper/01_Final_Data/02_Data/2D_exp747/fixed/Exp00747_w2/outs/per_sample_outs/BL05044_FACS_Fix_neg_RNase/count/sample_filtered_feature_bc_matrix.h5 to /home/jupyter/CS15_WHBL/CWB_Paper/01_Final_Data/02_Data/2D_exp747/scrublet_fig2d/BL05044_FACS_Fix_neg_RNase2_sample_filtered_feature_bc_matrix.h5\n",
      "File copied from /home/jupyter/CS15_WHBL/CWB_Paper/01_Final_Data/02_Data/2D_exp747/fixed/Exp00747_w2/outs/per_sample_outs/BL05012_Bead_Fix_neg_RNase/count/sample_filtered_feature_bc_matrix.h5 to /home/jupyter/CS15_WHBL/CWB_Paper/01_Final_Data/02_Data/2D_exp747/scrublet_fig2d/BL05012_Bead_Fix_neg_RNase2_sample_filtered_feature_bc_matrix.h5\n",
      "File copied from /home/jupyter/CS15_WHBL/CWB_Paper/01_Final_Data/02_Data/2D_exp747/fixed/Exp00747_w2/outs/per_sample_outs/BL05044_Bead_Fix_neg_RNase/count/sample_filtered_feature_bc_matrix.h5 to /home/jupyter/CS15_WHBL/CWB_Paper/01_Final_Data/02_Data/2D_exp747/scrublet_fig2d/BL05044_Bead_Fix_neg_RNase2_sample_filtered_feature_bc_matrix.h5\n",
      "File copied from /home/jupyter/CS15_WHBL/CWB_Paper/01_Final_Data/02_Data/2D_exp747/fixed/Exp00747_w2/outs/per_sample_outs/PB04745_Bead_Fix_neg_RNase/count/sample_filtered_feature_bc_matrix.h5 to /home/jupyter/CS15_WHBL/CWB_Paper/01_Final_Data/02_Data/2D_exp747/scrublet_fig2d/PB04745_Bead_Fix_neg_RNase2_sample_filtered_feature_bc_matrix.h5\n",
      "File copied from /home/jupyter/CS15_WHBL/CWB_Paper/01_Final_Data/02_Data/2D_exp747/fixed/Exp00747_w2/outs/per_sample_outs/BL05044_Bead_Fix_Sup_RNase/count/sample_filtered_feature_bc_matrix.h5 to /home/jupyter/CS15_WHBL/CWB_Paper/01_Final_Data/02_Data/2D_exp747/scrublet_fig2d/BL05044_Bead_Fix_Sup_RNase2_sample_filtered_feature_bc_matrix.h5\n",
      "File copied from /home/jupyter/CS15_WHBL/CWB_Paper/01_Final_Data/02_Data/2D_exp747/fixed/Exp00747_w2/outs/per_sample_outs/BL05012_Bead_Fix_Sup_RNase/count/sample_filtered_feature_bc_matrix.h5 to /home/jupyter/CS15_WHBL/CWB_Paper/01_Final_Data/02_Data/2D_exp747/scrublet_fig2d/BL05012_Bead_Fix_Sup_RNase2_sample_filtered_feature_bc_matrix.h5\n",
      "File copied from /home/jupyter/CS15_WHBL/CWB_Paper/01_Final_Data/02_Data/2D_exp747/fixed/Exp00747_w2/outs/per_sample_outs/PB04745_Bead_Fix_Pro_RNase/count/sample_filtered_feature_bc_matrix.h5 to /home/jupyter/CS15_WHBL/CWB_Paper/01_Final_Data/02_Data/2D_exp747/scrublet_fig2d/PB04745_Bead_Fix_Pro_RNase2_sample_filtered_feature_bc_matrix.h5\n",
      "File copied from /home/jupyter/CS15_WHBL/CWB_Paper/01_Final_Data/02_Data/2D_exp747/fixed/Exp00747_w2/outs/per_sample_outs/PB04745_FACS_Fix_neg_RNase/count/sample_filtered_feature_bc_matrix.h5 to /home/jupyter/CS15_WHBL/CWB_Paper/01_Final_Data/02_Data/2D_exp747/scrublet_fig2d/PB04745_FACS_Fix_neg_RNase2_sample_filtered_feature_bc_matrix.h5\n",
      "File copied from /home/jupyter/CS15_WHBL/CWB_Paper/01_Final_Data/02_Data/2D_exp747/fixed/Exp00747_w2/outs/per_sample_outs/BL05045_Bead_Fix_Pro_RNase/count/sample_filtered_feature_bc_matrix.h5 to /home/jupyter/CS15_WHBL/CWB_Paper/01_Final_Data/02_Data/2D_exp747/scrublet_fig2d/BL05045_Bead_Fix_Pro_RNase2_sample_filtered_feature_bc_matrix.h5\n",
      "File copied from /home/jupyter/CS15_WHBL/CWB_Paper/01_Final_Data/02_Data/2D_exp747/fixed/Exp00747_w2/outs/per_sample_outs/BL05045_Bead_Fix_neg_RNase/count/sample_filtered_feature_bc_matrix.h5 to /home/jupyter/CS15_WHBL/CWB_Paper/01_Final_Data/02_Data/2D_exp747/scrublet_fig2d/BL05045_Bead_Fix_neg_RNase2_sample_filtered_feature_bc_matrix.h5\n",
      "File copied from /home/jupyter/CS15_WHBL/CWB_Paper/01_Final_Data/02_Data/2D_exp747/fixed/Exp00747_w2/outs/per_sample_outs/BL05045_Bead_Fix_Sup_RNase/count/sample_filtered_feature_bc_matrix.h5 to /home/jupyter/CS15_WHBL/CWB_Paper/01_Final_Data/02_Data/2D_exp747/scrublet_fig2d/BL05045_Bead_Fix_Sup_RNase2_sample_filtered_feature_bc_matrix.h5\n",
      "File copied from /home/jupyter/CS15_WHBL/CWB_Paper/01_Final_Data/02_Data/2D_exp747/fixed/Exp00747_w2/outs/per_sample_outs/PB04745_Bead_Fix_Sup_RNase/count/sample_filtered_feature_bc_matrix.h5 to /home/jupyter/CS15_WHBL/CWB_Paper/01_Final_Data/02_Data/2D_exp747/scrublet_fig2d/PB04745_Bead_Fix_Sup_RNase2_sample_filtered_feature_bc_matrix.h5\n",
      "File copied from /home/jupyter/CS15_WHBL/CWB_Paper/01_Final_Data/02_Data/2D_exp747/fixed/Exp00747_w2/outs/per_sample_outs/BL05044_Bead_Fix_Pro_RNase/count/sample_filtered_feature_bc_matrix.h5 to /home/jupyter/CS15_WHBL/CWB_Paper/01_Final_Data/02_Data/2D_exp747/scrublet_fig2d/BL05044_Bead_Fix_Pro_RNase2_sample_filtered_feature_bc_matrix.h5\n",
      "File copied from /home/jupyter/CS15_WHBL/CWB_Paper/01_Final_Data/02_Data/2D_exp747/fixed/Exp00747_w2/outs/per_sample_outs/BL05012_FACS_Fix_neg_RNase/count/sample_filtered_feature_bc_matrix.h5 to /home/jupyter/CS15_WHBL/CWB_Paper/01_Final_Data/02_Data/2D_exp747/scrublet_fig2d/BL05012_FACS_Fix_neg_RNase2_sample_filtered_feature_bc_matrix.h5\n",
      "File copied from /home/jupyter/CS15_WHBL/CWB_Paper/01_Final_Data/02_Data/2D_exp747/fixed/Exp00747_w2/outs/per_sample_outs/BL05045_FACS_Fix_neg_RNase/count/sample_filtered_feature_bc_matrix.h5 to /home/jupyter/CS15_WHBL/CWB_Paper/01_Final_Data/02_Data/2D_exp747/scrublet_fig2d/BL05045_FACS_Fix_neg_RNase2_sample_filtered_feature_bc_matrix.h5\n",
      "File copied from /home/jupyter/CS15_WHBL/CWB_Paper/01_Final_Data/02_Data/2D_exp747/fixed/Exp00747_w2/outs/per_sample_outs/BL05012_Bead_Fix_Pro_RNase/count/sample_filtered_feature_bc_matrix.h5 to /home/jupyter/CS15_WHBL/CWB_Paper/01_Final_Data/02_Data/2D_exp747/scrublet_fig2d/BL05012_Bead_Fix_Pro_RNase2_sample_filtered_feature_bc_matrix.h5\n"
     ]
    }
   ],
   "source": [
    "destination_dir = \"/home/jupyter/CS15_WHBL/CWB_Paper/01_Final_Data/02_Data/2D_exp747/scrublet_fig2d\"\n",
    "\n",
    "# Create destination directory if it doesn't exist\n",
    "os.makedirs(destination_dir, exist_ok=True)\n",
    "\n",
    "# Iterate over each directory\n",
    "for directory in directories:\n",
    "    # Source file path\n",
    "    source_file = os.path.join(base_directory, directory,'count/', \"sample_filtered_feature_bc_matrix.h5\")\n",
    "    \n",
    "    # Destination file path with the name of the original directory\n",
    "    destination_file = os.path.join(destination_dir, f\"{directory}2_sample_filtered_feature_bc_matrix.h5\")\n",
    "    \n",
    "    # Copy file\n",
    "    shutil.copy(source_file, destination_file)\n",
    "    print(f\"File copied from {source_file} to {destination_file}\")"
   ]
  },
  {
   "cell_type": "code",
   "execution_count": 8,
   "id": "66e6085b-fa11-4c65-ac32-7844cc885390",
   "metadata": {
    "scrolled": true,
    "tags": []
   },
   "outputs": [
    {
     "data": {
      "text/plain": [
       "['/home/jupyter/CS15_WHBL/CWB_Paper/01_Final_Data/02_Data/2E_exp823/scrublet_fig2e/BL05731_No_Enrichment_sample_filtered_feature_bc_matrix.h5',\n",
       " '/home/jupyter/CS15_WHBL/CWB_Paper/01_Final_Data/02_Data/2E_exp823/scrublet_fig2e/BL05731_FACS_sample_filtered_feature_bc_matrix.h5',\n",
       " '/home/jupyter/CS15_WHBL/CWB_Paper/01_Final_Data/02_Data/2E_exp823/scrublet_fig2e/BL05731_Bead_Enrichment_sample_filtered_feature_bc_matrix.h5',\n",
       " '/home/jupyter/CS15_WHBL/CWB_Paper/01_Final_Data/02_Data/2E_exp823/scrublet_fig2e/PB04745_FACS_sample_filtered_feature_bc_matrix.h5']"
      ]
     },
     "execution_count": 8,
     "metadata": {},
     "output_type": "execute_result"
    }
   ],
   "source": [
    "path = \"/home/jupyter/CS15_WHBL/CWB_Paper/01_Final_Data/02_Data/2E_exp823/scrublet_fig2e/\"\n",
    "paths = [path+i for i in os.listdir(path) if i[0] != '.']\n",
    "paths"
   ]
  },
  {
   "cell_type": "code",
   "execution_count": 9,
   "id": "2ec98f23-b6af-4bb3-9dba-98da4283f392",
   "metadata": {
    "scrolled": true,
    "tags": []
   },
   "outputs": [
    {
     "name": "stderr",
     "output_type": "stream",
     "text": [
      "/opt/conda/lib/python3.7/site-packages/anndata/_core/anndata.py:1830: UserWarning: Variable names are not unique. To make them unique, call `.var_names_make_unique`.\n",
      "  utils.warn_names_duplicates(\"var\")\n",
      "/opt/conda/lib/python3.7/site-packages/anndata/_core/anndata.py:1830: UserWarning: Variable names are not unique. To make them unique, call `.var_names_make_unique`.\n",
      "  utils.warn_names_duplicates(\"var\")\n",
      "/opt/conda/lib/python3.7/site-packages/anndata/_core/anndata.py:1830: UserWarning: Variable names are not unique. To make them unique, call `.var_names_make_unique`.\n",
      "  utils.warn_names_duplicates(\"var\")\n",
      "/opt/conda/lib/python3.7/site-packages/anndata/_core/anndata.py:1830: UserWarning: Variable names are not unique. To make them unique, call `.var_names_make_unique`.\n",
      "  utils.warn_names_duplicates(\"var\")\n"
     ]
    }
   ],
   "source": [
    "path = \"/home/jupyter/CS15_WHBL/CWB_Paper/01_Final_Data/02_Data/2E_exp823/scrublet_fig2e/\"\n",
    "paths = [path+i for i in os.listdir(path) if i[0] != '.']\n",
    "\n",
    "for i in paths: scrubby(i)"
   ]
  },
  {
   "cell_type": "code",
   "execution_count": null,
   "id": "62d863fc-7989-4982-9010-6f4a436f4f39",
   "metadata": {},
   "outputs": [],
   "source": []
  }
 ],
 "metadata": {
  "kernelspec": {
   "display_name": "Python 3 (ipykernel)",
   "language": "python",
   "name": "python3"
  },
  "language_info": {
   "codemirror_mode": {
    "name": "ipython",
    "version": 3
   },
   "file_extension": ".py",
   "mimetype": "text/x-python",
   "name": "python",
   "nbconvert_exporter": "python",
   "pygments_lexer": "ipython3",
   "version": "3.7.12"
  }
 },
 "nbformat": 4,
 "nbformat_minor": 5
}

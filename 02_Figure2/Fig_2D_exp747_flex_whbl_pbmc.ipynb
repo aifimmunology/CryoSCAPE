{
 "cells": [
  {
   "cell_type": "markdown",
   "id": "8d35bb41-cece-4b05-9872-851babce6370",
   "metadata": {},
   "source": [
    "## FLEX, Bad-Beads WHBL vs PBMC"
   ]
  },
  {
   "cell_type": "code",
   "execution_count": 1,
   "id": "d5b1b41d-656a-4712-9d8b-71eff010a7b0",
   "metadata": {
    "scrolled": true,
    "tags": []
   },
   "outputs": [
    {
     "name": "stderr",
     "output_type": "stream",
     "text": [
      "\n",
      "Attaching package: ‘dplyr’\n",
      "\n",
      "\n",
      "The following objects are masked from ‘package:stats’:\n",
      "\n",
      "    filter, lag\n",
      "\n",
      "\n",
      "The following objects are masked from ‘package:base’:\n",
      "\n",
      "    intersect, setdiff, setequal, union\n",
      "\n",
      "\n",
      "Loading required package: SeuratObject\n",
      "\n",
      "Loading required package: sp\n",
      "\n",
      "\n",
      "Attaching package: ‘SeuratObject’\n",
      "\n",
      "\n",
      "The following objects are masked from ‘package:base’:\n",
      "\n",
      "    intersect, t\n",
      "\n",
      "\n",
      "Loading required package: data.table\n",
      "\n",
      "\n",
      "Attaching package: ‘data.table’\n",
      "\n",
      "\n",
      "The following objects are masked from ‘package:dplyr’:\n",
      "\n",
      "    between, first, last\n",
      "\n",
      "\n",
      "Loading required package: Matrix\n",
      "\n",
      "Loading required package: rhdf5\n",
      "\n",
      "\n",
      "Attaching package: ‘H5weaver’\n",
      "\n",
      "\n",
      "The following objects are masked from ‘package:rhdf5’:\n",
      "\n",
      "    h5dump, h5ls\n",
      "\n",
      "\n",
      "Warning message in system(\"timedatectl\", intern = TRUE):\n",
      "“running command 'timedatectl' had status 1”\n",
      "── \u001b[1mAttaching core tidyverse packages\u001b[22m ──────────────────────── tidyverse 2.0.0 ──\n",
      "\u001b[32m✔\u001b[39m \u001b[34mforcats  \u001b[39m 1.0.0     \u001b[32m✔\u001b[39m \u001b[34mreadr    \u001b[39m 2.1.5\n",
      "\u001b[32m✔\u001b[39m \u001b[34mggplot2  \u001b[39m 3.4.3     \u001b[32m✔\u001b[39m \u001b[34mstringr  \u001b[39m 1.5.1\n",
      "\u001b[32m✔\u001b[39m \u001b[34mlubridate\u001b[39m 1.9.3     \u001b[32m✔\u001b[39m \u001b[34mtibble   \u001b[39m 3.2.1\n",
      "\u001b[32m✔\u001b[39m \u001b[34mpurrr    \u001b[39m 1.0.2     \u001b[32m✔\u001b[39m \u001b[34mtidyr    \u001b[39m 1.3.1\n",
      "── \u001b[1mConflicts\u001b[22m ────────────────────────────────────────── tidyverse_conflicts() ──\n",
      "\u001b[31m✖\u001b[39m \u001b[34mdata.table\u001b[39m::\u001b[32mbetween()\u001b[39m masks \u001b[34mdplyr\u001b[39m::between()\n",
      "\u001b[31m✖\u001b[39m \u001b[34mtidyr\u001b[39m::\u001b[32mexpand()\u001b[39m       masks \u001b[34mMatrix\u001b[39m::expand()\n",
      "\u001b[31m✖\u001b[39m \u001b[34mdplyr\u001b[39m::\u001b[32mfilter()\u001b[39m       masks \u001b[34mstats\u001b[39m::filter()\n",
      "\u001b[31m✖\u001b[39m \u001b[34mdata.table\u001b[39m::\u001b[32mfirst()\u001b[39m   masks \u001b[34mdplyr\u001b[39m::first()\n",
      "\u001b[31m✖\u001b[39m \u001b[34mlubridate\u001b[39m::\u001b[32mhour()\u001b[39m     masks \u001b[34mdata.table\u001b[39m::hour()\n",
      "\u001b[31m✖\u001b[39m \u001b[34mlubridate\u001b[39m::\u001b[32misoweek()\u001b[39m  masks \u001b[34mdata.table\u001b[39m::isoweek()\n",
      "\u001b[31m✖\u001b[39m \u001b[34mdplyr\u001b[39m::\u001b[32mlag()\u001b[39m          masks \u001b[34mstats\u001b[39m::lag()\n",
      "\u001b[31m✖\u001b[39m \u001b[34mdata.table\u001b[39m::\u001b[32mlast()\u001b[39m    masks \u001b[34mdplyr\u001b[39m::last()\n",
      "\u001b[31m✖\u001b[39m \u001b[34mlubridate\u001b[39m::\u001b[32mmday()\u001b[39m     masks \u001b[34mdata.table\u001b[39m::mday()\n",
      "\u001b[31m✖\u001b[39m \u001b[34mlubridate\u001b[39m::\u001b[32mminute()\u001b[39m   masks \u001b[34mdata.table\u001b[39m::minute()\n",
      "\u001b[31m✖\u001b[39m \u001b[34mlubridate\u001b[39m::\u001b[32mmonth()\u001b[39m    masks \u001b[34mdata.table\u001b[39m::month()\n",
      "\u001b[31m✖\u001b[39m \u001b[34mtidyr\u001b[39m::\u001b[32mpack()\u001b[39m         masks \u001b[34mMatrix\u001b[39m::pack()\n",
      "\u001b[31m✖\u001b[39m \u001b[34mlubridate\u001b[39m::\u001b[32mquarter()\u001b[39m  masks \u001b[34mdata.table\u001b[39m::quarter()\n",
      "\u001b[31m✖\u001b[39m \u001b[34mlubridate\u001b[39m::\u001b[32msecond()\u001b[39m   masks \u001b[34mdata.table\u001b[39m::second()\n",
      "\u001b[31m✖\u001b[39m \u001b[34mpurrr\u001b[39m::\u001b[32mtranspose()\u001b[39m    masks \u001b[34mdata.table\u001b[39m::transpose()\n",
      "\u001b[31m✖\u001b[39m \u001b[34mtidyr\u001b[39m::\u001b[32munpack()\u001b[39m       masks \u001b[34mMatrix\u001b[39m::unpack()\n",
      "\u001b[31m✖\u001b[39m \u001b[34mlubridate\u001b[39m::\u001b[32mwday()\u001b[39m     masks \u001b[34mdata.table\u001b[39m::wday()\n",
      "\u001b[31m✖\u001b[39m \u001b[34mlubridate\u001b[39m::\u001b[32mweek()\u001b[39m     masks \u001b[34mdata.table\u001b[39m::week()\n",
      "\u001b[31m✖\u001b[39m \u001b[34mlubridate\u001b[39m::\u001b[32myday()\u001b[39m     masks \u001b[34mdata.table\u001b[39m::yday()\n",
      "\u001b[31m✖\u001b[39m \u001b[34mlubridate\u001b[39m::\u001b[32myear()\u001b[39m     masks \u001b[34mdata.table\u001b[39m::year()\n",
      "\u001b[36mℹ\u001b[39m Use the conflicted package (\u001b[3m\u001b[34m<http://conflicted.r-lib.org/>\u001b[39m\u001b[23m) to force all conflicts to become errors\n",
      "Registered S3 method overwritten by 'SeuratDisk':\n",
      "  method            from  \n",
      "  as.sparse.H5Group Seurat\n",
      "\n"
     ]
    }
   ],
   "source": [
    "library(dplyr)\n",
    "library(Seurat)\n",
    "library(patchwork)\n",
    "library(H5weaver)\n",
    "library(hise)\n",
    "library(tidyverse)\n",
    "library(SeuratObject)\n",
    "library(SeuratDisk)"
   ]
  },
  {
   "cell_type": "markdown",
   "id": "e0f42d40-3005-4454-b95b-a4b9c331b23e",
   "metadata": {},
   "source": [
    "### Reading in the H5s"
   ]
  },
  {
   "cell_type": "code",
   "execution_count": 2,
   "id": "6578ceea-cd30-462f-81b4-2f906b905691",
   "metadata": {
    "scrolled": true,
    "tags": []
   },
   "outputs": [],
   "source": [
    "h5s_fix <- list.files(\n",
    "    path = '/home/jupyter/CS15_WHBL/CWB_Paper/01_Final_Data/02_Data/2D_exp747/scrublet_fig2d', \n",
    "    pattern = 'filtered_feature_bc_matrix.h5$', \n",
    "    full.names = TRUE, \n",
    "    recursive = TRUE\n",
    ")\n"
   ]
  },
  {
   "cell_type": "code",
   "execution_count": 3,
   "id": "af9c7064-920f-4273-9647-3740d0767a90",
   "metadata": {
    "scrolled": true,
    "tags": []
   },
   "outputs": [
    {
     "data": {
      "text/html": [
       "<style>\n",
       ".list-inline {list-style: none; margin:0; padding: 0}\n",
       ".list-inline>li {display: inline-block}\n",
       ".list-inline>li:not(:last-child)::after {content: \"\\00b7\"; padding: 0 .5ex}\n",
       "</style>\n",
       "<ol class=list-inline><li>'/home/jupyter/CS15_WHBL/CWB_Paper/01_Final_Data/02_Data/2D_exp747/scrublet_fig2d/BL05012_Bead_Fix_neg_RNase2_sample_filtered_feature_bc_matrix.h5'</li><li>'/home/jupyter/CS15_WHBL/CWB_Paper/01_Final_Data/02_Data/2D_exp747/scrublet_fig2d/BL05012_FACS_Fix_neg_RNase2_sample_filtered_feature_bc_matrix.h5'</li><li>'/home/jupyter/CS15_WHBL/CWB_Paper/01_Final_Data/02_Data/2D_exp747/scrublet_fig2d/BL05044_Bead_Fix_neg_RNase2_sample_filtered_feature_bc_matrix.h5'</li><li>'/home/jupyter/CS15_WHBL/CWB_Paper/01_Final_Data/02_Data/2D_exp747/scrublet_fig2d/BL05044_FACS_Fix_neg_RNase2_sample_filtered_feature_bc_matrix.h5'</li><li>'/home/jupyter/CS15_WHBL/CWB_Paper/01_Final_Data/02_Data/2D_exp747/scrublet_fig2d/BL05045_Bead_Fix_neg_RNase2_sample_filtered_feature_bc_matrix.h5'</li><li>'/home/jupyter/CS15_WHBL/CWB_Paper/01_Final_Data/02_Data/2D_exp747/scrublet_fig2d/BL05045_FACS_Fix_neg_RNase2_sample_filtered_feature_bc_matrix.h5'</li><li>'/home/jupyter/CS15_WHBL/CWB_Paper/01_Final_Data/02_Data/2D_exp747/scrublet_fig2d/PB04745_Bead_Fix_neg_RNase2_sample_filtered_feature_bc_matrix.h5'</li><li>'/home/jupyter/CS15_WHBL/CWB_Paper/01_Final_Data/02_Data/2D_exp747/scrublet_fig2d/PB04745_FACS_Fix_neg_RNase2_sample_filtered_feature_bc_matrix.h5'</li></ol>\n"
      ],
      "text/latex": [
       "\\begin{enumerate*}\n",
       "\\item '/home/jupyter/CS15\\_WHBL/CWB\\_Paper/01\\_Final\\_Data/02\\_Data/2D\\_exp747/scrublet\\_fig2d/BL05012\\_Bead\\_Fix\\_neg\\_RNase2\\_sample\\_filtered\\_feature\\_bc\\_matrix.h5'\n",
       "\\item '/home/jupyter/CS15\\_WHBL/CWB\\_Paper/01\\_Final\\_Data/02\\_Data/2D\\_exp747/scrublet\\_fig2d/BL05012\\_FACS\\_Fix\\_neg\\_RNase2\\_sample\\_filtered\\_feature\\_bc\\_matrix.h5'\n",
       "\\item '/home/jupyter/CS15\\_WHBL/CWB\\_Paper/01\\_Final\\_Data/02\\_Data/2D\\_exp747/scrublet\\_fig2d/BL05044\\_Bead\\_Fix\\_neg\\_RNase2\\_sample\\_filtered\\_feature\\_bc\\_matrix.h5'\n",
       "\\item '/home/jupyter/CS15\\_WHBL/CWB\\_Paper/01\\_Final\\_Data/02\\_Data/2D\\_exp747/scrublet\\_fig2d/BL05044\\_FACS\\_Fix\\_neg\\_RNase2\\_sample\\_filtered\\_feature\\_bc\\_matrix.h5'\n",
       "\\item '/home/jupyter/CS15\\_WHBL/CWB\\_Paper/01\\_Final\\_Data/02\\_Data/2D\\_exp747/scrublet\\_fig2d/BL05045\\_Bead\\_Fix\\_neg\\_RNase2\\_sample\\_filtered\\_feature\\_bc\\_matrix.h5'\n",
       "\\item '/home/jupyter/CS15\\_WHBL/CWB\\_Paper/01\\_Final\\_Data/02\\_Data/2D\\_exp747/scrublet\\_fig2d/BL05045\\_FACS\\_Fix\\_neg\\_RNase2\\_sample\\_filtered\\_feature\\_bc\\_matrix.h5'\n",
       "\\item '/home/jupyter/CS15\\_WHBL/CWB\\_Paper/01\\_Final\\_Data/02\\_Data/2D\\_exp747/scrublet\\_fig2d/PB04745\\_Bead\\_Fix\\_neg\\_RNase2\\_sample\\_filtered\\_feature\\_bc\\_matrix.h5'\n",
       "\\item '/home/jupyter/CS15\\_WHBL/CWB\\_Paper/01\\_Final\\_Data/02\\_Data/2D\\_exp747/scrublet\\_fig2d/PB04745\\_FACS\\_Fix\\_neg\\_RNase2\\_sample\\_filtered\\_feature\\_bc\\_matrix.h5'\n",
       "\\end{enumerate*}\n"
      ],
      "text/markdown": [
       "1. '/home/jupyter/CS15_WHBL/CWB_Paper/01_Final_Data/02_Data/2D_exp747/scrublet_fig2d/BL05012_Bead_Fix_neg_RNase2_sample_filtered_feature_bc_matrix.h5'\n",
       "2. '/home/jupyter/CS15_WHBL/CWB_Paper/01_Final_Data/02_Data/2D_exp747/scrublet_fig2d/BL05012_FACS_Fix_neg_RNase2_sample_filtered_feature_bc_matrix.h5'\n",
       "3. '/home/jupyter/CS15_WHBL/CWB_Paper/01_Final_Data/02_Data/2D_exp747/scrublet_fig2d/BL05044_Bead_Fix_neg_RNase2_sample_filtered_feature_bc_matrix.h5'\n",
       "4. '/home/jupyter/CS15_WHBL/CWB_Paper/01_Final_Data/02_Data/2D_exp747/scrublet_fig2d/BL05044_FACS_Fix_neg_RNase2_sample_filtered_feature_bc_matrix.h5'\n",
       "5. '/home/jupyter/CS15_WHBL/CWB_Paper/01_Final_Data/02_Data/2D_exp747/scrublet_fig2d/BL05045_Bead_Fix_neg_RNase2_sample_filtered_feature_bc_matrix.h5'\n",
       "6. '/home/jupyter/CS15_WHBL/CWB_Paper/01_Final_Data/02_Data/2D_exp747/scrublet_fig2d/BL05045_FACS_Fix_neg_RNase2_sample_filtered_feature_bc_matrix.h5'\n",
       "7. '/home/jupyter/CS15_WHBL/CWB_Paper/01_Final_Data/02_Data/2D_exp747/scrublet_fig2d/PB04745_Bead_Fix_neg_RNase2_sample_filtered_feature_bc_matrix.h5'\n",
       "8. '/home/jupyter/CS15_WHBL/CWB_Paper/01_Final_Data/02_Data/2D_exp747/scrublet_fig2d/PB04745_FACS_Fix_neg_RNase2_sample_filtered_feature_bc_matrix.h5'\n",
       "\n",
       "\n"
      ],
      "text/plain": [
       "[1] \"/home/jupyter/CS15_WHBL/CWB_Paper/01_Final_Data/02_Data/2D_exp747/scrublet_fig2d/BL05012_Bead_Fix_neg_RNase2_sample_filtered_feature_bc_matrix.h5\"\n",
       "[2] \"/home/jupyter/CS15_WHBL/CWB_Paper/01_Final_Data/02_Data/2D_exp747/scrublet_fig2d/BL05012_FACS_Fix_neg_RNase2_sample_filtered_feature_bc_matrix.h5\"\n",
       "[3] \"/home/jupyter/CS15_WHBL/CWB_Paper/01_Final_Data/02_Data/2D_exp747/scrublet_fig2d/BL05044_Bead_Fix_neg_RNase2_sample_filtered_feature_bc_matrix.h5\"\n",
       "[4] \"/home/jupyter/CS15_WHBL/CWB_Paper/01_Final_Data/02_Data/2D_exp747/scrublet_fig2d/BL05044_FACS_Fix_neg_RNase2_sample_filtered_feature_bc_matrix.h5\"\n",
       "[5] \"/home/jupyter/CS15_WHBL/CWB_Paper/01_Final_Data/02_Data/2D_exp747/scrublet_fig2d/BL05045_Bead_Fix_neg_RNase2_sample_filtered_feature_bc_matrix.h5\"\n",
       "[6] \"/home/jupyter/CS15_WHBL/CWB_Paper/01_Final_Data/02_Data/2D_exp747/scrublet_fig2d/BL05045_FACS_Fix_neg_RNase2_sample_filtered_feature_bc_matrix.h5\"\n",
       "[7] \"/home/jupyter/CS15_WHBL/CWB_Paper/01_Final_Data/02_Data/2D_exp747/scrublet_fig2d/PB04745_Bead_Fix_neg_RNase2_sample_filtered_feature_bc_matrix.h5\"\n",
       "[8] \"/home/jupyter/CS15_WHBL/CWB_Paper/01_Final_Data/02_Data/2D_exp747/scrublet_fig2d/PB04745_FACS_Fix_neg_RNase2_sample_filtered_feature_bc_matrix.h5\""
      ]
     },
     "metadata": {},
     "output_type": "display_data"
    }
   ],
   "source": [
    "h5s_fix"
   ]
  },
  {
   "cell_type": "code",
   "execution_count": 4,
   "id": "2948d6aa-61ac-4b8d-a8c5-99cf53973ae8",
   "metadata": {},
   "outputs": [
    {
     "data": {
      "text/html": [
       "'/home/jupyter/CS15_WHBL/CWB_Paper/01_Final_Data/02_Data/2D_exp747/scrublet_fig2d/BL05012_Bead_Fix_neg_RNase2_sample_filtered_feature_bc_matrix.h5'"
      ],
      "text/latex": [
       "'/home/jupyter/CS15\\_WHBL/CWB\\_Paper/01\\_Final\\_Data/02\\_Data/2D\\_exp747/scrublet\\_fig2d/BL05012\\_Bead\\_Fix\\_neg\\_RNase2\\_sample\\_filtered\\_feature\\_bc\\_matrix.h5'"
      ],
      "text/markdown": [
       "'/home/jupyter/CS15_WHBL/CWB_Paper/01_Final_Data/02_Data/2D_exp747/scrublet_fig2d/BL05012_Bead_Fix_neg_RNase2_sample_filtered_feature_bc_matrix.h5'"
      ],
      "text/plain": [
       "[1] \"/home/jupyter/CS15_WHBL/CWB_Paper/01_Final_Data/02_Data/2D_exp747/scrublet_fig2d/BL05012_Bead_Fix_neg_RNase2_sample_filtered_feature_bc_matrix.h5\""
      ]
     },
     "metadata": {},
     "output_type": "display_data"
    }
   ],
   "source": [
    "h5s_fix[1]"
   ]
  },
  {
   "cell_type": "code",
   "execution_count": 5,
   "id": "5246fcd2-826b-4fca-a3d9-3e7e19ef74ae",
   "metadata": {
    "scrolled": true,
    "tags": []
   },
   "outputs": [
    {
     "data": {
      "text/html": [
       "<style>\n",
       ".list-inline {list-style: none; margin:0; padding: 0}\n",
       ".list-inline>li {display: inline-block}\n",
       ".list-inline>li:not(:last-child)::after {content: \"\\00b7\"; padding: 0 .5ex}\n",
       "</style>\n",
       "<ol class=list-inline><li>'/home/jupyter/CS15_WHBL/CWB_Paper/01_Final_Data/02_Data/2D_exp747/scrublet_fig2d/BL05012_Bead_Fix_neg_RNase2.csv'</li><li>'/home/jupyter/CS15_WHBL/CWB_Paper/01_Final_Data/02_Data/2D_exp747/scrublet_fig2d/BL05012_FACS_Fix_neg_RNase2.csv'</li><li>'/home/jupyter/CS15_WHBL/CWB_Paper/01_Final_Data/02_Data/2D_exp747/scrublet_fig2d/BL05044_Bead_Fix_neg_RNase2.csv'</li><li>'/home/jupyter/CS15_WHBL/CWB_Paper/01_Final_Data/02_Data/2D_exp747/scrublet_fig2d/BL05044_FACS_Fix_neg_RNase2.csv'</li><li>'/home/jupyter/CS15_WHBL/CWB_Paper/01_Final_Data/02_Data/2D_exp747/scrublet_fig2d/BL05045_Bead_Fix_neg_RNase2.csv'</li><li>'/home/jupyter/CS15_WHBL/CWB_Paper/01_Final_Data/02_Data/2D_exp747/scrublet_fig2d/BL05045_FACS_Fix_neg_RNase2.csv'</li><li>'/home/jupyter/CS15_WHBL/CWB_Paper/01_Final_Data/02_Data/2D_exp747/scrublet_fig2d/PB04745_Bead_Fix_neg_RNase2.csv'</li><li>'/home/jupyter/CS15_WHBL/CWB_Paper/01_Final_Data/02_Data/2D_exp747/scrublet_fig2d/PB04745_FACS_Fix_neg_RNase2.csv'</li></ol>\n"
      ],
      "text/latex": [
       "\\begin{enumerate*}\n",
       "\\item '/home/jupyter/CS15\\_WHBL/CWB\\_Paper/01\\_Final\\_Data/02\\_Data/2D\\_exp747/scrublet\\_fig2d/BL05012\\_Bead\\_Fix\\_neg\\_RNase2.csv'\n",
       "\\item '/home/jupyter/CS15\\_WHBL/CWB\\_Paper/01\\_Final\\_Data/02\\_Data/2D\\_exp747/scrublet\\_fig2d/BL05012\\_FACS\\_Fix\\_neg\\_RNase2.csv'\n",
       "\\item '/home/jupyter/CS15\\_WHBL/CWB\\_Paper/01\\_Final\\_Data/02\\_Data/2D\\_exp747/scrublet\\_fig2d/BL05044\\_Bead\\_Fix\\_neg\\_RNase2.csv'\n",
       "\\item '/home/jupyter/CS15\\_WHBL/CWB\\_Paper/01\\_Final\\_Data/02\\_Data/2D\\_exp747/scrublet\\_fig2d/BL05044\\_FACS\\_Fix\\_neg\\_RNase2.csv'\n",
       "\\item '/home/jupyter/CS15\\_WHBL/CWB\\_Paper/01\\_Final\\_Data/02\\_Data/2D\\_exp747/scrublet\\_fig2d/BL05045\\_Bead\\_Fix\\_neg\\_RNase2.csv'\n",
       "\\item '/home/jupyter/CS15\\_WHBL/CWB\\_Paper/01\\_Final\\_Data/02\\_Data/2D\\_exp747/scrublet\\_fig2d/BL05045\\_FACS\\_Fix\\_neg\\_RNase2.csv'\n",
       "\\item '/home/jupyter/CS15\\_WHBL/CWB\\_Paper/01\\_Final\\_Data/02\\_Data/2D\\_exp747/scrublet\\_fig2d/PB04745\\_Bead\\_Fix\\_neg\\_RNase2.csv'\n",
       "\\item '/home/jupyter/CS15\\_WHBL/CWB\\_Paper/01\\_Final\\_Data/02\\_Data/2D\\_exp747/scrublet\\_fig2d/PB04745\\_FACS\\_Fix\\_neg\\_RNase2.csv'\n",
       "\\end{enumerate*}\n"
      ],
      "text/markdown": [
       "1. '/home/jupyter/CS15_WHBL/CWB_Paper/01_Final_Data/02_Data/2D_exp747/scrublet_fig2d/BL05012_Bead_Fix_neg_RNase2.csv'\n",
       "2. '/home/jupyter/CS15_WHBL/CWB_Paper/01_Final_Data/02_Data/2D_exp747/scrublet_fig2d/BL05012_FACS_Fix_neg_RNase2.csv'\n",
       "3. '/home/jupyter/CS15_WHBL/CWB_Paper/01_Final_Data/02_Data/2D_exp747/scrublet_fig2d/BL05044_Bead_Fix_neg_RNase2.csv'\n",
       "4. '/home/jupyter/CS15_WHBL/CWB_Paper/01_Final_Data/02_Data/2D_exp747/scrublet_fig2d/BL05044_FACS_Fix_neg_RNase2.csv'\n",
       "5. '/home/jupyter/CS15_WHBL/CWB_Paper/01_Final_Data/02_Data/2D_exp747/scrublet_fig2d/BL05045_Bead_Fix_neg_RNase2.csv'\n",
       "6. '/home/jupyter/CS15_WHBL/CWB_Paper/01_Final_Data/02_Data/2D_exp747/scrublet_fig2d/BL05045_FACS_Fix_neg_RNase2.csv'\n",
       "7. '/home/jupyter/CS15_WHBL/CWB_Paper/01_Final_Data/02_Data/2D_exp747/scrublet_fig2d/PB04745_Bead_Fix_neg_RNase2.csv'\n",
       "8. '/home/jupyter/CS15_WHBL/CWB_Paper/01_Final_Data/02_Data/2D_exp747/scrublet_fig2d/PB04745_FACS_Fix_neg_RNase2.csv'\n",
       "\n",
       "\n"
      ],
      "text/plain": [
       "[1] \"/home/jupyter/CS15_WHBL/CWB_Paper/01_Final_Data/02_Data/2D_exp747/scrublet_fig2d/BL05012_Bead_Fix_neg_RNase2.csv\"\n",
       "[2] \"/home/jupyter/CS15_WHBL/CWB_Paper/01_Final_Data/02_Data/2D_exp747/scrublet_fig2d/BL05012_FACS_Fix_neg_RNase2.csv\"\n",
       "[3] \"/home/jupyter/CS15_WHBL/CWB_Paper/01_Final_Data/02_Data/2D_exp747/scrublet_fig2d/BL05044_Bead_Fix_neg_RNase2.csv\"\n",
       "[4] \"/home/jupyter/CS15_WHBL/CWB_Paper/01_Final_Data/02_Data/2D_exp747/scrublet_fig2d/BL05044_FACS_Fix_neg_RNase2.csv\"\n",
       "[5] \"/home/jupyter/CS15_WHBL/CWB_Paper/01_Final_Data/02_Data/2D_exp747/scrublet_fig2d/BL05045_Bead_Fix_neg_RNase2.csv\"\n",
       "[6] \"/home/jupyter/CS15_WHBL/CWB_Paper/01_Final_Data/02_Data/2D_exp747/scrublet_fig2d/BL05045_FACS_Fix_neg_RNase2.csv\"\n",
       "[7] \"/home/jupyter/CS15_WHBL/CWB_Paper/01_Final_Data/02_Data/2D_exp747/scrublet_fig2d/PB04745_Bead_Fix_neg_RNase2.csv\"\n",
       "[8] \"/home/jupyter/CS15_WHBL/CWB_Paper/01_Final_Data/02_Data/2D_exp747/scrublet_fig2d/PB04745_FACS_Fix_neg_RNase2.csv\""
      ]
     },
     "metadata": {},
     "output_type": "display_data"
    }
   ],
   "source": [
    "scrub <- list.files(\n",
    "    # Place your analysis in a folder by number experiment, or whatever might work for you\n",
    "    # It helps if this worksheet in in the same folder\n",
    "    path = '/home/jupyter/CS15_WHBL/CWB_Paper/01_Final_Data/02_Data/2D_exp747/scrublet_fig2d',\n",
    "    pattern = '.csv$', # change this to 'sample_raw_feature_bc_matrix.h5$' if you need the raw h5s\n",
    "    full.names = TRUE, \n",
    "    recursive = TRUE\n",
    ")\n",
    "scrub"
   ]
  },
  {
   "cell_type": "code",
   "execution_count": 6,
   "id": "307eb82e-4de6-489d-9384-dcdc3bf670a3",
   "metadata": {},
   "outputs": [],
   "source": [
    "scrubs <- lapply(scrub,read.csv)\n",
    "\n",
    "scrubs <- scrubs %>% lapply(function(x){\n",
    "    rownames(x) <- x$X\n",
    "    x$X <- NULL\n",
    "    x$Barcodes <- rownames(x)\n",
    "    return(x)\n",
    "})"
   ]
  },
  {
   "cell_type": "code",
   "execution_count": 7,
   "id": "c726cd3c-0667-4986-8e32-32ca4c645c5a",
   "metadata": {
    "scrolled": true,
    "tags": []
   },
   "outputs": [],
   "source": [
    "fully <- lapply(h5s_fix, function(h5){\n",
    "    # x <- h5[[1]]\n",
    "\n",
    "    l <- length(strsplit(h5 ,'/')[[1]])\n",
    "    pro <- strsplit(h5 ,'/')[[1]][l]\n",
    "    pro <- strsplit(pro, '_RNase')[[1]][1]\n",
    "    mtx <- Read10X_h5(h5)\n",
    "    so <- CreateSeuratObject(mtx,project=pro)\n",
    "    return(so)\n",
    "    })\n"
   ]
  },
  {
   "cell_type": "code",
   "execution_count": 8,
   "id": "eb1ac04b-81ca-44da-a1c3-834aa1eb7cd8",
   "metadata": {},
   "outputs": [],
   "source": [
    "for (i in c(1:length(fully))){\n",
    "    \n",
    "    fully[[i]][[]]$Barcodes <- rownames(fully[[i]][[]])\n",
    "    \n",
    "    fully[[i]][[]] <- left_join(fully[[i]][[]], scrubs[[i]], by = 'Barcodes') # , by='row.names', all=TRUE\n",
    "}"
   ]
  },
  {
   "cell_type": "code",
   "execution_count": 9,
   "id": "2e098724-8b34-4dd1-a0fd-c0df0594be77",
   "metadata": {
    "scrolled": true,
    "tags": []
   },
   "outputs": [],
   "source": [
    "fully <- Reduce(merge, fully) %>% JoinLayers()\n"
   ]
  },
  {
   "cell_type": "code",
   "execution_count": 10,
   "id": "555a548a-8d61-42ca-8087-f8c6b57e98cf",
   "metadata": {},
   "outputs": [
    {
     "data": {
      "text/plain": [
       "An object of class Seurat \n",
       "18082 features across 84899 samples within 1 assay \n",
       "Active assay: RNA (18082 features, 0 variable features)\n",
       " 1 layer present: counts"
      ]
     },
     "metadata": {},
     "output_type": "display_data"
    }
   ],
   "source": [
    "fully"
   ]
  },
  {
   "cell_type": "code",
   "execution_count": 11,
   "id": "4cc9c01b-b265-414a-8888-6482da03da06",
   "metadata": {},
   "outputs": [
    {
     "data": {
      "text/html": [
       "<table class=\"dataframe\">\n",
       "<caption>A data.frame: 10 × 6</caption>\n",
       "<thead>\n",
       "\t<tr><th></th><th scope=col>orig.ident</th><th scope=col>nCount_RNA</th><th scope=col>nFeature_RNA</th><th scope=col>Barcodes</th><th scope=col>Doublet_Score</th><th scope=col>Predicted_Doublet</th></tr>\n",
       "\t<tr><th></th><th scope=col>&lt;chr&gt;</th><th scope=col>&lt;dbl&gt;</th><th scope=col>&lt;int&gt;</th><th scope=col>&lt;chr&gt;</th><th scope=col>&lt;dbl&gt;</th><th scope=col>&lt;chr&gt;</th></tr>\n",
       "</thead>\n",
       "<tbody>\n",
       "\t<tr><th scope=row>AAACAAGCAAAGCCTAACTTTAGG-1</th><td>BL05012_Bead_Fix_neg</td><td> 909</td><td> 740</td><td>AAACAAGCAAAGCCTAACTTTAGG-1</td><td>0.10989011</td><td>False</td></tr>\n",
       "\t<tr><th scope=row>AAACAAGCACCACACCACTTTAGG-1</th><td>BL05012_Bead_Fix_neg</td><td>1148</td><td> 872</td><td>AAACAAGCACCACACCACTTTAGG-1</td><td>0.19183673</td><td>False</td></tr>\n",
       "\t<tr><th scope=row>AAACAAGCATAATGACACTTTAGG-1</th><td>BL05012_Bead_Fix_neg</td><td> 714</td><td> 611</td><td>AAACAAGCATAATGACACTTTAGG-1</td><td>0.03522205</td><td>False</td></tr>\n",
       "\t<tr><th scope=row>AAACAAGCATAGACCAACTTTAGG-1</th><td>BL05012_Bead_Fix_neg</td><td>1581</td><td>1180</td><td>AAACAAGCATAGACCAACTTTAGG-1</td><td>0.14285714</td><td>False</td></tr>\n",
       "\t<tr><th scope=row>AAACCAATCACATTACACTTTAGG-1</th><td>BL05012_Bead_Fix_neg</td><td>1658</td><td>1270</td><td>AAACCAATCACATTACACTTTAGG-1</td><td>0.07540984</td><td>False</td></tr>\n",
       "\t<tr><th scope=row>AAACCAATCCAACTTGACTTTAGG-1</th><td>BL05012_Bead_Fix_neg</td><td>1740</td><td>1282</td><td>AAACCAATCCAACTTGACTTTAGG-1</td><td>0.20084567</td><td>False</td></tr>\n",
       "\t<tr><th scope=row>AAACCAATCGTTGCACACTTTAGG-1</th><td>BL05012_Bead_Fix_neg</td><td>2684</td><td>1600</td><td>AAACCAATCGTTGCACACTTTAGG-1</td><td>0.10236220</td><td>False</td></tr>\n",
       "\t<tr><th scope=row>AAACCAGGTCACGATTACTTTAGG-1</th><td>BL05012_Bead_Fix_neg</td><td>1311</td><td>1057</td><td>AAACCAGGTCACGATTACTTTAGG-1</td><td>0.25773196</td><td>False</td></tr>\n",
       "\t<tr><th scope=row>AAACCAGGTCCATCAGACTTTAGG-1</th><td>BL05012_Bead_Fix_neg</td><td>1003</td><td> 766</td><td>AAACCAGGTCCATCAGACTTTAGG-1</td><td>0.02072539</td><td>False</td></tr>\n",
       "\t<tr><th scope=row>AAACCAGGTCTGTCAGACTTTAGG-1</th><td>BL05012_Bead_Fix_neg</td><td> 889</td><td> 729</td><td>AAACCAGGTCTGTCAGACTTTAGG-1</td><td>0.14864865</td><td>False</td></tr>\n",
       "</tbody>\n",
       "</table>\n"
      ],
      "text/latex": [
       "A data.frame: 10 × 6\n",
       "\\begin{tabular}{r|llllll}\n",
       "  & orig.ident & nCount\\_RNA & nFeature\\_RNA & Barcodes & Doublet\\_Score & Predicted\\_Doublet\\\\\n",
       "  & <chr> & <dbl> & <int> & <chr> & <dbl> & <chr>\\\\\n",
       "\\hline\n",
       "\tAAACAAGCAAAGCCTAACTTTAGG-1 & BL05012\\_Bead\\_Fix\\_neg &  909 &  740 & AAACAAGCAAAGCCTAACTTTAGG-1 & 0.10989011 & False\\\\\n",
       "\tAAACAAGCACCACACCACTTTAGG-1 & BL05012\\_Bead\\_Fix\\_neg & 1148 &  872 & AAACAAGCACCACACCACTTTAGG-1 & 0.19183673 & False\\\\\n",
       "\tAAACAAGCATAATGACACTTTAGG-1 & BL05012\\_Bead\\_Fix\\_neg &  714 &  611 & AAACAAGCATAATGACACTTTAGG-1 & 0.03522205 & False\\\\\n",
       "\tAAACAAGCATAGACCAACTTTAGG-1 & BL05012\\_Bead\\_Fix\\_neg & 1581 & 1180 & AAACAAGCATAGACCAACTTTAGG-1 & 0.14285714 & False\\\\\n",
       "\tAAACCAATCACATTACACTTTAGG-1 & BL05012\\_Bead\\_Fix\\_neg & 1658 & 1270 & AAACCAATCACATTACACTTTAGG-1 & 0.07540984 & False\\\\\n",
       "\tAAACCAATCCAACTTGACTTTAGG-1 & BL05012\\_Bead\\_Fix\\_neg & 1740 & 1282 & AAACCAATCCAACTTGACTTTAGG-1 & 0.20084567 & False\\\\\n",
       "\tAAACCAATCGTTGCACACTTTAGG-1 & BL05012\\_Bead\\_Fix\\_neg & 2684 & 1600 & AAACCAATCGTTGCACACTTTAGG-1 & 0.10236220 & False\\\\\n",
       "\tAAACCAGGTCACGATTACTTTAGG-1 & BL05012\\_Bead\\_Fix\\_neg & 1311 & 1057 & AAACCAGGTCACGATTACTTTAGG-1 & 0.25773196 & False\\\\\n",
       "\tAAACCAGGTCCATCAGACTTTAGG-1 & BL05012\\_Bead\\_Fix\\_neg & 1003 &  766 & AAACCAGGTCCATCAGACTTTAGG-1 & 0.02072539 & False\\\\\n",
       "\tAAACCAGGTCTGTCAGACTTTAGG-1 & BL05012\\_Bead\\_Fix\\_neg &  889 &  729 & AAACCAGGTCTGTCAGACTTTAGG-1 & 0.14864865 & False\\\\\n",
       "\\end{tabular}\n"
      ],
      "text/markdown": [
       "\n",
       "A data.frame: 10 × 6\n",
       "\n",
       "| <!--/--> | orig.ident &lt;chr&gt; | nCount_RNA &lt;dbl&gt; | nFeature_RNA &lt;int&gt; | Barcodes &lt;chr&gt; | Doublet_Score &lt;dbl&gt; | Predicted_Doublet &lt;chr&gt; |\n",
       "|---|---|---|---|---|---|---|\n",
       "| AAACAAGCAAAGCCTAACTTTAGG-1 | BL05012_Bead_Fix_neg |  909 |  740 | AAACAAGCAAAGCCTAACTTTAGG-1 | 0.10989011 | False |\n",
       "| AAACAAGCACCACACCACTTTAGG-1 | BL05012_Bead_Fix_neg | 1148 |  872 | AAACAAGCACCACACCACTTTAGG-1 | 0.19183673 | False |\n",
       "| AAACAAGCATAATGACACTTTAGG-1 | BL05012_Bead_Fix_neg |  714 |  611 | AAACAAGCATAATGACACTTTAGG-1 | 0.03522205 | False |\n",
       "| AAACAAGCATAGACCAACTTTAGG-1 | BL05012_Bead_Fix_neg | 1581 | 1180 | AAACAAGCATAGACCAACTTTAGG-1 | 0.14285714 | False |\n",
       "| AAACCAATCACATTACACTTTAGG-1 | BL05012_Bead_Fix_neg | 1658 | 1270 | AAACCAATCACATTACACTTTAGG-1 | 0.07540984 | False |\n",
       "| AAACCAATCCAACTTGACTTTAGG-1 | BL05012_Bead_Fix_neg | 1740 | 1282 | AAACCAATCCAACTTGACTTTAGG-1 | 0.20084567 | False |\n",
       "| AAACCAATCGTTGCACACTTTAGG-1 | BL05012_Bead_Fix_neg | 2684 | 1600 | AAACCAATCGTTGCACACTTTAGG-1 | 0.10236220 | False |\n",
       "| AAACCAGGTCACGATTACTTTAGG-1 | BL05012_Bead_Fix_neg | 1311 | 1057 | AAACCAGGTCACGATTACTTTAGG-1 | 0.25773196 | False |\n",
       "| AAACCAGGTCCATCAGACTTTAGG-1 | BL05012_Bead_Fix_neg | 1003 |  766 | AAACCAGGTCCATCAGACTTTAGG-1 | 0.02072539 | False |\n",
       "| AAACCAGGTCTGTCAGACTTTAGG-1 | BL05012_Bead_Fix_neg |  889 |  729 | AAACCAGGTCTGTCAGACTTTAGG-1 | 0.14864865 | False |\n",
       "\n"
      ],
      "text/plain": [
       "                           orig.ident           nCount_RNA nFeature_RNA\n",
       "AAACAAGCAAAGCCTAACTTTAGG-1 BL05012_Bead_Fix_neg  909        740        \n",
       "AAACAAGCACCACACCACTTTAGG-1 BL05012_Bead_Fix_neg 1148        872        \n",
       "AAACAAGCATAATGACACTTTAGG-1 BL05012_Bead_Fix_neg  714        611        \n",
       "AAACAAGCATAGACCAACTTTAGG-1 BL05012_Bead_Fix_neg 1581       1180        \n",
       "AAACCAATCACATTACACTTTAGG-1 BL05012_Bead_Fix_neg 1658       1270        \n",
       "AAACCAATCCAACTTGACTTTAGG-1 BL05012_Bead_Fix_neg 1740       1282        \n",
       "AAACCAATCGTTGCACACTTTAGG-1 BL05012_Bead_Fix_neg 2684       1600        \n",
       "AAACCAGGTCACGATTACTTTAGG-1 BL05012_Bead_Fix_neg 1311       1057        \n",
       "AAACCAGGTCCATCAGACTTTAGG-1 BL05012_Bead_Fix_neg 1003        766        \n",
       "AAACCAGGTCTGTCAGACTTTAGG-1 BL05012_Bead_Fix_neg  889        729        \n",
       "                           Barcodes                   Doublet_Score\n",
       "AAACAAGCAAAGCCTAACTTTAGG-1 AAACAAGCAAAGCCTAACTTTAGG-1 0.10989011   \n",
       "AAACAAGCACCACACCACTTTAGG-1 AAACAAGCACCACACCACTTTAGG-1 0.19183673   \n",
       "AAACAAGCATAATGACACTTTAGG-1 AAACAAGCATAATGACACTTTAGG-1 0.03522205   \n",
       "AAACAAGCATAGACCAACTTTAGG-1 AAACAAGCATAGACCAACTTTAGG-1 0.14285714   \n",
       "AAACCAATCACATTACACTTTAGG-1 AAACCAATCACATTACACTTTAGG-1 0.07540984   \n",
       "AAACCAATCCAACTTGACTTTAGG-1 AAACCAATCCAACTTGACTTTAGG-1 0.20084567   \n",
       "AAACCAATCGTTGCACACTTTAGG-1 AAACCAATCGTTGCACACTTTAGG-1 0.10236220   \n",
       "AAACCAGGTCACGATTACTTTAGG-1 AAACCAGGTCACGATTACTTTAGG-1 0.25773196   \n",
       "AAACCAGGTCCATCAGACTTTAGG-1 AAACCAGGTCCATCAGACTTTAGG-1 0.02072539   \n",
       "AAACCAGGTCTGTCAGACTTTAGG-1 AAACCAGGTCTGTCAGACTTTAGG-1 0.14864865   \n",
       "                           Predicted_Doublet\n",
       "AAACAAGCAAAGCCTAACTTTAGG-1 False            \n",
       "AAACAAGCACCACACCACTTTAGG-1 False            \n",
       "AAACAAGCATAATGACACTTTAGG-1 False            \n",
       "AAACAAGCATAGACCAACTTTAGG-1 False            \n",
       "AAACCAATCACATTACACTTTAGG-1 False            \n",
       "AAACCAATCCAACTTGACTTTAGG-1 False            \n",
       "AAACCAATCGTTGCACACTTTAGG-1 False            \n",
       "AAACCAGGTCACGATTACTTTAGG-1 False            \n",
       "AAACCAGGTCCATCAGACTTTAGG-1 False            \n",
       "AAACCAGGTCTGTCAGACTTTAGG-1 False            "
      ]
     },
     "metadata": {},
     "output_type": "display_data"
    }
   ],
   "source": [
    "head(fully)"
   ]
  },
  {
   "cell_type": "markdown",
   "id": "c97e6aa5-67ff-4e5d-b070-1e21038b97d8",
   "metadata": {},
   "source": [
    "## MT - filtering"
   ]
  },
  {
   "cell_type": "code",
   "execution_count": 12,
   "id": "775814fd-99d8-41af-897d-05430151f3df",
   "metadata": {},
   "outputs": [],
   "source": [
    "# The [[ operator can add columns to object metadata. This is a great place to stash QC stats\n",
    "fully[[\"percent.mt\"]] <- PercentageFeatureSet(fully, pattern = \"^MT-\")\n",
    "fully <- subset(fully, subset = percent.mt < 5)"
   ]
  },
  {
   "cell_type": "code",
   "execution_count": 13,
   "id": "4eb99d47-b9d8-4cf9-ad30-1bb11350eb07",
   "metadata": {},
   "outputs": [],
   "source": [
    "fully <- subset(fully, Predicted_Doublet == 'False')"
   ]
  },
  {
   "cell_type": "code",
   "execution_count": 14,
   "id": "8ae8b532-2105-40f9-a9b5-3e41150c3436",
   "metadata": {},
   "outputs": [],
   "source": [
    "fully$run <- 'fix'\n",
    "fully$orig.ident <- substr(fully$orig.ident,0,16)\n",
    "\n",
    "fully$orig.ident<-substr(start=0 ,stop=16,fully$orig.ident)\n",
    "\n",
    "fully$clean<-substr(start=9 ,stop=12,fully$orig.ident)\n",
    "\n",
    "fully$type<-substr(start=1 ,stop=2,fully$orig.ident)\n",
    "\n",
    "fully$type <- gsub('BL','Whole Blood', fully$type)\n",
    "fully$type <- gsub('PB','Leukopak', fully$type)\n",
    "\n",
    "fully$sample <- substr(start=0,stop=7,fully$orig.ident)\n",
    "\n",
    "fully$sample2 <- fully$sample\n",
    "fully$sample2 <- gsub('BL05012','WHBL-1', fully$sample2)\n",
    "fully$sample2 <- gsub('BL05044','WHBL-2', fully$sample2)\n",
    "fully$sample2 <- gsub('BL05045','WHBL-3', fully$sample2)\n",
    "fully$sample2 <- gsub('PB04745','Leukopak', fully$sample2)\n"
   ]
  },
  {
   "cell_type": "code",
   "execution_count": 15,
   "id": "50f11bc0-3947-4b99-b7e1-5a036325c705",
   "metadata": {
    "scrolled": true,
    "tags": []
   },
   "outputs": [
    {
     "name": "stderr",
     "output_type": "stream",
     "text": [
      "Normalizing layer: counts\n",
      "\n",
      "Finding variable features for layer counts\n",
      "\n",
      "Centering and scaling data matrix\n",
      "\n",
      "PC_ 1 \n",
      "Positive:  IL7R, FCMR, TRBC1, LTB, CD5, PYHIN1, SAMD3, CCL5, IL2RB, CTSW \n",
      "\t   PRF1, KLRG1, KLRK1, NKG7, LEF1, PIM2, ITGB7, GZMA, TRIB2, CST7 \n",
      "\t   NELL2, CD7, CD8A, CCR7, CD28, OBSCN, GATA3, MATK, MYBL1, CD27 \n",
      "Negative:  SPI1, CST3, TNFAIP2, PLXNB2, NCF2, TYMP, EMILIN2, SERPINA1, IFI30, LYZ \n",
      "\t   CLEC7A, LRP1, CSF3R, LILRB2, MPEG1, HK3, HCK, CD68, CFP, CYBB \n",
      "\t   S100A9, MEFV, KCTD12, MNDA, VCAN, KLF4, ZNF385A, CD300E, LRRC25, PRAM1 \n",
      "PC_ 2 \n",
      "Positive:  CD79A, NIBAN3, IGHM, MS4A1, IGHD, CD22, PAX5, FCRL1, FCRL2, BLK \n",
      "\t   BANK1, TNFRSF13C, IGKC, POU2AF1, CD79B, CD19, RALGPS2, WDFY4, OSBPL10, AFF3 \n",
      "\t   FCER2, FCRLA, IGHG3, SWAP70, BCL11A, CXCR5, RUBCNL, ADAM28, CDK14, BLNK \n",
      "Negative:  PRF1, NKG7, CST7, CCL5, SYNE1, GZMA, ADGRG1, CTSW, GNLY, IL2RB \n",
      "\t   KLRD1, SAMD3, SRGN, MATK, FGFBP2, FCRL6, GZMH, KLRK1, CD300A, PLEKHG3 \n",
      "\t   CX3CR1, S1PR5, TBX21, KLRG1, ANXA1, FOSL2, MYBL1, PRR5L, AOAH, HOPX \n",
      "PC_ 3 \n",
      "Positive:  LEF1, MAL, IL7R, LTB, NELL2, CCR7, TRABD2A, CD28, FHIT, ACTN1 \n",
      "\t   CD4, RNF157, OBSCN, HAPLN3, MYC, NOG, TSHZ2, TCEA3, EPHX2, AQP3 \n",
      "\t   CD27, TRAT1, CACNA1I, CD5, RGCC, CD40LG, SOCS3, INF2, ANKRD55, CITED4 \n",
      "Negative:  NKG7, PRF1, ADGRG1, GNLY, KLRD1, CST7, FGFBP2, TBX21, GZMB, SYNE1 \n",
      "\t   CX3CR1, FCRL6, MATK, GZMH, S1PR5, GZMA, FCGR3A, KLRF1, CCL5, PLEK \n",
      "\t   ZEB2, ADRB2, NMUR1, ADGRG5, SPON2, PRSS23, NCR1, CTSW, CD300A, HOPX \n",
      "PC_ 4 \n",
      "Positive:  CDKN1C, TCF7L2, NEURL1, HES4, CKB, PTP4A3, KNDC1, MYOF, IFITM3, CTSL \n",
      "\t   RHOC, FCGR3A, NFKBIZ, SIGLEC10, FMNL2, ZNF703, IL3RA, MGLL, PTGDR2, DUSP5 \n",
      "\t   MS4A4A, LY6E, LYPD2, IFITM2, ACTG1, PHF19, C1QA, RRAS, ADGRE1, MTSS1 \n",
      "Negative:  VCAN, CD14, S100A8, PADI4, S100A12, CRISPLD2, DYSF, CSF3R, STAB1, CD163 \n",
      "\t   NLRP12, MARC1, CLEC4D, TREM1, ITGAM, GLT1D1, PLBD1, S100A9, CREB5, FCAR \n",
      "\t   MCEMP1, S1PR3, WLS, HOMER3, TMEM150B, QPCT, MS4A6A, ASGR2, NFE2, CYP27A1 \n",
      "PC_ 5 \n",
      "Positive:  CDKN1C, NEURL1, HES4, CKB, KNDC1, TCF7L2, FCGR3A, TAGLN, TNFRSF8, MS4A7 \n",
      "\t   MTSS1, SIGLEC10, ZNF703, HK3, ABCC3, HSPA6, DOCK5, CSF1R, ADGRE2, FMNL2 \n",
      "\t   HMOX1, SYT17, MAFB, LFNG, LYPD2, CASP5, ADGRE1, CTSL, TBC1D8, C5AR2 \n",
      "Negative:  ACTG1, HIST1H1C, S100A10, CLEC4C, RUNX2, SERPINF1, RNASE6, TNFRSF21, GPR183, SCN9A \n",
      "\t   PTPRS, MT-ND3, MIF, CCR2, SLC4A3, FLT3, HIST1H1D, NRP1, ITM2C, TNFAIP3 \n",
      "\t   PPM1J, TIFAB, APP, CSRNP1, SCAMP5, MT-ATP6, ALOX5AP, SCT, SPCS1, PACSIN1 \n",
      "\n",
      "Warning message:\n",
      "“The default method for RunUMAP has changed from calling Python UMAP via reticulate to the R-native UWOT using the cosine metric\n",
      "To use Python UMAP via reticulate, set umap.method to 'umap-learn' and metric to 'correlation'\n",
      "This message will be shown once per session”\n",
      "21:34:36 UMAP embedding parameters a = 0.9922 b = 1.112\n",
      "\n",
      "21:34:37 Read 79792 rows and found 20 numeric columns\n",
      "\n",
      "21:34:37 Using Annoy for neighbor search, n_neighbors = 30\n",
      "\n",
      "21:34:37 Building Annoy index with metric = cosine, n_trees = 50\n",
      "\n",
      "0%   10   20   30   40   50   60   70   80   90   100%\n",
      "\n",
      "[----|----|----|----|----|----|----|----|----|----|\n",
      "\n",
      "*\n",
      "*\n",
      "*\n",
      "*\n",
      "*\n",
      "*\n",
      "*\n",
      "*\n",
      "*\n",
      "*\n",
      "*\n",
      "*\n",
      "*\n",
      "*\n",
      "*\n",
      "*\n",
      "*\n",
      "*\n",
      "*\n",
      "*\n",
      "*\n",
      "*\n",
      "*\n",
      "*\n",
      "*\n",
      "*\n",
      "*\n",
      "*\n",
      "*\n",
      "*\n",
      "*\n",
      "*\n",
      "*\n",
      "*\n",
      "*\n",
      "*\n",
      "*\n",
      "*\n",
      "*\n",
      "*\n",
      "*\n",
      "*\n",
      "*\n",
      "*\n",
      "*\n",
      "*\n",
      "*\n",
      "*\n",
      "*\n",
      "*\n",
      "|\n",
      "\n",
      "21:34:45 Writing NN index file to temp file /tmp/RtmpWv6fOv/file180501ea734c6\n",
      "\n",
      "21:34:45 Searching Annoy index using 1 thread, search_k = 3000\n",
      "\n",
      "21:35:15 Annoy recall = 100%\n",
      "\n",
      "21:35:16 Commencing smooth kNN distance calibration using 1 thread\n",
      "\n",
      "21:35:18 Initializing from normalized Laplacian + noise\n",
      "\n",
      "21:35:26 Commencing optimization for 200 epochs, with 3430314 positive edges\n",
      "\n",
      "21:36:01 Optimization finished\n",
      "\n",
      "Computing nearest neighbor graph\n",
      "\n",
      "Computing SNN\n",
      "\n"
     ]
    },
    {
     "name": "stdout",
     "output_type": "stream",
     "text": [
      "Modularity Optimizer version 1.3.0 by Ludo Waltman and Nees Jan van Eck\n",
      "\n",
      "Number of nodes: 79792\n",
      "Number of edges: 2732795\n",
      "\n",
      "Running Louvain algorithm...\n",
      "Maximum modularity in 10 random starts: 0.9319\n",
      "Number of communities: 23\n",
      "Elapsed time: 47 seconds\n"
     ]
    }
   ],
   "source": [
    "fully <- NormalizeData(fully) %>% \n",
    "    FindVariableFeatures() %>% \n",
    "    ScaleData() %>% \n",
    "    RunPCA() %>% \n",
    "    RunUMAP(dims = 1:20) %>% \n",
    "    FindNeighbors(dims = 1:20) %>% \n",
    "    FindClusters(resolution = 0.5)"
   ]
  },
  {
   "cell_type": "code",
   "execution_count": 16,
   "id": "32da3d19-582f-4b90-a9cb-0fe874edb87b",
   "metadata": {},
   "outputs": [
    {
     "data": {
      "text/plain": [
       "An object of class Seurat \n",
       "18082 features across 79792 samples within 1 assay \n",
       "Active assay: RNA (18082 features, 2000 variable features)\n",
       " 3 layers present: counts, data, scale.data\n",
       " 2 dimensional reductions calculated: pca, umap"
      ]
     },
     "metadata": {},
     "output_type": "display_data"
    }
   ],
   "source": [
    "fully"
   ]
  },
  {
   "cell_type": "markdown",
   "id": "b710c214-91ad-4c06-aaba-272ca549e2ba",
   "metadata": {},
   "source": [
    "### Celltype label transfer"
   ]
  },
  {
   "cell_type": "code",
   "execution_count": 17,
   "id": "2355ab6e-bbc4-45e5-bd46-05d909c10006",
   "metadata": {
    "scrolled": true,
    "tags": []
   },
   "outputs": [
    {
     "name": "stderr",
     "output_type": "stream",
     "text": [
      "Validating h5Seurat file\n",
      "\n",
      "Initializing ADT with data\n",
      "\n",
      "Adding counts for ADT\n",
      "\n",
      "Adding variable feature information for ADT\n",
      "\n",
      "Adding miscellaneous information for ADT\n",
      "\n",
      "Initializing SCT with data\n",
      "\n",
      "Adding counts for SCT\n",
      "\n",
      "Adding variable feature information for SCT\n",
      "\n",
      "Adding miscellaneous information for SCT\n",
      "\n",
      "Adding reduction apca\n",
      "\n",
      "Adding cell embeddings for apca\n",
      "\n",
      "Adding feature loadings for apca\n",
      "\n",
      "Adding miscellaneous information for apca\n",
      "\n",
      "Adding reduction aumap\n",
      "\n",
      "Adding cell embeddings for aumap\n",
      "\n",
      "Adding miscellaneous information for aumap\n",
      "\n",
      "Adding reduction pca\n",
      "\n",
      "Adding cell embeddings for pca\n",
      "\n",
      "Adding feature loadings for pca\n",
      "\n",
      "Adding miscellaneous information for pca\n",
      "\n",
      "Adding reduction spca\n",
      "\n",
      "Adding cell embeddings for spca\n",
      "\n",
      "Adding feature loadings for spca\n",
      "\n",
      "Adding miscellaneous information for spca\n",
      "\n",
      "Adding reduction umap\n",
      "\n",
      "Adding cell embeddings for umap\n",
      "\n",
      "Adding miscellaneous information for umap\n",
      "\n",
      "Adding reduction wnn.umap\n",
      "\n",
      "Adding cell embeddings for wnn.umap\n",
      "\n",
      "Adding miscellaneous information for wnn.umap\n",
      "\n",
      "Adding graph wknn\n",
      "\n",
      "Adding graph wsnn\n",
      "\n",
      "Adding command information\n",
      "\n",
      "Adding cell-level metadata\n",
      "\n",
      "Adding miscellaneous information\n",
      "\n",
      "Adding tool-specific results\n",
      "\n"
     ]
    }
   ],
   "source": [
    "ref <- LoadH5Seurat(file = '/home/jupyter/pbmc_multimodal.h5seurat')\n"
   ]
  },
  {
   "cell_type": "code",
   "execution_count": 18,
   "id": "ff8ff779-5d05-4235-8c38-f327a2e9d497",
   "metadata": {
    "scrolled": true,
    "tags": []
   },
   "outputs": [
    {
     "name": "stderr",
     "output_type": "stream",
     "text": [
      "Normalizing query using reference SCT model\n",
      "\n",
      "Projecting cell embeddings\n",
      "\n",
      "Finding neighborhoods\n",
      "\n",
      "Finding anchors\n",
      "\n",
      "\tFound 8710 anchors\n",
      "\n"
     ]
    }
   ],
   "source": [
    "anchors <- FindTransferAnchors(\n",
    "    reference = ref,\n",
    "    query = fully,\n",
    "    normalization.method = \"SCT\",\n",
    "    reference.reduction = \"spca\",\n",
    "    dims = 1:50\n",
    ")\n"
   ]
  },
  {
   "cell_type": "code",
   "execution_count": 19,
   "id": "8f71551d-bcdf-4e2d-b49e-911c7fb77ecf",
   "metadata": {
    "scrolled": true,
    "tags": []
   },
   "outputs": [
    {
     "name": "stderr",
     "output_type": "stream",
     "text": [
      "Finding integration vectors\n",
      "\n",
      "Finding integration vector weights\n",
      "\n",
      "Predicting cell labels\n",
      "\n",
      "Warning message:\n",
      "“Layer counts isn't present in the assay object; returning NULL”\n",
      "Predicting cell labels\n",
      "\n",
      "Warning message:\n",
      "“Feature names cannot have underscores ('_'), replacing with dashes ('-')”\n",
      "Warning message:\n",
      "“Layer counts isn't present in the assay object; returning NULL”\n",
      "Predicting cell labels\n",
      "\n",
      "Warning message:\n",
      "“Feature names cannot have underscores ('_'), replacing with dashes ('-')”\n",
      "Warning message:\n",
      "“Layer counts isn't present in the assay object; returning NULL”\n",
      "Transfering 228 features onto reference data\n",
      "\n",
      "Warning message:\n",
      "“Layer counts isn't present in the assay object; returning NULL”\n"
     ]
    }
   ],
   "source": [
    "fully <- TransferData(\n",
    "    anchorset = anchors, \n",
    "    reference = ref, \n",
    "    query = fully,\n",
    "    refdata = list(\n",
    "        celltype.l1 = \"celltype.l1\",\n",
    "        celltype.l2 = \"celltype.l2\",\n",
    "        celltype.l3 = \"celltype.l3\",\n",
    "        predicted_ADT = 'ADT'\n",
    "    )\n",
    ")\n"
   ]
  },
  {
   "cell_type": "markdown",
   "id": "a757719f-1845-49f2-a6e4-a043d6f38357",
   "metadata": {},
   "source": [
    "### Plotting and saving "
   ]
  },
  {
   "cell_type": "code",
   "execution_count": 20,
   "id": "c9845177-3319-4ef7-84aa-9a50badae0c1",
   "metadata": {},
   "outputs": [],
   "source": [
    "saveRDS(fully, '/home/jupyter/CS15_WHBL/CWB_Paper/01_Final_Data/02_Data/2D_exp747/Fig2D_Final.rds')"
   ]
  },
  {
   "cell_type": "code",
   "execution_count": 21,
   "id": "2fe4f16b-3ff6-4d12-a643-194b93ee0384",
   "metadata": {},
   "outputs": [
    {
     "data": {
      "text/plain": [
       "R version 4.1.3 (2022-03-10)\n",
       "Platform: x86_64-pc-linux-gnu (64-bit)\n",
       "Running under: Ubuntu 20.04.4 LTS\n",
       "\n",
       "Matrix products: default\n",
       "BLAS:   /usr/lib/x86_64-linux-gnu/openblas-pthread/libblas.so.3\n",
       "LAPACK: /usr/lib/x86_64-linux-gnu/openblas-pthread/liblapack.so.3\n",
       "\n",
       "locale:\n",
       " [1] LC_CTYPE=C.UTF-8       LC_NUMERIC=C           LC_TIME=C.UTF-8       \n",
       " [4] LC_COLLATE=C.UTF-8     LC_MONETARY=C.UTF-8    LC_MESSAGES=C.UTF-8   \n",
       " [7] LC_PAPER=C.UTF-8       LC_NAME=C              LC_ADDRESS=C          \n",
       "[10] LC_TELEPHONE=C         LC_MEASUREMENT=C.UTF-8 LC_IDENTIFICATION=C   \n",
       "\n",
       "attached base packages:\n",
       "[1] stats     graphics  grDevices utils     datasets  methods   base     \n",
       "\n",
       "other attached packages:\n",
       " [1] SeuratDisk_0.0.0.9020 lubridate_1.9.3       forcats_1.0.0        \n",
       " [4] stringr_1.5.1         purrr_1.0.2           readr_2.1.5          \n",
       " [7] tidyr_1.3.1           tibble_3.2.1          ggplot2_3.4.3        \n",
       "[10] tidyverse_2.0.0       hise_2.15.0           H5weaver_1.2.0       \n",
       "[13] rhdf5_2.38.1          Matrix_1.6-4          data.table_1.14.2    \n",
       "[16] patchwork_1.1.1       Seurat_5.1.0          SeuratObject_5.0.2   \n",
       "[19] sp_2.1-4              dplyr_1.1.4          \n",
       "\n",
       "loaded via a namespace (and not attached):\n",
       "  [1] Rtsne_0.16             colorspace_2.0-3       deldir_1.0-6          \n",
       "  [4] ellipsis_0.3.2         ggridges_0.5.3         IRdisplay_1.1         \n",
       "  [7] RcppHNSW_0.3.0         base64enc_0.1-3        spatstat.data_3.0-4   \n",
       " [10] leiden_0.3.10          listenv_0.8.0          bit64_4.0.5           \n",
       " [13] ggrepel_0.9.5          RSpectra_0.16-1        fansi_1.0.3           \n",
       " [16] codetools_0.2-18       splines_4.1.3          polyclip_1.10-0       \n",
       " [19] IRkernel_1.3           spam_2.8-0             jsonlite_1.8.8        \n",
       " [22] ica_1.0-2              cluster_2.1.3          png_0.1-7             \n",
       " [25] uwot_0.1.11            shiny_1.7.1            sctransform_0.4.1     \n",
       " [28] spatstat.sparse_3.0-3  compiler_4.1.3         httr_1.4.7            \n",
       " [31] fastmap_1.2.0          lazyeval_0.2.2         cli_3.6.2             \n",
       " [34] later_1.3.0            htmltools_0.5.2        tools_4.1.3           \n",
       " [37] igraph_1.3.1           dotCall64_1.0-1        gtable_0.3.0          \n",
       " [40] glue_1.6.2             RANN_2.6.1             reshape2_1.4.4        \n",
       " [43] Rcpp_1.0.8.3           scattermore_1.2        rhdf5filters_1.6.0    \n",
       " [46] vctrs_0.6.5            nlme_3.1-157           spatstat.explore_3.2-7\n",
       " [49] progressr_0.10.0       lmtest_0.9-40          spatstat.random_3.2-3 \n",
       " [52] globals_0.14.0         timechange_0.3.0       mime_0.12             \n",
       " [55] miniUI_0.1.1.1         lifecycle_1.0.4        irlba_2.3.5           \n",
       " [58] goftest_1.2-3          future_1.25.0          MASS_7.3-57           \n",
       " [61] zoo_1.8-10             scales_1.3.0           hms_1.1.3             \n",
       " [64] promises_1.2.0.1       spatstat.utils_3.0-4   parallel_4.1.3        \n",
       " [67] RColorBrewer_1.1-3     reticulate_1.24        pbapply_1.5-0         \n",
       " [70] gridExtra_2.3          stringi_1.7.6          fastDummies_1.7.3     \n",
       " [73] repr_1.1.4.9000        rlang_1.1.3            pkgconfig_2.0.3       \n",
       " [76] matrixStats_0.62.0     evaluate_0.15          lattice_0.20-45       \n",
       " [79] Rhdf5lib_1.16.0        ROCR_1.0-11            tensor_1.5            \n",
       " [82] htmlwidgets_1.5.4      bit_4.0.4              cowplot_1.1.1         \n",
       " [85] tidyselect_1.2.1       parallelly_1.31.1      RcppAnnoy_0.0.19      \n",
       " [88] plyr_1.8.7             magrittr_2.0.3         R6_2.5.1              \n",
       " [91] generics_0.1.3         pbdZMQ_0.3-7           withr_2.5.0           \n",
       " [94] pillar_1.9.0           fitdistrplus_1.1-8     survival_3.3-1        \n",
       " [97] abind_1.4-5            future.apply_1.9.0     hdf5r_1.3.5           \n",
       "[100] crayon_1.5.1           uuid_1.1-0             KernSmooth_2.23-20    \n",
       "[103] utf8_1.2.2             spatstat.geom_3.2-9    plotly_4.10.0         \n",
       "[106] tzdb_0.4.0             grid_4.1.3             digest_0.6.29         \n",
       "[109] xtable_1.8-4           httpuv_1.6.5           munsell_0.5.0         \n",
       "[112] viridisLite_0.4.0     "
      ]
     },
     "metadata": {},
     "output_type": "display_data"
    }
   ],
   "source": [
    "sessionInfo()"
   ]
  },
  {
   "cell_type": "code",
   "execution_count": null,
   "id": "095317da-d016-490d-bf2c-a48ea5d0591e",
   "metadata": {},
   "outputs": [],
   "source": []
  }
 ],
 "metadata": {
  "kernelspec": {
   "display_name": "R 4",
   "language": "R",
   "name": "ir"
  },
  "language_info": {
   "codemirror_mode": "r",
   "file_extension": ".r",
   "mimetype": "text/x-r-source",
   "name": "R",
   "pygments_lexer": "r",
   "version": "4.1.3"
  }
 },
 "nbformat": 4,
 "nbformat_minor": 5
}

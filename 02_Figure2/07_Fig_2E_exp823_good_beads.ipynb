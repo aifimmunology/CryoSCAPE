{
 "cells": [
  {
   "cell_type": "markdown",
   "id": "c433b7b7-f4c9-4f36-a56c-2e51332378ea",
   "metadata": {},
   "source": [
    "# Standard Seurat Processing for Mol Bio sequencing"
   ]
  },
  {
   "cell_type": "markdown",
   "id": "21aa6fcc-4f4b-4b22-9819-6ef491a7c777",
   "metadata": {},
   "source": [
    "## Importing commonly used Libraries:"
   ]
  },
  {
   "cell_type": "code",
   "execution_count": 1,
   "id": "5c7dff40-12f4-4543-bd78-e10fc4afe9cd",
   "metadata": {
    "scrolled": true,
    "tags": []
   },
   "outputs": [
    {
     "name": "stderr",
     "output_type": "stream",
     "text": [
      "\n",
      "Attaching package: ‘dplyr’\n",
      "\n",
      "\n",
      "The following objects are masked from ‘package:stats’:\n",
      "\n",
      "    filter, lag\n",
      "\n",
      "\n",
      "The following objects are masked from ‘package:base’:\n",
      "\n",
      "    intersect, setdiff, setequal, union\n",
      "\n",
      "\n",
      "Loading required package: SeuratObject\n",
      "\n",
      "Loading required package: sp\n",
      "\n",
      "\n",
      "Attaching package: ‘SeuratObject’\n",
      "\n",
      "\n",
      "The following objects are masked from ‘package:base’:\n",
      "\n",
      "    intersect, t\n",
      "\n",
      "\n",
      "Loading required package: data.table\n",
      "\n",
      "\n",
      "Attaching package: ‘data.table’\n",
      "\n",
      "\n",
      "The following objects are masked from ‘package:dplyr’:\n",
      "\n",
      "    between, first, last\n",
      "\n",
      "\n",
      "Loading required package: Matrix\n",
      "\n",
      "Loading required package: rhdf5\n",
      "\n",
      "\n",
      "Attaching package: ‘H5weaver’\n",
      "\n",
      "\n",
      "The following objects are masked from ‘package:rhdf5’:\n",
      "\n",
      "    h5dump, h5ls\n",
      "\n",
      "\n",
      "Warning message in system(\"timedatectl\", intern = TRUE):\n",
      "“running command 'timedatectl' had status 1”\n",
      "── \u001b[1mAttaching core tidyverse packages\u001b[22m ──────────────────────── tidyverse 2.0.0 ──\n",
      "\u001b[32m✔\u001b[39m \u001b[34mforcats  \u001b[39m 1.0.0     \u001b[32m✔\u001b[39m \u001b[34mreadr    \u001b[39m 2.1.5\n",
      "\u001b[32m✔\u001b[39m \u001b[34mggplot2  \u001b[39m 3.4.3     \u001b[32m✔\u001b[39m \u001b[34mstringr  \u001b[39m 1.5.1\n",
      "\u001b[32m✔\u001b[39m \u001b[34mlubridate\u001b[39m 1.9.3     \u001b[32m✔\u001b[39m \u001b[34mtibble   \u001b[39m 3.2.1\n",
      "\u001b[32m✔\u001b[39m \u001b[34mpurrr    \u001b[39m 1.0.2     \u001b[32m✔\u001b[39m \u001b[34mtidyr    \u001b[39m 1.3.1\n",
      "── \u001b[1mConflicts\u001b[22m ────────────────────────────────────────── tidyverse_conflicts() ──\n",
      "\u001b[31m✖\u001b[39m \u001b[34mdata.table\u001b[39m::\u001b[32mbetween()\u001b[39m masks \u001b[34mdplyr\u001b[39m::between()\n",
      "\u001b[31m✖\u001b[39m \u001b[34mtidyr\u001b[39m::\u001b[32mexpand()\u001b[39m       masks \u001b[34mMatrix\u001b[39m::expand()\n",
      "\u001b[31m✖\u001b[39m \u001b[34mdplyr\u001b[39m::\u001b[32mfilter()\u001b[39m       masks \u001b[34mstats\u001b[39m::filter()\n",
      "\u001b[31m✖\u001b[39m \u001b[34mdata.table\u001b[39m::\u001b[32mfirst()\u001b[39m   masks \u001b[34mdplyr\u001b[39m::first()\n",
      "\u001b[31m✖\u001b[39m \u001b[34mlubridate\u001b[39m::\u001b[32mhour()\u001b[39m     masks \u001b[34mdata.table\u001b[39m::hour()\n",
      "\u001b[31m✖\u001b[39m \u001b[34mlubridate\u001b[39m::\u001b[32misoweek()\u001b[39m  masks \u001b[34mdata.table\u001b[39m::isoweek()\n",
      "\u001b[31m✖\u001b[39m \u001b[34mdplyr\u001b[39m::\u001b[32mlag()\u001b[39m          masks \u001b[34mstats\u001b[39m::lag()\n",
      "\u001b[31m✖\u001b[39m \u001b[34mdata.table\u001b[39m::\u001b[32mlast()\u001b[39m    masks \u001b[34mdplyr\u001b[39m::last()\n",
      "\u001b[31m✖\u001b[39m \u001b[34mlubridate\u001b[39m::\u001b[32mmday()\u001b[39m     masks \u001b[34mdata.table\u001b[39m::mday()\n",
      "\u001b[31m✖\u001b[39m \u001b[34mlubridate\u001b[39m::\u001b[32mminute()\u001b[39m   masks \u001b[34mdata.table\u001b[39m::minute()\n",
      "\u001b[31m✖\u001b[39m \u001b[34mlubridate\u001b[39m::\u001b[32mmonth()\u001b[39m    masks \u001b[34mdata.table\u001b[39m::month()\n",
      "\u001b[31m✖\u001b[39m \u001b[34mtidyr\u001b[39m::\u001b[32mpack()\u001b[39m         masks \u001b[34mMatrix\u001b[39m::pack()\n",
      "\u001b[31m✖\u001b[39m \u001b[34mlubridate\u001b[39m::\u001b[32mquarter()\u001b[39m  masks \u001b[34mdata.table\u001b[39m::quarter()\n",
      "\u001b[31m✖\u001b[39m \u001b[34mlubridate\u001b[39m::\u001b[32msecond()\u001b[39m   masks \u001b[34mdata.table\u001b[39m::second()\n",
      "\u001b[31m✖\u001b[39m \u001b[34mpurrr\u001b[39m::\u001b[32mtranspose()\u001b[39m    masks \u001b[34mdata.table\u001b[39m::transpose()\n",
      "\u001b[31m✖\u001b[39m \u001b[34mtidyr\u001b[39m::\u001b[32munpack()\u001b[39m       masks \u001b[34mMatrix\u001b[39m::unpack()\n",
      "\u001b[31m✖\u001b[39m \u001b[34mlubridate\u001b[39m::\u001b[32mwday()\u001b[39m     masks \u001b[34mdata.table\u001b[39m::wday()\n",
      "\u001b[31m✖\u001b[39m \u001b[34mlubridate\u001b[39m::\u001b[32mweek()\u001b[39m     masks \u001b[34mdata.table\u001b[39m::week()\n",
      "\u001b[31m✖\u001b[39m \u001b[34mlubridate\u001b[39m::\u001b[32myday()\u001b[39m     masks \u001b[34mdata.table\u001b[39m::yday()\n",
      "\u001b[31m✖\u001b[39m \u001b[34mlubridate\u001b[39m::\u001b[32myear()\u001b[39m     masks \u001b[34mdata.table\u001b[39m::year()\n",
      "\u001b[36mℹ\u001b[39m Use the conflicted package (\u001b[3m\u001b[34m<http://conflicted.r-lib.org/>\u001b[39m\u001b[23m) to force all conflicts to become errors\n"
     ]
    }
   ],
   "source": [
    "library(dplyr)\n",
    "library(Seurat)\n",
    "library(patchwork)\n",
    "library(H5weaver)\n",
    "library(hise)\n",
    "library(tidyverse)\n",
    "library(SeuratObject)"
   ]
  },
  {
   "cell_type": "markdown",
   "id": "c7cd619c-7bb3-4f86-8a61-60b65edcc625",
   "metadata": {},
   "source": [
    "## Creating Seurat Objects from h5 outs from Cellranger"
   ]
  },
  {
   "cell_type": "markdown",
   "id": "fd2d359f-886c-401d-9150-266a550463eb",
   "metadata": {},
   "source": [
    "### Reading h5 files into memory"
   ]
  },
  {
   "cell_type": "code",
   "execution_count": 2,
   "id": "02c3305b-690f-4f8a-bcc9-91436cffd77e",
   "metadata": {},
   "outputs": [],
   "source": [
    "h5s <- list.files(\n",
    "    path = '/home/jupyter/CS15_WHBL/CWB_Paper/01_Final_Data/02_Data/2E_exp823/Exp00823_w2', \n",
    "    pattern = 'filtered_feature_bc_matrix.h5$', \n",
    "    full.names = TRUE, \n",
    "    recursive = TRUE\n",
    ")\n"
   ]
  },
  {
   "cell_type": "markdown",
   "id": "0418a6ac-efb9-45bc-b905-270c27dfda6c",
   "metadata": {},
   "source": [
    "### Creating Seurat Objects"
   ]
  },
  {
   "cell_type": "code",
   "execution_count": 3,
   "id": "22bd4800-826b-46e1-880c-b6346fe510e1",
   "metadata": {},
   "outputs": [],
   "source": [
    "fixed_so <- lapply(h5s, function(x){\n",
    "    pro <- strsplit(strsplit(x,'/per_sample_outs/')[[1]][2],'/count/')[[1]][1]\n",
    "    exp <- strsplit(strsplit(x,'/outs/')[[1]][1],'/')[[1]][length(strsplit(strsplit(x,'/outs/')[[1]][1],'/')[[1]])]\n",
    "\n",
    "    pro <- paste(exp,pro,sep='_')\n",
    "\n",
    "    mtx <- Read10X_h5(x)\n",
    "    so <- CreateSeuratObject(mtx,project=pro)\n",
    "    return(so) \n",
    "    })\n"
   ]
  },
  {
   "cell_type": "code",
   "execution_count": 4,
   "id": "55a1f9a5-3e18-4641-80f0-dd351c4e3557",
   "metadata": {},
   "outputs": [],
   "source": [
    "fully <- Reduce(merge,fixed_so) %>% JoinLayers()\n"
   ]
  },
  {
   "cell_type": "code",
   "execution_count": 5,
   "id": "927753ba-3b48-492d-acee-1601923b3525",
   "metadata": {},
   "outputs": [],
   "source": [
    "fully[[\"percent.mt\"]] <- PercentageFeatureSet(fully, pattern = \"^MT-\")\n",
    "fully <- subset(fully, subset = percent.mt < 5)"
   ]
  },
  {
   "cell_type": "markdown",
   "id": "ef79ccb9-6c22-45df-9d5c-b464cb51ab0c",
   "metadata": {},
   "source": [
    "### Normalizing, running PCA and UMAP clustering"
   ]
  },
  {
   "cell_type": "code",
   "execution_count": 6,
   "id": "aa3ea36d-cffb-4c6e-aed6-ae535edf8e09",
   "metadata": {
    "scrolled": true,
    "tags": []
   },
   "outputs": [
    {
     "name": "stderr",
     "output_type": "stream",
     "text": [
      "Normalizing layer: counts\n",
      "\n",
      "Finding variable features for layer counts\n",
      "\n",
      "Centering and scaling data matrix\n",
      "\n",
      "PC_ 1 \n",
      "Positive:  TRBC2, LTB, IL32, LEF1, TRBC1, CD2, CCR7, CD69, CD247, TRAT1 \n",
      "\t   IKZF3, PIM2, MAL, PCED1B, BCL2, THEMIS, ISG20, NELL2, TRABD2A, ITGA6 \n",
      "\t   CD27, OBSCN, CCND2, PYHIN1, TRIB2, MYC, SAMD3, ITM2A, ITGB7, RNF157 \n",
      "Negative:  LYZ, S100A9, SPI1, SERPINA1, MPEG1, NCF2, MNDA, IFI30, CD68, CYBB \n",
      "\t   S100A8, CST3, VCAN, CSF3R, TYMP, MS4A6A, CLEC7A, KLF4, CLEC12A, FGL2 \n",
      "\t   EMILIN2, PLXNB2, HCK, GRN, CEBPD, CD14, ZNF385A, LILRB2, TIMP2, CTSS \n",
      "PC_ 2 \n",
      "Positive:  CD14, LEF1, ANXA1, S100A8, VCAN, S100A9, HK3, SLC11A1, IL17RA, IRS2 \n",
      "\t   IL32, MAL, TRBC1, CFD, TRAT1, CSF3R, TRABD2A, S100A6, UBXN11, NELL2 \n",
      "\t   CEBPD, SOCS3, CRISPLD2, RXRA, FCAR, LYZ, RGCC, S100A12, CEBPB, LRP1 \n",
      "Negative:  NIBAN3, IGHM, COBLL1, BCL11A, BLNK, MS4A1, IGKC, TCF4, CD79A, BANK1 \n",
      "\t   FCRL2, RUBCNL, PLD4, FCRL1, CD22, PAX5, JCHAIN, POU2AF1, IGHD, TSPAN13 \n",
      "\t   BLK, AFF3, SETBP1, SPIB, CD79B, FCRLA, TCL1A, OSBPL10, CCDC50, FCER2 \n",
      "PC_ 3 \n",
      "Positive:  LTB, CCR7, LEF1, MAL, TRABD2A, MYC, EGR1, FHIT, NELL2, PIM2 \n",
      "\t   OBSCN, SESN3, TRAT1, RNF157, BIRC3, BCL2, CD79A, CD27, NOG, FCRL1 \n",
      "\t   MS4A1, ITGA6, ADTRP, IGHM, TNFRSF13C, TSHZ2, FCRL2, CD22, IGHD, TCEA3 \n",
      "Negative:  NKG7, PRF1, KLRD1, GNLY, CST7, ADGRG1, FGFBP2, GZMB, GZMA, KLRF1 \n",
      "\t   TBX21, SYNE1, FCRL6, CX3CR1, IL2RB, FCGR3A, CCL5, CTSW, PRSS23, GZMH \n",
      "\t   CLIC3, NCR1, C1orf21, SPON2, SH2D1B, KLRK1, CCL4, S1PR5, SLAMF7, MYBL1 \n",
      "PC_ 4 \n",
      "Positive:  PTPRS, TNFRSF21, CLEC4C, LILRA4, SERPINF1, PACSIN1, EPHA2, SCT, LAMP5, EPHB1 \n",
      "\t   PPM1J, SMPD3, SCN9A, SCAMP5, DNASE1L3, IL3RA, P3H2, NRP1, SHD, PLD4 \n",
      "\t   PHEX, SLC12A3, P2RY14, PAPLN, MYBL2, MAP1A, FLT3, ITM2C, MZB1, GAS6 \n",
      "Negative:  MS4A1, FCRL2, FCRL1, CD22, PAX5, CD79A, BANK1, IGHD, CD79B, FCER2 \n",
      "\t   OSBPL10, POU2AF1, TNFRSF13C, FCRLA, CD24, BLK, COL19A1, CD72, SNX22, CD19 \n",
      "\t   RALGPS2, P2RX5, IGHM, CXCR5, PLEKHG1, EBF1, SWAP70, TNFRSF13B, TCL1A, RASGRP3 \n",
      "PC_ 5 \n",
      "Positive:  PTPRS, CLEC4C, LILRA4, EPHA2, SERPINF1, TNFRSF21, PACSIN1, SCT, CD14, CFD \n",
      "\t   PTCRA, LAMP5, HK3, TSPAN13, EPHB1, NIBAN3, DNASE1L3, IRS2, SCAMP5, GZMB \n",
      "\t   SMPD3, SLC11A1, KCTD12, CLIC3, PPM1J, NRGN, SPIB, SHD, SCN9A, PAPLN \n",
      "Negative:  MT-CO2, MT-CO3, S100A10, ACTG1, EVI2B, HIST1H1C, MT-ND4L, CD2, CRIP1, IL32 \n",
      "\t   TRBC2, GPR183, TRAT1, TNFAIP3, NFKBIZ, CD69, AHR, HIST1H1D, ANXA1, ITGB1 \n",
      "\t   EVI2A, PIM2, LEF1, ITGB7, NME2, BIRC3, LTB, CALM2, ITM2A, ANXA2 \n",
      "\n",
      "Warning message:\n",
      "“The default method for RunUMAP has changed from calling Python UMAP via reticulate to the R-native UWOT using the cosine metric\n",
      "To use Python UMAP via reticulate, set umap.method to 'umap-learn' and metric to 'correlation'\n",
      "This message will be shown once per session”\n",
      "21:53:55 UMAP embedding parameters a = 0.9922 b = 1.112\n",
      "\n",
      "21:53:55 Read 4264 rows and found 20 numeric columns\n",
      "\n",
      "21:53:55 Using Annoy for neighbor search, n_neighbors = 30\n",
      "\n",
      "21:53:55 Building Annoy index with metric = cosine, n_trees = 50\n",
      "\n",
      "0%   10   20   30   40   50   60   70   80   90   100%\n",
      "\n",
      "[----|----|----|----|----|----|----|----|----|----|\n",
      "\n",
      "*\n",
      "*\n",
      "*\n",
      "*\n",
      "*\n",
      "*\n",
      "*\n",
      "*\n",
      "*\n",
      "*\n",
      "*\n",
      "*\n",
      "*\n",
      "*\n",
      "*\n",
      "*\n",
      "*\n",
      "*\n",
      "*\n",
      "*\n",
      "*\n",
      "*\n",
      "*\n",
      "*\n",
      "*\n",
      "*\n",
      "*\n",
      "*\n",
      "*\n",
      "*\n",
      "*\n",
      "*\n",
      "*\n",
      "*\n",
      "*\n",
      "*\n",
      "*\n",
      "*\n",
      "*\n",
      "*\n",
      "*\n",
      "*\n",
      "*\n",
      "*\n",
      "*\n",
      "*\n",
      "*\n",
      "*\n",
      "*\n",
      "*\n",
      "|\n",
      "\n",
      "21:53:56 Writing NN index file to temp file /tmp/RtmpA25vLd/file10ec02550a320\n",
      "\n",
      "21:53:56 Searching Annoy index using 1 thread, search_k = 3000\n",
      "\n",
      "21:53:57 Annoy recall = 100%\n",
      "\n",
      "21:53:57 Commencing smooth kNN distance calibration using 1 thread\n",
      "\n",
      "21:53:58 Initializing from normalized Laplacian + noise\n",
      "\n",
      "21:53:58 Commencing optimization for 500 epochs, with 174574 positive edges\n",
      "\n",
      "21:54:03 Optimization finished\n",
      "\n",
      "Computing nearest neighbor graph\n",
      "\n",
      "Computing SNN\n",
      "\n"
     ]
    },
    {
     "name": "stdout",
     "output_type": "stream",
     "text": [
      "Modularity Optimizer version 1.3.0 by Ludo Waltman and Nees Jan van Eck\n",
      "\n",
      "Number of nodes: 4264\n",
      "Number of edges: 158406\n",
      "\n",
      "Running Louvain algorithm...\n",
      "Maximum modularity in 10 random starts: 0.9171\n",
      "Number of communities: 15\n",
      "Elapsed time: 0 seconds\n"
     ]
    }
   ],
   "source": [
    "fully <- NormalizeData(fully) %>% \n",
    "    FindVariableFeatures() %>% \n",
    "    ScaleData() %>% \n",
    "    RunPCA() %>% \n",
    "    RunUMAP(dims = 1:20) %>% \n",
    "    FindNeighbors(dims = 1:20) %>% \n",
    "    FindClusters(resolution = 0.5)\n"
   ]
  },
  {
   "cell_type": "markdown",
   "id": "1ba10c12-1167-487f-bc26-796e738a252d",
   "metadata": {},
   "source": [
    "### Saving the SO to a file that can be read into memory later.\n"
   ]
  },
  {
   "cell_type": "code",
   "execution_count": 7,
   "id": "7b553c17-23cc-47fa-9945-d249de12ea79",
   "metadata": {},
   "outputs": [],
   "source": [
    "saveRDS(fully,'/home/jupyter/CS15_WHBL/CWB_Paper/01_Final_Data/02_Data/2E_exp823/Fig2E_Final.rds') # writing "
   ]
  },
  {
   "cell_type": "code",
   "execution_count": 8,
   "id": "963b1f00-4e01-46b0-ac96-6372d8388913",
   "metadata": {},
   "outputs": [
    {
     "data": {
      "text/plain": [
       "R version 4.1.3 (2022-03-10)\n",
       "Platform: x86_64-pc-linux-gnu (64-bit)\n",
       "Running under: Ubuntu 20.04.4 LTS\n",
       "\n",
       "Matrix products: default\n",
       "BLAS:   /usr/lib/x86_64-linux-gnu/openblas-pthread/libblas.so.3\n",
       "LAPACK: /usr/lib/x86_64-linux-gnu/openblas-pthread/liblapack.so.3\n",
       "\n",
       "locale:\n",
       " [1] LC_CTYPE=C.UTF-8       LC_NUMERIC=C           LC_TIME=C.UTF-8       \n",
       " [4] LC_COLLATE=C.UTF-8     LC_MONETARY=C.UTF-8    LC_MESSAGES=C.UTF-8   \n",
       " [7] LC_PAPER=C.UTF-8       LC_NAME=C              LC_ADDRESS=C          \n",
       "[10] LC_TELEPHONE=C         LC_MEASUREMENT=C.UTF-8 LC_IDENTIFICATION=C   \n",
       "\n",
       "attached base packages:\n",
       "[1] stats     graphics  grDevices utils     datasets  methods   base     \n",
       "\n",
       "other attached packages:\n",
       " [1] lubridate_1.9.3    forcats_1.0.0      stringr_1.5.1      purrr_1.0.2       \n",
       " [5] readr_2.1.5        tidyr_1.3.1        tibble_3.2.1       ggplot2_3.4.3     \n",
       " [9] tidyverse_2.0.0    hise_2.15.0        H5weaver_1.2.0     rhdf5_2.38.1      \n",
       "[13] Matrix_1.6-4       data.table_1.14.2  patchwork_1.1.1    Seurat_5.1.0      \n",
       "[17] SeuratObject_5.0.2 sp_2.1-4           dplyr_1.1.4       \n",
       "\n",
       "loaded via a namespace (and not attached):\n",
       "  [1] Rtsne_0.16             colorspace_2.0-3       deldir_1.0-6          \n",
       "  [4] ellipsis_0.3.2         ggridges_0.5.3         IRdisplay_1.1         \n",
       "  [7] RcppHNSW_0.3.0         base64enc_0.1-3        spatstat.data_3.0-4   \n",
       " [10] leiden_0.3.10          listenv_0.8.0          bit64_4.0.5           \n",
       " [13] ggrepel_0.9.5          RSpectra_0.16-1        fansi_1.0.3           \n",
       " [16] codetools_0.2-18       splines_4.1.3          polyclip_1.10-0       \n",
       " [19] IRkernel_1.3           spam_2.8-0             jsonlite_1.8.8        \n",
       " [22] ica_1.0-2              cluster_2.1.3          png_0.1-7             \n",
       " [25] uwot_0.1.11            shiny_1.7.1            sctransform_0.4.1     \n",
       " [28] spatstat.sparse_3.0-3  compiler_4.1.3         httr_1.4.7            \n",
       " [31] fastmap_1.2.0          lazyeval_0.2.2         cli_3.6.2             \n",
       " [34] later_1.3.0            htmltools_0.5.2        tools_4.1.3           \n",
       " [37] igraph_1.3.1           dotCall64_1.0-1        gtable_0.3.0          \n",
       " [40] glue_1.6.2             RANN_2.6.1             reshape2_1.4.4        \n",
       " [43] Rcpp_1.0.8.3           scattermore_1.2        rhdf5filters_1.6.0    \n",
       " [46] vctrs_0.6.5            nlme_3.1-157           spatstat.explore_3.2-7\n",
       " [49] progressr_0.10.0       lmtest_0.9-40          spatstat.random_3.2-3 \n",
       " [52] globals_0.14.0         timechange_0.3.0       mime_0.12             \n",
       " [55] miniUI_0.1.1.1         lifecycle_1.0.4        irlba_2.3.5           \n",
       " [58] goftest_1.2-3          future_1.25.0          MASS_7.3-57           \n",
       " [61] zoo_1.8-10             scales_1.3.0           hms_1.1.3             \n",
       " [64] promises_1.2.0.1       spatstat.utils_3.0-4   parallel_4.1.3        \n",
       " [67] RColorBrewer_1.1-3     reticulate_1.24        pbapply_1.5-0         \n",
       " [70] gridExtra_2.3          stringi_1.7.6          fastDummies_1.7.3     \n",
       " [73] repr_1.1.4.9000        rlang_1.1.3            pkgconfig_2.0.3       \n",
       " [76] matrixStats_0.62.0     evaluate_0.15          lattice_0.20-45       \n",
       " [79] Rhdf5lib_1.16.0        ROCR_1.0-11            tensor_1.5            \n",
       " [82] htmlwidgets_1.5.4      bit_4.0.4              cowplot_1.1.1         \n",
       " [85] tidyselect_1.2.1       parallelly_1.31.1      RcppAnnoy_0.0.19      \n",
       " [88] plyr_1.8.7             magrittr_2.0.3         R6_2.5.1              \n",
       " [91] generics_0.1.3         pbdZMQ_0.3-7           withr_2.5.0           \n",
       " [94] pillar_1.9.0           fitdistrplus_1.1-8     survival_3.3-1        \n",
       " [97] abind_1.4-5            future.apply_1.9.0     hdf5r_1.3.5           \n",
       "[100] crayon_1.5.1           uuid_1.1-0             KernSmooth_2.23-20    \n",
       "[103] utf8_1.2.2             spatstat.geom_3.2-9    plotly_4.10.0         \n",
       "[106] tzdb_0.4.0             grid_4.1.3             digest_0.6.29         \n",
       "[109] xtable_1.8-4           httpuv_1.6.5           munsell_0.5.0         \n",
       "[112] viridisLite_0.4.0     "
      ]
     },
     "metadata": {},
     "output_type": "display_data"
    }
   ],
   "source": [
    "sessionInfo()"
   ]
  }
 ],
 "metadata": {
  "kernelspec": {
   "display_name": "R 4",
   "language": "R",
   "name": "ir"
  },
  "language_info": {
   "codemirror_mode": "r",
   "file_extension": ".r",
   "mimetype": "text/x-r-source",
   "name": "R",
   "pygments_lexer": "r",
   "version": "4.1.3"
  }
 },
 "nbformat": 4,
 "nbformat_minor": 5
}

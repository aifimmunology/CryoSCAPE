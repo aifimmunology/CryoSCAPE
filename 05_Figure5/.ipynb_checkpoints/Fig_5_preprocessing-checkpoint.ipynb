{
 "cells": [
  {
   "cell_type": "markdown",
   "id": "c433b7b7-f4c9-4f36-a56c-2e51332378ea",
   "metadata": {},
   "source": [
    "# Standard Seurat Processing for Mol Bio sequencing"
   ]
  },
  {
   "cell_type": "markdown",
   "id": "21aa6fcc-4f4b-4b22-9819-6ef491a7c777",
   "metadata": {},
   "source": [
    "## Importing commonly used Libraries:"
   ]
  },
  {
   "cell_type": "code",
   "execution_count": 1,
   "id": "5a3664fa-ffe1-48b7-bc41-1303830c7d50",
   "metadata": {
    "scrolled": true,
    "tags": []
   },
   "outputs": [
    {
     "name": "stderr",
     "output_type": "stream",
     "text": [
      "Installing package into ‘/usr/local/lib/R/site-library’\n",
      "(as ‘lib’ is unspecified)\n",
      "\n",
      "'getOption(\"repos\")' replaces Bioconductor standard repositories, see\n",
      "'help(\"repositories\", package = \"BiocManager\")' for details.\n",
      "Replacement repositories:\n",
      "    CRAN: https://cloud.r-project.org\n",
      "\n",
      "Bioconductor version 3.14 (BiocManager 1.30.23), R 4.1.3 (2022-03-10)\n",
      "\n",
      "Warning message:\n",
      "“package(s) not installed when version(s) same as or greater than current; use\n",
      "  `force = TRUE` to re-install: 'multtest'”\n",
      "Old packages: 'acepack', 'ade4', 'ape', 'bibtex', 'bigrquery', 'bit', 'blob',\n",
      "  'brew', 'brio', 'broom', 'brotli', 'Cairo', 'callr', 'checkmate', 'circlize',\n",
      "  'classInt', 'clue', 'coda', 'config', 'copula', 'covr', 'credentials',\n",
      "  'crul', 'cyclocomp', 'DBI', 'DBItest', 'dbplyr', 'dendextend',\n",
      "  'densityClust', 'DEoptimR', 'desc', 'deSolve', 'devtools', 'dichromat',\n",
      "  'diptest', 'downlit', 'drake', 'DT', 'dtplyr', 'e1071', 'ellipse', 'eulerr',\n",
      "  'expm', 'fastcluster', 'fastICA', 'fastmatch', 'fda', 'ff', 'fields',\n",
      "  'fiery', 'filelock', 'foghorn', 'forcats', 'formatR', 'Formula', 'furrr',\n",
      "  'gargle', 'gdata', 'GenSA', 'gert', 'getopt', 'GGally', 'ggbeeswarm',\n",
      "  'ggdendro', 'ggsci', 'ggsignif', 'gh', 'git2r', 'gitcreds', 'glmnet',\n",
      "  'gmailr', 'gmodels', 'goeveg', 'googleAnalyticsR', 'googleAuthR',\n",
      "  'googledrive', 'googlesheets4', 'gower', 'gsl', 'h2o', 'harmony', 'haven',\n",
      "  'hdf5r', 'hexbin', 'Hmisc', 'hms', 'htmlTable', 'hunspell', 'IDPmisc',\n",
      "  'ipred', 'IRkernel', 'jpeg', 'keras', 'kernlab', 'ks', 'Lahman',\n",
      "  'latticeExtra', 'lava', 'leaflet.providers', 'lintr', 'lobstr', 'locfit',\n",
      "  'lsa', 'lubridate', 'mapproj', 'maps', 'markdown', 'MatrixModels', 'mclust',\n",
      "  'measurementProtocol', 'microbenchmark', 'minqa', 'mixtools', 'mlbench',\n",
      "  'mnormt', 'mockery', 'modelr', 'multcomp', 'multicool', 'mutoss', 'mvtnorm',\n",
      "  'narray', 'NMF', 'openxlsx', 'optparse', 'packrat', 'palmerpenguins',\n",
      "  'parsedate', 'pbdZMQ', 'pbmcapply', 'pcaPP', 'pingr', 'pixmap', 'pkgbuild',\n",
      "  'pkgload', 'pkgmaker', 'plot3D', 'plot3Drgl', 'plotrix', 'poweRlaw',\n",
      "  'pracma', 'prettyunits', 'processx', 'prodlim', 'progress', 'proxy', 'pryr',\n",
      "  'ps', 'pscl', 'qlcMatrix', 'quantmod', 'quantreg', 'R.methodsS3', 'R.oo',\n",
      "  'R.utils', 'rainbow', 'randomForest', 'ranger', 'rbibutils', 'RcppParallel',\n",
      "  'RCurl', 'Rdpack', 'readr', 'readxl', 'rematch', 'remotes', 'renv', 'repr',\n",
      "  'reprex', 'reqres', 'restfulr', 'rgl', 'RhpcBLASctl', 'rhub', 'rio',\n",
      "  'robust', 'robustbase', 'routr', 'roxygen2', 'rrcov', 'rsample', 'RSQLite',\n",
      "  'rstudioapi', 'RUnit', 'rversions', 'rvest', 's2', 'sandwich',\n",
      "  'scatterplot3d', 'segmented', 'shape', 'slider', 'sn', 'SnowballC', 'sodium',\n",
      "  'sparsesvd', 'speedglm', 'spelling', 'systemfonts', 'tensorflow', 'testthat',\n",
      "  'TFMPvalue', 'tfruns', 'TH.data', 'tidyverse', 'timeDate', 'triebeard',\n",
      "  'TTR', 'tzdb', 'umap', 'usethis', 'uuid', 'vegan', 'VGAM', 'vipor',\n",
      "  'viridis', 'visdat', 'visNetwork', 'vroom', 'waldo', 'warp', 'webshot',\n",
      "  'webutils', 'WGCNA', 'whisker', 'wk', 'XML', 'xml2', 'xopen', 'xts', 'zip',\n",
      "  'boot', 'class', 'cluster', 'codetools', 'foreign', 'KernSmooth', 'lattice',\n",
      "  'mgcv', 'nlme', 'nnet', 'rpart', 'spatial', 'survival'\n",
      "\n",
      "Installing package into ‘/usr/local/lib/R/site-library’\n",
      "(as ‘lib’ is unspecified)\n",
      "\n",
      "also installing the dependencies ‘spatstat.model’, ‘spatstat.linnet’\n",
      "\n",
      "\n",
      "Installing package into ‘/usr/local/lib/R/site-library’\n",
      "(as ‘lib’ is unspecified)\n",
      "\n"
     ]
    }
   ],
   "source": [
    "install.packages('BiocManager')\n",
    "BiocManager::install('multtest')\n",
    "install.packages('spatstat')\n",
    "install.packages('Seurat')"
   ]
  },
  {
   "cell_type": "code",
   "execution_count": 4,
   "id": "5c7dff40-12f4-4543-bd78-e10fc4afe9cd",
   "metadata": {
    "scrolled": true,
    "tags": []
   },
   "outputs": [
    {
     "name": "stderr",
     "output_type": "stream",
     "text": [
      "Loading required package: SeuratObject\n",
      "\n",
      "Loading required package: sp\n",
      "\n",
      "\n",
      "Attaching package: ‘SeuratObject’\n",
      "\n",
      "\n",
      "The following objects are masked from ‘package:base’:\n",
      "\n",
      "    intersect, t\n",
      "\n",
      "\n",
      "Warning message in system(\"timedatectl\", intern = TRUE):\n",
      "“running command 'timedatectl' had status 1”\n",
      "── \u001b[1mAttaching packages\u001b[22m ─────────────────────────────────────── tidyverse 1.3.1 ──\n",
      "\n",
      "\u001b[32m✔\u001b[39m \u001b[34mggplot2\u001b[39m 3.5.1     \u001b[32m✔\u001b[39m \u001b[34mpurrr  \u001b[39m 1.0.2\n",
      "\u001b[32m✔\u001b[39m \u001b[34mtibble \u001b[39m 3.2.1     \u001b[32m✔\u001b[39m \u001b[34mdplyr  \u001b[39m 1.1.4\n",
      "\u001b[32m✔\u001b[39m \u001b[34mtidyr  \u001b[39m 1.3.1     \u001b[32m✔\u001b[39m \u001b[34mstringr\u001b[39m 1.5.1\n",
      "\u001b[32m✔\u001b[39m \u001b[34mreadr  \u001b[39m 2.1.2     \u001b[32m✔\u001b[39m \u001b[34mforcats\u001b[39m 0.5.1\n",
      "\n",
      "── \u001b[1mConflicts\u001b[22m ────────────────────────────────────────── tidyverse_conflicts() ──\n",
      "\u001b[31m✖\u001b[39m \u001b[34mdplyr\u001b[39m::\u001b[32mfilter()\u001b[39m masks \u001b[34mstats\u001b[39m::filter()\n",
      "\u001b[31m✖\u001b[39m \u001b[34mdplyr\u001b[39m::\u001b[32mlag()\u001b[39m    masks \u001b[34mstats\u001b[39m::lag()\n",
      "\n"
     ]
    }
   ],
   "source": [
    "library(dplyr)\n",
    "library(Seurat)\n",
    "library(patchwork)\n",
    "library(H5weaver)\n",
    "library(hise)\n",
    "library(tidyverse)\n",
    "library(SeuratObject)\n",
    "library(ggrepel)\n",
    "library(SeuratDisk)\n"
   ]
  },
  {
   "cell_type": "markdown",
   "id": "c7cd619c-7bb3-4f86-8a61-60b65edcc625",
   "metadata": {},
   "source": [
    "## Creating Seurat Objects from h5 outs from Cellranger"
   ]
  },
  {
   "cell_type": "markdown",
   "id": "fd2d359f-886c-401d-9150-266a550463eb",
   "metadata": {
    "tags": []
   },
   "source": [
    "### Reading h5 files into memory"
   ]
  },
  {
   "cell_type": "code",
   "execution_count": 6,
   "id": "02c3305b-690f-4f8a-bcc9-91436cffd77e",
   "metadata": {},
   "outputs": [
    {
     "data": {
      "text/html": [
       "16"
      ],
      "text/latex": [
       "16"
      ],
      "text/markdown": [
       "16"
      ],
      "text/plain": [
       "[1] 16"
      ]
     },
     "metadata": {},
     "output_type": "display_data"
    },
    {
     "data": {
      "text/html": [
       "<style>\n",
       ".list-inline {list-style: none; margin:0; padding: 0}\n",
       ".list-inline>li {display: inline-block}\n",
       ".list-inline>li:not(:last-child)::after {content: \"\\00b7\"; padding: 0 .5ex}\n",
       "</style>\n",
       "<ol class=list-inline><li>'/home/jupyter/CS15_WHBL/CWB_Paper/01_Final_Data/05_Data/Exp00895_w1/outs/per_sample_outs/BL05012_CD3_CD28/count/sample_filtered_feature_bc_matrix.h5'</li><li>'/home/jupyter/CS15_WHBL/CWB_Paper/01_Final_Data/05_Data/Exp00895_w1/outs/per_sample_outs/BL05012_No_Stim/count/sample_filtered_feature_bc_matrix.h5'</li><li>'/home/jupyter/CS15_WHBL/CWB_Paper/01_Final_Data/05_Data/Exp00895_w1/outs/per_sample_outs/BL05012_PMA_I/count/sample_filtered_feature_bc_matrix.h5'</li><li>'/home/jupyter/CS15_WHBL/CWB_Paper/01_Final_Data/05_Data/Exp00895_w1/outs/per_sample_outs/BL05012_R848/count/sample_filtered_feature_bc_matrix.h5'</li><li>'/home/jupyter/CS15_WHBL/CWB_Paper/01_Final_Data/05_Data/Exp00895_w1/outs/per_sample_outs/BL05111_CD3_CD28/count/sample_filtered_feature_bc_matrix.h5'</li><li>'/home/jupyter/CS15_WHBL/CWB_Paper/01_Final_Data/05_Data/Exp00895_w1/outs/per_sample_outs/BL05111_No_Stim/count/sample_filtered_feature_bc_matrix.h5'</li><li>'/home/jupyter/CS15_WHBL/CWB_Paper/01_Final_Data/05_Data/Exp00895_w1/outs/per_sample_outs/BL05111_PMA_I/count/sample_filtered_feature_bc_matrix.h5'</li><li>'/home/jupyter/CS15_WHBL/CWB_Paper/01_Final_Data/05_Data/Exp00895_w1/outs/per_sample_outs/BL05111_R848/count/sample_filtered_feature_bc_matrix.h5'</li><li>'/home/jupyter/CS15_WHBL/CWB_Paper/01_Final_Data/05_Data/Exp00895_w1/outs/per_sample_outs/BL05731_CD3_CD28/count/sample_filtered_feature_bc_matrix.h5'</li><li>'/home/jupyter/CS15_WHBL/CWB_Paper/01_Final_Data/05_Data/Exp00895_w1/outs/per_sample_outs/BL05731_No_Stim/count/sample_filtered_feature_bc_matrix.h5'</li><li>'/home/jupyter/CS15_WHBL/CWB_Paper/01_Final_Data/05_Data/Exp00895_w1/outs/per_sample_outs/BL05731_PMA_I/count/sample_filtered_feature_bc_matrix.h5'</li><li>'/home/jupyter/CS15_WHBL/CWB_Paper/01_Final_Data/05_Data/Exp00895_w1/outs/per_sample_outs/BL05731_R848/count/sample_filtered_feature_bc_matrix.h5'</li><li>'/home/jupyter/CS15_WHBL/CWB_Paper/01_Final_Data/05_Data/Exp00895_w1/outs/per_sample_outs/PB02183_CD3_CD28/count/sample_filtered_feature_bc_matrix.h5'</li><li>'/home/jupyter/CS15_WHBL/CWB_Paper/01_Final_Data/05_Data/Exp00895_w1/outs/per_sample_outs/PB02183_No_Stim/count/sample_filtered_feature_bc_matrix.h5'</li><li>'/home/jupyter/CS15_WHBL/CWB_Paper/01_Final_Data/05_Data/Exp00895_w1/outs/per_sample_outs/PB02183_PMA_I/count/sample_filtered_feature_bc_matrix.h5'</li><li>'/home/jupyter/CS15_WHBL/CWB_Paper/01_Final_Data/05_Data/Exp00895_w1/outs/per_sample_outs/PB02183_R848/count/sample_filtered_feature_bc_matrix.h5'</li></ol>\n"
      ],
      "text/latex": [
       "\\begin{enumerate*}\n",
       "\\item '/home/jupyter/CS15\\_WHBL/CWB\\_Paper/01\\_Final\\_Data/05\\_Data/Exp00895\\_w1/outs/per\\_sample\\_outs/BL05012\\_CD3\\_CD28/count/sample\\_filtered\\_feature\\_bc\\_matrix.h5'\n",
       "\\item '/home/jupyter/CS15\\_WHBL/CWB\\_Paper/01\\_Final\\_Data/05\\_Data/Exp00895\\_w1/outs/per\\_sample\\_outs/BL05012\\_No\\_Stim/count/sample\\_filtered\\_feature\\_bc\\_matrix.h5'\n",
       "\\item '/home/jupyter/CS15\\_WHBL/CWB\\_Paper/01\\_Final\\_Data/05\\_Data/Exp00895\\_w1/outs/per\\_sample\\_outs/BL05012\\_PMA\\_I/count/sample\\_filtered\\_feature\\_bc\\_matrix.h5'\n",
       "\\item '/home/jupyter/CS15\\_WHBL/CWB\\_Paper/01\\_Final\\_Data/05\\_Data/Exp00895\\_w1/outs/per\\_sample\\_outs/BL05012\\_R848/count/sample\\_filtered\\_feature\\_bc\\_matrix.h5'\n",
       "\\item '/home/jupyter/CS15\\_WHBL/CWB\\_Paper/01\\_Final\\_Data/05\\_Data/Exp00895\\_w1/outs/per\\_sample\\_outs/BL05111\\_CD3\\_CD28/count/sample\\_filtered\\_feature\\_bc\\_matrix.h5'\n",
       "\\item '/home/jupyter/CS15\\_WHBL/CWB\\_Paper/01\\_Final\\_Data/05\\_Data/Exp00895\\_w1/outs/per\\_sample\\_outs/BL05111\\_No\\_Stim/count/sample\\_filtered\\_feature\\_bc\\_matrix.h5'\n",
       "\\item '/home/jupyter/CS15\\_WHBL/CWB\\_Paper/01\\_Final\\_Data/05\\_Data/Exp00895\\_w1/outs/per\\_sample\\_outs/BL05111\\_PMA\\_I/count/sample\\_filtered\\_feature\\_bc\\_matrix.h5'\n",
       "\\item '/home/jupyter/CS15\\_WHBL/CWB\\_Paper/01\\_Final\\_Data/05\\_Data/Exp00895\\_w1/outs/per\\_sample\\_outs/BL05111\\_R848/count/sample\\_filtered\\_feature\\_bc\\_matrix.h5'\n",
       "\\item '/home/jupyter/CS15\\_WHBL/CWB\\_Paper/01\\_Final\\_Data/05\\_Data/Exp00895\\_w1/outs/per\\_sample\\_outs/BL05731\\_CD3\\_CD28/count/sample\\_filtered\\_feature\\_bc\\_matrix.h5'\n",
       "\\item '/home/jupyter/CS15\\_WHBL/CWB\\_Paper/01\\_Final\\_Data/05\\_Data/Exp00895\\_w1/outs/per\\_sample\\_outs/BL05731\\_No\\_Stim/count/sample\\_filtered\\_feature\\_bc\\_matrix.h5'\n",
       "\\item '/home/jupyter/CS15\\_WHBL/CWB\\_Paper/01\\_Final\\_Data/05\\_Data/Exp00895\\_w1/outs/per\\_sample\\_outs/BL05731\\_PMA\\_I/count/sample\\_filtered\\_feature\\_bc\\_matrix.h5'\n",
       "\\item '/home/jupyter/CS15\\_WHBL/CWB\\_Paper/01\\_Final\\_Data/05\\_Data/Exp00895\\_w1/outs/per\\_sample\\_outs/BL05731\\_R848/count/sample\\_filtered\\_feature\\_bc\\_matrix.h5'\n",
       "\\item '/home/jupyter/CS15\\_WHBL/CWB\\_Paper/01\\_Final\\_Data/05\\_Data/Exp00895\\_w1/outs/per\\_sample\\_outs/PB02183\\_CD3\\_CD28/count/sample\\_filtered\\_feature\\_bc\\_matrix.h5'\n",
       "\\item '/home/jupyter/CS15\\_WHBL/CWB\\_Paper/01\\_Final\\_Data/05\\_Data/Exp00895\\_w1/outs/per\\_sample\\_outs/PB02183\\_No\\_Stim/count/sample\\_filtered\\_feature\\_bc\\_matrix.h5'\n",
       "\\item '/home/jupyter/CS15\\_WHBL/CWB\\_Paper/01\\_Final\\_Data/05\\_Data/Exp00895\\_w1/outs/per\\_sample\\_outs/PB02183\\_PMA\\_I/count/sample\\_filtered\\_feature\\_bc\\_matrix.h5'\n",
       "\\item '/home/jupyter/CS15\\_WHBL/CWB\\_Paper/01\\_Final\\_Data/05\\_Data/Exp00895\\_w1/outs/per\\_sample\\_outs/PB02183\\_R848/count/sample\\_filtered\\_feature\\_bc\\_matrix.h5'\n",
       "\\end{enumerate*}\n"
      ],
      "text/markdown": [
       "1. '/home/jupyter/CS15_WHBL/CWB_Paper/01_Final_Data/05_Data/Exp00895_w1/outs/per_sample_outs/BL05012_CD3_CD28/count/sample_filtered_feature_bc_matrix.h5'\n",
       "2. '/home/jupyter/CS15_WHBL/CWB_Paper/01_Final_Data/05_Data/Exp00895_w1/outs/per_sample_outs/BL05012_No_Stim/count/sample_filtered_feature_bc_matrix.h5'\n",
       "3. '/home/jupyter/CS15_WHBL/CWB_Paper/01_Final_Data/05_Data/Exp00895_w1/outs/per_sample_outs/BL05012_PMA_I/count/sample_filtered_feature_bc_matrix.h5'\n",
       "4. '/home/jupyter/CS15_WHBL/CWB_Paper/01_Final_Data/05_Data/Exp00895_w1/outs/per_sample_outs/BL05012_R848/count/sample_filtered_feature_bc_matrix.h5'\n",
       "5. '/home/jupyter/CS15_WHBL/CWB_Paper/01_Final_Data/05_Data/Exp00895_w1/outs/per_sample_outs/BL05111_CD3_CD28/count/sample_filtered_feature_bc_matrix.h5'\n",
       "6. '/home/jupyter/CS15_WHBL/CWB_Paper/01_Final_Data/05_Data/Exp00895_w1/outs/per_sample_outs/BL05111_No_Stim/count/sample_filtered_feature_bc_matrix.h5'\n",
       "7. '/home/jupyter/CS15_WHBL/CWB_Paper/01_Final_Data/05_Data/Exp00895_w1/outs/per_sample_outs/BL05111_PMA_I/count/sample_filtered_feature_bc_matrix.h5'\n",
       "8. '/home/jupyter/CS15_WHBL/CWB_Paper/01_Final_Data/05_Data/Exp00895_w1/outs/per_sample_outs/BL05111_R848/count/sample_filtered_feature_bc_matrix.h5'\n",
       "9. '/home/jupyter/CS15_WHBL/CWB_Paper/01_Final_Data/05_Data/Exp00895_w1/outs/per_sample_outs/BL05731_CD3_CD28/count/sample_filtered_feature_bc_matrix.h5'\n",
       "10. '/home/jupyter/CS15_WHBL/CWB_Paper/01_Final_Data/05_Data/Exp00895_w1/outs/per_sample_outs/BL05731_No_Stim/count/sample_filtered_feature_bc_matrix.h5'\n",
       "11. '/home/jupyter/CS15_WHBL/CWB_Paper/01_Final_Data/05_Data/Exp00895_w1/outs/per_sample_outs/BL05731_PMA_I/count/sample_filtered_feature_bc_matrix.h5'\n",
       "12. '/home/jupyter/CS15_WHBL/CWB_Paper/01_Final_Data/05_Data/Exp00895_w1/outs/per_sample_outs/BL05731_R848/count/sample_filtered_feature_bc_matrix.h5'\n",
       "13. '/home/jupyter/CS15_WHBL/CWB_Paper/01_Final_Data/05_Data/Exp00895_w1/outs/per_sample_outs/PB02183_CD3_CD28/count/sample_filtered_feature_bc_matrix.h5'\n",
       "14. '/home/jupyter/CS15_WHBL/CWB_Paper/01_Final_Data/05_Data/Exp00895_w1/outs/per_sample_outs/PB02183_No_Stim/count/sample_filtered_feature_bc_matrix.h5'\n",
       "15. '/home/jupyter/CS15_WHBL/CWB_Paper/01_Final_Data/05_Data/Exp00895_w1/outs/per_sample_outs/PB02183_PMA_I/count/sample_filtered_feature_bc_matrix.h5'\n",
       "16. '/home/jupyter/CS15_WHBL/CWB_Paper/01_Final_Data/05_Data/Exp00895_w1/outs/per_sample_outs/PB02183_R848/count/sample_filtered_feature_bc_matrix.h5'\n",
       "\n",
       "\n"
      ],
      "text/plain": [
       " [1] \"/home/jupyter/CS15_WHBL/CWB_Paper/01_Final_Data/05_Data/Exp00895_w1/outs/per_sample_outs/BL05012_CD3_CD28/count/sample_filtered_feature_bc_matrix.h5\"\n",
       " [2] \"/home/jupyter/CS15_WHBL/CWB_Paper/01_Final_Data/05_Data/Exp00895_w1/outs/per_sample_outs/BL05012_No_Stim/count/sample_filtered_feature_bc_matrix.h5\" \n",
       " [3] \"/home/jupyter/CS15_WHBL/CWB_Paper/01_Final_Data/05_Data/Exp00895_w1/outs/per_sample_outs/BL05012_PMA_I/count/sample_filtered_feature_bc_matrix.h5\"   \n",
       " [4] \"/home/jupyter/CS15_WHBL/CWB_Paper/01_Final_Data/05_Data/Exp00895_w1/outs/per_sample_outs/BL05012_R848/count/sample_filtered_feature_bc_matrix.h5\"    \n",
       " [5] \"/home/jupyter/CS15_WHBL/CWB_Paper/01_Final_Data/05_Data/Exp00895_w1/outs/per_sample_outs/BL05111_CD3_CD28/count/sample_filtered_feature_bc_matrix.h5\"\n",
       " [6] \"/home/jupyter/CS15_WHBL/CWB_Paper/01_Final_Data/05_Data/Exp00895_w1/outs/per_sample_outs/BL05111_No_Stim/count/sample_filtered_feature_bc_matrix.h5\" \n",
       " [7] \"/home/jupyter/CS15_WHBL/CWB_Paper/01_Final_Data/05_Data/Exp00895_w1/outs/per_sample_outs/BL05111_PMA_I/count/sample_filtered_feature_bc_matrix.h5\"   \n",
       " [8] \"/home/jupyter/CS15_WHBL/CWB_Paper/01_Final_Data/05_Data/Exp00895_w1/outs/per_sample_outs/BL05111_R848/count/sample_filtered_feature_bc_matrix.h5\"    \n",
       " [9] \"/home/jupyter/CS15_WHBL/CWB_Paper/01_Final_Data/05_Data/Exp00895_w1/outs/per_sample_outs/BL05731_CD3_CD28/count/sample_filtered_feature_bc_matrix.h5\"\n",
       "[10] \"/home/jupyter/CS15_WHBL/CWB_Paper/01_Final_Data/05_Data/Exp00895_w1/outs/per_sample_outs/BL05731_No_Stim/count/sample_filtered_feature_bc_matrix.h5\" \n",
       "[11] \"/home/jupyter/CS15_WHBL/CWB_Paper/01_Final_Data/05_Data/Exp00895_w1/outs/per_sample_outs/BL05731_PMA_I/count/sample_filtered_feature_bc_matrix.h5\"   \n",
       "[12] \"/home/jupyter/CS15_WHBL/CWB_Paper/01_Final_Data/05_Data/Exp00895_w1/outs/per_sample_outs/BL05731_R848/count/sample_filtered_feature_bc_matrix.h5\"    \n",
       "[13] \"/home/jupyter/CS15_WHBL/CWB_Paper/01_Final_Data/05_Data/Exp00895_w1/outs/per_sample_outs/PB02183_CD3_CD28/count/sample_filtered_feature_bc_matrix.h5\"\n",
       "[14] \"/home/jupyter/CS15_WHBL/CWB_Paper/01_Final_Data/05_Data/Exp00895_w1/outs/per_sample_outs/PB02183_No_Stim/count/sample_filtered_feature_bc_matrix.h5\" \n",
       "[15] \"/home/jupyter/CS15_WHBL/CWB_Paper/01_Final_Data/05_Data/Exp00895_w1/outs/per_sample_outs/PB02183_PMA_I/count/sample_filtered_feature_bc_matrix.h5\"   \n",
       "[16] \"/home/jupyter/CS15_WHBL/CWB_Paper/01_Final_Data/05_Data/Exp00895_w1/outs/per_sample_outs/PB02183_R848/count/sample_filtered_feature_bc_matrix.h5\"    "
      ]
     },
     "metadata": {},
     "output_type": "display_data"
    }
   ],
   "source": [
    "h5s <- list.files(\n",
    "    path = '/home/jupyter/CS15_WHBL/CWB_Paper/01_Final_Data/05_Data/Exp00895_w1', \n",
    "    pattern = 'filtered_feature_bc_matrix.h5$',\n",
    "    full.names = TRUE, \n",
    "    recursive = TRUE\n",
    ")\n"
   ]
  },
  {
   "cell_type": "markdown",
   "id": "0418a6ac-efb9-45bc-b905-270c27dfda6c",
   "metadata": {
    "tags": []
   },
   "source": [
    "### Creating Seurat Objects"
   ]
  },
  {
   "cell_type": "code",
   "execution_count": 7,
   "id": "22bd4800-826b-46e1-880c-b6346fe510e1",
   "metadata": {},
   "outputs": [
    {
     "data": {
      "text/html": [
       "<table class=\"dataframe\">\n",
       "<caption>A data.frame: 6 × 3</caption>\n",
       "<thead>\n",
       "\t<tr><th></th><th scope=col>orig.ident</th><th scope=col>nCount_RNA</th><th scope=col>nFeature_RNA</th></tr>\n",
       "\t<tr><th></th><th scope=col>&lt;fct&gt;</th><th scope=col>&lt;dbl&gt;</th><th scope=col>&lt;int&gt;</th></tr>\n",
       "</thead>\n",
       "<tbody>\n",
       "\t<tr><th scope=row>AAACAAGCATAACCGAAACGGGAA-1</th><td>Exp00895_w1_BL05012_CD3_CD28</td><td> 2913</td><td>1592</td></tr>\n",
       "\t<tr><th scope=row>AAACCAATCACGTTCAAACGGGAA-1</th><td>Exp00895_w1_BL05012_CD3_CD28</td><td> 6994</td><td>3513</td></tr>\n",
       "\t<tr><th scope=row>AAACCAATCACTGTCAAACGGGAA-1</th><td>Exp00895_w1_BL05012_CD3_CD28</td><td>12229</td><td>3982</td></tr>\n",
       "\t<tr><th scope=row>AAACCAATCCACAATTAACGGGAA-1</th><td>Exp00895_w1_BL05012_CD3_CD28</td><td> 6612</td><td>2734</td></tr>\n",
       "\t<tr><th scope=row>AAACCAATCCTAAATCAACGGGAA-1</th><td>Exp00895_w1_BL05012_CD3_CD28</td><td> 7654</td><td>2976</td></tr>\n",
       "\t<tr><th scope=row>AAACCAATCGAACCGAAACGGGAA-1</th><td>Exp00895_w1_BL05012_CD3_CD28</td><td> 6523</td><td>2762</td></tr>\n",
       "</tbody>\n",
       "</table>\n"
      ],
      "text/latex": [
       "A data.frame: 6 × 3\n",
       "\\begin{tabular}{r|lll}\n",
       "  & orig.ident & nCount\\_RNA & nFeature\\_RNA\\\\\n",
       "  & <fct> & <dbl> & <int>\\\\\n",
       "\\hline\n",
       "\tAAACAAGCATAACCGAAACGGGAA-1 & Exp00895\\_w1\\_BL05012\\_CD3\\_CD28 &  2913 & 1592\\\\\n",
       "\tAAACCAATCACGTTCAAACGGGAA-1 & Exp00895\\_w1\\_BL05012\\_CD3\\_CD28 &  6994 & 3513\\\\\n",
       "\tAAACCAATCACTGTCAAACGGGAA-1 & Exp00895\\_w1\\_BL05012\\_CD3\\_CD28 & 12229 & 3982\\\\\n",
       "\tAAACCAATCCACAATTAACGGGAA-1 & Exp00895\\_w1\\_BL05012\\_CD3\\_CD28 &  6612 & 2734\\\\\n",
       "\tAAACCAATCCTAAATCAACGGGAA-1 & Exp00895\\_w1\\_BL05012\\_CD3\\_CD28 &  7654 & 2976\\\\\n",
       "\tAAACCAATCGAACCGAAACGGGAA-1 & Exp00895\\_w1\\_BL05012\\_CD3\\_CD28 &  6523 & 2762\\\\\n",
       "\\end{tabular}\n"
      ],
      "text/markdown": [
       "\n",
       "A data.frame: 6 × 3\n",
       "\n",
       "| <!--/--> | orig.ident &lt;fct&gt; | nCount_RNA &lt;dbl&gt; | nFeature_RNA &lt;int&gt; |\n",
       "|---|---|---|---|\n",
       "| AAACAAGCATAACCGAAACGGGAA-1 | Exp00895_w1_BL05012_CD3_CD28 |  2913 | 1592 |\n",
       "| AAACCAATCACGTTCAAACGGGAA-1 | Exp00895_w1_BL05012_CD3_CD28 |  6994 | 3513 |\n",
       "| AAACCAATCACTGTCAAACGGGAA-1 | Exp00895_w1_BL05012_CD3_CD28 | 12229 | 3982 |\n",
       "| AAACCAATCCACAATTAACGGGAA-1 | Exp00895_w1_BL05012_CD3_CD28 |  6612 | 2734 |\n",
       "| AAACCAATCCTAAATCAACGGGAA-1 | Exp00895_w1_BL05012_CD3_CD28 |  7654 | 2976 |\n",
       "| AAACCAATCGAACCGAAACGGGAA-1 | Exp00895_w1_BL05012_CD3_CD28 |  6523 | 2762 |\n",
       "\n"
      ],
      "text/plain": [
       "                           orig.ident                   nCount_RNA nFeature_RNA\n",
       "AAACAAGCATAACCGAAACGGGAA-1 Exp00895_w1_BL05012_CD3_CD28  2913      1592        \n",
       "AAACCAATCACGTTCAAACGGGAA-1 Exp00895_w1_BL05012_CD3_CD28  6994      3513        \n",
       "AAACCAATCACTGTCAAACGGGAA-1 Exp00895_w1_BL05012_CD3_CD28 12229      3982        \n",
       "AAACCAATCCACAATTAACGGGAA-1 Exp00895_w1_BL05012_CD3_CD28  6612      2734        \n",
       "AAACCAATCCTAAATCAACGGGAA-1 Exp00895_w1_BL05012_CD3_CD28  7654      2976        \n",
       "AAACCAATCGAACCGAAACGGGAA-1 Exp00895_w1_BL05012_CD3_CD28  6523      2762        "
      ]
     },
     "metadata": {},
     "output_type": "display_data"
    }
   ],
   "source": [
    "fully <- lapply(h5s, function(x){\n",
    "    pro <- strsplit(strsplit(x,'/per_sample_outs/')[[1]][2],'/count/')[[1]][1]\n",
    "\n",
    "\n",
    "    exp <- strsplit(strsplit(x,'/outs/')[[1]][1],'/')[[1]][length(strsplit(strsplit(x,'/outs/')[[1]][1],'/')[[1]])]\n",
    "\n",
    "    pro <- paste(exp,pro,sep='_')\n",
    "\n",
    "    mtx <- Read10X_h5(x) # reading the matrix\n",
    "    so <- CreateSeuratObject(mtx,project=pro) # creating the SO, using 'pro' \n",
    "    return(so) # adds the SO to the list for each sample's h5\n",
    "    })\n"
   ]
  },
  {
   "cell_type": "code",
   "execution_count": 8,
   "id": "55a1f9a5-3e18-4641-80f0-dd351c4e3557",
   "metadata": {},
   "outputs": [],
   "source": [
    "fully <- Reduce(merge,fully) # this compresses your list of SOs into a single large SO\n"
   ]
  },
  {
   "cell_type": "code",
   "execution_count": 9,
   "id": "042d3c9a-da34-4444-9be6-40d1c5b1f384",
   "metadata": {},
   "outputs": [],
   "source": [
    "fully[[\"percent.mt\"]] <- PercentageFeatureSet(fully, pattern = \"^MT-\")\n",
    "fully <- subset(fully, subset = percent.mt < 5)\n"
   ]
  },
  {
   "cell_type": "markdown",
   "id": "ef79ccb9-6c22-45df-9d5c-b464cb51ab0c",
   "metadata": {
    "tags": []
   },
   "source": [
    "### Normalizing, running PCA and UMAP clustering"
   ]
  },
  {
   "cell_type": "code",
   "execution_count": 17,
   "id": "051981c4-e0dd-4944-be01-2cc4c0b3afd5",
   "metadata": {},
   "outputs": [],
   "source": [
    "fully <- JoinLayers(fully)"
   ]
  },
  {
   "cell_type": "code",
   "execution_count": 18,
   "id": "aa3ea36d-cffb-4c6e-aed6-ae535edf8e09",
   "metadata": {
    "scrolled": true,
    "tags": []
   },
   "outputs": [
    {
     "name": "stderr",
     "output_type": "stream",
     "text": [
      "Normalizing layer: counts\n",
      "\n",
      "Finding variable features for layer counts\n",
      "\n",
      "Centering and scaling data matrix\n",
      "\n",
      "PC_ 1 \n",
      "Positive:  CD69, ICOS, SLA, MYC, PGGHG, GPR171, STAT5A, PKIA, NDFIP2, PGAP1 \n",
      "\t   MAL, TSHZ2, GFI1, WDR74, LAMP3, IRF4, SACS, CTPS1, BZW2, ITGA6 \n",
      "\t   MT2A, NUCB2, IFIT1, CD40LG, TFRC, RRP9, USP18, CISH, ODC1, DEAF1 \n",
      "Negative:  ANPEP, SPI1, LYZ, CD300E, LILRB2, SEMA6B, KYNU, IFI30, NCF2, FCAR \n",
      "\t   HCK, C5AR1, CST3, TLR4, ENG, S100A9, MPEG1, EMILIN2, SLC37A2, TLR2 \n",
      "\t   MS4A7, PLXNB2, CYBB, SERPINA1, PID1, TNFAIP2, ZNF385A, SLC7A11, VCAN, SRC \n",
      "PC_ 2 \n",
      "Positive:  AOAH, SPN, CST7, NKG7, SLA2, CD300A, SYNE1, C1orf21, OASL, GNLY \n",
      "\t   PRF1, KLRD1, PRR5L, HIST1H1C, FGFBP2, AUTS2, TRGC2, S1PR5, APOL3, GZMH \n",
      "\t   CTSW, MYO1F, CCL5, ADGRG1, ZBP1, TRGC1, MYBL1, NCR1, TNFSF10, GK5 \n",
      "Negative:  BCL2A1, FOSL1, KDM6B, SLC43A3, NME1, SLC7A1, PIM3, IRF8, EPOP, MYC \n",
      "\t   TFRC, MFSD2A, LRRC8B, SLC7A5, IRF4, NFKBID, FABP5, SLAMF1, RRP9, SLC1A5 \n",
      "\t   BZW2, INSIG1, ODC1, TRAF4, SLC29A1, SLC16A1, PUS7, NAMPT, EGR2, CTPS1 \n",
      "PC_ 3 \n",
      "Positive:  NKG7, PRF1, KLRD1, GZMB, CST7, GNLY, APOBEC3G, CCL5, C1orf21, FASLG \n",
      "\t   IL18RAP, ZEB2, GZMH, METRNL, BHLHE40, CD300A, S1PR5, PRR5L, SLAMF7, GZMA \n",
      "\t   CTSW, NCR1, MCTP2, FGFBP2, APOBEC3C, PIK3AP1, SETBP1, KLRF1, DTHD1, SLA2 \n",
      "Negative:  MAL, TSHZ2, NOG, CD4, ITGA6, ACTN1, CD27, TMEM173, MYB, AIF1 \n",
      "\t   C9orf72, ICOS, APP, DEAF1, F5, SOD2, GPR132, PKIA, SC5D, PGAP1 \n",
      "\t   SECTM1, JAML, CTSB, NPC2, GRAMD1A, DAPP1, LRRN3, KLF5, HPCAL1, IFNGR2 \n",
      "PC_ 4 \n",
      "Positive:  NDFIP2, SLA, TNFSF14, LCP2, RGCC, EPOP, PHLDA1, CD40LG, GFI1, TNFRSF9 \n",
      "\t   PGGHG, EGR2, VSIR, JARID2, LRRC8B, DUSP6, PTPRE, ICOS, IER3, IL2 \n",
      "\t   NCS1, AREG, SPRY1, SDCBP, GADD45A, GEM, PRNP, PLAGL2, CD109, YES1 \n",
      "Negative:  MS4A1, CD79A, CD40, PAX5, COBLL1, IGHM, EBF1, BLNK, BCL11A, CXCR5 \n",
      "\t   BANK1, IGHD, WDFY4, IGKC, RUBCNL, PLEKHG1, CLEC17A, TCF4, EBI3, FCER2 \n",
      "\t   ANKRD33B, TSPAN33, CDK14, TNFRSF13B, CD22, ARHGAP24, ADAM28, CD74, SLC9A7, PALM2-AKAP2 \n",
      "PC_ 5 \n",
      "Positive:  HSPA1A, FOSB, HSPA1B, DUSP1, JUN, FOS, DNAJB1, PPP1R15A, EGR1, IER2 \n",
      "\t   HSPA6, NR4A1, ZFP36, RND1, DNAJA4, IL1RN, NR4A2, ZFAND2A, IL1B, BAG3 \n",
      "\t   CXCL2, PTGS2, CCL3, CKS2, CHMP1B, RHOB, RASGEF1B, HSPA2, IER5L, G0S2 \n",
      "Negative:  NME1, SYNGR2, GFI1, NDFIP2, PUS7, RRP9, FPR3, STAT5A, IRF4, PFKP \n",
      "\t   SLC7A1, TUBA1C, CTPS1, SLC29A1, PSAT1, BCL2L1, GAPT, TXNRD1, CSF1R, EPOP \n",
      "\t   PLD6, SDF2L1, CD101, FABP5, PLAGL2, GRK3, IL13RA1, PTGFRN, JAK2, CISH \n",
      "\n",
      "Warning message:\n",
      "“The default method for RunUMAP has changed from calling Python UMAP via reticulate to the R-native UWOT using the cosine metric\n",
      "To use Python UMAP via reticulate, set umap.method to 'umap-learn' and metric to 'correlation'\n",
      "This message will be shown once per session”\n",
      "19:35:11 UMAP embedding parameters a = 0.9922 b = 1.112\n",
      "\n",
      "19:35:11 Read 127091 rows and found 20 numeric columns\n",
      "\n",
      "19:35:11 Using Annoy for neighbor search, n_neighbors = 30\n",
      "\n",
      "19:35:11 Building Annoy index with metric = cosine, n_trees = 50\n",
      "\n",
      "0%   10   20   30   40   50   60   70   80   90   100%\n",
      "\n",
      "[----|----|----|----|----|----|----|----|----|----|\n",
      "\n",
      "*\n",
      "*\n",
      "*\n",
      "*\n",
      "*\n",
      "*\n",
      "*\n",
      "*\n",
      "*\n",
      "*\n",
      "*\n",
      "*\n",
      "*\n",
      "*\n",
      "*\n",
      "*\n",
      "*\n",
      "*\n",
      "*\n",
      "*\n",
      "*\n",
      "*\n",
      "*\n",
      "*\n",
      "*\n",
      "*\n",
      "*\n",
      "*\n",
      "*\n",
      "*\n",
      "*\n",
      "*\n",
      "*\n",
      "*\n",
      "*\n",
      "*\n",
      "*\n",
      "*\n",
      "*\n",
      "*\n",
      "*\n",
      "*\n",
      "*\n",
      "*\n",
      "*\n",
      "*\n",
      "*\n",
      "*\n",
      "*\n",
      "*\n",
      "|\n",
      "\n",
      "19:35:30 Writing NN index file to temp file /tmp/RtmpHCzD0q/filed7be4e89ae57\n",
      "\n",
      "19:35:30 Searching Annoy index using 1 thread, search_k = 3000\n",
      "\n",
      "19:36:28 Annoy recall = 100%\n",
      "\n",
      "19:36:29 Commencing smooth kNN distance calibration using 1 thread\n",
      " with target n_neighbors = 30\n",
      "\n",
      "19:36:33 Initializing from normalized Laplacian + noise (using RSpectra)\n",
      "\n",
      "19:36:47 Commencing optimization for 200 epochs, with 5599110 positive edges\n",
      "\n",
      "19:37:58 Optimization finished\n",
      "\n",
      "Computing nearest neighbor graph\n",
      "\n",
      "Computing SNN\n",
      "\n"
     ]
    },
    {
     "name": "stdout",
     "output_type": "stream",
     "text": [
      "Modularity Optimizer version 1.3.0 by Ludo Waltman and Nees Jan van Eck\n",
      "\n",
      "Number of nodes: 127091\n",
      "Number of edges: 4008535\n",
      "\n",
      "Running Louvain algorithm...\n",
      "Maximum modularity in 10 random starts: 0.9479\n",
      "Number of communities: 31\n",
      "Elapsed time: 100 seconds\n"
     ]
    }
   ],
   "source": [
    "fully <- NormalizeData(fully) %>% \n",
    "    FindVariableFeatures() %>% \n",
    "    ScaleData() %>% \n",
    "    RunPCA() %>% \n",
    "    RunUMAP(dims = 1:20) %>% \n",
    "    FindNeighbors(dims = 1:20) %>% \n",
    "    FindClusters(resolution = 0.5)\n"
   ]
  },
  {
   "cell_type": "markdown",
   "id": "749ae49f-710f-4b74-81ac-5468040b4132",
   "metadata": {
    "tags": []
   },
   "source": [
    "## Plotting"
   ]
  },
  {
   "cell_type": "code",
   "execution_count": 21,
   "id": "4f74d4f4-6b05-4a51-b40a-dbdaa13ead20",
   "metadata": {},
   "outputs": [
    {
     "data": {
      "text/html": [
       "<table class=\"dataframe\">\n",
       "<caption>A data.frame: 6 × 7</caption>\n",
       "<thead>\n",
       "\t<tr><th></th><th scope=col>orig.ident</th><th scope=col>nCount_RNA</th><th scope=col>nFeature_RNA</th><th scope=col>percent.mt</th><th scope=col>RNA_snn_res.0.5</th><th scope=col>seurat_clusters</th><th scope=col>tech</th></tr>\n",
       "\t<tr><th></th><th scope=col>&lt;chr&gt;</th><th scope=col>&lt;dbl&gt;</th><th scope=col>&lt;int&gt;</th><th scope=col>&lt;dbl&gt;</th><th scope=col>&lt;fct&gt;</th><th scope=col>&lt;fct&gt;</th><th scope=col>&lt;chr&gt;</th></tr>\n",
       "</thead>\n",
       "<tbody>\n",
       "\t<tr><th scope=row>AAACAAGCATAACCGAAACGGGAA-1</th><td>Exp00895_w1_BL05012_CD3_CD28</td><td> 2913</td><td>1592</td><td>0.00000000</td><td>21</td><td>21</td><td>CD3_CD28</td></tr>\n",
       "\t<tr><th scope=row>AAACCAATCACGTTCAAACGGGAA-1</th><td>Exp00895_w1_BL05012_CD3_CD28</td><td> 6994</td><td>3513</td><td>0.48613097</td><td>18</td><td>18</td><td>CD3_CD28</td></tr>\n",
       "\t<tr><th scope=row>AAACCAATCACTGTCAAACGGGAA-1</th><td>Exp00895_w1_BL05012_CD3_CD28</td><td>12229</td><td>3982</td><td>1.30018808</td><td>14</td><td>14</td><td>CD3_CD28</td></tr>\n",
       "\t<tr><th scope=row>AAACCAATCCACAATTAACGGGAA-1</th><td>Exp00895_w1_BL05012_CD3_CD28</td><td> 6612</td><td>2734</td><td>0.00000000</td><td>12</td><td>12</td><td>CD3_CD28</td></tr>\n",
       "\t<tr><th scope=row>AAACCAATCCTAAATCAACGGGAA-1</th><td>Exp00895_w1_BL05012_CD3_CD28</td><td> 7654</td><td>2976</td><td>0.06532532</td><td>12</td><td>12</td><td>CD3_CD28</td></tr>\n",
       "\t<tr><th scope=row>AAACCAATCGAACCGAAACGGGAA-1</th><td>Exp00895_w1_BL05012_CD3_CD28</td><td> 6523</td><td>2762</td><td>0.13797333</td><td>9 </td><td>9 </td><td>CD3_CD28</td></tr>\n",
       "</tbody>\n",
       "</table>\n"
      ],
      "text/latex": [
       "A data.frame: 6 × 7\n",
       "\\begin{tabular}{r|lllllll}\n",
       "  & orig.ident & nCount\\_RNA & nFeature\\_RNA & percent.mt & RNA\\_snn\\_res.0.5 & seurat\\_clusters & tech\\\\\n",
       "  & <chr> & <dbl> & <int> & <dbl> & <fct> & <fct> & <chr>\\\\\n",
       "\\hline\n",
       "\tAAACAAGCATAACCGAAACGGGAA-1 & Exp00895\\_w1\\_BL05012\\_CD3\\_CD28 &  2913 & 1592 & 0.00000000 & 21 & 21 & CD3\\_CD28\\\\\n",
       "\tAAACCAATCACGTTCAAACGGGAA-1 & Exp00895\\_w1\\_BL05012\\_CD3\\_CD28 &  6994 & 3513 & 0.48613097 & 18 & 18 & CD3\\_CD28\\\\\n",
       "\tAAACCAATCACTGTCAAACGGGAA-1 & Exp00895\\_w1\\_BL05012\\_CD3\\_CD28 & 12229 & 3982 & 1.30018808 & 14 & 14 & CD3\\_CD28\\\\\n",
       "\tAAACCAATCCACAATTAACGGGAA-1 & Exp00895\\_w1\\_BL05012\\_CD3\\_CD28 &  6612 & 2734 & 0.00000000 & 12 & 12 & CD3\\_CD28\\\\\n",
       "\tAAACCAATCCTAAATCAACGGGAA-1 & Exp00895\\_w1\\_BL05012\\_CD3\\_CD28 &  7654 & 2976 & 0.06532532 & 12 & 12 & CD3\\_CD28\\\\\n",
       "\tAAACCAATCGAACCGAAACGGGAA-1 & Exp00895\\_w1\\_BL05012\\_CD3\\_CD28 &  6523 & 2762 & 0.13797333 & 9  & 9  & CD3\\_CD28\\\\\n",
       "\\end{tabular}\n"
      ],
      "text/markdown": [
       "\n",
       "A data.frame: 6 × 7\n",
       "\n",
       "| <!--/--> | orig.ident &lt;chr&gt; | nCount_RNA &lt;dbl&gt; | nFeature_RNA &lt;int&gt; | percent.mt &lt;dbl&gt; | RNA_snn_res.0.5 &lt;fct&gt; | seurat_clusters &lt;fct&gt; | tech &lt;chr&gt; |\n",
       "|---|---|---|---|---|---|---|---|\n",
       "| AAACAAGCATAACCGAAACGGGAA-1 | Exp00895_w1_BL05012_CD3_CD28 |  2913 | 1592 | 0.00000000 | 21 | 21 | CD3_CD28 |\n",
       "| AAACCAATCACGTTCAAACGGGAA-1 | Exp00895_w1_BL05012_CD3_CD28 |  6994 | 3513 | 0.48613097 | 18 | 18 | CD3_CD28 |\n",
       "| AAACCAATCACTGTCAAACGGGAA-1 | Exp00895_w1_BL05012_CD3_CD28 | 12229 | 3982 | 1.30018808 | 14 | 14 | CD3_CD28 |\n",
       "| AAACCAATCCACAATTAACGGGAA-1 | Exp00895_w1_BL05012_CD3_CD28 |  6612 | 2734 | 0.00000000 | 12 | 12 | CD3_CD28 |\n",
       "| AAACCAATCCTAAATCAACGGGAA-1 | Exp00895_w1_BL05012_CD3_CD28 |  7654 | 2976 | 0.06532532 | 12 | 12 | CD3_CD28 |\n",
       "| AAACCAATCGAACCGAAACGGGAA-1 | Exp00895_w1_BL05012_CD3_CD28 |  6523 | 2762 | 0.13797333 | 9  | 9  | CD3_CD28 |\n",
       "\n"
      ],
      "text/plain": [
       "                           orig.ident                   nCount_RNA nFeature_RNA\n",
       "AAACAAGCATAACCGAAACGGGAA-1 Exp00895_w1_BL05012_CD3_CD28  2913      1592        \n",
       "AAACCAATCACGTTCAAACGGGAA-1 Exp00895_w1_BL05012_CD3_CD28  6994      3513        \n",
       "AAACCAATCACTGTCAAACGGGAA-1 Exp00895_w1_BL05012_CD3_CD28 12229      3982        \n",
       "AAACCAATCCACAATTAACGGGAA-1 Exp00895_w1_BL05012_CD3_CD28  6612      2734        \n",
       "AAACCAATCCTAAATCAACGGGAA-1 Exp00895_w1_BL05012_CD3_CD28  7654      2976        \n",
       "AAACCAATCGAACCGAAACGGGAA-1 Exp00895_w1_BL05012_CD3_CD28  6523      2762        \n",
       "                           percent.mt RNA_snn_res.0.5 seurat_clusters tech    \n",
       "AAACAAGCATAACCGAAACGGGAA-1 0.00000000 21              21              CD3_CD28\n",
       "AAACCAATCACGTTCAAACGGGAA-1 0.48613097 18              18              CD3_CD28\n",
       "AAACCAATCACTGTCAAACGGGAA-1 1.30018808 14              14              CD3_CD28\n",
       "AAACCAATCCACAATTAACGGGAA-1 0.00000000 12              12              CD3_CD28\n",
       "AAACCAATCCTAAATCAACGGGAA-1 0.06532532 12              12              CD3_CD28\n",
       "AAACCAATCGAACCGAAACGGGAA-1 0.13797333 9               9               CD3_CD28"
      ]
     },
     "metadata": {},
     "output_type": "display_data"
    }
   ],
   "source": [
    "fully$tech <- substr(fully$orig.ident,21,44)\n"
   ]
  },
  {
   "cell_type": "code",
   "execution_count": 24,
   "id": "e5db3ad5-70e5-48f5-86f8-307168a201be",
   "metadata": {},
   "outputs": [
    {
     "data": {
      "text/html": [
       "<table class=\"dataframe\">\n",
       "<caption>A data.frame: 6 × 8</caption>\n",
       "<thead>\n",
       "\t<tr><th></th><th scope=col>orig.ident</th><th scope=col>nCount_RNA</th><th scope=col>nFeature_RNA</th><th scope=col>percent.mt</th><th scope=col>RNA_snn_res.0.5</th><th scope=col>seurat_clusters</th><th scope=col>tech</th><th scope=col>donor</th></tr>\n",
       "\t<tr><th></th><th scope=col>&lt;chr&gt;</th><th scope=col>&lt;dbl&gt;</th><th scope=col>&lt;int&gt;</th><th scope=col>&lt;dbl&gt;</th><th scope=col>&lt;fct&gt;</th><th scope=col>&lt;fct&gt;</th><th scope=col>&lt;chr&gt;</th><th scope=col>&lt;chr&gt;</th></tr>\n",
       "</thead>\n",
       "<tbody>\n",
       "\t<tr><th scope=row>AAACAAGCATAACCGAAACGGGAA-1</th><td>Exp00895_w1_BL05012_CD3_CD28</td><td> 2913</td><td>1592</td><td>0.00000000</td><td>21</td><td>21</td><td>CD3_CD28</td><td>BL05012</td></tr>\n",
       "\t<tr><th scope=row>AAACCAATCACGTTCAAACGGGAA-1</th><td>Exp00895_w1_BL05012_CD3_CD28</td><td> 6994</td><td>3513</td><td>0.48613097</td><td>18</td><td>18</td><td>CD3_CD28</td><td>BL05012</td></tr>\n",
       "\t<tr><th scope=row>AAACCAATCACTGTCAAACGGGAA-1</th><td>Exp00895_w1_BL05012_CD3_CD28</td><td>12229</td><td>3982</td><td>1.30018808</td><td>14</td><td>14</td><td>CD3_CD28</td><td>BL05012</td></tr>\n",
       "\t<tr><th scope=row>AAACCAATCCACAATTAACGGGAA-1</th><td>Exp00895_w1_BL05012_CD3_CD28</td><td> 6612</td><td>2734</td><td>0.00000000</td><td>12</td><td>12</td><td>CD3_CD28</td><td>BL05012</td></tr>\n",
       "\t<tr><th scope=row>AAACCAATCCTAAATCAACGGGAA-1</th><td>Exp00895_w1_BL05012_CD3_CD28</td><td> 7654</td><td>2976</td><td>0.06532532</td><td>12</td><td>12</td><td>CD3_CD28</td><td>BL05012</td></tr>\n",
       "\t<tr><th scope=row>AAACCAATCGAACCGAAACGGGAA-1</th><td>Exp00895_w1_BL05012_CD3_CD28</td><td> 6523</td><td>2762</td><td>0.13797333</td><td>9 </td><td>9 </td><td>CD3_CD28</td><td>BL05012</td></tr>\n",
       "</tbody>\n",
       "</table>\n"
      ],
      "text/latex": [
       "A data.frame: 6 × 8\n",
       "\\begin{tabular}{r|llllllll}\n",
       "  & orig.ident & nCount\\_RNA & nFeature\\_RNA & percent.mt & RNA\\_snn\\_res.0.5 & seurat\\_clusters & tech & donor\\\\\n",
       "  & <chr> & <dbl> & <int> & <dbl> & <fct> & <fct> & <chr> & <chr>\\\\\n",
       "\\hline\n",
       "\tAAACAAGCATAACCGAAACGGGAA-1 & Exp00895\\_w1\\_BL05012\\_CD3\\_CD28 &  2913 & 1592 & 0.00000000 & 21 & 21 & CD3\\_CD28 & BL05012\\\\\n",
       "\tAAACCAATCACGTTCAAACGGGAA-1 & Exp00895\\_w1\\_BL05012\\_CD3\\_CD28 &  6994 & 3513 & 0.48613097 & 18 & 18 & CD3\\_CD28 & BL05012\\\\\n",
       "\tAAACCAATCACTGTCAAACGGGAA-1 & Exp00895\\_w1\\_BL05012\\_CD3\\_CD28 & 12229 & 3982 & 1.30018808 & 14 & 14 & CD3\\_CD28 & BL05012\\\\\n",
       "\tAAACCAATCCACAATTAACGGGAA-1 & Exp00895\\_w1\\_BL05012\\_CD3\\_CD28 &  6612 & 2734 & 0.00000000 & 12 & 12 & CD3\\_CD28 & BL05012\\\\\n",
       "\tAAACCAATCCTAAATCAACGGGAA-1 & Exp00895\\_w1\\_BL05012\\_CD3\\_CD28 &  7654 & 2976 & 0.06532532 & 12 & 12 & CD3\\_CD28 & BL05012\\\\\n",
       "\tAAACCAATCGAACCGAAACGGGAA-1 & Exp00895\\_w1\\_BL05012\\_CD3\\_CD28 &  6523 & 2762 & 0.13797333 & 9  & 9  & CD3\\_CD28 & BL05012\\\\\n",
       "\\end{tabular}\n"
      ],
      "text/markdown": [
       "\n",
       "A data.frame: 6 × 8\n",
       "\n",
       "| <!--/--> | orig.ident &lt;chr&gt; | nCount_RNA &lt;dbl&gt; | nFeature_RNA &lt;int&gt; | percent.mt &lt;dbl&gt; | RNA_snn_res.0.5 &lt;fct&gt; | seurat_clusters &lt;fct&gt; | tech &lt;chr&gt; | donor &lt;chr&gt; |\n",
       "|---|---|---|---|---|---|---|---|---|\n",
       "| AAACAAGCATAACCGAAACGGGAA-1 | Exp00895_w1_BL05012_CD3_CD28 |  2913 | 1592 | 0.00000000 | 21 | 21 | CD3_CD28 | BL05012 |\n",
       "| AAACCAATCACGTTCAAACGGGAA-1 | Exp00895_w1_BL05012_CD3_CD28 |  6994 | 3513 | 0.48613097 | 18 | 18 | CD3_CD28 | BL05012 |\n",
       "| AAACCAATCACTGTCAAACGGGAA-1 | Exp00895_w1_BL05012_CD3_CD28 | 12229 | 3982 | 1.30018808 | 14 | 14 | CD3_CD28 | BL05012 |\n",
       "| AAACCAATCCACAATTAACGGGAA-1 | Exp00895_w1_BL05012_CD3_CD28 |  6612 | 2734 | 0.00000000 | 12 | 12 | CD3_CD28 | BL05012 |\n",
       "| AAACCAATCCTAAATCAACGGGAA-1 | Exp00895_w1_BL05012_CD3_CD28 |  7654 | 2976 | 0.06532532 | 12 | 12 | CD3_CD28 | BL05012 |\n",
       "| AAACCAATCGAACCGAAACGGGAA-1 | Exp00895_w1_BL05012_CD3_CD28 |  6523 | 2762 | 0.13797333 | 9  | 9  | CD3_CD28 | BL05012 |\n",
       "\n"
      ],
      "text/plain": [
       "                           orig.ident                   nCount_RNA nFeature_RNA\n",
       "AAACAAGCATAACCGAAACGGGAA-1 Exp00895_w1_BL05012_CD3_CD28  2913      1592        \n",
       "AAACCAATCACGTTCAAACGGGAA-1 Exp00895_w1_BL05012_CD3_CD28  6994      3513        \n",
       "AAACCAATCACTGTCAAACGGGAA-1 Exp00895_w1_BL05012_CD3_CD28 12229      3982        \n",
       "AAACCAATCCACAATTAACGGGAA-1 Exp00895_w1_BL05012_CD3_CD28  6612      2734        \n",
       "AAACCAATCCTAAATCAACGGGAA-1 Exp00895_w1_BL05012_CD3_CD28  7654      2976        \n",
       "AAACCAATCGAACCGAAACGGGAA-1 Exp00895_w1_BL05012_CD3_CD28  6523      2762        \n",
       "                           percent.mt RNA_snn_res.0.5 seurat_clusters tech    \n",
       "AAACAAGCATAACCGAAACGGGAA-1 0.00000000 21              21              CD3_CD28\n",
       "AAACCAATCACGTTCAAACGGGAA-1 0.48613097 18              18              CD3_CD28\n",
       "AAACCAATCACTGTCAAACGGGAA-1 1.30018808 14              14              CD3_CD28\n",
       "AAACCAATCCACAATTAACGGGAA-1 0.00000000 12              12              CD3_CD28\n",
       "AAACCAATCCTAAATCAACGGGAA-1 0.06532532 12              12              CD3_CD28\n",
       "AAACCAATCGAACCGAAACGGGAA-1 0.13797333 9               9               CD3_CD28\n",
       "                           donor  \n",
       "AAACAAGCATAACCGAAACGGGAA-1 BL05012\n",
       "AAACCAATCACGTTCAAACGGGAA-1 BL05012\n",
       "AAACCAATCACTGTCAAACGGGAA-1 BL05012\n",
       "AAACCAATCCACAATTAACGGGAA-1 BL05012\n",
       "AAACCAATCCTAAATCAACGGGAA-1 BL05012\n",
       "AAACCAATCGAACCGAAACGGGAA-1 BL05012"
      ]
     },
     "metadata": {},
     "output_type": "display_data"
    }
   ],
   "source": [
    "fully$donor <- substr(fully$orig.ident,13,19)\n"
   ]
  },
  {
   "cell_type": "markdown",
   "id": "db8b3d8e-2be5-44f1-abf8-aab1feb63c04",
   "metadata": {
    "tags": []
   },
   "source": [
    "## Splitting the full SO into FACS/Bead pairs and reclustering:"
   ]
  },
  {
   "cell_type": "markdown",
   "id": "cc0bc9be-d3fd-464b-a268-05723b7d7b50",
   "metadata": {
    "tags": []
   },
   "source": [
    "## Celltype label transfer"
   ]
  },
  {
   "cell_type": "code",
   "execution_count": 33,
   "id": "3c655b84-81e4-4513-8b57-580d8a1893f2",
   "metadata": {
    "scrolled": true,
    "tags": []
   },
   "outputs": [
    {
     "name": "stderr",
     "output_type": "stream",
     "text": [
      "Registered S3 method overwritten by 'SeuratDisk':\n",
      "  method            from  \n",
      "  as.sparse.H5Group Seurat\n",
      "\n",
      "Validating h5Seurat file\n",
      "\n",
      "Initializing ADT with data\n",
      "\n",
      "Adding counts for ADT\n",
      "\n",
      "Adding variable feature information for ADT\n",
      "\n",
      "Adding miscellaneous information for ADT\n",
      "\n",
      "Initializing SCT with data\n",
      "\n",
      "Adding counts for SCT\n",
      "\n",
      "Adding variable feature information for SCT\n",
      "\n",
      "Adding miscellaneous information for SCT\n",
      "\n",
      "Adding reduction apca\n",
      "\n",
      "Adding cell embeddings for apca\n",
      "\n",
      "Adding feature loadings for apca\n",
      "\n",
      "Adding miscellaneous information for apca\n",
      "\n",
      "Adding reduction aumap\n",
      "\n",
      "Adding cell embeddings for aumap\n",
      "\n",
      "Adding miscellaneous information for aumap\n",
      "\n",
      "Adding reduction pca\n",
      "\n",
      "Adding cell embeddings for pca\n",
      "\n",
      "Adding feature loadings for pca\n",
      "\n",
      "Adding miscellaneous information for pca\n",
      "\n",
      "Adding reduction spca\n",
      "\n",
      "Adding cell embeddings for spca\n",
      "\n",
      "Adding feature loadings for spca\n",
      "\n",
      "Adding miscellaneous information for spca\n",
      "\n",
      "Adding reduction umap\n",
      "\n",
      "Adding cell embeddings for umap\n",
      "\n",
      "Adding miscellaneous information for umap\n",
      "\n",
      "Adding reduction wnn.umap\n",
      "\n",
      "Adding cell embeddings for wnn.umap\n",
      "\n",
      "Adding miscellaneous information for wnn.umap\n",
      "\n",
      "Adding graph wknn\n",
      "\n",
      "Adding graph wsnn\n",
      "\n",
      "Adding command information\n",
      "\n",
      "Adding cell-level metadata\n",
      "\n",
      "Adding miscellaneous information\n",
      "\n",
      "Adding tool-specific results\n",
      "\n"
     ]
    }
   ],
   "source": [
    "ref <- LoadH5Seurat(file = '/home/jupyter/pbmc_multimodal.h5seurat')\n"
   ]
  },
  {
   "cell_type": "code",
   "execution_count": 35,
   "id": "2e4643c0-5b29-4600-8863-151e329e3858",
   "metadata": {
    "scrolled": true,
    "tags": []
   },
   "outputs": [
    {
     "name": "stderr",
     "output_type": "stream",
     "text": [
      "Normalizing query using reference SCT model\n",
      "\n",
      "Projecting cell embeddings\n",
      "\n",
      "Finding neighborhoods\n",
      "\n",
      "Finding anchors\n",
      "\n",
      "\tFound 5404 anchors\n",
      "\n"
     ]
    }
   ],
   "source": [
    "anchors <- FindTransferAnchors(\n",
    "    reference = ref,\n",
    "    query = fully,\n",
    "    normalization.method = \"SCT\",\n",
    "    reference.reduction = \"spca\",\n",
    "    dims = 1:50\n",
    ")\n"
   ]
  },
  {
   "cell_type": "code",
   "execution_count": 36,
   "id": "6941a49f-e43b-4fd9-9b15-1ca32b38d4fd",
   "metadata": {
    "scrolled": true,
    "tags": []
   },
   "outputs": [
    {
     "name": "stderr",
     "output_type": "stream",
     "text": [
      "Finding integration vectors\n",
      "\n",
      "Finding integration vector weights\n",
      "\n",
      "Predicting cell labels\n",
      "\n",
      "Warning message:\n",
      "“Layer counts isn't present in the assay object; returning NULL”\n",
      "Predicting cell labels\n",
      "\n",
      "Warning message:\n",
      "“Feature names cannot have underscores ('_'), replacing with dashes ('-')”\n",
      "Warning message:\n",
      "“Layer counts isn't present in the assay object; returning NULL”\n",
      "Predicting cell labels\n",
      "\n",
      "Warning message:\n",
      "“Feature names cannot have underscores ('_'), replacing with dashes ('-')”\n",
      "Warning message:\n",
      "“Layer counts isn't present in the assay object; returning NULL”\n",
      "Transfering 228 features onto reference data\n",
      "\n",
      "Warning message:\n",
      "“Layer counts isn't present in the assay object; returning NULL”\n"
     ]
    }
   ],
   "source": [
    "fully <- TransferData(\n",
    "    anchorset = anchors, \n",
    "    reference = ref, \n",
    "    query = fully,\n",
    "    refdata = list(\n",
    "        celltype.l1 = \"celltype.l1\",\n",
    "        celltype.l2 = \"celltype.l2\",\n",
    "        celltype.l3 = \"celltype.l3\",\n",
    "        predicted_ADT = 'ADT'\n",
    "    )\n",
    ")"
   ]
  },
  {
   "cell_type": "code",
   "execution_count": 37,
   "id": "e9420563-fcad-475a-a894-68ee5a1c1372",
   "metadata": {},
   "outputs": [],
   "source": [
    "fully <- JoinLayers(fully)"
   ]
  },
  {
   "cell_type": "code",
   "execution_count": 48,
   "id": "8c9a6800-1b5b-485a-b2b6-049d5869d254",
   "metadata": {},
   "outputs": [],
   "source": [
    "fully$donor_tech <- paste0(fully$donor,'_',fully$tech)"
   ]
  },
  {
   "cell_type": "code",
   "execution_count": null,
   "id": "3ed8592f-8e43-4432-aeb1-397dcb285dd6",
   "metadata": {},
   "outputs": [],
   "source": [
    "split <- SplitObject(fully, split.by='donor')\n"
   ]
  },
  {
   "cell_type": "code",
   "execution_count": null,
   "id": "6d155436-0f2b-4a1b-96af-07f0b687fdc5",
   "metadata": {
    "scrolled": true,
    "tags": []
   },
   "outputs": [],
   "source": [
    "split"
   ]
  },
  {
   "cell_type": "code",
   "execution_count": null,
   "id": "4d893d05-7dc3-4ffa-a554-ed3ef28c7378",
   "metadata": {},
   "outputs": [],
   "source": [
    "BL05012_cl <- split_cl$BL05012\n",
    "BL05111_cl <- split_cl$BL05111\n",
    "BL05731_cl <- split_cl$BL05731\n",
    "PB02183_cl <- split_cl$PB02183\n"
   ]
  },
  {
   "cell_type": "code",
   "execution_count": null,
   "id": "b2ad3a88-8c27-4a67-8fc0-aa6cafea7e37",
   "metadata": {},
   "outputs": [],
   "source": [
    "BL05012_cl <- SplitObject(BL05012_cl, split.by='predicted.celltype.l1')\n",
    "BL05111_cl <- SplitObject(BL05111_cl, split.by='predicted.celltype.l1')\n",
    "BL05731_cl <- SplitObject(BL05731_cl, split.by='predicted.celltype.l1')\n",
    "PB02183_cl <- SplitObject(PB02183_cl, split.by='predicted.celltype.l1')\n"
   ]
  },
  {
   "cell_type": "code",
   "execution_count": 50,
   "id": "02716f98-3bb8-4c52-85a2-afec28df3127",
   "metadata": {},
   "outputs": [],
   "source": [
    "saveRDS(fully_cl, '/home/jupyter/CS15_WHBL/CWB_Paper/01_Final_Data/05_Data/Fig_5_stim_cl.rds')"
   ]
  },
  {
   "cell_type": "code",
   "execution_count": null,
   "id": "cf82dfae-853a-423c-96bc-f15761e0c02f",
   "metadata": {},
   "outputs": [],
   "source": [
    "sessionInfo()"
   ]
  }
 ],
 "metadata": {
  "kernelspec": {
   "display_name": "R 4",
   "language": "R",
   "name": "ir"
  },
  "language_info": {
   "codemirror_mode": "r",
   "file_extension": ".r",
   "mimetype": "text/x-r-source",
   "name": "R",
   "pygments_lexer": "r",
   "version": "4.1.3"
  }
 },
 "nbformat": 4,
 "nbformat_minor": 5
}

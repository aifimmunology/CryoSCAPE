{
 "cells": [
  {
   "cell_type": "code",
   "execution_count": 1,
   "id": "be9cffb1-3f5c-4d07-9bf4-9e28e2d3e93f",
   "metadata": {},
   "outputs": [
    {
     "data": {
      "text/plain": [
       "['BL05111_No_Stim',\n",
       " 'BL05012_CD3_CD28',\n",
       " 'BL05012_PMA_I',\n",
       " 'PB02183_PMA_I',\n",
       " 'BL05012_R848',\n",
       " 'BL05111_R848',\n",
       " 'BL05111_CD3_CD28',\n",
       " 'PB02183_R848',\n",
       " 'BL05012_No_Stim',\n",
       " 'PB02183_CD3_CD28',\n",
       " 'BL05731_PMA_I',\n",
       " 'PB02183_No_Stim',\n",
       " 'BL05731_CD3_CD28',\n",
       " 'BL05111_PMA_I',\n",
       " 'BL05731_No_Stim',\n",
       " 'BL05731_R848']"
      ]
     },
     "execution_count": 1,
     "metadata": {},
     "output_type": "execute_result"
    }
   ],
   "source": [
    "import os\n",
    "import shutil\n",
    "\n",
    "# Directory containing your directories\n",
    "base_directory = \"/home/jupyter/CS15_WHBL/CWB_Paper/01_Final_Data/05_Data/Exp00895_w1/outs/per_sample_outs/\"\n",
    "\n",
    "# Get a list of directories\n",
    "directories = [d for d in os.listdir(base_directory) if os.path.isdir(os.path.join(base_directory, d))]\n",
    "\n",
    "directories = [i for i in directories if i[0] != '.']\n",
    "directories"
   ]
  },
  {
   "cell_type": "code",
   "execution_count": 2,
   "id": "904fe247-17a9-48ed-998e-938b4063ae2b",
   "metadata": {
    "scrolled": true,
    "tags": []
   },
   "outputs": [
    {
     "name": "stdout",
     "output_type": "stream",
     "text": [
      "File copied from\n",
      "/home/jupyter/CS15_WHBL/CWB_Paper/01_Final_Data/05_Data/Exp00895_w1/outs/per_sample_outs/BL05111_No_Stim/count/sample_filtered_feature_bc_matrix.h5\n",
      "to\n",
      "/home/jupyter/CS15_WHBL/CWB_Paper/01_Final_Data/05_Data/scrublet_fig5/BL05111_No_Stim_sample_filtered_feature_bc_matrix.h5\n",
      "File copied from\n",
      "/home/jupyter/CS15_WHBL/CWB_Paper/01_Final_Data/05_Data/Exp00895_w1/outs/per_sample_outs/BL05012_CD3_CD28/count/sample_filtered_feature_bc_matrix.h5\n",
      "to\n",
      "/home/jupyter/CS15_WHBL/CWB_Paper/01_Final_Data/05_Data/scrublet_fig5/BL05012_CD3_CD28_sample_filtered_feature_bc_matrix.h5\n",
      "File copied from\n",
      "/home/jupyter/CS15_WHBL/CWB_Paper/01_Final_Data/05_Data/Exp00895_w1/outs/per_sample_outs/BL05012_PMA_I/count/sample_filtered_feature_bc_matrix.h5\n",
      "to\n",
      "/home/jupyter/CS15_WHBL/CWB_Paper/01_Final_Data/05_Data/scrublet_fig5/BL05012_PMA_I_sample_filtered_feature_bc_matrix.h5\n",
      "File copied from\n",
      "/home/jupyter/CS15_WHBL/CWB_Paper/01_Final_Data/05_Data/Exp00895_w1/outs/per_sample_outs/PB02183_PMA_I/count/sample_filtered_feature_bc_matrix.h5\n",
      "to\n",
      "/home/jupyter/CS15_WHBL/CWB_Paper/01_Final_Data/05_Data/scrublet_fig5/PB02183_PMA_I_sample_filtered_feature_bc_matrix.h5\n",
      "File copied from\n",
      "/home/jupyter/CS15_WHBL/CWB_Paper/01_Final_Data/05_Data/Exp00895_w1/outs/per_sample_outs/BL05012_R848/count/sample_filtered_feature_bc_matrix.h5\n",
      "to\n",
      "/home/jupyter/CS15_WHBL/CWB_Paper/01_Final_Data/05_Data/scrublet_fig5/BL05012_R848_sample_filtered_feature_bc_matrix.h5\n",
      "File copied from\n",
      "/home/jupyter/CS15_WHBL/CWB_Paper/01_Final_Data/05_Data/Exp00895_w1/outs/per_sample_outs/BL05111_R848/count/sample_filtered_feature_bc_matrix.h5\n",
      "to\n",
      "/home/jupyter/CS15_WHBL/CWB_Paper/01_Final_Data/05_Data/scrublet_fig5/BL05111_R848_sample_filtered_feature_bc_matrix.h5\n",
      "File copied from\n",
      "/home/jupyter/CS15_WHBL/CWB_Paper/01_Final_Data/05_Data/Exp00895_w1/outs/per_sample_outs/BL05111_CD3_CD28/count/sample_filtered_feature_bc_matrix.h5\n",
      "to\n",
      "/home/jupyter/CS15_WHBL/CWB_Paper/01_Final_Data/05_Data/scrublet_fig5/BL05111_CD3_CD28_sample_filtered_feature_bc_matrix.h5\n",
      "File copied from\n",
      "/home/jupyter/CS15_WHBL/CWB_Paper/01_Final_Data/05_Data/Exp00895_w1/outs/per_sample_outs/PB02183_R848/count/sample_filtered_feature_bc_matrix.h5\n",
      "to\n",
      "/home/jupyter/CS15_WHBL/CWB_Paper/01_Final_Data/05_Data/scrublet_fig5/PB02183_R848_sample_filtered_feature_bc_matrix.h5\n",
      "File copied from\n",
      "/home/jupyter/CS15_WHBL/CWB_Paper/01_Final_Data/05_Data/Exp00895_w1/outs/per_sample_outs/BL05012_No_Stim/count/sample_filtered_feature_bc_matrix.h5\n",
      "to\n",
      "/home/jupyter/CS15_WHBL/CWB_Paper/01_Final_Data/05_Data/scrublet_fig5/BL05012_No_Stim_sample_filtered_feature_bc_matrix.h5\n",
      "File copied from\n",
      "/home/jupyter/CS15_WHBL/CWB_Paper/01_Final_Data/05_Data/Exp00895_w1/outs/per_sample_outs/PB02183_CD3_CD28/count/sample_filtered_feature_bc_matrix.h5\n",
      "to\n",
      "/home/jupyter/CS15_WHBL/CWB_Paper/01_Final_Data/05_Data/scrublet_fig5/PB02183_CD3_CD28_sample_filtered_feature_bc_matrix.h5\n",
      "File copied from\n",
      "/home/jupyter/CS15_WHBL/CWB_Paper/01_Final_Data/05_Data/Exp00895_w1/outs/per_sample_outs/BL05731_PMA_I/count/sample_filtered_feature_bc_matrix.h5\n",
      "to\n",
      "/home/jupyter/CS15_WHBL/CWB_Paper/01_Final_Data/05_Data/scrublet_fig5/BL05731_PMA_I_sample_filtered_feature_bc_matrix.h5\n",
      "File copied from\n",
      "/home/jupyter/CS15_WHBL/CWB_Paper/01_Final_Data/05_Data/Exp00895_w1/outs/per_sample_outs/PB02183_No_Stim/count/sample_filtered_feature_bc_matrix.h5\n",
      "to\n",
      "/home/jupyter/CS15_WHBL/CWB_Paper/01_Final_Data/05_Data/scrublet_fig5/PB02183_No_Stim_sample_filtered_feature_bc_matrix.h5\n",
      "File copied from\n",
      "/home/jupyter/CS15_WHBL/CWB_Paper/01_Final_Data/05_Data/Exp00895_w1/outs/per_sample_outs/BL05731_CD3_CD28/count/sample_filtered_feature_bc_matrix.h5\n",
      "to\n",
      "/home/jupyter/CS15_WHBL/CWB_Paper/01_Final_Data/05_Data/scrublet_fig5/BL05731_CD3_CD28_sample_filtered_feature_bc_matrix.h5\n",
      "File copied from\n",
      "/home/jupyter/CS15_WHBL/CWB_Paper/01_Final_Data/05_Data/Exp00895_w1/outs/per_sample_outs/BL05111_PMA_I/count/sample_filtered_feature_bc_matrix.h5\n",
      "to\n",
      "/home/jupyter/CS15_WHBL/CWB_Paper/01_Final_Data/05_Data/scrublet_fig5/BL05111_PMA_I_sample_filtered_feature_bc_matrix.h5\n",
      "File copied from\n",
      "/home/jupyter/CS15_WHBL/CWB_Paper/01_Final_Data/05_Data/Exp00895_w1/outs/per_sample_outs/BL05731_No_Stim/count/sample_filtered_feature_bc_matrix.h5\n",
      "to\n",
      "/home/jupyter/CS15_WHBL/CWB_Paper/01_Final_Data/05_Data/scrublet_fig5/BL05731_No_Stim_sample_filtered_feature_bc_matrix.h5\n",
      "File copied from\n",
      "/home/jupyter/CS15_WHBL/CWB_Paper/01_Final_Data/05_Data/Exp00895_w1/outs/per_sample_outs/BL05731_R848/count/sample_filtered_feature_bc_matrix.h5\n",
      "to\n",
      "/home/jupyter/CS15_WHBL/CWB_Paper/01_Final_Data/05_Data/scrublet_fig5/BL05731_R848_sample_filtered_feature_bc_matrix.h5\n"
     ]
    }
   ],
   "source": [
    "destination_dir = \"/home/jupyter/CS15_WHBL/CWB_Paper/01_Final_Data/05_Data/scrublet_fig5\"\n",
    "\n",
    "# Create destination directory if it doesn't exist\n",
    "os.makedirs(destination_dir, exist_ok=True)\n",
    "\n",
    "# Iterate over each directory\n",
    "for directory in directories:\n",
    "    # Source file path\n",
    "    source_file = os.path.join(base_directory, directory,'count/', \"sample_filtered_feature_bc_matrix.h5\")\n",
    "    \n",
    "    # Destination file path with the name of the original directory\n",
    "    destination_file = os.path.join(destination_dir, f\"{directory}_sample_filtered_feature_bc_matrix.h5\")\n",
    "    \n",
    "    # Copy file\n",
    "    shutil.copy(source_file, destination_file)\n",
    "    print(f\"File copied from\\n{source_file}\\nto\\n{destination_file}\")"
   ]
  },
  {
   "cell_type": "code",
   "execution_count": null,
   "id": "a23478f0-6390-4ebd-ac3d-1a7867cdf649",
   "metadata": {},
   "outputs": [],
   "source": []
  }
 ],
 "metadata": {
  "kernelspec": {
   "display_name": "Python 3 (ipykernel)",
   "language": "python",
   "name": "python3"
  },
  "language_info": {
   "codemirror_mode": {
    "name": "ipython",
    "version": 3
   },
   "file_extension": ".py",
   "mimetype": "text/x-python",
   "name": "python",
   "nbconvert_exporter": "python",
   "pygments_lexer": "ipython3",
   "version": "3.7.12"
  }
 },
 "nbformat": 4,
 "nbformat_minor": 5
}

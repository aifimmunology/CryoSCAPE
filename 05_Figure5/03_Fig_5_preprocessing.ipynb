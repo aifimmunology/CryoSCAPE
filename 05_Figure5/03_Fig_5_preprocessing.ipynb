{
 "cells": [
  {
   "cell_type": "code",
   "execution_count": 1,
   "id": "5c7dff40-12f4-4543-bd78-e10fc4afe9cd",
   "metadata": {
    "scrolled": true,
    "tags": []
   },
   "outputs": [
    {
     "name": "stderr",
     "output_type": "stream",
     "text": [
      "\n",
      "Attaching package: ‘dplyr’\n",
      "\n",
      "\n",
      "The following objects are masked from ‘package:stats’:\n",
      "\n",
      "    filter, lag\n",
      "\n",
      "\n",
      "The following objects are masked from ‘package:base’:\n",
      "\n",
      "    intersect, setdiff, setequal, union\n",
      "\n",
      "\n",
      "Loading required package: SeuratObject\n",
      "\n",
      "Loading required package: sp\n",
      "\n",
      "\n",
      "Attaching package: ‘SeuratObject’\n",
      "\n",
      "\n",
      "The following objects are masked from ‘package:base’:\n",
      "\n",
      "    intersect, t\n",
      "\n",
      "\n",
      "Loading required package: data.table\n",
      "\n",
      "\n",
      "Attaching package: ‘data.table’\n",
      "\n",
      "\n",
      "The following objects are masked from ‘package:dplyr’:\n",
      "\n",
      "    between, first, last\n",
      "\n",
      "\n",
      "Loading required package: Matrix\n",
      "\n",
      "Loading required package: rhdf5\n",
      "\n",
      "\n",
      "Attaching package: ‘H5weaver’\n",
      "\n",
      "\n",
      "The following objects are masked from ‘package:rhdf5’:\n",
      "\n",
      "    h5dump, h5ls\n",
      "\n",
      "\n",
      "Warning message in system(\"timedatectl\", intern = TRUE):\n",
      "“running command 'timedatectl' had status 1”\n",
      "── \u001b[1mAttaching core tidyverse packages\u001b[22m ──────────────────────── tidyverse 2.0.0 ──\n",
      "\u001b[32m✔\u001b[39m \u001b[34mforcats  \u001b[39m 1.0.0     \u001b[32m✔\u001b[39m \u001b[34mreadr    \u001b[39m 2.1.5\n",
      "\u001b[32m✔\u001b[39m \u001b[34mggplot2  \u001b[39m 3.4.3     \u001b[32m✔\u001b[39m \u001b[34mstringr  \u001b[39m 1.5.1\n",
      "\u001b[32m✔\u001b[39m \u001b[34mlubridate\u001b[39m 1.9.3     \u001b[32m✔\u001b[39m \u001b[34mtibble   \u001b[39m 3.2.1\n",
      "\u001b[32m✔\u001b[39m \u001b[34mpurrr    \u001b[39m 1.0.2     \u001b[32m✔\u001b[39m \u001b[34mtidyr    \u001b[39m 1.3.1\n",
      "── \u001b[1mConflicts\u001b[22m ────────────────────────────────────────── tidyverse_conflicts() ──\n",
      "\u001b[31m✖\u001b[39m \u001b[34mdata.table\u001b[39m::\u001b[32mbetween()\u001b[39m masks \u001b[34mdplyr\u001b[39m::between()\n",
      "\u001b[31m✖\u001b[39m \u001b[34mtidyr\u001b[39m::\u001b[32mexpand()\u001b[39m       masks \u001b[34mMatrix\u001b[39m::expand()\n",
      "\u001b[31m✖\u001b[39m \u001b[34mdplyr\u001b[39m::\u001b[32mfilter()\u001b[39m       masks \u001b[34mstats\u001b[39m::filter()\n",
      "\u001b[31m✖\u001b[39m \u001b[34mdata.table\u001b[39m::\u001b[32mfirst()\u001b[39m   masks \u001b[34mdplyr\u001b[39m::first()\n",
      "\u001b[31m✖\u001b[39m \u001b[34mlubridate\u001b[39m::\u001b[32mhour()\u001b[39m     masks \u001b[34mdata.table\u001b[39m::hour()\n",
      "\u001b[31m✖\u001b[39m \u001b[34mlubridate\u001b[39m::\u001b[32misoweek()\u001b[39m  masks \u001b[34mdata.table\u001b[39m::isoweek()\n",
      "\u001b[31m✖\u001b[39m \u001b[34mdplyr\u001b[39m::\u001b[32mlag()\u001b[39m          masks \u001b[34mstats\u001b[39m::lag()\n",
      "\u001b[31m✖\u001b[39m \u001b[34mdata.table\u001b[39m::\u001b[32mlast()\u001b[39m    masks \u001b[34mdplyr\u001b[39m::last()\n",
      "\u001b[31m✖\u001b[39m \u001b[34mlubridate\u001b[39m::\u001b[32mmday()\u001b[39m     masks \u001b[34mdata.table\u001b[39m::mday()\n",
      "\u001b[31m✖\u001b[39m \u001b[34mlubridate\u001b[39m::\u001b[32mminute()\u001b[39m   masks \u001b[34mdata.table\u001b[39m::minute()\n",
      "\u001b[31m✖\u001b[39m \u001b[34mlubridate\u001b[39m::\u001b[32mmonth()\u001b[39m    masks \u001b[34mdata.table\u001b[39m::month()\n",
      "\u001b[31m✖\u001b[39m \u001b[34mtidyr\u001b[39m::\u001b[32mpack()\u001b[39m         masks \u001b[34mMatrix\u001b[39m::pack()\n",
      "\u001b[31m✖\u001b[39m \u001b[34mlubridate\u001b[39m::\u001b[32mquarter()\u001b[39m  masks \u001b[34mdata.table\u001b[39m::quarter()\n",
      "\u001b[31m✖\u001b[39m \u001b[34mlubridate\u001b[39m::\u001b[32msecond()\u001b[39m   masks \u001b[34mdata.table\u001b[39m::second()\n",
      "\u001b[31m✖\u001b[39m \u001b[34mpurrr\u001b[39m::\u001b[32mtranspose()\u001b[39m    masks \u001b[34mdata.table\u001b[39m::transpose()\n",
      "\u001b[31m✖\u001b[39m \u001b[34mtidyr\u001b[39m::\u001b[32munpack()\u001b[39m       masks \u001b[34mMatrix\u001b[39m::unpack()\n",
      "\u001b[31m✖\u001b[39m \u001b[34mlubridate\u001b[39m::\u001b[32mwday()\u001b[39m     masks \u001b[34mdata.table\u001b[39m::wday()\n",
      "\u001b[31m✖\u001b[39m \u001b[34mlubridate\u001b[39m::\u001b[32mweek()\u001b[39m     masks \u001b[34mdata.table\u001b[39m::week()\n",
      "\u001b[31m✖\u001b[39m \u001b[34mlubridate\u001b[39m::\u001b[32myday()\u001b[39m     masks \u001b[34mdata.table\u001b[39m::yday()\n",
      "\u001b[31m✖\u001b[39m \u001b[34mlubridate\u001b[39m::\u001b[32myear()\u001b[39m     masks \u001b[34mdata.table\u001b[39m::year()\n",
      "\u001b[36mℹ\u001b[39m Use the conflicted package (\u001b[3m\u001b[34m<http://conflicted.r-lib.org/>\u001b[39m\u001b[23m) to force all conflicts to become errors\n",
      "Registered S3 method overwritten by 'SeuratDisk':\n",
      "  method            from  \n",
      "  as.sparse.H5Group Seurat\n",
      "\n"
     ]
    }
   ],
   "source": [
    "library(dplyr)\n",
    "library(Seurat)\n",
    "library(patchwork)\n",
    "library(H5weaver)\n",
    "library(hise)\n",
    "library(tidyverse)\n",
    "library(SeuratObject)\n",
    "library(ggrepel)\n",
    "library(SeuratDisk)\n"
   ]
  },
  {
   "cell_type": "markdown",
   "id": "c7cd619c-7bb3-4f86-8a61-60b65edcc625",
   "metadata": {},
   "source": [
    "## Creating Seurat Objects from h5 outs from Cellranger"
   ]
  },
  {
   "cell_type": "markdown",
   "id": "fd2d359f-886c-401d-9150-266a550463eb",
   "metadata": {
    "tags": []
   },
   "source": [
    "### Reading h5 files into memory"
   ]
  },
  {
   "cell_type": "code",
   "execution_count": 2,
   "id": "02c3305b-690f-4f8a-bcc9-91436cffd77e",
   "metadata": {},
   "outputs": [],
   "source": [
    "h5s <- list.files(\n",
    "    path = '/home/jupyter/CS15_WHBL/CWB_Paper/01_Final_Data/05_Data/scrublet_fig5', \n",
    "    pattern = 'filtered_feature_bc_matrix.h5$',\n",
    "    full.names = TRUE, \n",
    "    recursive = TRUE\n",
    ")\n"
   ]
  },
  {
   "cell_type": "code",
   "execution_count": 5,
   "id": "7a198cd3-d6f4-400b-b325-4e7a27a34630",
   "metadata": {},
   "outputs": [
    {
     "data": {
      "text/html": [
       "'/home/jupyter/CS15_WHBL/CWB_Paper/01_Final_Data/05_Data/scrublet_fig5/BL05012_CD3_CD28_sample_filtered_feature_bc_matrix.h5'"
      ],
      "text/latex": [
       "'/home/jupyter/CS15\\_WHBL/CWB\\_Paper/01\\_Final\\_Data/05\\_Data/scrublet\\_fig5/BL05012\\_CD3\\_CD28\\_sample\\_filtered\\_feature\\_bc\\_matrix.h5'"
      ],
      "text/markdown": [
       "'/home/jupyter/CS15_WHBL/CWB_Paper/01_Final_Data/05_Data/scrublet_fig5/BL05012_CD3_CD28_sample_filtered_feature_bc_matrix.h5'"
      ],
      "text/plain": [
       "[1] \"/home/jupyter/CS15_WHBL/CWB_Paper/01_Final_Data/05_Data/scrublet_fig5/BL05012_CD3_CD28_sample_filtered_feature_bc_matrix.h5\""
      ]
     },
     "metadata": {},
     "output_type": "display_data"
    }
   ],
   "source": [
    "h5s[1]"
   ]
  },
  {
   "cell_type": "code",
   "execution_count": 10,
   "id": "d9080aa3-9baa-4a13-b95d-fca972291a02",
   "metadata": {},
   "outputs": [
    {
     "data": {
      "text/html": [
       "'BL05012_CD3_CD28'"
      ],
      "text/latex": [
       "'BL05012\\_CD3\\_CD28'"
      ],
      "text/markdown": [
       "'BL05012_CD3_CD28'"
      ],
      "text/plain": [
       "[1] \"BL05012_CD3_CD28\""
      ]
     },
     "metadata": {},
     "output_type": "display_data"
    }
   ],
   "source": [
    "test <- strsplit(h5s[1], '/' )[[1]][9]\n",
    "test <- strsplit(test, '_sample' )[[1]][1]\n",
    "test"
   ]
  },
  {
   "cell_type": "markdown",
   "id": "0418a6ac-efb9-45bc-b905-270c27dfda6c",
   "metadata": {
    "tags": []
   },
   "source": [
    "### Creating Seurat Objects"
   ]
  },
  {
   "cell_type": "code",
   "execution_count": 11,
   "id": "22bd4800-826b-46e1-880c-b6346fe510e1",
   "metadata": {},
   "outputs": [],
   "source": [
    "fully <- lapply(h5s, function(x){\n",
    "    pro <- strsplit(x, '/' )[[1]][9]\n",
    "    pro <- strsplit(pro, '_sample' )[[1]][1]\n",
    "    mtx <- Read10X_h5(x) \n",
    "    so <- CreateSeuratObject(mtx,project=pro) \n",
    "    return(so) \n",
    "    })\n"
   ]
  },
  {
   "cell_type": "code",
   "execution_count": 12,
   "id": "5827c1ca-734c-4570-8311-a4ab4e5d95a1",
   "metadata": {},
   "outputs": [
    {
     "data": {
      "text/html": [
       "<table class=\"dataframe\">\n",
       "<caption>A data.frame: 10 × 3</caption>\n",
       "<thead>\n",
       "\t<tr><th></th><th scope=col>orig.ident</th><th scope=col>nCount_RNA</th><th scope=col>nFeature_RNA</th></tr>\n",
       "\t<tr><th></th><th scope=col>&lt;fct&gt;</th><th scope=col>&lt;dbl&gt;</th><th scope=col>&lt;int&gt;</th></tr>\n",
       "</thead>\n",
       "<tbody>\n",
       "\t<tr><th scope=row>AAACAAGCATAACCGAAACGGGAA-1</th><td>BL05012_CD3_CD28</td><td> 2913</td><td>1592</td></tr>\n",
       "\t<tr><th scope=row>AAACCAATCACGTTCAAACGGGAA-1</th><td>BL05012_CD3_CD28</td><td> 6994</td><td>3513</td></tr>\n",
       "\t<tr><th scope=row>AAACCAATCACTGTCAAACGGGAA-1</th><td>BL05012_CD3_CD28</td><td>12229</td><td>3982</td></tr>\n",
       "\t<tr><th scope=row>AAACCAATCCACAATTAACGGGAA-1</th><td>BL05012_CD3_CD28</td><td> 6612</td><td>2734</td></tr>\n",
       "\t<tr><th scope=row>AAACCAATCCTAAATCAACGGGAA-1</th><td>BL05012_CD3_CD28</td><td> 7654</td><td>2976</td></tr>\n",
       "\t<tr><th scope=row>AAACCAATCGAACCGAAACGGGAA-1</th><td>BL05012_CD3_CD28</td><td> 6523</td><td>2762</td></tr>\n",
       "\t<tr><th scope=row>AAACCAATCGCTTGACAACGGGAA-1</th><td>BL05012_CD3_CD28</td><td>10994</td><td>3487</td></tr>\n",
       "\t<tr><th scope=row>AAACCAATCTGCAACCAACGGGAA-1</th><td>BL05012_CD3_CD28</td><td> 9766</td><td>3403</td></tr>\n",
       "\t<tr><th scope=row>AAACCAGGTAAGAATCAACGGGAA-1</th><td>BL05012_CD3_CD28</td><td> 5153</td><td>2347</td></tr>\n",
       "\t<tr><th scope=row>AAACCAGGTACCTCAGAACGGGAA-1</th><td>BL05012_CD3_CD28</td><td> 6802</td><td>3186</td></tr>\n",
       "</tbody>\n",
       "</table>\n"
      ],
      "text/latex": [
       "A data.frame: 10 × 3\n",
       "\\begin{tabular}{r|lll}\n",
       "  & orig.ident & nCount\\_RNA & nFeature\\_RNA\\\\\n",
       "  & <fct> & <dbl> & <int>\\\\\n",
       "\\hline\n",
       "\tAAACAAGCATAACCGAAACGGGAA-1 & BL05012\\_CD3\\_CD28 &  2913 & 1592\\\\\n",
       "\tAAACCAATCACGTTCAAACGGGAA-1 & BL05012\\_CD3\\_CD28 &  6994 & 3513\\\\\n",
       "\tAAACCAATCACTGTCAAACGGGAA-1 & BL05012\\_CD3\\_CD28 & 12229 & 3982\\\\\n",
       "\tAAACCAATCCACAATTAACGGGAA-1 & BL05012\\_CD3\\_CD28 &  6612 & 2734\\\\\n",
       "\tAAACCAATCCTAAATCAACGGGAA-1 & BL05012\\_CD3\\_CD28 &  7654 & 2976\\\\\n",
       "\tAAACCAATCGAACCGAAACGGGAA-1 & BL05012\\_CD3\\_CD28 &  6523 & 2762\\\\\n",
       "\tAAACCAATCGCTTGACAACGGGAA-1 & BL05012\\_CD3\\_CD28 & 10994 & 3487\\\\\n",
       "\tAAACCAATCTGCAACCAACGGGAA-1 & BL05012\\_CD3\\_CD28 &  9766 & 3403\\\\\n",
       "\tAAACCAGGTAAGAATCAACGGGAA-1 & BL05012\\_CD3\\_CD28 &  5153 & 2347\\\\\n",
       "\tAAACCAGGTACCTCAGAACGGGAA-1 & BL05012\\_CD3\\_CD28 &  6802 & 3186\\\\\n",
       "\\end{tabular}\n"
      ],
      "text/markdown": [
       "\n",
       "A data.frame: 10 × 3\n",
       "\n",
       "| <!--/--> | orig.ident &lt;fct&gt; | nCount_RNA &lt;dbl&gt; | nFeature_RNA &lt;int&gt; |\n",
       "|---|---|---|---|\n",
       "| AAACAAGCATAACCGAAACGGGAA-1 | BL05012_CD3_CD28 |  2913 | 1592 |\n",
       "| AAACCAATCACGTTCAAACGGGAA-1 | BL05012_CD3_CD28 |  6994 | 3513 |\n",
       "| AAACCAATCACTGTCAAACGGGAA-1 | BL05012_CD3_CD28 | 12229 | 3982 |\n",
       "| AAACCAATCCACAATTAACGGGAA-1 | BL05012_CD3_CD28 |  6612 | 2734 |\n",
       "| AAACCAATCCTAAATCAACGGGAA-1 | BL05012_CD3_CD28 |  7654 | 2976 |\n",
       "| AAACCAATCGAACCGAAACGGGAA-1 | BL05012_CD3_CD28 |  6523 | 2762 |\n",
       "| AAACCAATCGCTTGACAACGGGAA-1 | BL05012_CD3_CD28 | 10994 | 3487 |\n",
       "| AAACCAATCTGCAACCAACGGGAA-1 | BL05012_CD3_CD28 |  9766 | 3403 |\n",
       "| AAACCAGGTAAGAATCAACGGGAA-1 | BL05012_CD3_CD28 |  5153 | 2347 |\n",
       "| AAACCAGGTACCTCAGAACGGGAA-1 | BL05012_CD3_CD28 |  6802 | 3186 |\n",
       "\n"
      ],
      "text/plain": [
       "                           orig.ident       nCount_RNA nFeature_RNA\n",
       "AAACAAGCATAACCGAAACGGGAA-1 BL05012_CD3_CD28  2913      1592        \n",
       "AAACCAATCACGTTCAAACGGGAA-1 BL05012_CD3_CD28  6994      3513        \n",
       "AAACCAATCACTGTCAAACGGGAA-1 BL05012_CD3_CD28 12229      3982        \n",
       "AAACCAATCCACAATTAACGGGAA-1 BL05012_CD3_CD28  6612      2734        \n",
       "AAACCAATCCTAAATCAACGGGAA-1 BL05012_CD3_CD28  7654      2976        \n",
       "AAACCAATCGAACCGAAACGGGAA-1 BL05012_CD3_CD28  6523      2762        \n",
       "AAACCAATCGCTTGACAACGGGAA-1 BL05012_CD3_CD28 10994      3487        \n",
       "AAACCAATCTGCAACCAACGGGAA-1 BL05012_CD3_CD28  9766      3403        \n",
       "AAACCAGGTAAGAATCAACGGGAA-1 BL05012_CD3_CD28  5153      2347        \n",
       "AAACCAGGTACCTCAGAACGGGAA-1 BL05012_CD3_CD28  6802      3186        "
      ]
     },
     "metadata": {},
     "output_type": "display_data"
    }
   ],
   "source": [
    "head(fully[[1]])"
   ]
  },
  {
   "cell_type": "code",
   "execution_count": 13,
   "id": "a1566bf1-0be1-4e85-8ea8-33d0c73ef997",
   "metadata": {},
   "outputs": [],
   "source": [
    "scrub <- list.files(\n",
    "    # Place your analysis in a folder by number experiment, or whatever might work for you\n",
    "    # It helps if this worksheet in in the same folder\n",
    "    path = '/home/jupyter/CS15_WHBL/CWB_Paper/01_Final_Data/05_Data/scrublet_fig5',\n",
    "    pattern = '.csv$', # change this to 'sample_raw_feature_bc_matrix.h5$' if you need the raw h5s\n",
    "    full.names = TRUE, \n",
    "    recursive = TRUE\n",
    ")\n"
   ]
  },
  {
   "cell_type": "code",
   "execution_count": 14,
   "id": "8a90d23c-9800-468a-88a6-13e7db691097",
   "metadata": {},
   "outputs": [],
   "source": [
    "scrubs <- lapply(scrub,read.csv)\n",
    "\n",
    "scrubs <- scrubs %>% lapply(function(x){\n",
    "    rownames(x) <- x$X\n",
    "    x$X <- NULL\n",
    "    x$Barcodes <- rownames(x)\n",
    "    return(x)\n",
    "})"
   ]
  },
  {
   "cell_type": "code",
   "execution_count": 15,
   "id": "8406b720-3e9e-41d5-b840-debb2de2d75f",
   "metadata": {},
   "outputs": [],
   "source": [
    "for (i in c(1:length(fully))){\n",
    "    \n",
    "    fully[[i]][[]]$Barcodes <- rownames(fully[[i]][[]])\n",
    "    \n",
    "    fully[[i]][[]] <- left_join(fully[[i]][[]], scrubs[[i]], by = 'Barcodes') # , by='row.names', all=TRUE\n",
    "}"
   ]
  },
  {
   "cell_type": "code",
   "execution_count": 16,
   "id": "55a1f9a5-3e18-4641-80f0-dd351c4e3557",
   "metadata": {},
   "outputs": [],
   "source": [
    "fully <- Reduce(merge,fully) %>% JoinLayers()\n"
   ]
  },
  {
   "cell_type": "code",
   "execution_count": 17,
   "id": "042d3c9a-da34-4444-9be6-40d1c5b1f384",
   "metadata": {},
   "outputs": [],
   "source": [
    "fully[[\"percent.mt\"]] <- PercentageFeatureSet(fully, pattern = \"^MT-\")\n",
    "fully <- subset(fully, subset = percent.mt < 5)\n"
   ]
  },
  {
   "cell_type": "markdown",
   "id": "ef79ccb9-6c22-45df-9d5c-b464cb51ab0c",
   "metadata": {
    "tags": []
   },
   "source": [
    "### Normalizing, running PCA and UMAP clustering"
   ]
  },
  {
   "cell_type": "code",
   "execution_count": 18,
   "id": "aa3ea36d-cffb-4c6e-aed6-ae535edf8e09",
   "metadata": {
    "scrolled": true,
    "tags": []
   },
   "outputs": [
    {
     "name": "stderr",
     "output_type": "stream",
     "text": [
      "Normalizing layer: counts\n",
      "\n",
      "Finding variable features for layer counts\n",
      "\n",
      "Centering and scaling data matrix\n",
      "\n",
      "PC_ 1 \n",
      "Positive:  CD69, ICOS, SLA, MYC, PGGHG, GPR171, STAT5A, PKIA, NDFIP2, PGAP1 \n",
      "\t   MAL, TSHZ2, GFI1, WDR74, LAMP3, IRF4, SACS, CTPS1, BZW2, ITGA6 \n",
      "\t   MT2A, NUCB2, IFIT1, CD40LG, TFRC, RRP9, USP18, CISH, ODC1, DEAF1 \n",
      "Negative:  ANPEP, SPI1, LYZ, CD300E, LILRB2, SEMA6B, KYNU, IFI30, NCF2, FCAR \n",
      "\t   HCK, C5AR1, CST3, TLR4, ENG, S100A9, MPEG1, EMILIN2, SLC37A2, TLR2 \n",
      "\t   MS4A7, PLXNB2, CYBB, SERPINA1, PID1, TNFAIP2, ZNF385A, SLC7A11, VCAN, SRC \n",
      "PC_ 2 \n",
      "Positive:  AOAH, SPN, CST7, NKG7, SLA2, CD300A, SYNE1, C1orf21, OASL, GNLY \n",
      "\t   PRF1, KLRD1, PRR5L, HIST1H1C, FGFBP2, AUTS2, TRGC2, S1PR5, APOL3, GZMH \n",
      "\t   CTSW, MYO1F, CCL5, ADGRG1, ZBP1, TRGC1, MYBL1, NCR1, TNFSF10, GK5 \n",
      "Negative:  BCL2A1, FOSL1, KDM6B, SLC43A3, NME1, SLC7A1, PIM3, IRF8, EPOP, MYC \n",
      "\t   TFRC, MFSD2A, LRRC8B, SLC7A5, IRF4, NFKBID, FABP5, SLAMF1, RRP9, SLC1A5 \n",
      "\t   BZW2, INSIG1, ODC1, TRAF4, SLC29A1, SLC16A1, PUS7, NAMPT, EGR2, CTPS1 \n",
      "PC_ 3 \n",
      "Positive:  NKG7, PRF1, KLRD1, GZMB, CST7, GNLY, APOBEC3G, CCL5, C1orf21, FASLG \n",
      "\t   IL18RAP, ZEB2, GZMH, METRNL, BHLHE40, CD300A, S1PR5, PRR5L, SLAMF7, GZMA \n",
      "\t   CTSW, NCR1, MCTP2, FGFBP2, APOBEC3C, PIK3AP1, SETBP1, KLRF1, DTHD1, SLA2 \n",
      "Negative:  MAL, TSHZ2, NOG, CD4, ITGA6, ACTN1, CD27, TMEM173, MYB, AIF1 \n",
      "\t   C9orf72, ICOS, APP, DEAF1, F5, SOD2, GPR132, PKIA, SC5D, PGAP1 \n",
      "\t   SECTM1, JAML, CTSB, NPC2, GRAMD1A, DAPP1, LRRN3, KLF5, HPCAL1, IFNGR2 \n",
      "PC_ 4 \n",
      "Positive:  NDFIP2, SLA, TNFSF14, LCP2, RGCC, EPOP, PHLDA1, CD40LG, GFI1, TNFRSF9 \n",
      "\t   PGGHG, EGR2, VSIR, JARID2, LRRC8B, DUSP6, PTPRE, ICOS, IER3, IL2 \n",
      "\t   NCS1, AREG, SPRY1, SDCBP, GADD45A, GEM, PRNP, PLAGL2, CD109, YES1 \n",
      "Negative:  MS4A1, CD79A, CD40, PAX5, COBLL1, IGHM, EBF1, BLNK, BCL11A, CXCR5 \n",
      "\t   BANK1, IGHD, WDFY4, IGKC, RUBCNL, PLEKHG1, CLEC17A, TCF4, EBI3, FCER2 \n",
      "\t   ANKRD33B, TSPAN33, CDK14, TNFRSF13B, CD22, ARHGAP24, ADAM28, CD74, SLC9A7, PALM2-AKAP2 \n",
      "PC_ 5 \n",
      "Positive:  HSPA1A, FOSB, HSPA1B, DUSP1, JUN, FOS, DNAJB1, PPP1R15A, EGR1, IER2 \n",
      "\t   HSPA6, NR4A1, ZFP36, RND1, DNAJA4, IL1RN, NR4A2, ZFAND2A, IL1B, BAG3 \n",
      "\t   CXCL2, PTGS2, CCL3, CKS2, CHMP1B, RHOB, RASGEF1B, HSPA2, IER5L, G0S2 \n",
      "Negative:  NME1, SYNGR2, GFI1, NDFIP2, PUS7, RRP9, FPR3, STAT5A, IRF4, PFKP \n",
      "\t   SLC7A1, TUBA1C, CTPS1, SLC29A1, PSAT1, BCL2L1, GAPT, TXNRD1, CSF1R, EPOP \n",
      "\t   PLD6, SDF2L1, CD101, FABP5, PLAGL2, GRK3, IL13RA1, PTGFRN, JAK2, CISH \n",
      "\n",
      "Warning message:\n",
      "“The default method for RunUMAP has changed from calling Python UMAP via reticulate to the R-native UWOT using the cosine metric\n",
      "To use Python UMAP via reticulate, set umap.method to 'umap-learn' and metric to 'correlation'\n",
      "This message will be shown once per session”\n",
      "19:28:34 UMAP embedding parameters a = 0.9922 b = 1.112\n",
      "\n",
      "19:28:34 Read 127091 rows and found 20 numeric columns\n",
      "\n",
      "19:28:34 Using Annoy for neighbor search, n_neighbors = 30\n",
      "\n",
      "19:28:34 Building Annoy index with metric = cosine, n_trees = 50\n",
      "\n",
      "0%   10   20   30   40   50   60   70   80   90   100%\n",
      "\n",
      "[----|----|----|----|----|----|----|----|----|----|\n",
      "\n",
      "*\n",
      "*\n",
      "*\n",
      "*\n",
      "*\n",
      "*\n",
      "*\n",
      "*\n",
      "*\n",
      "*\n",
      "*\n",
      "*\n",
      "*\n",
      "*\n",
      "*\n",
      "*\n",
      "*\n",
      "*\n",
      "*\n",
      "*\n",
      "*\n",
      "*\n",
      "*\n",
      "*\n",
      "*\n",
      "*\n",
      "*\n",
      "*\n",
      "*\n",
      "*\n",
      "*\n",
      "*\n",
      "*\n",
      "*\n",
      "*\n",
      "*\n",
      "*\n",
      "*\n",
      "*\n",
      "*\n",
      "*\n",
      "*\n",
      "*\n",
      "*\n",
      "*\n",
      "*\n",
      "*\n",
      "*\n",
      "*\n",
      "*\n",
      "|\n",
      "\n",
      "19:28:49 Writing NN index file to temp file /tmp/RtmpErmUsI/file1794c2515e4ec\n",
      "\n",
      "19:28:49 Searching Annoy index using 1 thread, search_k = 3000\n",
      "\n",
      "19:29:43 Annoy recall = 100%\n",
      "\n",
      "19:29:44 Commencing smooth kNN distance calibration using 1 thread\n",
      "\n",
      "19:29:47 Initializing from normalized Laplacian + noise\n",
      "\n",
      "19:30:00 Commencing optimization for 200 epochs, with 5599110 positive edges\n",
      "\n",
      "19:30:59 Optimization finished\n",
      "\n",
      "Computing nearest neighbor graph\n",
      "\n",
      "Computing SNN\n",
      "\n"
     ]
    },
    {
     "name": "stdout",
     "output_type": "stream",
     "text": [
      "Modularity Optimizer version 1.3.0 by Ludo Waltman and Nees Jan van Eck\n",
      "\n",
      "Number of nodes: 127091\n",
      "Number of edges: 4008535\n",
      "\n",
      "Running Louvain algorithm...\n",
      "Maximum modularity in 10 random starts: 0.9479\n",
      "Number of communities: 31\n",
      "Elapsed time: 94 seconds\n"
     ]
    }
   ],
   "source": [
    "fully <- NormalizeData(fully) %>% \n",
    "    FindVariableFeatures() %>% \n",
    "    ScaleData() %>% \n",
    "    RunPCA() %>% \n",
    "    RunUMAP(dims = 1:20) %>% \n",
    "    FindNeighbors(dims = 1:20) %>% \n",
    "    FindClusters(resolution = 0.5)\n"
   ]
  },
  {
   "cell_type": "markdown",
   "id": "749ae49f-710f-4b74-81ac-5468040b4132",
   "metadata": {
    "tags": []
   },
   "source": [
    "## Plotting"
   ]
  },
  {
   "cell_type": "code",
   "execution_count": 19,
   "id": "4f74d4f4-6b05-4a51-b40a-dbdaa13ead20",
   "metadata": {},
   "outputs": [],
   "source": [
    "fully$tech <- substr(fully$orig.ident,21,44)\n",
    "fully$donor <- substr(fully$orig.ident,13,19)\n"
   ]
  },
  {
   "cell_type": "code",
   "execution_count": 20,
   "id": "57bc0b2a-9a65-4e76-8dff-0d8b80c9008d",
   "metadata": {},
   "outputs": [],
   "source": [
    "fully$tech <- substr(fully$orig.ident,9,25)\n",
    "fully$donor <- substr(fully$orig.ident,1,7)\n"
   ]
  },
  {
   "cell_type": "code",
   "execution_count": 21,
   "id": "4a87fbf8-4c93-4670-a77d-13bdf598675e",
   "metadata": {},
   "outputs": [
    {
     "data": {
      "text/html": [
       "<table class=\"dataframe\">\n",
       "<caption>A data.frame: 10 × 11</caption>\n",
       "<thead>\n",
       "\t<tr><th></th><th scope=col>orig.ident</th><th scope=col>nCount_RNA</th><th scope=col>nFeature_RNA</th><th scope=col>Barcodes</th><th scope=col>Doublet_Score</th><th scope=col>Predicted_Doublet</th><th scope=col>percent.mt</th><th scope=col>RNA_snn_res.0.5</th><th scope=col>seurat_clusters</th><th scope=col>tech</th><th scope=col>donor</th></tr>\n",
       "\t<tr><th></th><th scope=col>&lt;chr&gt;</th><th scope=col>&lt;dbl&gt;</th><th scope=col>&lt;int&gt;</th><th scope=col>&lt;chr&gt;</th><th scope=col>&lt;dbl&gt;</th><th scope=col>&lt;chr&gt;</th><th scope=col>&lt;dbl&gt;</th><th scope=col>&lt;fct&gt;</th><th scope=col>&lt;fct&gt;</th><th scope=col>&lt;chr&gt;</th><th scope=col>&lt;chr&gt;</th></tr>\n",
       "</thead>\n",
       "<tbody>\n",
       "\t<tr><th scope=row>AAACAAGCATAACCGAAACGGGAA-1</th><td>BL05012_CD3_CD28</td><td> 2913</td><td>1592</td><td>AAACAAGCATAACCGAAACGGGAA-1</td><td>0.05333333</td><td>False</td><td>0.00000000</td><td>21</td><td>21</td><td>CD3_CD28</td><td>BL05012</td></tr>\n",
       "\t<tr><th scope=row>AAACCAATCACGTTCAAACGGGAA-1</th><td>BL05012_CD3_CD28</td><td> 6994</td><td>3513</td><td>AAACCAATCACGTTCAAACGGGAA-1</td><td>0.01768570</td><td>False</td><td>0.48613097</td><td>18</td><td>18</td><td>CD3_CD28</td><td>BL05012</td></tr>\n",
       "\t<tr><th scope=row>AAACCAATCACTGTCAAACGGGAA-1</th><td>BL05012_CD3_CD28</td><td>12229</td><td>3982</td><td>AAACCAATCACTGTCAAACGGGAA-1</td><td>0.13307985</td><td>False</td><td>1.30018808</td><td>14</td><td>14</td><td>CD3_CD28</td><td>BL05012</td></tr>\n",
       "\t<tr><th scope=row>AAACCAATCCACAATTAACGGGAA-1</th><td>BL05012_CD3_CD28</td><td> 6612</td><td>2734</td><td>AAACCAATCCACAATTAACGGGAA-1</td><td>0.03861004</td><td>False</td><td>0.00000000</td><td>12</td><td>12</td><td>CD3_CD28</td><td>BL05012</td></tr>\n",
       "\t<tr><th scope=row>AAACCAATCCTAAATCAACGGGAA-1</th><td>BL05012_CD3_CD28</td><td> 7654</td><td>2976</td><td>AAACCAATCCTAAATCAACGGGAA-1</td><td>0.02900232</td><td>False</td><td>0.06532532</td><td>12</td><td>12</td><td>CD3_CD28</td><td>BL05012</td></tr>\n",
       "\t<tr><th scope=row>AAACCAATCGAACCGAAACGGGAA-1</th><td>BL05012_CD3_CD28</td><td> 6523</td><td>2762</td><td>AAACCAATCGAACCGAAACGGGAA-1</td><td>0.18578352</td><td>False</td><td>0.13797333</td><td>9 </td><td>9 </td><td>CD3_CD28</td><td>BL05012</td></tr>\n",
       "\t<tr><th scope=row>AAACCAATCGCTTGACAACGGGAA-1</th><td>BL05012_CD3_CD28</td><td>10994</td><td>3487</td><td>AAACCAATCGCTTGACAACGGGAA-1</td><td>0.08860759</td><td>False</td><td>0.08186283</td><td>10</td><td>10</td><td>CD3_CD28</td><td>BL05012</td></tr>\n",
       "\t<tr><th scope=row>AAACCAATCTGCAACCAACGGGAA-1</th><td>BL05012_CD3_CD28</td><td> 9766</td><td>3403</td><td>AAACCAATCTGCAACCAACGGGAA-1</td><td>0.07733813</td><td>False</td><td>0.05119803</td><td>9 </td><td>9 </td><td>CD3_CD28</td><td>BL05012</td></tr>\n",
       "\t<tr><th scope=row>AAACCAGGTAAGAATCAACGGGAA-1</th><td>BL05012_CD3_CD28</td><td> 5153</td><td>2347</td><td>AAACCAGGTAAGAATCAACGGGAA-1</td><td>0.02987698</td><td>False</td><td>0.00000000</td><td>12</td><td>12</td><td>CD3_CD28</td><td>BL05012</td></tr>\n",
       "\t<tr><th scope=row>AAACCAGGTACCTCAGAACGGGAA-1</th><td>BL05012_CD3_CD28</td><td> 6802</td><td>3186</td><td>AAACCAGGTACCTCAGAACGGGAA-1</td><td>0.23404255</td><td>False</td><td>0.01470156</td><td>7 </td><td>7 </td><td>CD3_CD28</td><td>BL05012</td></tr>\n",
       "</tbody>\n",
       "</table>\n"
      ],
      "text/latex": [
       "A data.frame: 10 × 11\n",
       "\\begin{tabular}{r|lllllllllll}\n",
       "  & orig.ident & nCount\\_RNA & nFeature\\_RNA & Barcodes & Doublet\\_Score & Predicted\\_Doublet & percent.mt & RNA\\_snn\\_res.0.5 & seurat\\_clusters & tech & donor\\\\\n",
       "  & <chr> & <dbl> & <int> & <chr> & <dbl> & <chr> & <dbl> & <fct> & <fct> & <chr> & <chr>\\\\\n",
       "\\hline\n",
       "\tAAACAAGCATAACCGAAACGGGAA-1 & BL05012\\_CD3\\_CD28 &  2913 & 1592 & AAACAAGCATAACCGAAACGGGAA-1 & 0.05333333 & False & 0.00000000 & 21 & 21 & CD3\\_CD28 & BL05012\\\\\n",
       "\tAAACCAATCACGTTCAAACGGGAA-1 & BL05012\\_CD3\\_CD28 &  6994 & 3513 & AAACCAATCACGTTCAAACGGGAA-1 & 0.01768570 & False & 0.48613097 & 18 & 18 & CD3\\_CD28 & BL05012\\\\\n",
       "\tAAACCAATCACTGTCAAACGGGAA-1 & BL05012\\_CD3\\_CD28 & 12229 & 3982 & AAACCAATCACTGTCAAACGGGAA-1 & 0.13307985 & False & 1.30018808 & 14 & 14 & CD3\\_CD28 & BL05012\\\\\n",
       "\tAAACCAATCCACAATTAACGGGAA-1 & BL05012\\_CD3\\_CD28 &  6612 & 2734 & AAACCAATCCACAATTAACGGGAA-1 & 0.03861004 & False & 0.00000000 & 12 & 12 & CD3\\_CD28 & BL05012\\\\\n",
       "\tAAACCAATCCTAAATCAACGGGAA-1 & BL05012\\_CD3\\_CD28 &  7654 & 2976 & AAACCAATCCTAAATCAACGGGAA-1 & 0.02900232 & False & 0.06532532 & 12 & 12 & CD3\\_CD28 & BL05012\\\\\n",
       "\tAAACCAATCGAACCGAAACGGGAA-1 & BL05012\\_CD3\\_CD28 &  6523 & 2762 & AAACCAATCGAACCGAAACGGGAA-1 & 0.18578352 & False & 0.13797333 & 9  & 9  & CD3\\_CD28 & BL05012\\\\\n",
       "\tAAACCAATCGCTTGACAACGGGAA-1 & BL05012\\_CD3\\_CD28 & 10994 & 3487 & AAACCAATCGCTTGACAACGGGAA-1 & 0.08860759 & False & 0.08186283 & 10 & 10 & CD3\\_CD28 & BL05012\\\\\n",
       "\tAAACCAATCTGCAACCAACGGGAA-1 & BL05012\\_CD3\\_CD28 &  9766 & 3403 & AAACCAATCTGCAACCAACGGGAA-1 & 0.07733813 & False & 0.05119803 & 9  & 9  & CD3\\_CD28 & BL05012\\\\\n",
       "\tAAACCAGGTAAGAATCAACGGGAA-1 & BL05012\\_CD3\\_CD28 &  5153 & 2347 & AAACCAGGTAAGAATCAACGGGAA-1 & 0.02987698 & False & 0.00000000 & 12 & 12 & CD3\\_CD28 & BL05012\\\\\n",
       "\tAAACCAGGTACCTCAGAACGGGAA-1 & BL05012\\_CD3\\_CD28 &  6802 & 3186 & AAACCAGGTACCTCAGAACGGGAA-1 & 0.23404255 & False & 0.01470156 & 7  & 7  & CD3\\_CD28 & BL05012\\\\\n",
       "\\end{tabular}\n"
      ],
      "text/markdown": [
       "\n",
       "A data.frame: 10 × 11\n",
       "\n",
       "| <!--/--> | orig.ident &lt;chr&gt; | nCount_RNA &lt;dbl&gt; | nFeature_RNA &lt;int&gt; | Barcodes &lt;chr&gt; | Doublet_Score &lt;dbl&gt; | Predicted_Doublet &lt;chr&gt; | percent.mt &lt;dbl&gt; | RNA_snn_res.0.5 &lt;fct&gt; | seurat_clusters &lt;fct&gt; | tech &lt;chr&gt; | donor &lt;chr&gt; |\n",
       "|---|---|---|---|---|---|---|---|---|---|---|---|\n",
       "| AAACAAGCATAACCGAAACGGGAA-1 | BL05012_CD3_CD28 |  2913 | 1592 | AAACAAGCATAACCGAAACGGGAA-1 | 0.05333333 | False | 0.00000000 | 21 | 21 | CD3_CD28 | BL05012 |\n",
       "| AAACCAATCACGTTCAAACGGGAA-1 | BL05012_CD3_CD28 |  6994 | 3513 | AAACCAATCACGTTCAAACGGGAA-1 | 0.01768570 | False | 0.48613097 | 18 | 18 | CD3_CD28 | BL05012 |\n",
       "| AAACCAATCACTGTCAAACGGGAA-1 | BL05012_CD3_CD28 | 12229 | 3982 | AAACCAATCACTGTCAAACGGGAA-1 | 0.13307985 | False | 1.30018808 | 14 | 14 | CD3_CD28 | BL05012 |\n",
       "| AAACCAATCCACAATTAACGGGAA-1 | BL05012_CD3_CD28 |  6612 | 2734 | AAACCAATCCACAATTAACGGGAA-1 | 0.03861004 | False | 0.00000000 | 12 | 12 | CD3_CD28 | BL05012 |\n",
       "| AAACCAATCCTAAATCAACGGGAA-1 | BL05012_CD3_CD28 |  7654 | 2976 | AAACCAATCCTAAATCAACGGGAA-1 | 0.02900232 | False | 0.06532532 | 12 | 12 | CD3_CD28 | BL05012 |\n",
       "| AAACCAATCGAACCGAAACGGGAA-1 | BL05012_CD3_CD28 |  6523 | 2762 | AAACCAATCGAACCGAAACGGGAA-1 | 0.18578352 | False | 0.13797333 | 9  | 9  | CD3_CD28 | BL05012 |\n",
       "| AAACCAATCGCTTGACAACGGGAA-1 | BL05012_CD3_CD28 | 10994 | 3487 | AAACCAATCGCTTGACAACGGGAA-1 | 0.08860759 | False | 0.08186283 | 10 | 10 | CD3_CD28 | BL05012 |\n",
       "| AAACCAATCTGCAACCAACGGGAA-1 | BL05012_CD3_CD28 |  9766 | 3403 | AAACCAATCTGCAACCAACGGGAA-1 | 0.07733813 | False | 0.05119803 | 9  | 9  | CD3_CD28 | BL05012 |\n",
       "| AAACCAGGTAAGAATCAACGGGAA-1 | BL05012_CD3_CD28 |  5153 | 2347 | AAACCAGGTAAGAATCAACGGGAA-1 | 0.02987698 | False | 0.00000000 | 12 | 12 | CD3_CD28 | BL05012 |\n",
       "| AAACCAGGTACCTCAGAACGGGAA-1 | BL05012_CD3_CD28 |  6802 | 3186 | AAACCAGGTACCTCAGAACGGGAA-1 | 0.23404255 | False | 0.01470156 | 7  | 7  | CD3_CD28 | BL05012 |\n",
       "\n"
      ],
      "text/plain": [
       "                           orig.ident       nCount_RNA nFeature_RNA\n",
       "AAACAAGCATAACCGAAACGGGAA-1 BL05012_CD3_CD28  2913      1592        \n",
       "AAACCAATCACGTTCAAACGGGAA-1 BL05012_CD3_CD28  6994      3513        \n",
       "AAACCAATCACTGTCAAACGGGAA-1 BL05012_CD3_CD28 12229      3982        \n",
       "AAACCAATCCACAATTAACGGGAA-1 BL05012_CD3_CD28  6612      2734        \n",
       "AAACCAATCCTAAATCAACGGGAA-1 BL05012_CD3_CD28  7654      2976        \n",
       "AAACCAATCGAACCGAAACGGGAA-1 BL05012_CD3_CD28  6523      2762        \n",
       "AAACCAATCGCTTGACAACGGGAA-1 BL05012_CD3_CD28 10994      3487        \n",
       "AAACCAATCTGCAACCAACGGGAA-1 BL05012_CD3_CD28  9766      3403        \n",
       "AAACCAGGTAAGAATCAACGGGAA-1 BL05012_CD3_CD28  5153      2347        \n",
       "AAACCAGGTACCTCAGAACGGGAA-1 BL05012_CD3_CD28  6802      3186        \n",
       "                           Barcodes                   Doublet_Score\n",
       "AAACAAGCATAACCGAAACGGGAA-1 AAACAAGCATAACCGAAACGGGAA-1 0.05333333   \n",
       "AAACCAATCACGTTCAAACGGGAA-1 AAACCAATCACGTTCAAACGGGAA-1 0.01768570   \n",
       "AAACCAATCACTGTCAAACGGGAA-1 AAACCAATCACTGTCAAACGGGAA-1 0.13307985   \n",
       "AAACCAATCCACAATTAACGGGAA-1 AAACCAATCCACAATTAACGGGAA-1 0.03861004   \n",
       "AAACCAATCCTAAATCAACGGGAA-1 AAACCAATCCTAAATCAACGGGAA-1 0.02900232   \n",
       "AAACCAATCGAACCGAAACGGGAA-1 AAACCAATCGAACCGAAACGGGAA-1 0.18578352   \n",
       "AAACCAATCGCTTGACAACGGGAA-1 AAACCAATCGCTTGACAACGGGAA-1 0.08860759   \n",
       "AAACCAATCTGCAACCAACGGGAA-1 AAACCAATCTGCAACCAACGGGAA-1 0.07733813   \n",
       "AAACCAGGTAAGAATCAACGGGAA-1 AAACCAGGTAAGAATCAACGGGAA-1 0.02987698   \n",
       "AAACCAGGTACCTCAGAACGGGAA-1 AAACCAGGTACCTCAGAACGGGAA-1 0.23404255   \n",
       "                           Predicted_Doublet percent.mt RNA_snn_res.0.5\n",
       "AAACAAGCATAACCGAAACGGGAA-1 False             0.00000000 21             \n",
       "AAACCAATCACGTTCAAACGGGAA-1 False             0.48613097 18             \n",
       "AAACCAATCACTGTCAAACGGGAA-1 False             1.30018808 14             \n",
       "AAACCAATCCACAATTAACGGGAA-1 False             0.00000000 12             \n",
       "AAACCAATCCTAAATCAACGGGAA-1 False             0.06532532 12             \n",
       "AAACCAATCGAACCGAAACGGGAA-1 False             0.13797333 9              \n",
       "AAACCAATCGCTTGACAACGGGAA-1 False             0.08186283 10             \n",
       "AAACCAATCTGCAACCAACGGGAA-1 False             0.05119803 9              \n",
       "AAACCAGGTAAGAATCAACGGGAA-1 False             0.00000000 12             \n",
       "AAACCAGGTACCTCAGAACGGGAA-1 False             0.01470156 7              \n",
       "                           seurat_clusters tech     donor  \n",
       "AAACAAGCATAACCGAAACGGGAA-1 21              CD3_CD28 BL05012\n",
       "AAACCAATCACGTTCAAACGGGAA-1 18              CD3_CD28 BL05012\n",
       "AAACCAATCACTGTCAAACGGGAA-1 14              CD3_CD28 BL05012\n",
       "AAACCAATCCACAATTAACGGGAA-1 12              CD3_CD28 BL05012\n",
       "AAACCAATCCTAAATCAACGGGAA-1 12              CD3_CD28 BL05012\n",
       "AAACCAATCGAACCGAAACGGGAA-1 9               CD3_CD28 BL05012\n",
       "AAACCAATCGCTTGACAACGGGAA-1 10              CD3_CD28 BL05012\n",
       "AAACCAATCTGCAACCAACGGGAA-1 9               CD3_CD28 BL05012\n",
       "AAACCAGGTAAGAATCAACGGGAA-1 12              CD3_CD28 BL05012\n",
       "AAACCAGGTACCTCAGAACGGGAA-1 7               CD3_CD28 BL05012"
      ]
     },
     "metadata": {},
     "output_type": "display_data"
    }
   ],
   "source": [
    "head(fully)"
   ]
  },
  {
   "cell_type": "markdown",
   "id": "cc0bc9be-d3fd-464b-a268-05723b7d7b50",
   "metadata": {
    "tags": []
   },
   "source": [
    "## Celltype label transfer"
   ]
  },
  {
   "cell_type": "code",
   "execution_count": 22,
   "id": "3c655b84-81e4-4513-8b57-580d8a1893f2",
   "metadata": {
    "scrolled": true,
    "tags": []
   },
   "outputs": [
    {
     "name": "stderr",
     "output_type": "stream",
     "text": [
      "Validating h5Seurat file\n",
      "\n",
      "Initializing ADT with data\n",
      "\n",
      "Adding counts for ADT\n",
      "\n",
      "Adding variable feature information for ADT\n",
      "\n",
      "Adding miscellaneous information for ADT\n",
      "\n",
      "Initializing SCT with data\n",
      "\n",
      "Adding counts for SCT\n",
      "\n",
      "Adding variable feature information for SCT\n",
      "\n",
      "Adding miscellaneous information for SCT\n",
      "\n",
      "Adding reduction apca\n",
      "\n",
      "Adding cell embeddings for apca\n",
      "\n",
      "Adding feature loadings for apca\n",
      "\n",
      "Adding miscellaneous information for apca\n",
      "\n",
      "Adding reduction aumap\n",
      "\n",
      "Adding cell embeddings for aumap\n",
      "\n",
      "Adding miscellaneous information for aumap\n",
      "\n",
      "Adding reduction pca\n",
      "\n",
      "Adding cell embeddings for pca\n",
      "\n",
      "Adding feature loadings for pca\n",
      "\n",
      "Adding miscellaneous information for pca\n",
      "\n",
      "Adding reduction spca\n",
      "\n",
      "Adding cell embeddings for spca\n",
      "\n",
      "Adding feature loadings for spca\n",
      "\n",
      "Adding miscellaneous information for spca\n",
      "\n",
      "Adding reduction umap\n",
      "\n",
      "Adding cell embeddings for umap\n",
      "\n",
      "Adding miscellaneous information for umap\n",
      "\n",
      "Adding reduction wnn.umap\n",
      "\n",
      "Adding cell embeddings for wnn.umap\n",
      "\n",
      "Adding miscellaneous information for wnn.umap\n",
      "\n",
      "Adding graph wknn\n",
      "\n",
      "Adding graph wsnn\n",
      "\n",
      "Adding command information\n",
      "\n",
      "Adding cell-level metadata\n",
      "\n",
      "Adding miscellaneous information\n",
      "\n",
      "Adding tool-specific results\n",
      "\n"
     ]
    }
   ],
   "source": [
    "ref <- LoadH5Seurat(file = '/home/jupyter/pbmc_multimodal.h5seurat')\n"
   ]
  },
  {
   "cell_type": "code",
   "execution_count": 23,
   "id": "2e4643c0-5b29-4600-8863-151e329e3858",
   "metadata": {
    "scrolled": true,
    "tags": []
   },
   "outputs": [
    {
     "name": "stderr",
     "output_type": "stream",
     "text": [
      "Normalizing query using reference SCT model\n",
      "\n",
      "Projecting cell embeddings\n",
      "\n",
      "Finding neighborhoods\n",
      "\n",
      "Finding anchors\n",
      "\n",
      "\tFound 5404 anchors\n",
      "\n"
     ]
    }
   ],
   "source": [
    "anchors <- FindTransferAnchors(\n",
    "    reference = ref,\n",
    "    query = fully,\n",
    "    normalization.method = \"SCT\",\n",
    "    reference.reduction = \"spca\",\n",
    "    dims = 1:50\n",
    ")\n"
   ]
  },
  {
   "cell_type": "code",
   "execution_count": 24,
   "id": "6941a49f-e43b-4fd9-9b15-1ca32b38d4fd",
   "metadata": {
    "scrolled": true,
    "tags": []
   },
   "outputs": [
    {
     "name": "stderr",
     "output_type": "stream",
     "text": [
      "Finding integration vectors\n",
      "\n",
      "Finding integration vector weights\n",
      "\n",
      "Predicting cell labels\n",
      "\n",
      "Warning message:\n",
      "“Layer counts isn't present in the assay object; returning NULL”\n",
      "Predicting cell labels\n",
      "\n",
      "Warning message:\n",
      "“Feature names cannot have underscores ('_'), replacing with dashes ('-')”\n",
      "Warning message:\n",
      "“Layer counts isn't present in the assay object; returning NULL”\n",
      "Predicting cell labels\n",
      "\n",
      "Warning message:\n",
      "“Feature names cannot have underscores ('_'), replacing with dashes ('-')”\n",
      "Warning message:\n",
      "“Layer counts isn't present in the assay object; returning NULL”\n",
      "Transfering 228 features onto reference data\n",
      "\n",
      "Warning message:\n",
      "“Layer counts isn't present in the assay object; returning NULL”\n"
     ]
    }
   ],
   "source": [
    "fully <- TransferData(\n",
    "    anchorset = anchors, \n",
    "    reference = ref, \n",
    "    query = fully,\n",
    "    refdata = list(\n",
    "        celltype.l1 = \"celltype.l1\",\n",
    "        celltype.l2 = \"celltype.l2\",\n",
    "        celltype.l3 = \"celltype.l3\",\n",
    "        predicted_ADT = 'ADT'\n",
    "    )\n",
    ")"
   ]
  },
  {
   "cell_type": "code",
   "execution_count": 31,
   "id": "b8989cb8-6fcc-4fcc-824a-699b02f86faa",
   "metadata": {},
   "outputs": [
    {
     "data": {
      "text/plain": [
       "An object of class Seurat \n",
       "18407 features across 127091 samples within 5 assays \n",
       "Active assay: RNA (18082 features, 2000 variable features)\n",
       " 3 layers present: counts, data, scale.data\n",
       " 4 other assays present: prediction.score.celltype.l1, prediction.score.celltype.l2, prediction.score.celltype.l3, predicted_ADT\n",
       " 2 dimensional reductions calculated: pca, umap"
      ]
     },
     "metadata": {},
     "output_type": "display_data"
    }
   ],
   "source": [
    "fully"
   ]
  },
  {
   "cell_type": "code",
   "execution_count": 25,
   "id": "e9420563-fcad-475a-a894-68ee5a1c1372",
   "metadata": {},
   "outputs": [],
   "source": [
    "fully <- JoinLayers(fully)"
   ]
  },
  {
   "cell_type": "code",
   "execution_count": 26,
   "id": "8c9a6800-1b5b-485a-b2b6-049d5869d254",
   "metadata": {},
   "outputs": [],
   "source": [
    "fully$donor_tech <- paste0(fully$donor,'_',fully$tech)"
   ]
  },
  {
   "cell_type": "code",
   "execution_count": 27,
   "id": "02716f98-3bb8-4c52-85a2-afec28df3127",
   "metadata": {},
   "outputs": [],
   "source": [
    "saveRDS(fully, '/home/jupyter/CS15_WHBL/CWB_Paper/01_Final_Data/05_Data/Fig_5_Final.rds')"
   ]
  },
  {
   "cell_type": "code",
   "execution_count": 28,
   "id": "5102c915-658f-4675-a5d6-e8e4d18691f0",
   "metadata": {},
   "outputs": [
    {
     "data": {
      "text/plain": [
       "R version 4.1.3 (2022-03-10)\n",
       "Platform: x86_64-pc-linux-gnu (64-bit)\n",
       "Running under: Ubuntu 20.04.4 LTS\n",
       "\n",
       "Matrix products: default\n",
       "BLAS:   /usr/lib/x86_64-linux-gnu/openblas-pthread/libblas.so.3\n",
       "LAPACK: /usr/lib/x86_64-linux-gnu/openblas-pthread/liblapack.so.3\n",
       "\n",
       "locale:\n",
       " [1] LC_CTYPE=C.UTF-8       LC_NUMERIC=C           LC_TIME=C.UTF-8       \n",
       " [4] LC_COLLATE=C.UTF-8     LC_MONETARY=C.UTF-8    LC_MESSAGES=C.UTF-8   \n",
       " [7] LC_PAPER=C.UTF-8       LC_NAME=C              LC_ADDRESS=C          \n",
       "[10] LC_TELEPHONE=C         LC_MEASUREMENT=C.UTF-8 LC_IDENTIFICATION=C   \n",
       "\n",
       "attached base packages:\n",
       "[1] stats     graphics  grDevices utils     datasets  methods   base     \n",
       "\n",
       "other attached packages:\n",
       " [1] SeuratDisk_0.0.0.9020 ggrepel_0.9.5         lubridate_1.9.3      \n",
       " [4] forcats_1.0.0         stringr_1.5.1         purrr_1.0.2          \n",
       " [7] readr_2.1.5           tidyr_1.3.1           tibble_3.2.1         \n",
       "[10] ggplot2_3.4.3         tidyverse_2.0.0       hise_2.15.0          \n",
       "[13] H5weaver_1.2.0        rhdf5_2.38.1          Matrix_1.6-4         \n",
       "[16] data.table_1.14.2     patchwork_1.1.1       Seurat_5.1.0         \n",
       "[19] SeuratObject_5.0.2    sp_2.1-4              dplyr_1.1.4          \n",
       "\n",
       "loaded via a namespace (and not attached):\n",
       "  [1] Rtsne_0.16             colorspace_2.0-3       deldir_1.0-6          \n",
       "  [4] ellipsis_0.3.2         ggridges_0.5.3         IRdisplay_1.1         \n",
       "  [7] RcppHNSW_0.3.0         base64enc_0.1-3        spatstat.data_3.0-4   \n",
       " [10] leiden_0.3.10          listenv_0.8.0          bit64_4.0.5           \n",
       " [13] RSpectra_0.16-1        fansi_1.0.3            codetools_0.2-18      \n",
       " [16] splines_4.1.3          polyclip_1.10-0        IRkernel_1.3          \n",
       " [19] spam_2.8-0             jsonlite_1.8.8         ica_1.0-2             \n",
       " [22] cluster_2.1.3          png_0.1-7              uwot_0.1.11           \n",
       " [25] shiny_1.7.1            sctransform_0.4.1      spatstat.sparse_3.0-3 \n",
       " [28] compiler_4.1.3         httr_1.4.7             fastmap_1.2.0         \n",
       " [31] lazyeval_0.2.2         cli_3.6.2              later_1.3.0           \n",
       " [34] htmltools_0.5.2        tools_4.1.3            igraph_1.3.1          \n",
       " [37] dotCall64_1.0-1        gtable_0.3.0           glue_1.6.2            \n",
       " [40] RANN_2.6.1             reshape2_1.4.4         Rcpp_1.0.8.3          \n",
       " [43] scattermore_1.2        rhdf5filters_1.6.0     vctrs_0.6.5           \n",
       " [46] nlme_3.1-157           spatstat.explore_3.2-7 progressr_0.10.0      \n",
       " [49] lmtest_0.9-40          spatstat.random_3.2-3  globals_0.14.0        \n",
       " [52] timechange_0.3.0       mime_0.12              miniUI_0.1.1.1        \n",
       " [55] lifecycle_1.0.4        irlba_2.3.5            goftest_1.2-3         \n",
       " [58] future_1.25.0          MASS_7.3-57            zoo_1.8-10            \n",
       " [61] scales_1.3.0           hms_1.1.3              promises_1.2.0.1      \n",
       " [64] spatstat.utils_3.0-4   parallel_4.1.3         RColorBrewer_1.1-3    \n",
       " [67] reticulate_1.24        pbapply_1.5-0          gridExtra_2.3         \n",
       " [70] stringi_1.7.6          fastDummies_1.7.3      repr_1.1.4.9000       \n",
       " [73] rlang_1.1.3            pkgconfig_2.0.3        matrixStats_0.62.0    \n",
       " [76] evaluate_0.15          lattice_0.20-45        Rhdf5lib_1.16.0       \n",
       " [79] ROCR_1.0-11            tensor_1.5             htmlwidgets_1.5.4     \n",
       " [82] bit_4.0.4              cowplot_1.1.1          tidyselect_1.2.1      \n",
       " [85] parallelly_1.31.1      RcppAnnoy_0.0.19       plyr_1.8.7            \n",
       " [88] magrittr_2.0.3         R6_2.5.1               generics_0.1.3        \n",
       " [91] pbdZMQ_0.3-7           withr_2.5.0            pillar_1.9.0          \n",
       " [94] fitdistrplus_1.1-8     survival_3.3-1         abind_1.4-5           \n",
       " [97] future.apply_1.9.0     hdf5r_1.3.5            crayon_1.5.1          \n",
       "[100] uuid_1.1-0             KernSmooth_2.23-20     utf8_1.2.2            \n",
       "[103] spatstat.geom_3.2-9    plotly_4.10.0          tzdb_0.4.0            \n",
       "[106] grid_4.1.3             digest_0.6.29          xtable_1.8-4          \n",
       "[109] httpuv_1.6.5           munsell_0.5.0          viridisLite_0.4.0     "
      ]
     },
     "metadata": {},
     "output_type": "display_data"
    }
   ],
   "source": [
    "sessionInfo()"
   ]
  },
  {
   "cell_type": "code",
   "execution_count": null,
   "id": "f674312b-68cd-4b41-bd55-3374a2ec7548",
   "metadata": {},
   "outputs": [],
   "source": []
  },
  {
   "cell_type": "code",
   "execution_count": 21,
   "id": "3ed8592f-8e43-4432-aeb1-397dcb285dd6",
   "metadata": {},
   "outputs": [],
   "source": [
    "split <- SplitObject(fully, split.by='donor')\n"
   ]
  },
  {
   "cell_type": "code",
   "execution_count": 22,
   "id": "6d155436-0f2b-4a1b-96af-07f0b687fdc5",
   "metadata": {
    "scrolled": true,
    "tags": []
   },
   "outputs": [
    {
     "data": {
      "text/plain": [
       "$CD28_sa\n",
       "An object of class Seurat \n",
       "18407 features across 23930 samples within 5 assays \n",
       "Active assay: RNA (18082 features, 2000 variable features)\n",
       " 3 layers present: counts, data, scale.data\n",
       " 4 other assays present: prediction.score.celltype.l1, prediction.score.celltype.l2, prediction.score.celltype.l3, predicted_ADT\n",
       " 2 dimensional reductions calculated: pca, umap\n",
       "\n",
       "$tim_sam\n",
       "An object of class Seurat \n",
       "18407 features across 46697 samples within 5 assays \n",
       "Active assay: RNA (18082 features, 2000 variable features)\n",
       " 3 layers present: counts, data, scale.data\n",
       " 4 other assays present: prediction.score.celltype.l1, prediction.score.celltype.l2, prediction.score.celltype.l3, predicted_ADT\n",
       " 2 dimensional reductions calculated: pca, umap\n",
       "\n",
       "$I_sampl\n",
       "An object of class Seurat \n",
       "18407 features across 13961 samples within 5 assays \n",
       "Active assay: RNA (18082 features, 2000 variable features)\n",
       " 3 layers present: counts, data, scale.data\n",
       " 4 other assays present: prediction.score.celltype.l1, prediction.score.celltype.l2, prediction.score.celltype.l3, predicted_ADT\n",
       " 2 dimensional reductions calculated: pca, umap\n",
       "\n",
       "$`_sample`\n",
       "An object of class Seurat \n",
       "18407 features across 42503 samples within 5 assays \n",
       "Active assay: RNA (18082 features, 2000 variable features)\n",
       " 3 layers present: counts, data, scale.data\n",
       " 4 other assays present: prediction.score.celltype.l1, prediction.score.celltype.l2, prediction.score.celltype.l3, predicted_ADT\n",
       " 2 dimensional reductions calculated: pca, umap\n"
      ]
     },
     "metadata": {},
     "output_type": "display_data"
    }
   ],
   "source": [
    "split"
   ]
  },
  {
   "cell_type": "code",
   "execution_count": 23,
   "id": "4d893d05-7dc3-4ffa-a554-ed3ef28c7378",
   "metadata": {},
   "outputs": [
    {
     "ename": "ERROR",
     "evalue": "Error in eval(expr, envir, enclos): object 'split_cl' not found\n",
     "output_type": "error",
     "traceback": [
      "Error in eval(expr, envir, enclos): object 'split_cl' not found\nTraceback:\n"
     ]
    }
   ],
   "source": [
    "BL05012_cl <- split_cl$BL05012\n",
    "BL05111_cl <- split_cl$BL05111\n",
    "BL05731_cl <- split_cl$BL05731\n",
    "PB02183_cl <- split_cl$PB02183\n"
   ]
  },
  {
   "cell_type": "code",
   "execution_count": null,
   "id": "b2ad3a88-8c27-4a67-8fc0-aa6cafea7e37",
   "metadata": {},
   "outputs": [],
   "source": [
    "BL05012_cl <- SplitObject(BL05012_cl, split.by='predicted.celltype.l1')\n",
    "BL05111_cl <- SplitObject(BL05111_cl, split.by='predicted.celltype.l1')\n",
    "BL05731_cl <- SplitObject(BL05731_cl, split.by='predicted.celltype.l1')\n",
    "PB02183_cl <- SplitObject(PB02183_cl, split.by='predicted.celltype.l1')\n"
   ]
  },
  {
   "cell_type": "code",
   "execution_count": null,
   "id": "cf82dfae-853a-423c-96bc-f15761e0c02f",
   "metadata": {},
   "outputs": [],
   "source": [
    "sessionInfo()"
   ]
  }
 ],
 "metadata": {
  "kernelspec": {
   "display_name": "R 4",
   "language": "R",
   "name": "ir"
  },
  "language_info": {
   "codemirror_mode": "r",
   "file_extension": ".r",
   "mimetype": "text/x-r-source",
   "name": "R",
   "pygments_lexer": "r",
   "version": "4.1.3"
  }
 },
 "nbformat": 4,
 "nbformat_minor": 5
}

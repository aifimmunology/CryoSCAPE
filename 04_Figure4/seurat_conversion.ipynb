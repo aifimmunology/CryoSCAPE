{
 "cells": [
  {
   "cell_type": "code",
   "execution_count": 1,
   "id": "0c04239d-dad6-44fb-81c5-7b07c5a78ab3",
   "metadata": {},
   "outputs": [
    {
     "name": "stderr",
     "output_type": "stream",
     "text": [
      "Loading required package: SeuratObject\n",
      "\n",
      "Loading required package: sp\n",
      "\n",
      "\n",
      "Attaching package: ‘SeuratObject’\n",
      "\n",
      "\n",
      "The following object is masked from ‘package:base’:\n",
      "\n",
      "    intersect\n",
      "\n",
      "\n"
     ]
    }
   ],
   "source": [
    "library(Seurat)"
   ]
  },
  {
   "cell_type": "code",
   "execution_count": 2,
   "id": "d2eab5b6-4923-4ad0-be1f-82c03d5e8063",
   "metadata": {},
   "outputs": [],
   "source": [
    "so <- readRDS(file = 'Exp918_fully.rds')"
   ]
  },
  {
   "cell_type": "code",
   "execution_count": 4,
   "id": "6e9e2816-2f55-4651-bbc4-5cd765041dfe",
   "metadata": {},
   "outputs": [],
   "source": [
    "so <- JoinLayers(so)"
   ]
  },
  {
   "cell_type": "code",
   "execution_count": 5,
   "id": "b66b5423-8c35-4ea6-98a7-dd36bd7fd2ed",
   "metadata": {},
   "outputs": [
    {
     "data": {
      "text/plain": [
       "An object of class Seurat \n",
       "18082 features across 429366 samples within 1 assay \n",
       "Active assay: RNA (18082 features, 0 variable features)\n",
       " 1 layer present: counts"
      ]
     },
     "metadata": {},
     "output_type": "display_data"
    }
   ],
   "source": [
    "so"
   ]
  },
  {
   "cell_type": "code",
   "execution_count": 6,
   "id": "28ed88ca-350c-469a-8f75-d53660c8db8d",
   "metadata": {},
   "outputs": [],
   "source": [
    "mtx <- so[['RNA']]$counts"
   ]
  },
  {
   "cell_type": "code",
   "execution_count": 8,
   "id": "bc3fa353-9c09-4d65-a68a-a6f79f2df7a4",
   "metadata": {},
   "outputs": [],
   "source": [
    "meta <- so@meta.data"
   ]
  },
  {
   "cell_type": "code",
   "execution_count": 9,
   "id": "d7eae6e5-cbee-4f5a-b54d-eca896033edd",
   "metadata": {},
   "outputs": [],
   "source": [
    "saveRDS(mtx, 'exp918_mtx.rds')\n",
    "saveRDS(meta, 'exp918_meta.rds')"
   ]
  },
  {
   "cell_type": "code",
   "execution_count": 10,
   "id": "39368a21-d7a1-458e-961e-86939274961b",
   "metadata": {},
   "outputs": [
    {
     "data": {
      "text/html": [
       "<table class=\"dataframe\">\n",
       "<caption>A data.frame: 6 × 6</caption>\n",
       "<thead>\n",
       "\t<tr><th></th><th scope=col>orig.ident</th><th scope=col>nCount_RNA</th><th scope=col>nFeature_RNA</th><th scope=col>donor</th><th scope=col>well</th><th scope=col>donor2</th></tr>\n",
       "\t<tr><th></th><th scope=col>&lt;chr&gt;</th><th scope=col>&lt;dbl&gt;</th><th scope=col>&lt;int&gt;</th><th scope=col>&lt;chr&gt;</th><th scope=col>&lt;chr&gt;</th><th scope=col>&lt;chr&gt;</th></tr>\n",
       "</thead>\n",
       "<tbody>\n",
       "\t<tr><th scope=row>AAACAAGCACCGGTAGACTTTAGG-1_1</th><td>Exp00918_w1_BL05013-033</td><td> 6654</td><td>3198</td><td>BL05013</td><td>w1</td><td>BL05013-033</td></tr>\n",
       "\t<tr><th scope=row>AAACAAGCACTAAGGCACTTTAGG-1_1</th><td>Exp00918_w1_BL05013-033</td><td> 5889</td><td>2988</td><td>BL05013</td><td>w1</td><td>BL05013-033</td></tr>\n",
       "\t<tr><th scope=row>AAACAAGCACTCCCTTACTTTAGG-1_1</th><td>Exp00918_w1_BL05013-033</td><td>14577</td><td>4339</td><td>BL05013</td><td>w1</td><td>BL05013-033</td></tr>\n",
       "\t<tr><th scope=row>AAACAAGCATTCCTTTACTTTAGG-1_1</th><td>Exp00918_w1_BL05013-033</td><td>11459</td><td>4099</td><td>BL05013</td><td>w1</td><td>BL05013-033</td></tr>\n",
       "\t<tr><th scope=row>AAACAAGCATTTAGCCACTTTAGG-1_1</th><td>Exp00918_w1_BL05013-033</td><td> 5790</td><td>2967</td><td>BL05013</td><td>w1</td><td>BL05013-033</td></tr>\n",
       "\t<tr><th scope=row>AAACCAATCAATGTTCACTTTAGG-1_1</th><td>Exp00918_w1_BL05013-033</td><td>20776</td><td>5697</td><td>BL05013</td><td>w1</td><td>BL05013-033</td></tr>\n",
       "</tbody>\n",
       "</table>\n"
      ],
      "text/latex": [
       "A data.frame: 6 × 6\n",
       "\\begin{tabular}{r|llllll}\n",
       "  & orig.ident & nCount\\_RNA & nFeature\\_RNA & donor & well & donor2\\\\\n",
       "  & <chr> & <dbl> & <int> & <chr> & <chr> & <chr>\\\\\n",
       "\\hline\n",
       "\tAAACAAGCACCGGTAGACTTTAGG-1\\_1 & Exp00918\\_w1\\_BL05013-033 &  6654 & 3198 & BL05013 & w1 & BL05013-033\\\\\n",
       "\tAAACAAGCACTAAGGCACTTTAGG-1\\_1 & Exp00918\\_w1\\_BL05013-033 &  5889 & 2988 & BL05013 & w1 & BL05013-033\\\\\n",
       "\tAAACAAGCACTCCCTTACTTTAGG-1\\_1 & Exp00918\\_w1\\_BL05013-033 & 14577 & 4339 & BL05013 & w1 & BL05013-033\\\\\n",
       "\tAAACAAGCATTCCTTTACTTTAGG-1\\_1 & Exp00918\\_w1\\_BL05013-033 & 11459 & 4099 & BL05013 & w1 & BL05013-033\\\\\n",
       "\tAAACAAGCATTTAGCCACTTTAGG-1\\_1 & Exp00918\\_w1\\_BL05013-033 &  5790 & 2967 & BL05013 & w1 & BL05013-033\\\\\n",
       "\tAAACCAATCAATGTTCACTTTAGG-1\\_1 & Exp00918\\_w1\\_BL05013-033 & 20776 & 5697 & BL05013 & w1 & BL05013-033\\\\\n",
       "\\end{tabular}\n"
      ],
      "text/markdown": [
       "\n",
       "A data.frame: 6 × 6\n",
       "\n",
       "| <!--/--> | orig.ident &lt;chr&gt; | nCount_RNA &lt;dbl&gt; | nFeature_RNA &lt;int&gt; | donor &lt;chr&gt; | well &lt;chr&gt; | donor2 &lt;chr&gt; |\n",
       "|---|---|---|---|---|---|---|\n",
       "| AAACAAGCACCGGTAGACTTTAGG-1_1 | Exp00918_w1_BL05013-033 |  6654 | 3198 | BL05013 | w1 | BL05013-033 |\n",
       "| AAACAAGCACTAAGGCACTTTAGG-1_1 | Exp00918_w1_BL05013-033 |  5889 | 2988 | BL05013 | w1 | BL05013-033 |\n",
       "| AAACAAGCACTCCCTTACTTTAGG-1_1 | Exp00918_w1_BL05013-033 | 14577 | 4339 | BL05013 | w1 | BL05013-033 |\n",
       "| AAACAAGCATTCCTTTACTTTAGG-1_1 | Exp00918_w1_BL05013-033 | 11459 | 4099 | BL05013 | w1 | BL05013-033 |\n",
       "| AAACAAGCATTTAGCCACTTTAGG-1_1 | Exp00918_w1_BL05013-033 |  5790 | 2967 | BL05013 | w1 | BL05013-033 |\n",
       "| AAACCAATCAATGTTCACTTTAGG-1_1 | Exp00918_w1_BL05013-033 | 20776 | 5697 | BL05013 | w1 | BL05013-033 |\n",
       "\n"
      ],
      "text/plain": [
       "                             orig.ident              nCount_RNA nFeature_RNA\n",
       "AAACAAGCACCGGTAGACTTTAGG-1_1 Exp00918_w1_BL05013-033  6654      3198        \n",
       "AAACAAGCACTAAGGCACTTTAGG-1_1 Exp00918_w1_BL05013-033  5889      2988        \n",
       "AAACAAGCACTCCCTTACTTTAGG-1_1 Exp00918_w1_BL05013-033 14577      4339        \n",
       "AAACAAGCATTCCTTTACTTTAGG-1_1 Exp00918_w1_BL05013-033 11459      4099        \n",
       "AAACAAGCATTTAGCCACTTTAGG-1_1 Exp00918_w1_BL05013-033  5790      2967        \n",
       "AAACCAATCAATGTTCACTTTAGG-1_1 Exp00918_w1_BL05013-033 20776      5697        \n",
       "                             donor   well donor2     \n",
       "AAACAAGCACCGGTAGACTTTAGG-1_1 BL05013 w1   BL05013-033\n",
       "AAACAAGCACTAAGGCACTTTAGG-1_1 BL05013 w1   BL05013-033\n",
       "AAACAAGCACTCCCTTACTTTAGG-1_1 BL05013 w1   BL05013-033\n",
       "AAACAAGCATTCCTTTACTTTAGG-1_1 BL05013 w1   BL05013-033\n",
       "AAACAAGCATTTAGCCACTTTAGG-1_1 BL05013 w1   BL05013-033\n",
       "AAACCAATCAATGTTCACTTTAGG-1_1 BL05013 w1   BL05013-033"
      ]
     },
     "metadata": {},
     "output_type": "display_data"
    }
   ],
   "source": [
    "head(meta)"
   ]
  },
  {
   "cell_type": "code",
   "execution_count": 11,
   "id": "7e1d74c3-188f-4e8a-b382-307300fc677a",
   "metadata": {},
   "outputs": [
    {
     "data": {
      "text/plain": [
       "\n",
       "BL05013 BL05045 BL05113 BL05759 BL05760 PB02183 \n",
       "  80512   80718   76120   78030   83144   30842 "
      ]
     },
     "metadata": {},
     "output_type": "display_data"
    }
   ],
   "source": [
    "table(meta$donor)"
   ]
  },
  {
   "cell_type": "code",
   "execution_count": 13,
   "id": "c1d2fc77-e11e-4c75-b0bb-aad8af33931d",
   "metadata": {},
   "outputs": [
    {
     "data": {
      "text/plain": [
       "\n",
       "BL05013-033 BL05013-034 BL05013-035 BL05013-036 BL05013-037 BL05013-038 \n",
       "       6135        6513        6452        6529        6601        6600 \n",
       "BL05013-039 BL05013-040 BL05013-041 BL05013-042 BL05013-043 BL05013-044 \n",
       "       5883        6224        6782        6840        7193        8760 \n",
       "BL05045-048 BL05045-049 BL05045-050 BL05045-051 BL05045-052 BL05045-053 \n",
       "       6757        7212        7069        5682        7328        6351 \n",
       "BL05045-054 BL05045-055 BL05045-056 BL05045-057 BL05045-058 BL05045-059 \n",
       "       6540        5824        6178        6761        7548        7468 \n",
       "BL05113-013 BL05113-014 BL05113-015 BL05113-016 BL05113-017 BL05113-018 \n",
       "       6744        6064        6545        6089        6138        6330 \n",
       "BL05113-019 BL05113-020 BL05113-021 BL05113-022 BL05113-023 BL05113-024 \n",
       "       4996        5776        6292        7883        7295        5968 \n",
       "BL05759-020 BL05759-021 BL05759-022 BL05759-023 BL05759-024 BL05759-025 \n",
       "       6289        6797        6381        6226        6612        6615 \n",
       "BL05759-026 BL05759-027 BL05759-028 BL05759-029 BL05759-030 BL05759-031 \n",
       "       5224        5945        6776        7041        7150        6974 \n",
       "BL05760-028 BL05760-029 BL05760-030 BL05760-031 BL05760-032 BL05760-033 \n",
       "       6467        6401        7090        6209        7150        6294 \n",
       "BL05760-034 BL05760-035 BL05760-036 BL05760-037 BL05760-038 BL05760-039 \n",
       "       5826        8953        5634        7314        7952        7854 \n",
       "PB02183-154 \n",
       "      30842 "
      ]
     },
     "metadata": {},
     "output_type": "display_data"
    }
   ],
   "source": [
    "table(meta$donor2)"
   ]
  },
  {
   "cell_type": "code",
   "execution_count": null,
   "id": "09689fa0-a44d-4552-8568-94dac9a8aa2c",
   "metadata": {},
   "outputs": [],
   "source": []
  }
 ],
 "metadata": {
  "kernelspec": {
   "display_name": "R",
   "language": "R",
   "name": "ir"
  },
  "language_info": {
   "codemirror_mode": "r",
   "file_extension": ".r",
   "mimetype": "text/x-r-source",
   "name": "R",
   "pygments_lexer": "r",
   "version": "4.2.2"
  }
 },
 "nbformat": 4,
 "nbformat_minor": 5
}

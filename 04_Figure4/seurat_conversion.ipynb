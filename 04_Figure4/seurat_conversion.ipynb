{
 "cells": [
  {
   "cell_type": "code",
   "execution_count": 1,
   "id": "0c04239d-dad6-44fb-81c5-7b07c5a78ab3",
   "metadata": {},
   "outputs": [
    {
     "name": "stderr",
     "output_type": "stream",
     "text": [
      "Loading required package: SeuratObject\n",
      "\n",
      "Loading required package: sp\n",
      "\n",
      "\n",
      "Attaching package: ‘SeuratObject’\n",
      "\n",
      "\n",
      "The following objects are masked from ‘package:base’:\n",
      "\n",
      "    intersect, t\n",
      "\n",
      "\n"
     ]
    }
   ],
   "source": [
    "library(Seurat)"
   ]
  },
  {
   "cell_type": "code",
   "execution_count": 2,
   "id": "d2eab5b6-4923-4ad0-be1f-82c03d5e8063",
   "metadata": {},
   "outputs": [],
   "source": [
    "so <- readRDS(file = '/home/jupyter/CS15_WHBL/CWB_Paper/01_Final_Data/04_Data/Fig_4_Final.rds')"
   ]
  },
  {
   "cell_type": "code",
   "execution_count": 3,
   "id": "6e9e2816-2f55-4651-bbc4-5cd765041dfe",
   "metadata": {},
   "outputs": [],
   "source": [
    "so <- JoinLayers(so)"
   ]
  },
  {
   "cell_type": "code",
   "execution_count": 4,
   "id": "b66b5423-8c35-4ea6-98a7-dd36bd7fd2ed",
   "metadata": {},
   "outputs": [
    {
     "data": {
      "text/plain": [
       "An object of class Seurat \n",
       "18082 features across 411871 samples within 1 assay \n",
       "Active assay: RNA (18082 features, 2000 variable features)\n",
       " 3 layers present: counts, data, scale.data\n",
       " 2 dimensional reductions calculated: pca, umap"
      ]
     },
     "metadata": {},
     "output_type": "display_data"
    }
   ],
   "source": [
    "so"
   ]
  },
  {
   "cell_type": "code",
   "execution_count": 5,
   "id": "28ed88ca-350c-469a-8f75-d53660c8db8d",
   "metadata": {},
   "outputs": [],
   "source": [
    "mtx <- so[['RNA']]$counts"
   ]
  },
  {
   "cell_type": "code",
   "execution_count": 6,
   "id": "bc3fa353-9c09-4d65-a68a-a6f79f2df7a4",
   "metadata": {},
   "outputs": [],
   "source": [
    "meta <- so@meta.data"
   ]
  },
  {
   "cell_type": "code",
   "execution_count": 7,
   "id": "d7eae6e5-cbee-4f5a-b54d-eca896033edd",
   "metadata": {},
   "outputs": [],
   "source": [
    "saveRDS(mtx, 'exp918_mtx.rds')\n",
    "saveRDS(meta, 'exp918_meta.rds')"
   ]
  },
  {
   "cell_type": "code",
   "execution_count": 8,
   "id": "39368a21-d7a1-458e-961e-86939274961b",
   "metadata": {},
   "outputs": [
    {
     "data": {
      "text/html": [
       "<table class=\"dataframe\">\n",
       "<caption>A data.frame: 6 × 12</caption>\n",
       "<thead>\n",
       "\t<tr><th></th><th scope=col>orig.ident</th><th scope=col>nCount_RNA</th><th scope=col>nFeature_RNA</th><th scope=col>Barcodes</th><th scope=col>Doublet_Score</th><th scope=col>Predicted_Doublet</th><th scope=col>percent.mt</th><th scope=col>well</th><th scope=col>donor</th><th scope=col>donor2</th><th scope=col>RNA_snn_res.0.5</th><th scope=col>seurat_clusters</th></tr>\n",
       "\t<tr><th></th><th scope=col>&lt;chr&gt;</th><th scope=col>&lt;dbl&gt;</th><th scope=col>&lt;int&gt;</th><th scope=col>&lt;chr&gt;</th><th scope=col>&lt;dbl&gt;</th><th scope=col>&lt;chr&gt;</th><th scope=col>&lt;dbl&gt;</th><th scope=col>&lt;chr&gt;</th><th scope=col>&lt;chr&gt;</th><th scope=col>&lt;chr&gt;</th><th scope=col>&lt;fct&gt;</th><th scope=col>&lt;fct&gt;</th></tr>\n",
       "</thead>\n",
       "<tbody>\n",
       "\t<tr><th scope=row>AAACAAGCACCGGTAGACTTTAGG-1_1</th><td>BL05013-033_w1</td><td> 6654</td><td>3198</td><td>AAACAAGCACCGGTAGACTTTAGG-1</td><td>0.04133545</td><td>False</td><td>2.1791404</td><td>w1</td><td>BL05013</td><td>BL05013-033</td><td>3 </td><td>3 </td></tr>\n",
       "\t<tr><th scope=row>AAACAAGCACTCCCTTACTTTAGG-1_1</th><td>BL05013-033_w1</td><td>14577</td><td>4339</td><td>AAACAAGCACTCCCTTACTTTAGG-1</td><td>0.01758642</td><td>False</td><td>0.4047472</td><td>w1</td><td>BL05013</td><td>BL05013-033</td><td>2 </td><td>2 </td></tr>\n",
       "\t<tr><th scope=row>AAACAAGCATTCCTTTACTTTAGG-1_1</th><td>BL05013-033_w1</td><td>11459</td><td>4099</td><td>AAACAAGCATTCCTTTACTTTAGG-1</td><td>0.01044530</td><td>False</td><td>0.9424906</td><td>w1</td><td>BL05013</td><td>BL05013-033</td><td>10</td><td>10</td></tr>\n",
       "\t<tr><th scope=row>AAACAAGCATTTAGCCACTTTAGG-1_1</th><td>BL05013-033_w1</td><td> 5790</td><td>2967</td><td>AAACAAGCATTTAGCCACTTTAGG-1</td><td>0.02735978</td><td>False</td><td>2.6943005</td><td>w1</td><td>BL05013</td><td>BL05013-033</td><td>5 </td><td>5 </td></tr>\n",
       "\t<tr><th scope=row>AAACCAATCAGTAGCGACTTTAGG-1_1</th><td>BL05013-033_w1</td><td> 4833</td><td>2662</td><td>AAACCAATCAGTAGCGACTTTAGG-1</td><td>0.05347594</td><td>False</td><td>1.6139044</td><td>w1</td><td>BL05013</td><td>BL05013-033</td><td>0 </td><td>0 </td></tr>\n",
       "\t<tr><th scope=row>AAACCAATCCCTGGTGACTTTAGG-1_1</th><td>BL05013-033_w1</td><td> 7424</td><td>3490</td><td>AAACCAATCCCTGGTGACTTTAGG-1</td><td>0.01680672</td><td>False</td><td>0.8890086</td><td>w1</td><td>BL05013</td><td>BL05013-033</td><td>9 </td><td>9 </td></tr>\n",
       "</tbody>\n",
       "</table>\n"
      ],
      "text/latex": [
       "A data.frame: 6 × 12\n",
       "\\begin{tabular}{r|llllllllllll}\n",
       "  & orig.ident & nCount\\_RNA & nFeature\\_RNA & Barcodes & Doublet\\_Score & Predicted\\_Doublet & percent.mt & well & donor & donor2 & RNA\\_snn\\_res.0.5 & seurat\\_clusters\\\\\n",
       "  & <chr> & <dbl> & <int> & <chr> & <dbl> & <chr> & <dbl> & <chr> & <chr> & <chr> & <fct> & <fct>\\\\\n",
       "\\hline\n",
       "\tAAACAAGCACCGGTAGACTTTAGG-1\\_1 & BL05013-033\\_w1 &  6654 & 3198 & AAACAAGCACCGGTAGACTTTAGG-1 & 0.04133545 & False & 2.1791404 & w1 & BL05013 & BL05013-033 & 3  & 3 \\\\\n",
       "\tAAACAAGCACTCCCTTACTTTAGG-1\\_1 & BL05013-033\\_w1 & 14577 & 4339 & AAACAAGCACTCCCTTACTTTAGG-1 & 0.01758642 & False & 0.4047472 & w1 & BL05013 & BL05013-033 & 2  & 2 \\\\\n",
       "\tAAACAAGCATTCCTTTACTTTAGG-1\\_1 & BL05013-033\\_w1 & 11459 & 4099 & AAACAAGCATTCCTTTACTTTAGG-1 & 0.01044530 & False & 0.9424906 & w1 & BL05013 & BL05013-033 & 10 & 10\\\\\n",
       "\tAAACAAGCATTTAGCCACTTTAGG-1\\_1 & BL05013-033\\_w1 &  5790 & 2967 & AAACAAGCATTTAGCCACTTTAGG-1 & 0.02735978 & False & 2.6943005 & w1 & BL05013 & BL05013-033 & 5  & 5 \\\\\n",
       "\tAAACCAATCAGTAGCGACTTTAGG-1\\_1 & BL05013-033\\_w1 &  4833 & 2662 & AAACCAATCAGTAGCGACTTTAGG-1 & 0.05347594 & False & 1.6139044 & w1 & BL05013 & BL05013-033 & 0  & 0 \\\\\n",
       "\tAAACCAATCCCTGGTGACTTTAGG-1\\_1 & BL05013-033\\_w1 &  7424 & 3490 & AAACCAATCCCTGGTGACTTTAGG-1 & 0.01680672 & False & 0.8890086 & w1 & BL05013 & BL05013-033 & 9  & 9 \\\\\n",
       "\\end{tabular}\n"
      ],
      "text/markdown": [
       "\n",
       "A data.frame: 6 × 12\n",
       "\n",
       "| <!--/--> | orig.ident &lt;chr&gt; | nCount_RNA &lt;dbl&gt; | nFeature_RNA &lt;int&gt; | Barcodes &lt;chr&gt; | Doublet_Score &lt;dbl&gt; | Predicted_Doublet &lt;chr&gt; | percent.mt &lt;dbl&gt; | well &lt;chr&gt; | donor &lt;chr&gt; | donor2 &lt;chr&gt; | RNA_snn_res.0.5 &lt;fct&gt; | seurat_clusters &lt;fct&gt; |\n",
       "|---|---|---|---|---|---|---|---|---|---|---|---|---|\n",
       "| AAACAAGCACCGGTAGACTTTAGG-1_1 | BL05013-033_w1 |  6654 | 3198 | AAACAAGCACCGGTAGACTTTAGG-1 | 0.04133545 | False | 2.1791404 | w1 | BL05013 | BL05013-033 | 3  | 3  |\n",
       "| AAACAAGCACTCCCTTACTTTAGG-1_1 | BL05013-033_w1 | 14577 | 4339 | AAACAAGCACTCCCTTACTTTAGG-1 | 0.01758642 | False | 0.4047472 | w1 | BL05013 | BL05013-033 | 2  | 2  |\n",
       "| AAACAAGCATTCCTTTACTTTAGG-1_1 | BL05013-033_w1 | 11459 | 4099 | AAACAAGCATTCCTTTACTTTAGG-1 | 0.01044530 | False | 0.9424906 | w1 | BL05013 | BL05013-033 | 10 | 10 |\n",
       "| AAACAAGCATTTAGCCACTTTAGG-1_1 | BL05013-033_w1 |  5790 | 2967 | AAACAAGCATTTAGCCACTTTAGG-1 | 0.02735978 | False | 2.6943005 | w1 | BL05013 | BL05013-033 | 5  | 5  |\n",
       "| AAACCAATCAGTAGCGACTTTAGG-1_1 | BL05013-033_w1 |  4833 | 2662 | AAACCAATCAGTAGCGACTTTAGG-1 | 0.05347594 | False | 1.6139044 | w1 | BL05013 | BL05013-033 | 0  | 0  |\n",
       "| AAACCAATCCCTGGTGACTTTAGG-1_1 | BL05013-033_w1 |  7424 | 3490 | AAACCAATCCCTGGTGACTTTAGG-1 | 0.01680672 | False | 0.8890086 | w1 | BL05013 | BL05013-033 | 9  | 9  |\n",
       "\n"
      ],
      "text/plain": [
       "                             orig.ident     nCount_RNA nFeature_RNA\n",
       "AAACAAGCACCGGTAGACTTTAGG-1_1 BL05013-033_w1  6654      3198        \n",
       "AAACAAGCACTCCCTTACTTTAGG-1_1 BL05013-033_w1 14577      4339        \n",
       "AAACAAGCATTCCTTTACTTTAGG-1_1 BL05013-033_w1 11459      4099        \n",
       "AAACAAGCATTTAGCCACTTTAGG-1_1 BL05013-033_w1  5790      2967        \n",
       "AAACCAATCAGTAGCGACTTTAGG-1_1 BL05013-033_w1  4833      2662        \n",
       "AAACCAATCCCTGGTGACTTTAGG-1_1 BL05013-033_w1  7424      3490        \n",
       "                             Barcodes                   Doublet_Score\n",
       "AAACAAGCACCGGTAGACTTTAGG-1_1 AAACAAGCACCGGTAGACTTTAGG-1 0.04133545   \n",
       "AAACAAGCACTCCCTTACTTTAGG-1_1 AAACAAGCACTCCCTTACTTTAGG-1 0.01758642   \n",
       "AAACAAGCATTCCTTTACTTTAGG-1_1 AAACAAGCATTCCTTTACTTTAGG-1 0.01044530   \n",
       "AAACAAGCATTTAGCCACTTTAGG-1_1 AAACAAGCATTTAGCCACTTTAGG-1 0.02735978   \n",
       "AAACCAATCAGTAGCGACTTTAGG-1_1 AAACCAATCAGTAGCGACTTTAGG-1 0.05347594   \n",
       "AAACCAATCCCTGGTGACTTTAGG-1_1 AAACCAATCCCTGGTGACTTTAGG-1 0.01680672   \n",
       "                             Predicted_Doublet percent.mt well donor  \n",
       "AAACAAGCACCGGTAGACTTTAGG-1_1 False             2.1791404  w1   BL05013\n",
       "AAACAAGCACTCCCTTACTTTAGG-1_1 False             0.4047472  w1   BL05013\n",
       "AAACAAGCATTCCTTTACTTTAGG-1_1 False             0.9424906  w1   BL05013\n",
       "AAACAAGCATTTAGCCACTTTAGG-1_1 False             2.6943005  w1   BL05013\n",
       "AAACCAATCAGTAGCGACTTTAGG-1_1 False             1.6139044  w1   BL05013\n",
       "AAACCAATCCCTGGTGACTTTAGG-1_1 False             0.8890086  w1   BL05013\n",
       "                             donor2      RNA_snn_res.0.5 seurat_clusters\n",
       "AAACAAGCACCGGTAGACTTTAGG-1_1 BL05013-033 3               3              \n",
       "AAACAAGCACTCCCTTACTTTAGG-1_1 BL05013-033 2               2              \n",
       "AAACAAGCATTCCTTTACTTTAGG-1_1 BL05013-033 10              10             \n",
       "AAACAAGCATTTAGCCACTTTAGG-1_1 BL05013-033 5               5              \n",
       "AAACCAATCAGTAGCGACTTTAGG-1_1 BL05013-033 0               0              \n",
       "AAACCAATCCCTGGTGACTTTAGG-1_1 BL05013-033 9               9              "
      ]
     },
     "metadata": {},
     "output_type": "display_data"
    }
   ],
   "source": [
    "head(meta)"
   ]
  },
  {
   "cell_type": "code",
   "execution_count": 9,
   "id": "7e1d74c3-188f-4e8a-b382-307300fc677a",
   "metadata": {},
   "outputs": [
    {
     "data": {
      "text/plain": [
       "\n",
       "BL05013 BL05045 BL05113 BL05759 BL05760 PB02183 \n",
       "  76825   77227   73162   75388   79610   29659 "
      ]
     },
     "metadata": {},
     "output_type": "display_data"
    }
   ],
   "source": [
    "table(meta$donor)"
   ]
  },
  {
   "cell_type": "code",
   "execution_count": 10,
   "id": "c1d2fc77-e11e-4c75-b0bb-aad8af33931d",
   "metadata": {},
   "outputs": [
    {
     "data": {
      "text/plain": [
       "\n",
       "BL05013-033 BL05013-034 BL05013-035 BL05013-036 BL05013-037 BL05013-038 \n",
       "       5902        6228        6164        6257        6329        6302 \n",
       "BL05013-039 BL05013-040 BL05013-041 BL05013-042 BL05013-043 BL05013-044 \n",
       "       5621        5969        6433        6483        6842        8295 \n",
       "BL05045-048 BL05045-049 BL05045-050 BL05045-051 BL05045-052 BL05045-053 \n",
       "       6492        6924        6769        5500        6992        6061 \n",
       "BL05045-054 BL05045-055 BL05045-056 BL05045-057 BL05045-058 BL05045-059 \n",
       "       6227        5572        5875        6491        7216        7108 \n",
       "BL05113-013 BL05113-014 BL05113-015 BL05113-016 BL05113-017 BL05113-018 \n",
       "       6468        5854        6292        5863        5920        6102 \n",
       "BL05113-019 BL05113-020 BL05113-021 BL05113-022 BL05113-023 BL05113-024 \n",
       "       4802        5595        6032        7500        6938        5796 \n",
       "BL05759-020 BL05759-021 BL05759-022 BL05759-023 BL05759-024 BL05759-025 \n",
       "       6036        6537        6158        6034        6389        6413 \n",
       "BL05759-026 BL05759-027 BL05759-028 BL05759-029 BL05759-030 BL05759-031 \n",
       "       5078        5729        6527        6847        6889        6751 \n",
       "BL05760-028 BL05760-029 BL05760-030 BL05760-031 BL05760-032 BL05760-033 \n",
       "       6175        6185        6832        6019        6809        6079 \n",
       "BL05760-034 BL05760-035 BL05760-036 BL05760-037 BL05760-038 BL05760-039 \n",
       "       5566        8479        5448        6948        7529        7541 \n",
       "PB02183-154 \n",
       "      29659 "
      ]
     },
     "metadata": {},
     "output_type": "display_data"
    }
   ],
   "source": [
    "table(meta$donor2)"
   ]
  },
  {
   "cell_type": "code",
   "execution_count": null,
   "id": "09689fa0-a44d-4552-8568-94dac9a8aa2c",
   "metadata": {},
   "outputs": [],
   "source": []
  }
 ],
 "metadata": {
  "kernelspec": {
   "display_name": "R 4",
   "language": "R",
   "name": "ir"
  },
  "language_info": {
   "codemirror_mode": "r",
   "file_extension": ".r",
   "mimetype": "text/x-r-source",
   "name": "R",
   "pygments_lexer": "r",
   "version": "4.1.3"
  }
 },
 "nbformat": 4,
 "nbformat_minor": 5
}

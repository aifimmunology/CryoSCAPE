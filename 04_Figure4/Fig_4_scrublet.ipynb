{
 "cells": [
  {
   "cell_type": "code",
   "execution_count": 2,
   "id": "865604cf-2bec-4088-ba85-95e50aed5ed1",
   "metadata": {
    "scrolled": true,
    "tags": []
   },
   "outputs": [
    {
     "name": "stdout",
     "output_type": "stream",
     "text": [
      "Collecting scrublet\n",
      "  Downloading scrublet-0.2.3-py3-none-any.whl (15 kB)\n",
      "Requirement already satisfied: numpy in /opt/conda/lib/python3.7/site-packages (from scrublet) (1.19.5)\n",
      "Requirement already satisfied: pandas in /opt/conda/lib/python3.7/site-packages (from scrublet) (1.3.5)\n",
      "Requirement already satisfied: numba in /opt/conda/lib/python3.7/site-packages (from scrublet) (0.54.1)\n",
      "Requirement already satisfied: scikit-learn in /opt/conda/lib/python3.7/site-packages (from scrublet) (1.0.1)\n",
      "Requirement already satisfied: scipy in /opt/conda/lib/python3.7/site-packages (from scrublet) (1.7.3)\n",
      "Requirement already satisfied: umap-learn in /opt/conda/lib/python3.7/site-packages (from scrublet) (0.5.3)\n",
      "Collecting cython\n",
      "  Downloading Cython-3.0.10-cp37-cp37m-manylinux_2_17_x86_64.manylinux2014_x86_64.whl (3.6 MB)\n",
      "     |████████████████████████████████| 3.6 MB 8.3 MB/s            \n",
      "\u001b[?25hCollecting scikit-image\n",
      "  Downloading scikit_image-0.19.3-cp37-cp37m-manylinux_2_12_x86_64.manylinux2010_x86_64.whl (13.5 MB)\n",
      "     |████████████████████████████████| 13.5 MB 95.4 MB/s            \n",
      "\u001b[?25hRequirement already satisfied: matplotlib in /opt/conda/lib/python3.7/site-packages (from scrublet) (3.5.1)\n",
      "Collecting annoy\n",
      "  Downloading annoy-1.17.3.tar.gz (647 kB)\n",
      "     |████████████████████████████████| 647 kB 115.3 MB/s            \n",
      "\u001b[?25h  Preparing metadata (setup.py) ... \u001b[?25ldone\n",
      "\u001b[?25hRequirement already satisfied: python-dateutil>=2.7 in /opt/conda/lib/python3.7/site-packages (from matplotlib->scrublet) (2.8.2)\n",
      "Requirement already satisfied: pillow>=6.2.0 in /opt/conda/lib/python3.7/site-packages (from matplotlib->scrublet) (8.4.0)\n",
      "Requirement already satisfied: fonttools>=4.22.0 in /opt/conda/lib/python3.7/site-packages (from matplotlib->scrublet) (4.28.4)\n",
      "Requirement already satisfied: packaging>=20.0 in /opt/conda/lib/python3.7/site-packages (from matplotlib->scrublet) (21.3)\n",
      "Requirement already satisfied: kiwisolver>=1.0.1 in /opt/conda/lib/python3.7/site-packages (from matplotlib->scrublet) (1.3.2)\n",
      "Requirement already satisfied: cycler>=0.10 in /opt/conda/lib/python3.7/site-packages (from matplotlib->scrublet) (0.11.0)\n",
      "Requirement already satisfied: pyparsing>=2.2.1 in /opt/conda/lib/python3.7/site-packages (from matplotlib->scrublet) (3.0.6)\n",
      "Requirement already satisfied: setuptools in /opt/conda/lib/python3.7/site-packages (from numba->scrublet) (59.5.0)\n",
      "Requirement already satisfied: llvmlite<0.38,>=0.37.0rc1 in /opt/conda/lib/python3.7/site-packages (from numba->scrublet) (0.37.0)\n",
      "Requirement already satisfied: pytz>=2017.3 in /opt/conda/lib/python3.7/site-packages (from pandas->scrublet) (2021.3)\n",
      "Requirement already satisfied: networkx>=2.2 in /opt/conda/lib/python3.7/site-packages (from scikit-image->scrublet) (2.6.3)\n",
      "Collecting tifffile>=2019.7.26\n",
      "  Downloading tifffile-2021.11.2-py3-none-any.whl (178 kB)\n",
      "     |████████████████████████████████| 178 kB 120.4 MB/s            \n",
      "\u001b[?25hRequirement already satisfied: PyWavelets>=1.1.1 in /opt/conda/lib/python3.7/site-packages (from scikit-image->scrublet) (1.2.0)\n",
      "Collecting imageio>=2.4.1\n",
      "  Downloading imageio-2.31.2-py3-none-any.whl (313 kB)\n",
      "     |████████████████████████████████| 313 kB 105.8 MB/s            \n",
      "\u001b[?25hRequirement already satisfied: joblib>=0.11 in /opt/conda/lib/python3.7/site-packages (from scikit-learn->scrublet) (1.0.1)\n",
      "Requirement already satisfied: threadpoolctl>=2.0.0 in /opt/conda/lib/python3.7/site-packages (from scikit-learn->scrublet) (3.0.0)\n",
      "Requirement already satisfied: pynndescent>=0.5 in /opt/conda/lib/python3.7/site-packages (from umap-learn->scrublet) (0.5.6)\n",
      "Requirement already satisfied: tqdm in /opt/conda/lib/python3.7/site-packages (from umap-learn->scrublet) (4.62.3)\n",
      "Requirement already satisfied: six>=1.5 in /opt/conda/lib/python3.7/site-packages (from python-dateutil>=2.7->matplotlib->scrublet) (1.16.0)\n",
      "Building wheels for collected packages: annoy\n",
      "  Building wheel for annoy (setup.py) ... \u001b[?25ldone\n",
      "\u001b[?25h  Created wheel for annoy: filename=annoy-1.17.3-cp37-cp37m-linux_x86_64.whl size=580033 sha256=dd5c9da473f9d8d72e7de3c8301aeba3fe775e2d466f88ecaca3df047c35b8a1\n",
      "  Stored in directory: /root/.cache/pip/wheels/4d/dd/bc/f13bb4cc7398623c2272a63ebce9cfc6210040d3bc0ef83b1d\n",
      "Successfully built annoy\n",
      "Installing collected packages: tifffile, imageio, scikit-image, cython, annoy, scrublet\n",
      "Successfully installed annoy-1.17.3 cython-3.0.10 imageio-2.31.2 scikit-image-0.19.3 scrublet-0.2.3 tifffile-2021.11.2\n",
      "\u001b[33mWARNING: Running pip as the 'root' user can result in broken permissions and conflicting behaviour with the system package manager. It is recommended to use a virtual environment instead: https://pip.pypa.io/warnings/venv\u001b[0m\n"
     ]
    }
   ],
   "source": [
    "!pip install scrublet"
   ]
  },
  {
   "cell_type": "code",
   "execution_count": 3,
   "id": "37970de1-99e2-41cc-a1a2-fc2635ee9388",
   "metadata": {},
   "outputs": [],
   "source": [
    "import sys\n",
    "import getopt\n",
    "import shutil\n",
    "import h5py\n",
    "import pandas\n",
    "import scanpy as sc\n",
    "import scrublet\n",
    "import re\n",
    "import os"
   ]
  },
  {
   "cell_type": "code",
   "execution_count": 4,
   "id": "95625866-0dc1-48a7-a805-f51bc4b7742e",
   "metadata": {
    "scrolled": true,
    "tags": []
   },
   "outputs": [
    {
     "data": {
      "text/plain": [
       "['/home/jupyter/CS15_WHBL/CWB_Paper/01_Final_Data/04_Data/scrublet_fig4/BL05759-030_sample_filtered_feature_bc_matrix.h5',\n",
       " '/home/jupyter/CS15_WHBL/CWB_Paper/01_Final_Data/04_Data/scrublet_fig4/BL05759-023_sample_filtered_feature_bc_matrix.h5',\n",
       " '/home/jupyter/CS15_WHBL/CWB_Paper/01_Final_Data/04_Data/scrublet_fig4/BL05759-020_sample_filtered_feature_bc_matrix.h5',\n",
       " '/home/jupyter/CS15_WHBL/CWB_Paper/01_Final_Data/04_Data/scrublet_fig4/BL05759-022_sample_filtered_feature_bc_matrix.h5',\n",
       " '/home/jupyter/CS15_WHBL/CWB_Paper/01_Final_Data/04_Data/scrublet_fig4/BL05045-059_sample_filtered_feature_bc_matrix.h5',\n",
       " '/home/jupyter/CS15_WHBL/CWB_Paper/01_Final_Data/04_Data/scrublet_fig4/BL05013-036_sample_filtered_feature_bc_matrix.h5',\n",
       " '/home/jupyter/CS15_WHBL/CWB_Paper/01_Final_Data/04_Data/scrublet_fig4/BL05759-024_sample_filtered_feature_bc_matrix.h5',\n",
       " '/home/jupyter/CS15_WHBL/CWB_Paper/01_Final_Data/04_Data/scrublet_fig4/BL05759-021_sample_filtered_feature_bc_matrix.h5',\n",
       " '/home/jupyter/CS15_WHBL/CWB_Paper/01_Final_Data/04_Data/scrublet_fig4/BL05013-035_sample_filtered_feature_bc_matrix.h5',\n",
       " '/home/jupyter/CS15_WHBL/CWB_Paper/01_Final_Data/04_Data/scrublet_fig4/BL05113-019_sample_filtered_feature_bc_matrix.h5',\n",
       " '/home/jupyter/CS15_WHBL/CWB_Paper/01_Final_Data/04_Data/scrublet_fig4/BL05113-014_sample_filtered_feature_bc_matrix.h5',\n",
       " '/home/jupyter/CS15_WHBL/CWB_Paper/01_Final_Data/04_Data/scrublet_fig4/BL05113-015_sample_filtered_feature_bc_matrix.h5',\n",
       " '/home/jupyter/CS15_WHBL/CWB_Paper/01_Final_Data/04_Data/scrublet_fig4/BL05045-050_sample_filtered_feature_bc_matrix.h5',\n",
       " '/home/jupyter/CS15_WHBL/CWB_Paper/01_Final_Data/04_Data/scrublet_fig4/BL05045-055_sample_filtered_feature_bc_matrix.h5',\n",
       " '/home/jupyter/CS15_WHBL/CWB_Paper/01_Final_Data/04_Data/scrublet_fig4/BL05045-056_sample_filtered_feature_bc_matrix.h5',\n",
       " '/home/jupyter/CS15_WHBL/CWB_Paper/01_Final_Data/04_Data/scrublet_fig4/BL05013-043_sample_filtered_feature_bc_matrix.h5',\n",
       " '/home/jupyter/CS15_WHBL/CWB_Paper/01_Final_Data/04_Data/scrublet_fig4/BL05760-036_sample_filtered_feature_bc_matrix.h5',\n",
       " '/home/jupyter/CS15_WHBL/CWB_Paper/01_Final_Data/04_Data/scrublet_fig4/BL05113-020_sample_filtered_feature_bc_matrix.h5',\n",
       " '/home/jupyter/CS15_WHBL/CWB_Paper/01_Final_Data/04_Data/scrublet_fig4/BL05113-016_sample_filtered_feature_bc_matrix.h5',\n",
       " '/home/jupyter/CS15_WHBL/CWB_Paper/01_Final_Data/04_Data/scrublet_fig4/BL05045-057_sample_filtered_feature_bc_matrix.h5',\n",
       " '/home/jupyter/CS15_WHBL/CWB_Paper/01_Final_Data/04_Data/scrublet_fig4/BL05013-044_sample_filtered_feature_bc_matrix.h5',\n",
       " '/home/jupyter/CS15_WHBL/CWB_Paper/01_Final_Data/04_Data/scrublet_fig4/BL05113-021_sample_filtered_feature_bc_matrix.h5',\n",
       " '/home/jupyter/CS15_WHBL/CWB_Paper/01_Final_Data/04_Data/scrublet_fig4/BL05760-039_sample_filtered_feature_bc_matrix.h5',\n",
       " '/home/jupyter/CS15_WHBL/CWB_Paper/01_Final_Data/04_Data/scrublet_fig4/BL05013-038_sample_filtered_feature_bc_matrix.h5',\n",
       " '/home/jupyter/CS15_WHBL/CWB_Paper/01_Final_Data/04_Data/scrublet_fig4/BL05760-031_sample_filtered_feature_bc_matrix.h5',\n",
       " '/home/jupyter/CS15_WHBL/CWB_Paper/01_Final_Data/04_Data/scrublet_fig4/BL05045-053_sample_filtered_feature_bc_matrix.h5',\n",
       " '/home/jupyter/CS15_WHBL/CWB_Paper/01_Final_Data/04_Data/scrublet_fig4/BL05113-022_sample_filtered_feature_bc_matrix.h5',\n",
       " '/home/jupyter/CS15_WHBL/CWB_Paper/01_Final_Data/04_Data/scrublet_fig4/BL05113-017_sample_filtered_feature_bc_matrix.h5',\n",
       " '/home/jupyter/CS15_WHBL/CWB_Paper/01_Final_Data/04_Data/scrublet_fig4/BL05760-032_sample_filtered_feature_bc_matrix.h5',\n",
       " '/home/jupyter/CS15_WHBL/CWB_Paper/01_Final_Data/04_Data/scrublet_fig4/BL05013-042_sample_filtered_feature_bc_matrix.h5',\n",
       " '/home/jupyter/CS15_WHBL/CWB_Paper/01_Final_Data/04_Data/scrublet_fig4/BL05013-041_sample_filtered_feature_bc_matrix.h5',\n",
       " '/home/jupyter/CS15_WHBL/CWB_Paper/01_Final_Data/04_Data/scrublet_fig4/BL05113-013_sample_filtered_feature_bc_matrix.h5',\n",
       " '/home/jupyter/CS15_WHBL/CWB_Paper/01_Final_Data/04_Data/scrublet_fig4/BL05760-034_sample_filtered_feature_bc_matrix.h5',\n",
       " '/home/jupyter/CS15_WHBL/CWB_Paper/01_Final_Data/04_Data/scrublet_fig4/BL05013-037_sample_filtered_feature_bc_matrix.h5',\n",
       " '/home/jupyter/CS15_WHBL/CWB_Paper/01_Final_Data/04_Data/scrublet_fig4/BL05759-029_sample_filtered_feature_bc_matrix.h5',\n",
       " '/home/jupyter/CS15_WHBL/CWB_Paper/01_Final_Data/04_Data/scrublet_fig4/BL05760-030_sample_filtered_feature_bc_matrix.h5',\n",
       " '/home/jupyter/CS15_WHBL/CWB_Paper/01_Final_Data/04_Data/scrublet_fig4/BL05045-058_sample_filtered_feature_bc_matrix.h5',\n",
       " '/home/jupyter/CS15_WHBL/CWB_Paper/01_Final_Data/04_Data/scrublet_fig4/BL05013-033_sample_filtered_feature_bc_matrix.h5',\n",
       " '/home/jupyter/CS15_WHBL/CWB_Paper/01_Final_Data/04_Data/scrublet_fig4/BL05760-033_sample_filtered_feature_bc_matrix.h5',\n",
       " '/home/jupyter/CS15_WHBL/CWB_Paper/01_Final_Data/04_Data/scrublet_fig4/BL05760-038_sample_filtered_feature_bc_matrix.h5',\n",
       " '/home/jupyter/CS15_WHBL/CWB_Paper/01_Final_Data/04_Data/scrublet_fig4/BL05760-035_sample_filtered_feature_bc_matrix.h5',\n",
       " '/home/jupyter/CS15_WHBL/CWB_Paper/01_Final_Data/04_Data/scrublet_fig4/BL05759-025_sample_filtered_feature_bc_matrix.h5',\n",
       " '/home/jupyter/CS15_WHBL/CWB_Paper/01_Final_Data/04_Data/scrublet_fig4/BL05113-024_sample_filtered_feature_bc_matrix.h5',\n",
       " '/home/jupyter/CS15_WHBL/CWB_Paper/01_Final_Data/04_Data/scrublet_fig4/BL05013-040_sample_filtered_feature_bc_matrix.h5',\n",
       " '/home/jupyter/CS15_WHBL/CWB_Paper/01_Final_Data/04_Data/scrublet_fig4/BL05759-027_sample_filtered_feature_bc_matrix.h5',\n",
       " '/home/jupyter/CS15_WHBL/CWB_Paper/01_Final_Data/04_Data/scrublet_fig4/BL05045-051_sample_filtered_feature_bc_matrix.h5',\n",
       " '/home/jupyter/CS15_WHBL/CWB_Paper/01_Final_Data/04_Data/scrublet_fig4/PB02183-154_sample_filtered_feature_bc_matrix.h5',\n",
       " '/home/jupyter/CS15_WHBL/CWB_Paper/01_Final_Data/04_Data/scrublet_fig4/BL05045-054_sample_filtered_feature_bc_matrix.h5',\n",
       " '/home/jupyter/CS15_WHBL/CWB_Paper/01_Final_Data/04_Data/scrublet_fig4/BL05760-028_sample_filtered_feature_bc_matrix.h5',\n",
       " '/home/jupyter/CS15_WHBL/CWB_Paper/01_Final_Data/04_Data/scrublet_fig4/BL05113-018_sample_filtered_feature_bc_matrix.h5',\n",
       " '/home/jupyter/CS15_WHBL/CWB_Paper/01_Final_Data/04_Data/scrublet_fig4/BL05045-049_sample_filtered_feature_bc_matrix.h5',\n",
       " '/home/jupyter/CS15_WHBL/CWB_Paper/01_Final_Data/04_Data/scrublet_fig4/BL05045-048_sample_filtered_feature_bc_matrix.h5',\n",
       " '/home/jupyter/CS15_WHBL/CWB_Paper/01_Final_Data/04_Data/scrublet_fig4/BL05760-029_sample_filtered_feature_bc_matrix.h5',\n",
       " '/home/jupyter/CS15_WHBL/CWB_Paper/01_Final_Data/04_Data/scrublet_fig4/BL05759-028_sample_filtered_feature_bc_matrix.h5',\n",
       " '/home/jupyter/CS15_WHBL/CWB_Paper/01_Final_Data/04_Data/scrublet_fig4/BL05045-052_sample_filtered_feature_bc_matrix.h5',\n",
       " '/home/jupyter/CS15_WHBL/CWB_Paper/01_Final_Data/04_Data/scrublet_fig4/BL05759-031_sample_filtered_feature_bc_matrix.h5',\n",
       " '/home/jupyter/CS15_WHBL/CWB_Paper/01_Final_Data/04_Data/scrublet_fig4/BL05013-039_sample_filtered_feature_bc_matrix.h5',\n",
       " '/home/jupyter/CS15_WHBL/CWB_Paper/01_Final_Data/04_Data/scrublet_fig4/BL05760-037_sample_filtered_feature_bc_matrix.h5',\n",
       " '/home/jupyter/CS15_WHBL/CWB_Paper/01_Final_Data/04_Data/scrublet_fig4/BL05113-023_sample_filtered_feature_bc_matrix.h5',\n",
       " '/home/jupyter/CS15_WHBL/CWB_Paper/01_Final_Data/04_Data/scrublet_fig4/BL05759-026_sample_filtered_feature_bc_matrix.h5',\n",
       " '/home/jupyter/CS15_WHBL/CWB_Paper/01_Final_Data/04_Data/scrublet_fig4/BL05013-034_sample_filtered_feature_bc_matrix.h5']"
      ]
     },
     "execution_count": 4,
     "metadata": {},
     "output_type": "execute_result"
    }
   ],
   "source": [
    "path = \"/home/jupyter/CS15_WHBL/CWB_Paper/01_Final_Data/04_Data/scrublet_fig4/w1\"\n",
    "paths = [path+i for i in os.listdir(path) if i[0] != '.']\n",
    "paths"
   ]
  },
  {
   "cell_type": "code",
   "execution_count": 8,
   "id": "5787482b-9ae9-45ef-9e11-9d43ec83e245",
   "metadata": {},
   "outputs": [],
   "source": [
    "def scrubby(x):\n",
    "    name = x.split('/')[-1].split('_sample')[0]\n",
    "    \n",
    "    if x.split('.')[1] == 'h5':\n",
    "        adata = sc.read_10x_h5(x)\n",
    "        \n",
    "        scrub = scrublet.Scrublet(adata.X)\n",
    "        doublet_scores, predicted_doublets = scrub.scrub_doublets(verbose=False)\n",
    "\n",
    "        df = adata.obs\n",
    "        df['Doublet_Score'] = doublet_scores\n",
    "        df['Predicted_Doublet'] = predicted_doublets\n",
    "\n",
    "        df.to_csv(path+name+'.csv')\n"
   ]
  },
  {
   "cell_type": "code",
   "execution_count": 10,
   "id": "8be74dfe-a7a2-45d7-b9d4-0e2b081a40e8",
   "metadata": {
    "scrolled": true,
    "tags": []
   },
   "outputs": [
    {
     "name": "stderr",
     "output_type": "stream",
     "text": [
      "/opt/conda/lib/python3.7/site-packages/anndata/_core/anndata.py:1830: UserWarning: Variable names are not unique. To make them unique, call `.var_names_make_unique`.\n",
      "  utils.warn_names_duplicates(\"var\")\n",
      "/opt/conda/lib/python3.7/site-packages/anndata/_core/anndata.py:1830: UserWarning: Variable names are not unique. To make them unique, call `.var_names_make_unique`.\n",
      "  utils.warn_names_duplicates(\"var\")\n",
      "/opt/conda/lib/python3.7/site-packages/anndata/_core/anndata.py:1830: UserWarning: Variable names are not unique. To make them unique, call `.var_names_make_unique`.\n",
      "  utils.warn_names_duplicates(\"var\")\n",
      "/opt/conda/lib/python3.7/site-packages/anndata/_core/anndata.py:1830: UserWarning: Variable names are not unique. To make them unique, call `.var_names_make_unique`.\n",
      "  utils.warn_names_duplicates(\"var\")\n",
      "/opt/conda/lib/python3.7/site-packages/anndata/_core/anndata.py:1830: UserWarning: Variable names are not unique. To make them unique, call `.var_names_make_unique`.\n",
      "  utils.warn_names_duplicates(\"var\")\n",
      "/opt/conda/lib/python3.7/site-packages/anndata/_core/anndata.py:1830: UserWarning: Variable names are not unique. To make them unique, call `.var_names_make_unique`.\n",
      "  utils.warn_names_duplicates(\"var\")\n",
      "/opt/conda/lib/python3.7/site-packages/anndata/_core/anndata.py:1830: UserWarning: Variable names are not unique. To make them unique, call `.var_names_make_unique`.\n",
      "  utils.warn_names_duplicates(\"var\")\n",
      "/opt/conda/lib/python3.7/site-packages/anndata/_core/anndata.py:1830: UserWarning: Variable names are not unique. To make them unique, call `.var_names_make_unique`.\n",
      "  utils.warn_names_duplicates(\"var\")\n",
      "/opt/conda/lib/python3.7/site-packages/anndata/_core/anndata.py:1830: UserWarning: Variable names are not unique. To make them unique, call `.var_names_make_unique`.\n",
      "  utils.warn_names_duplicates(\"var\")\n",
      "/opt/conda/lib/python3.7/site-packages/anndata/_core/anndata.py:1830: UserWarning: Variable names are not unique. To make them unique, call `.var_names_make_unique`.\n",
      "  utils.warn_names_duplicates(\"var\")\n",
      "/opt/conda/lib/python3.7/site-packages/anndata/_core/anndata.py:1830: UserWarning: Variable names are not unique. To make them unique, call `.var_names_make_unique`.\n",
      "  utils.warn_names_duplicates(\"var\")\n",
      "/opt/conda/lib/python3.7/site-packages/anndata/_core/anndata.py:1830: UserWarning: Variable names are not unique. To make them unique, call `.var_names_make_unique`.\n",
      "  utils.warn_names_duplicates(\"var\")\n",
      "/opt/conda/lib/python3.7/site-packages/anndata/_core/anndata.py:1830: UserWarning: Variable names are not unique. To make them unique, call `.var_names_make_unique`.\n",
      "  utils.warn_names_duplicates(\"var\")\n",
      "/opt/conda/lib/python3.7/site-packages/anndata/_core/anndata.py:1830: UserWarning: Variable names are not unique. To make them unique, call `.var_names_make_unique`.\n",
      "  utils.warn_names_duplicates(\"var\")\n",
      "/opt/conda/lib/python3.7/site-packages/anndata/_core/anndata.py:1830: UserWarning: Variable names are not unique. To make them unique, call `.var_names_make_unique`.\n",
      "  utils.warn_names_duplicates(\"var\")\n",
      "/opt/conda/lib/python3.7/site-packages/anndata/_core/anndata.py:1830: UserWarning: Variable names are not unique. To make them unique, call `.var_names_make_unique`.\n",
      "  utils.warn_names_duplicates(\"var\")\n"
     ]
    }
   ],
   "source": [
    "path = \"/home/jupyter/CS15_WHBL/CWB_Paper/01_Final_Data/04_Data/scrublet_fig4/w1/\"\n",
    "paths = [path+i for i in os.listdir(path) if i[0] != '.']\n",
    "\n",
    "for i in paths: scrubby(i)"
   ]
  },
  {
   "cell_type": "code",
   "execution_count": 11,
   "id": "c76def6a-f23d-4424-9d4c-302a5c839b5b",
   "metadata": {
    "scrolled": true,
    "tags": []
   },
   "outputs": [
    {
     "name": "stderr",
     "output_type": "stream",
     "text": [
      "/opt/conda/lib/python3.7/site-packages/anndata/_core/anndata.py:1830: UserWarning: Variable names are not unique. To make them unique, call `.var_names_make_unique`.\n",
      "  utils.warn_names_duplicates(\"var\")\n",
      "/opt/conda/lib/python3.7/site-packages/anndata/_core/anndata.py:1830: UserWarning: Variable names are not unique. To make them unique, call `.var_names_make_unique`.\n",
      "  utils.warn_names_duplicates(\"var\")\n",
      "/opt/conda/lib/python3.7/site-packages/anndata/_core/anndata.py:1830: UserWarning: Variable names are not unique. To make them unique, call `.var_names_make_unique`.\n",
      "  utils.warn_names_duplicates(\"var\")\n",
      "/opt/conda/lib/python3.7/site-packages/anndata/_core/anndata.py:1830: UserWarning: Variable names are not unique. To make them unique, call `.var_names_make_unique`.\n",
      "  utils.warn_names_duplicates(\"var\")\n",
      "/opt/conda/lib/python3.7/site-packages/anndata/_core/anndata.py:1830: UserWarning: Variable names are not unique. To make them unique, call `.var_names_make_unique`.\n",
      "  utils.warn_names_duplicates(\"var\")\n",
      "/opt/conda/lib/python3.7/site-packages/anndata/_core/anndata.py:1830: UserWarning: Variable names are not unique. To make them unique, call `.var_names_make_unique`.\n",
      "  utils.warn_names_duplicates(\"var\")\n",
      "/opt/conda/lib/python3.7/site-packages/anndata/_core/anndata.py:1830: UserWarning: Variable names are not unique. To make them unique, call `.var_names_make_unique`.\n",
      "  utils.warn_names_duplicates(\"var\")\n",
      "/opt/conda/lib/python3.7/site-packages/anndata/_core/anndata.py:1830: UserWarning: Variable names are not unique. To make them unique, call `.var_names_make_unique`.\n",
      "  utils.warn_names_duplicates(\"var\")\n",
      "/opt/conda/lib/python3.7/site-packages/anndata/_core/anndata.py:1830: UserWarning: Variable names are not unique. To make them unique, call `.var_names_make_unique`.\n",
      "  utils.warn_names_duplicates(\"var\")\n",
      "/opt/conda/lib/python3.7/site-packages/anndata/_core/anndata.py:1830: UserWarning: Variable names are not unique. To make them unique, call `.var_names_make_unique`.\n",
      "  utils.warn_names_duplicates(\"var\")\n",
      "/opt/conda/lib/python3.7/site-packages/anndata/_core/anndata.py:1830: UserWarning: Variable names are not unique. To make them unique, call `.var_names_make_unique`.\n",
      "  utils.warn_names_duplicates(\"var\")\n",
      "/opt/conda/lib/python3.7/site-packages/anndata/_core/anndata.py:1830: UserWarning: Variable names are not unique. To make them unique, call `.var_names_make_unique`.\n",
      "  utils.warn_names_duplicates(\"var\")\n",
      "/opt/conda/lib/python3.7/site-packages/anndata/_core/anndata.py:1830: UserWarning: Variable names are not unique. To make them unique, call `.var_names_make_unique`.\n",
      "  utils.warn_names_duplicates(\"var\")\n",
      "/opt/conda/lib/python3.7/site-packages/anndata/_core/anndata.py:1830: UserWarning: Variable names are not unique. To make them unique, call `.var_names_make_unique`.\n",
      "  utils.warn_names_duplicates(\"var\")\n",
      "/opt/conda/lib/python3.7/site-packages/anndata/_core/anndata.py:1830: UserWarning: Variable names are not unique. To make them unique, call `.var_names_make_unique`.\n",
      "  utils.warn_names_duplicates(\"var\")\n",
      "/opt/conda/lib/python3.7/site-packages/anndata/_core/anndata.py:1830: UserWarning: Variable names are not unique. To make them unique, call `.var_names_make_unique`.\n",
      "  utils.warn_names_duplicates(\"var\")\n"
     ]
    }
   ],
   "source": [
    "path = \"/home/jupyter/CS15_WHBL/CWB_Paper/01_Final_Data/04_Data/scrublet_fig4/w2/\"\n",
    "paths = [path+i for i in os.listdir(path) if i[0] != '.']\n",
    "\n",
    "for i in paths: scrubby(i)"
   ]
  },
  {
   "cell_type": "code",
   "execution_count": null,
   "id": "65d5613e-b143-40f9-b45d-2157f0dfde67",
   "metadata": {},
   "outputs": [],
   "source": []
  },
  {
   "cell_type": "code",
   "execution_count": 12,
   "id": "b8d667c2-eb36-460e-be0c-0a105348627a",
   "metadata": {
    "scrolled": true,
    "tags": []
   },
   "outputs": [
    {
     "name": "stderr",
     "output_type": "stream",
     "text": [
      "/opt/conda/lib/python3.7/site-packages/anndata/_core/anndata.py:1830: UserWarning: Variable names are not unique. To make them unique, call `.var_names_make_unique`.\n",
      "  utils.warn_names_duplicates(\"var\")\n",
      "/opt/conda/lib/python3.7/site-packages/anndata/_core/anndata.py:1830: UserWarning: Variable names are not unique. To make them unique, call `.var_names_make_unique`.\n",
      "  utils.warn_names_duplicates(\"var\")\n",
      "/opt/conda/lib/python3.7/site-packages/anndata/_core/anndata.py:1830: UserWarning: Variable names are not unique. To make them unique, call `.var_names_make_unique`.\n",
      "  utils.warn_names_duplicates(\"var\")\n",
      "/opt/conda/lib/python3.7/site-packages/anndata/_core/anndata.py:1830: UserWarning: Variable names are not unique. To make them unique, call `.var_names_make_unique`.\n",
      "  utils.warn_names_duplicates(\"var\")\n",
      "/opt/conda/lib/python3.7/site-packages/anndata/_core/anndata.py:1830: UserWarning: Variable names are not unique. To make them unique, call `.var_names_make_unique`.\n",
      "  utils.warn_names_duplicates(\"var\")\n",
      "/opt/conda/lib/python3.7/site-packages/anndata/_core/anndata.py:1830: UserWarning: Variable names are not unique. To make them unique, call `.var_names_make_unique`.\n",
      "  utils.warn_names_duplicates(\"var\")\n",
      "/opt/conda/lib/python3.7/site-packages/anndata/_core/anndata.py:1830: UserWarning: Variable names are not unique. To make them unique, call `.var_names_make_unique`.\n",
      "  utils.warn_names_duplicates(\"var\")\n",
      "/opt/conda/lib/python3.7/site-packages/anndata/_core/anndata.py:1830: UserWarning: Variable names are not unique. To make them unique, call `.var_names_make_unique`.\n",
      "  utils.warn_names_duplicates(\"var\")\n",
      "/opt/conda/lib/python3.7/site-packages/anndata/_core/anndata.py:1830: UserWarning: Variable names are not unique. To make them unique, call `.var_names_make_unique`.\n",
      "  utils.warn_names_duplicates(\"var\")\n",
      "/opt/conda/lib/python3.7/site-packages/anndata/_core/anndata.py:1830: UserWarning: Variable names are not unique. To make them unique, call `.var_names_make_unique`.\n",
      "  utils.warn_names_duplicates(\"var\")\n",
      "/opt/conda/lib/python3.7/site-packages/anndata/_core/anndata.py:1830: UserWarning: Variable names are not unique. To make them unique, call `.var_names_make_unique`.\n",
      "  utils.warn_names_duplicates(\"var\")\n",
      "/opt/conda/lib/python3.7/site-packages/anndata/_core/anndata.py:1830: UserWarning: Variable names are not unique. To make them unique, call `.var_names_make_unique`.\n",
      "  utils.warn_names_duplicates(\"var\")\n",
      "/opt/conda/lib/python3.7/site-packages/anndata/_core/anndata.py:1830: UserWarning: Variable names are not unique. To make them unique, call `.var_names_make_unique`.\n",
      "  utils.warn_names_duplicates(\"var\")\n",
      "/opt/conda/lib/python3.7/site-packages/anndata/_core/anndata.py:1830: UserWarning: Variable names are not unique. To make them unique, call `.var_names_make_unique`.\n",
      "  utils.warn_names_duplicates(\"var\")\n",
      "/opt/conda/lib/python3.7/site-packages/anndata/_core/anndata.py:1830: UserWarning: Variable names are not unique. To make them unique, call `.var_names_make_unique`.\n",
      "  utils.warn_names_duplicates(\"var\")\n",
      "/opt/conda/lib/python3.7/site-packages/anndata/_core/anndata.py:1830: UserWarning: Variable names are not unique. To make them unique, call `.var_names_make_unique`.\n",
      "  utils.warn_names_duplicates(\"var\")\n"
     ]
    }
   ],
   "source": [
    "path = \"/home/jupyter/CS15_WHBL/CWB_Paper/01_Final_Data/04_Data/scrublet_fig4/w3/\"\n",
    "paths = [path+i for i in os.listdir(path) if i[0] != '.']\n",
    "\n",
    "for i in paths: scrubby(i)"
   ]
  },
  {
   "cell_type": "code",
   "execution_count": null,
   "id": "1dcf9c89-5bd0-411f-befc-cf4a0a9d687d",
   "metadata": {},
   "outputs": [],
   "source": []
  },
  {
   "cell_type": "code",
   "execution_count": 13,
   "id": "c3c14883-ab97-44a6-b9a0-705ed88e0160",
   "metadata": {
    "scrolled": true,
    "tags": []
   },
   "outputs": [
    {
     "name": "stderr",
     "output_type": "stream",
     "text": [
      "/opt/conda/lib/python3.7/site-packages/anndata/_core/anndata.py:1830: UserWarning: Variable names are not unique. To make them unique, call `.var_names_make_unique`.\n",
      "  utils.warn_names_duplicates(\"var\")\n",
      "/opt/conda/lib/python3.7/site-packages/anndata/_core/anndata.py:1830: UserWarning: Variable names are not unique. To make them unique, call `.var_names_make_unique`.\n",
      "  utils.warn_names_duplicates(\"var\")\n",
      "/opt/conda/lib/python3.7/site-packages/anndata/_core/anndata.py:1830: UserWarning: Variable names are not unique. To make them unique, call `.var_names_make_unique`.\n",
      "  utils.warn_names_duplicates(\"var\")\n",
      "/opt/conda/lib/python3.7/site-packages/anndata/_core/anndata.py:1830: UserWarning: Variable names are not unique. To make them unique, call `.var_names_make_unique`.\n",
      "  utils.warn_names_duplicates(\"var\")\n",
      "/opt/conda/lib/python3.7/site-packages/anndata/_core/anndata.py:1830: UserWarning: Variable names are not unique. To make them unique, call `.var_names_make_unique`.\n",
      "  utils.warn_names_duplicates(\"var\")\n",
      "/opt/conda/lib/python3.7/site-packages/anndata/_core/anndata.py:1830: UserWarning: Variable names are not unique. To make them unique, call `.var_names_make_unique`.\n",
      "  utils.warn_names_duplicates(\"var\")\n",
      "/opt/conda/lib/python3.7/site-packages/anndata/_core/anndata.py:1830: UserWarning: Variable names are not unique. To make them unique, call `.var_names_make_unique`.\n",
      "  utils.warn_names_duplicates(\"var\")\n",
      "/opt/conda/lib/python3.7/site-packages/anndata/_core/anndata.py:1830: UserWarning: Variable names are not unique. To make them unique, call `.var_names_make_unique`.\n",
      "  utils.warn_names_duplicates(\"var\")\n",
      "/opt/conda/lib/python3.7/site-packages/anndata/_core/anndata.py:1830: UserWarning: Variable names are not unique. To make them unique, call `.var_names_make_unique`.\n",
      "  utils.warn_names_duplicates(\"var\")\n",
      "/opt/conda/lib/python3.7/site-packages/anndata/_core/anndata.py:1830: UserWarning: Variable names are not unique. To make them unique, call `.var_names_make_unique`.\n",
      "  utils.warn_names_duplicates(\"var\")\n",
      "/opt/conda/lib/python3.7/site-packages/anndata/_core/anndata.py:1830: UserWarning: Variable names are not unique. To make them unique, call `.var_names_make_unique`.\n",
      "  utils.warn_names_duplicates(\"var\")\n",
      "/opt/conda/lib/python3.7/site-packages/anndata/_core/anndata.py:1830: UserWarning: Variable names are not unique. To make them unique, call `.var_names_make_unique`.\n",
      "  utils.warn_names_duplicates(\"var\")\n",
      "/opt/conda/lib/python3.7/site-packages/anndata/_core/anndata.py:1830: UserWarning: Variable names are not unique. To make them unique, call `.var_names_make_unique`.\n",
      "  utils.warn_names_duplicates(\"var\")\n",
      "/opt/conda/lib/python3.7/site-packages/anndata/_core/anndata.py:1830: UserWarning: Variable names are not unique. To make them unique, call `.var_names_make_unique`.\n",
      "  utils.warn_names_duplicates(\"var\")\n",
      "/opt/conda/lib/python3.7/site-packages/anndata/_core/anndata.py:1830: UserWarning: Variable names are not unique. To make them unique, call `.var_names_make_unique`.\n",
      "  utils.warn_names_duplicates(\"var\")\n",
      "/opt/conda/lib/python3.7/site-packages/anndata/_core/anndata.py:1830: UserWarning: Variable names are not unique. To make them unique, call `.var_names_make_unique`.\n",
      "  utils.warn_names_duplicates(\"var\")\n"
     ]
    }
   ],
   "source": [
    "path = \"/home/jupyter/CS15_WHBL/CWB_Paper/01_Final_Data/04_Data/scrublet_fig4/w4/\"\n",
    "paths = [path+i for i in os.listdir(path) if i[0] != '.']\n",
    "\n",
    "for i in paths: scrubby(i)"
   ]
  },
  {
   "cell_type": "code",
   "execution_count": null,
   "id": "730bb980-9c47-4049-9746-cea53e9a0362",
   "metadata": {},
   "outputs": [],
   "source": []
  }
 ],
 "metadata": {
  "kernelspec": {
   "display_name": "Python 3 (ipykernel)",
   "language": "python",
   "name": "python3"
  },
  "language_info": {
   "codemirror_mode": {
    "name": "ipython",
    "version": 3
   },
   "file_extension": ".py",
   "mimetype": "text/x-python",
   "name": "python",
   "nbconvert_exporter": "python",
   "pygments_lexer": "ipython3",
   "version": "3.7.12"
  }
 },
 "nbformat": 4,
 "nbformat_minor": 5
}

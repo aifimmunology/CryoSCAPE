{
 "cells": [
  {
   "cell_type": "code",
   "execution_count": 1,
   "id": "3c2cf20d-fcec-4af7-9fc3-1f0179d0f3c6",
   "metadata": {},
   "outputs": [
    {
     "name": "stderr",
     "output_type": "stream",
     "text": [
      "Attaching SeuratObject\n",
      "\n",
      "\n",
      "Attaching package: ‘dplyr’\n",
      "\n",
      "\n",
      "The following objects are masked from ‘package:stats’:\n",
      "\n",
      "    filter, lag\n",
      "\n",
      "\n",
      "The following objects are masked from ‘package:base’:\n",
      "\n",
      "    intersect, setdiff, setequal, union\n",
      "\n",
      "\n",
      "Loading required package: grid\n",
      "\n",
      "Warning message in system(\"timedatectl\", intern = TRUE):\n",
      "“running command 'timedatectl' had status 1”\n"
     ]
    }
   ],
   "source": [
    "library(Seurat)\n",
    "library(dplyr)\n",
    "library(PALMO)"
   ]
  },
  {
   "cell_type": "code",
   "execution_count": 2,
   "id": "c99ef693-8bf8-458a-a54f-7f69baa424de",
   "metadata": {},
   "outputs": [],
   "source": [
    "mtx <- readRDS('exp918_mtx.rds')\n",
    "meta <- readRDS('exp918_meta.rds')"
   ]
  },
  {
   "cell_type": "code",
   "execution_count": 3,
   "id": "54c6a6a9-9567-450e-9b7b-f12d4bb4fd35",
   "metadata": {},
   "outputs": [],
   "source": [
    "so <- CreateSeuratObject(counts = mtx, meta.data = meta)"
   ]
  },
  {
   "cell_type": "code",
   "execution_count": 4,
   "id": "25e31ad6-4439-4e8f-a18e-6510460eed41",
   "metadata": {},
   "outputs": [
    {
     "data": {
      "text/plain": [
       "An object of class Seurat \n",
       "18082 features across 429366 samples within 1 assay \n",
       "Active assay: RNA (18082 features, 0 variable features)"
      ]
     },
     "metadata": {},
     "output_type": "display_data"
    }
   ],
   "source": [
    "so"
   ]
  },
  {
   "cell_type": "code",
   "execution_count": 5,
   "id": "7591276c-0223-41c7-b225-a0d80cf9f7e3",
   "metadata": {
    "scrolled": true,
    "tags": []
   },
   "outputs": [
    {
     "name": "stderr",
     "output_type": "stream",
     "text": [
      "Centering and scaling data matrix\n",
      "\n",
      "PC_ 1 \n",
      "Positive:  CD247, TRBC1, LEF1, CCR7, CD69, TRAT1, MAL, CD27, NELL2, MYC \n",
      "\t   PYHIN1, SAMD3, CTSW, HIST1H1D, AQP3, HIST1H1C, CENPM, IL2RB, KLRK1, GATA3 \n",
      "\t   KLRG1, GBP5, CD40LG, SH2D2A, ICOS, ARID5B, DPP4, PRDM1, MYBL1, CD8A \n",
      "Negative:  CLEC7A, SERPINA1, TNFAIP2, PLXNB2, EMILIN2, NCF2, SPI1, CST3, LILRB2, IFI30 \n",
      "\t   HCK, LRRC25, MNDA, MEFV, HK3, LYZ, TYMP, CLEC12A, CD68, FGL2 \n",
      "\t   NFAM1, CD300E, SLC11A1, PILRA, PRAM1, LRP1, S100A9, TGFBI, ZNF385A, CSF3R \n",
      "PC_ 2 \n",
      "Positive:  CD79A, MS4A1, PAX5, NIBAN3, BANK1, IGHM, CD22, FCRL1, IGHD, FCRL2 \n",
      "\t   TNFRSF13C, BLK, POU2AF1, BCL11A, RALGPS2, RUBCNL, IGKC, CD79B, WDFY4, FCRLA \n",
      "\t   CD19, FCER2, OSBPL10, SWAP70, AFF3, COBLL1, ADAM28, BLNK, CIITA, CDK14 \n",
      "Negative:  SPN, ANXA1, CD247, SRGN, ITGB2, ADGRE5, CTSW, PRF1, SAMD3, ID2 \n",
      "\t   S100A4, CST7, NKG7, IL2RB, GZMA, MYO1F, SYNE1, CD300A, DOK2, FOSL2 \n",
      "\t   CCL5, KLRD1, GNLY, KLRK1, MYBL1, TGFBR3, AOAH, ADGRG1, S100A10, S100A6 \n",
      "PC_ 3 \n",
      "Positive:  NKG7, PRF1, GNLY, KLRD1, CST7, ADGRG1, GZMB, TBX21, FGFBP2, SYNE1 \n",
      "\t   GZMA, KLRF1, C1orf21, S1PR5, PRSS23, FCRL6, CX3CR1, GZMH, SPON2, EFHD2 \n",
      "\t   IL2RB, MATK, SLAMF7, ADRB2, PLEK, CCL4, TGFBR3, NCR1, PRR5L, CLIC3 \n",
      "Negative:  LEF1, MAL, CCR7, CD4, MYC, TRAT1, NELL2, FHIT, CD27, SOCS3 \n",
      "\t   VIM, NFKBIZ, NOG, RGCC, SESN3, TSHZ2, AQP3, CD40LG, ICOS, ADTRP \n",
      "\t   GPR183, DPP4, JAML, EGR1, SLC40A1, APP, LRRN3, FTH1, CISH, EDA \n",
      "PC_ 4 \n",
      "Positive:  CAVIN2, GP1BB, TUBB1, SPARC, ITGB3, PF4, PRKAR2B, GNG11, CLU, MPIG6B \n",
      "\t   ITGA2B, PPBP, TRIM58, NRGN, MYL9, F13A1, SEPTIN5, RGS18, TREML1, PTGS1 \n",
      "\t   THBS1, SH3BGRL2, GNAZ, GP9, C2orf88, MAP3K7CL, CXCL5, CTTN, SNCA, PTCRA \n",
      "Negative:  DUSP1, VIM, S100A6, EVI2B, CCR7, NFKBIZ, LEF1, TRAT1, MAL, CD4 \n",
      "\t   EGR1, MYC, CRIP1, MBD2, CD27, ADGRE5, S100A10, ZFP36, NFKBIA, HIST1H1D \n",
      "\t   RNF149, BIRC3, NELL2, CD69, EHBP1L1, SESN3, GPR183, PTPN6, AQP3, TRBC1 \n",
      "PC_ 5 \n",
      "Positive:  S100A12, CD163, CD14, VCAN, STAB1, CRISPLD2, S100A8, QPCT, CREB5, ASGR2 \n",
      "\t   PADI2, PADI4, CLEC4D, CES1, MS4A6A, CLEC4E, CD36, CSF3R, CCR2, MGST1 \n",
      "\t   MARC1, MCEMP1, RNASE2, SIRPA, CD300LB, GLT1D1, PLBD1, DYSF, ALDH2, RNASE6 \n",
      "Negative:  CDKN1C, TCF7L2, HES4, CKB, NEURL1, KNDC1, FCGR3A, FMNL2, SIGLEC10, ZNF703 \n",
      "\t   MYOF, LYPD2, FCGR3B, TNFRSF8, PTP4A3, CLEC4F, PAPSS2, ADGRE1, CASP5, CTSL \n",
      "\t   TBC1D8, MS4A7, TAGLN, PPP1R17, VMO1, IFITM3, IL3RA, RHOC, MTSS1, CXCL16 \n",
      "\n"
     ]
    }
   ],
   "source": [
    "so <- NormalizeData(so) %>% FindVariableFeatures() %>% ScaleData() %>% RunPCA()"
   ]
  },
  {
   "cell_type": "code",
   "execution_count": 6,
   "id": "a1ca8873-ba8f-49b8-827e-efbebb3f9377",
   "metadata": {
    "scrolled": true,
    "tags": []
   },
   "outputs": [
    {
     "name": "stderr",
     "output_type": "stream",
     "text": [
      "Registered S3 method overwritten by 'SeuratDisk':\n",
      "  method            from  \n",
      "  as.sparse.H5Group Seurat\n",
      "\n",
      "Validating h5Seurat file\n",
      "\n",
      "Initializing ADT with data\n",
      "\n",
      "Adding counts for ADT\n",
      "\n",
      "Adding variable feature information for ADT\n",
      "\n",
      "Adding miscellaneous information for ADT\n",
      "\n",
      "Initializing SCT with data\n",
      "\n",
      "Adding counts for SCT\n",
      "\n",
      "Adding variable feature information for SCT\n",
      "\n",
      "Adding miscellaneous information for SCT\n",
      "\n",
      "Adding reduction apca\n",
      "\n",
      "Adding cell embeddings for apca\n",
      "\n",
      "Adding feature loadings for apca\n",
      "\n",
      "Adding miscellaneous information for apca\n",
      "\n",
      "Adding reduction aumap\n",
      "\n",
      "Adding cell embeddings for aumap\n",
      "\n",
      "Adding miscellaneous information for aumap\n",
      "\n",
      "Adding reduction pca\n",
      "\n",
      "Adding cell embeddings for pca\n",
      "\n",
      "Adding feature loadings for pca\n",
      "\n",
      "Adding miscellaneous information for pca\n",
      "\n",
      "Adding reduction spca\n",
      "\n",
      "Adding cell embeddings for spca\n",
      "\n",
      "Adding feature loadings for spca\n",
      "\n",
      "Adding miscellaneous information for spca\n",
      "\n",
      "Adding reduction umap\n",
      "\n",
      "Adding cell embeddings for umap\n",
      "\n",
      "Adding miscellaneous information for umap\n",
      "\n",
      "Adding reduction wnn.umap\n",
      "\n",
      "Adding cell embeddings for wnn.umap\n",
      "\n",
      "Adding miscellaneous information for wnn.umap\n",
      "\n",
      "Adding graph wknn\n",
      "\n",
      "Adding graph wsnn\n",
      "\n",
      "Adding command information\n",
      "\n",
      "Adding cell-level metadata\n",
      "\n",
      "Adding miscellaneous information\n",
      "\n",
      "Adding tool-specific results\n",
      "\n"
     ]
    }
   ],
   "source": [
    "ref <- SeuratDisk::LoadH5Seurat(file = '../pbmc_multimodal.h5seurat')"
   ]
  },
  {
   "cell_type": "code",
   "execution_count": 7,
   "id": "33c57606-a6d1-40d5-871b-d4a3b0f8dcdb",
   "metadata": {},
   "outputs": [
    {
     "name": "stderr",
     "output_type": "stream",
     "text": [
      "Normalizing query using reference SCT model\n",
      "\n",
      "Projecting cell embeddings\n",
      "\n",
      "Finding neighborhoods\n",
      "\n",
      "Finding anchors\n",
      "\n",
      "\tFound 16540 anchors\n",
      "\n"
     ]
    }
   ],
   "source": [
    "anchors <- FindTransferAnchors(\n",
    "    reference = ref,\n",
    "    query = so,\n",
    "    normalization.method = \"SCT\",\n",
    "    reference.reduction = \"spca\",\n",
    "    dims = 1:50)"
   ]
  },
  {
   "cell_type": "code",
   "execution_count": 8,
   "id": "1ee198e4-15d5-44ce-90d2-79449024ea3c",
   "metadata": {},
   "outputs": [
    {
     "name": "stderr",
     "output_type": "stream",
     "text": [
      "Finding integration vectors\n",
      "\n",
      "Finding integration vector weights\n",
      "\n",
      "Predicting cell labels\n",
      "\n",
      "Warning message:\n",
      "“Keys should be one or more alphanumeric characters followed by an underscore, setting key from predictionscorecelltype.l1_ to predictionscorecelltypel1_”\n",
      "Predicting cell labels\n",
      "\n",
      "Warning message:\n",
      "“Feature names cannot have underscores ('_'), replacing with dashes ('-')”\n",
      "Warning message:\n",
      "“Keys should be one or more alphanumeric characters followed by an underscore, setting key from predictionscorecelltype.l2_ to predictionscorecelltypel2_”\n",
      "Predicting cell labels\n",
      "\n",
      "Warning message:\n",
      "“Feature names cannot have underscores ('_'), replacing with dashes ('-')”\n",
      "Warning message:\n",
      "“Keys should be one or more alphanumeric characters followed by an underscore, setting key from predictionscorecelltype.l3_ to predictionscorecelltypel3_”\n"
     ]
    }
   ],
   "source": [
    "so <- TransferData(anchorset = anchors, reference = ref, query = so,\n",
    "              refdata = list(\n",
    "              celltype.l1 = \"celltype.l1\",\n",
    "              celltype.l2 = \"celltype.l2\",\n",
    "              celltype.l3 = \"celltype.l3\"))"
   ]
  },
  {
   "cell_type": "code",
   "execution_count": 9,
   "id": "f87ff218-a028-4b41-a56e-eced3b11108c",
   "metadata": {},
   "outputs": [
    {
     "data": {
      "text/html": [
       "<table class=\"dataframe\">\n",
       "<caption>A data.frame: 6 × 12</caption>\n",
       "<thead>\n",
       "\t<tr><th></th><th scope=col>orig.ident</th><th scope=col>nCount_RNA</th><th scope=col>nFeature_RNA</th><th scope=col>donor</th><th scope=col>well</th><th scope=col>donor2</th><th scope=col>predicted.celltype.l1.score</th><th scope=col>predicted.celltype.l1</th><th scope=col>predicted.celltype.l2.score</th><th scope=col>predicted.celltype.l2</th><th scope=col>predicted.celltype.l3.score</th><th scope=col>predicted.celltype.l3</th></tr>\n",
       "\t<tr><th></th><th scope=col>&lt;chr&gt;</th><th scope=col>&lt;dbl&gt;</th><th scope=col>&lt;int&gt;</th><th scope=col>&lt;chr&gt;</th><th scope=col>&lt;chr&gt;</th><th scope=col>&lt;chr&gt;</th><th scope=col>&lt;dbl&gt;</th><th scope=col>&lt;chr&gt;</th><th scope=col>&lt;dbl&gt;</th><th scope=col>&lt;chr&gt;</th><th scope=col>&lt;dbl&gt;</th><th scope=col>&lt;chr&gt;</th></tr>\n",
       "</thead>\n",
       "<tbody>\n",
       "\t<tr><th scope=row>AAACAAGCACCGGTAGACTTTAGG-1_1</th><td>Exp00918_w1_BL05013-033</td><td> 6654</td><td>3198</td><td>BL05013</td><td>w1</td><td>BL05013-033</td><td>0.9792252</td><td>CD4 T</td><td>0.9671556</td><td>CD4 TCM  </td><td>0.7877114</td><td>CD4 TCM_3</td></tr>\n",
       "\t<tr><th scope=row>AAACAAGCACTAAGGCACTTTAGG-1_1</th><td>Exp00918_w1_BL05013-033</td><td> 5889</td><td>2988</td><td>BL05013</td><td>w1</td><td>BL05013-033</td><td>0.6921315</td><td>CD8 T</td><td>0.6844454</td><td>CD8 Naive</td><td>0.5411529</td><td>CD8 Naive</td></tr>\n",
       "\t<tr><th scope=row>AAACAAGCACTCCCTTACTTTAGG-1_1</th><td>Exp00918_w1_BL05013-033</td><td>14577</td><td>4339</td><td>BL05013</td><td>w1</td><td>BL05013-033</td><td>1.0000000</td><td>Mono </td><td>1.0000000</td><td>CD14 Mono</td><td>1.0000000</td><td>CD14 Mono</td></tr>\n",
       "\t<tr><th scope=row>AAACAAGCATTCCTTTACTTTAGG-1_1</th><td>Exp00918_w1_BL05013-033</td><td>11459</td><td>4099</td><td>BL05013</td><td>w1</td><td>BL05013-033</td><td>1.0000000</td><td>Mono </td><td>1.0000000</td><td>CD16 Mono</td><td>1.0000000</td><td>CD16 Mono</td></tr>\n",
       "\t<tr><th scope=row>AAACAAGCATTTAGCCACTTTAGG-1_1</th><td>Exp00918_w1_BL05013-033</td><td> 5790</td><td>2967</td><td>BL05013</td><td>w1</td><td>BL05013-033</td><td>0.9687596</td><td>CD8 T</td><td>0.9640880</td><td>CD8 Naive</td><td>0.5331445</td><td>CD8 Naive</td></tr>\n",
       "\t<tr><th scope=row>AAACCAATCAATGTTCACTTTAGG-1_1</th><td>Exp00918_w1_BL05013-033</td><td>20776</td><td>5697</td><td>BL05013</td><td>w1</td><td>BL05013-033</td><td>1.0000000</td><td>Mono </td><td>0.9637864</td><td>CD14 Mono</td><td>0.9637864</td><td>CD14 Mono</td></tr>\n",
       "</tbody>\n",
       "</table>\n"
      ],
      "text/latex": [
       "A data.frame: 6 × 12\n",
       "\\begin{tabular}{r|llllllllllll}\n",
       "  & orig.ident & nCount\\_RNA & nFeature\\_RNA & donor & well & donor2 & predicted.celltype.l1.score & predicted.celltype.l1 & predicted.celltype.l2.score & predicted.celltype.l2 & predicted.celltype.l3.score & predicted.celltype.l3\\\\\n",
       "  & <chr> & <dbl> & <int> & <chr> & <chr> & <chr> & <dbl> & <chr> & <dbl> & <chr> & <dbl> & <chr>\\\\\n",
       "\\hline\n",
       "\tAAACAAGCACCGGTAGACTTTAGG-1\\_1 & Exp00918\\_w1\\_BL05013-033 &  6654 & 3198 & BL05013 & w1 & BL05013-033 & 0.9792252 & CD4 T & 0.9671556 & CD4 TCM   & 0.7877114 & CD4 TCM\\_3\\\\\n",
       "\tAAACAAGCACTAAGGCACTTTAGG-1\\_1 & Exp00918\\_w1\\_BL05013-033 &  5889 & 2988 & BL05013 & w1 & BL05013-033 & 0.6921315 & CD8 T & 0.6844454 & CD8 Naive & 0.5411529 & CD8 Naive\\\\\n",
       "\tAAACAAGCACTCCCTTACTTTAGG-1\\_1 & Exp00918\\_w1\\_BL05013-033 & 14577 & 4339 & BL05013 & w1 & BL05013-033 & 1.0000000 & Mono  & 1.0000000 & CD14 Mono & 1.0000000 & CD14 Mono\\\\\n",
       "\tAAACAAGCATTCCTTTACTTTAGG-1\\_1 & Exp00918\\_w1\\_BL05013-033 & 11459 & 4099 & BL05013 & w1 & BL05013-033 & 1.0000000 & Mono  & 1.0000000 & CD16 Mono & 1.0000000 & CD16 Mono\\\\\n",
       "\tAAACAAGCATTTAGCCACTTTAGG-1\\_1 & Exp00918\\_w1\\_BL05013-033 &  5790 & 2967 & BL05013 & w1 & BL05013-033 & 0.9687596 & CD8 T & 0.9640880 & CD8 Naive & 0.5331445 & CD8 Naive\\\\\n",
       "\tAAACCAATCAATGTTCACTTTAGG-1\\_1 & Exp00918\\_w1\\_BL05013-033 & 20776 & 5697 & BL05013 & w1 & BL05013-033 & 1.0000000 & Mono  & 0.9637864 & CD14 Mono & 0.9637864 & CD14 Mono\\\\\n",
       "\\end{tabular}\n"
      ],
      "text/markdown": [
       "\n",
       "A data.frame: 6 × 12\n",
       "\n",
       "| <!--/--> | orig.ident &lt;chr&gt; | nCount_RNA &lt;dbl&gt; | nFeature_RNA &lt;int&gt; | donor &lt;chr&gt; | well &lt;chr&gt; | donor2 &lt;chr&gt; | predicted.celltype.l1.score &lt;dbl&gt; | predicted.celltype.l1 &lt;chr&gt; | predicted.celltype.l2.score &lt;dbl&gt; | predicted.celltype.l2 &lt;chr&gt; | predicted.celltype.l3.score &lt;dbl&gt; | predicted.celltype.l3 &lt;chr&gt; |\n",
       "|---|---|---|---|---|---|---|---|---|---|---|---|---|\n",
       "| AAACAAGCACCGGTAGACTTTAGG-1_1 | Exp00918_w1_BL05013-033 |  6654 | 3198 | BL05013 | w1 | BL05013-033 | 0.9792252 | CD4 T | 0.9671556 | CD4 TCM   | 0.7877114 | CD4 TCM_3 |\n",
       "| AAACAAGCACTAAGGCACTTTAGG-1_1 | Exp00918_w1_BL05013-033 |  5889 | 2988 | BL05013 | w1 | BL05013-033 | 0.6921315 | CD8 T | 0.6844454 | CD8 Naive | 0.5411529 | CD8 Naive |\n",
       "| AAACAAGCACTCCCTTACTTTAGG-1_1 | Exp00918_w1_BL05013-033 | 14577 | 4339 | BL05013 | w1 | BL05013-033 | 1.0000000 | Mono  | 1.0000000 | CD14 Mono | 1.0000000 | CD14 Mono |\n",
       "| AAACAAGCATTCCTTTACTTTAGG-1_1 | Exp00918_w1_BL05013-033 | 11459 | 4099 | BL05013 | w1 | BL05013-033 | 1.0000000 | Mono  | 1.0000000 | CD16 Mono | 1.0000000 | CD16 Mono |\n",
       "| AAACAAGCATTTAGCCACTTTAGG-1_1 | Exp00918_w1_BL05013-033 |  5790 | 2967 | BL05013 | w1 | BL05013-033 | 0.9687596 | CD8 T | 0.9640880 | CD8 Naive | 0.5331445 | CD8 Naive |\n",
       "| AAACCAATCAATGTTCACTTTAGG-1_1 | Exp00918_w1_BL05013-033 | 20776 | 5697 | BL05013 | w1 | BL05013-033 | 1.0000000 | Mono  | 0.9637864 | CD14 Mono | 0.9637864 | CD14 Mono |\n",
       "\n"
      ],
      "text/plain": [
       "                             orig.ident              nCount_RNA nFeature_RNA\n",
       "AAACAAGCACCGGTAGACTTTAGG-1_1 Exp00918_w1_BL05013-033  6654      3198        \n",
       "AAACAAGCACTAAGGCACTTTAGG-1_1 Exp00918_w1_BL05013-033  5889      2988        \n",
       "AAACAAGCACTCCCTTACTTTAGG-1_1 Exp00918_w1_BL05013-033 14577      4339        \n",
       "AAACAAGCATTCCTTTACTTTAGG-1_1 Exp00918_w1_BL05013-033 11459      4099        \n",
       "AAACAAGCATTTAGCCACTTTAGG-1_1 Exp00918_w1_BL05013-033  5790      2967        \n",
       "AAACCAATCAATGTTCACTTTAGG-1_1 Exp00918_w1_BL05013-033 20776      5697        \n",
       "                             donor   well donor2     \n",
       "AAACAAGCACCGGTAGACTTTAGG-1_1 BL05013 w1   BL05013-033\n",
       "AAACAAGCACTAAGGCACTTTAGG-1_1 BL05013 w1   BL05013-033\n",
       "AAACAAGCACTCCCTTACTTTAGG-1_1 BL05013 w1   BL05013-033\n",
       "AAACAAGCATTCCTTTACTTTAGG-1_1 BL05013 w1   BL05013-033\n",
       "AAACAAGCATTTAGCCACTTTAGG-1_1 BL05013 w1   BL05013-033\n",
       "AAACCAATCAATGTTCACTTTAGG-1_1 BL05013 w1   BL05013-033\n",
       "                             predicted.celltype.l1.score predicted.celltype.l1\n",
       "AAACAAGCACCGGTAGACTTTAGG-1_1 0.9792252                   CD4 T                \n",
       "AAACAAGCACTAAGGCACTTTAGG-1_1 0.6921315                   CD8 T                \n",
       "AAACAAGCACTCCCTTACTTTAGG-1_1 1.0000000                   Mono                 \n",
       "AAACAAGCATTCCTTTACTTTAGG-1_1 1.0000000                   Mono                 \n",
       "AAACAAGCATTTAGCCACTTTAGG-1_1 0.9687596                   CD8 T                \n",
       "AAACCAATCAATGTTCACTTTAGG-1_1 1.0000000                   Mono                 \n",
       "                             predicted.celltype.l2.score predicted.celltype.l2\n",
       "AAACAAGCACCGGTAGACTTTAGG-1_1 0.9671556                   CD4 TCM              \n",
       "AAACAAGCACTAAGGCACTTTAGG-1_1 0.6844454                   CD8 Naive            \n",
       "AAACAAGCACTCCCTTACTTTAGG-1_1 1.0000000                   CD14 Mono            \n",
       "AAACAAGCATTCCTTTACTTTAGG-1_1 1.0000000                   CD16 Mono            \n",
       "AAACAAGCATTTAGCCACTTTAGG-1_1 0.9640880                   CD8 Naive            \n",
       "AAACCAATCAATGTTCACTTTAGG-1_1 0.9637864                   CD14 Mono            \n",
       "                             predicted.celltype.l3.score predicted.celltype.l3\n",
       "AAACAAGCACCGGTAGACTTTAGG-1_1 0.7877114                   CD4 TCM_3            \n",
       "AAACAAGCACTAAGGCACTTTAGG-1_1 0.5411529                   CD8 Naive            \n",
       "AAACAAGCACTCCCTTACTTTAGG-1_1 1.0000000                   CD14 Mono            \n",
       "AAACAAGCATTCCTTTACTTTAGG-1_1 1.0000000                   CD16 Mono            \n",
       "AAACAAGCATTTAGCCACTTTAGG-1_1 0.5331445                   CD8 Naive            \n",
       "AAACCAATCAATGTTCACTTTAGG-1_1 0.9637864                   CD14 Mono            "
      ]
     },
     "metadata": {},
     "output_type": "display_data"
    }
   ],
   "source": [
    "head(so@meta.data)"
   ]
  },
  {
   "cell_type": "code",
   "execution_count": 10,
   "id": "142a3037-ee62-461e-8966-6c0cc62e4ef1",
   "metadata": {},
   "outputs": [
    {
     "data": {
      "text/plain": [
       "\n",
       "BL05013 BL05045 BL05113 BL05759 BL05760 PB02183 \n",
       "  80512   80718   76120   78030   83144   30842 "
      ]
     },
     "metadata": {},
     "output_type": "display_data"
    }
   ],
   "source": [
    "table(so$donor)"
   ]
  },
  {
   "cell_type": "code",
   "execution_count": 11,
   "id": "bbfcde07-afb7-4f2e-afc2-c148363ddab5",
   "metadata": {},
   "outputs": [
    {
     "data": {
      "text/plain": [
       "\n",
       "BL05013-033 BL05013-034 BL05013-035 BL05013-036 BL05013-037 BL05013-038 \n",
       "       6135        6513        6452        6529        6601        6600 \n",
       "BL05013-039 BL05013-040 BL05013-041 BL05013-042 BL05013-043 BL05013-044 \n",
       "       5883        6224        6782        6840        7193        8760 \n",
       "BL05045-048 BL05045-049 BL05045-050 BL05045-051 BL05045-052 BL05045-053 \n",
       "       6757        7212        7069        5682        7328        6351 \n",
       "BL05045-054 BL05045-055 BL05045-056 BL05045-057 BL05045-058 BL05045-059 \n",
       "       6540        5824        6178        6761        7548        7468 \n",
       "BL05113-013 BL05113-014 BL05113-015 BL05113-016 BL05113-017 BL05113-018 \n",
       "       6744        6064        6545        6089        6138        6330 \n",
       "BL05113-019 BL05113-020 BL05113-021 BL05113-022 BL05113-023 BL05113-024 \n",
       "       4996        5776        6292        7883        7295        5968 \n",
       "BL05759-020 BL05759-021 BL05759-022 BL05759-023 BL05759-024 BL05759-025 \n",
       "       6289        6797        6381        6226        6612        6615 \n",
       "BL05759-026 BL05759-027 BL05759-028 BL05759-029 BL05759-030 BL05759-031 \n",
       "       5224        5945        6776        7041        7150        6974 \n",
       "BL05760-028 BL05760-029 BL05760-030 BL05760-031 BL05760-032 BL05760-033 \n",
       "       6467        6401        7090        6209        7150        6294 \n",
       "BL05760-034 BL05760-035 BL05760-036 BL05760-037 BL05760-038 BL05760-039 \n",
       "       5826        8953        5634        7314        7952        7854 \n",
       "PB02183-154 \n",
       "      30842 "
      ]
     },
     "metadata": {},
     "output_type": "display_data"
    }
   ],
   "source": [
    "table(so$donor2)"
   ]
  },
  {
   "cell_type": "code",
   "execution_count": 12,
   "id": "bf865849-31b7-461d-9e3d-f64530f081d4",
   "metadata": {},
   "outputs": [],
   "source": [
    "so$Sample <- so$donor2\n",
    "so$Replicate <- so$donor2\n",
    "so$Pool_Well <- so$well\n",
    "so$Donor <- so$donor"
   ]
  },
  {
   "cell_type": "code",
   "execution_count": 13,
   "id": "e361defa-c4a4-4896-8935-60d90624a108",
   "metadata": {},
   "outputs": [
    {
     "name": "stderr",
     "output_type": "stream",
     "text": [
      "Fri Mar 22 18:46:00 2024: The PALMO object is created.\n",
      "\n",
      "Fri Mar 22 18:46:00 2024: For outout files, the output directory is created.\n",
      "\n"
     ]
    }
   ],
   "source": [
    "palmo_obj <- createPALMOobject(anndata=so@meta.data, data=so)"
   ]
  },
  {
   "cell_type": "code",
   "execution_count": 14,
   "id": "9c466dfc-5dbd-4311-80ca-e02ad6d9cdb3",
   "metadata": {},
   "outputs": [],
   "source": [
    "palmo_obj <- annotateMetadata(data_object=palmo_obj,\n",
    "    sample_column= \"Sample\",\n",
    "    donor_column= \"Donor\",\n",
    "    time_column= \"Pool_Well\")"
   ]
  },
  {
   "cell_type": "code",
   "execution_count": 15,
   "id": "a9b352b1-3b62-435c-9db8-0fcc84280292",
   "metadata": {},
   "outputs": [],
   "source": [
    "palmo_obj <- mergePALMOdata(data_object=palmo_obj, datatype=\"singlecell\")"
   ]
  },
  {
   "cell_type": "code",
   "execution_count": 16,
   "id": "787a3704-7d27-49e5-bd00-9273515cd9f2",
   "metadata": {},
   "outputs": [
    {
     "name": "stderr",
     "output_type": "stream",
     "text": [
      "Fri Mar 22 18:46:06 2024: Calculating scRNA Average expression\n",
      "\n",
      "Warning message in asMethod(object):\n",
      "“sparse->dense coercion: allocating vector of size 5.5 GiB”\n",
      "Fri Mar 22 18:47:08 2024: scRNA Average expression finished\n",
      "\n",
      "Fri Mar 22 18:47:08 2024: Keeping genes with avg expression >0\n",
      "\n"
     ]
    },
    {
     "data": {
      "text/html": [
       "<table class=\"dataframe\">\n",
       "<caption>A data.frame: 6 × 22</caption>\n",
       "<thead>\n",
       "\t<tr><th></th><th scope=col>Sample</th><th scope=col>Sample_group</th><th scope=col>group</th><th scope=col>orig.ident</th><th scope=col>nCount_RNA</th><th scope=col>nFeature_RNA</th><th scope=col>donor</th><th scope=col>well</th><th scope=col>donor2</th><th scope=col>predicted.celltype.l1.score</th><th scope=col>⋯</th><th scope=col>predicted.celltype.l2</th><th scope=col>predicted.celltype.l3.score</th><th scope=col>predicted.celltype.l3</th><th scope=col>Replicate</th><th scope=col>Pool_Well</th><th scope=col>Donor</th><th scope=col>PTID</th><th scope=col>Time</th><th scope=col>predicted.celltype.l2.1</th><th scope=col>Sample_group_i</th></tr>\n",
       "\t<tr><th></th><th scope=col>&lt;chr&gt;</th><th scope=col>&lt;chr&gt;</th><th scope=col>&lt;chr&gt;</th><th scope=col>&lt;chr&gt;</th><th scope=col>&lt;dbl&gt;</th><th scope=col>&lt;int&gt;</th><th scope=col>&lt;chr&gt;</th><th scope=col>&lt;chr&gt;</th><th scope=col>&lt;chr&gt;</th><th scope=col>&lt;dbl&gt;</th><th scope=col>⋯</th><th scope=col>&lt;chr&gt;</th><th scope=col>&lt;dbl&gt;</th><th scope=col>&lt;chr&gt;</th><th scope=col>&lt;chr&gt;</th><th scope=col>&lt;chr&gt;</th><th scope=col>&lt;chr&gt;</th><th scope=col>&lt;chr&gt;</th><th scope=col>&lt;chr&gt;</th><th scope=col>&lt;chr&gt;</th><th scope=col>&lt;chr&gt;</th></tr>\n",
       "</thead>\n",
       "<tbody>\n",
       "\t<tr><th scope=row>BL05013_033:B_intermediate</th><td>BL05013_033</td><td>BL05013_033:B_intermediate</td><td>B_intermediate</td><td>Exp00918_w1_BL05013-033</td><td>6654</td><td>3198</td><td>BL05013</td><td>w1</td><td>BL05013-033</td><td>0.9792252</td><td>⋯</td><td>CD4 TCM</td><td>0.7877114</td><td>CD4 TCM_3</td><td>BL05013-033</td><td>w1</td><td>BL05013</td><td>BL05013</td><td>w1</td><td>B_intermediate</td><td>B_intermediate:BL05013</td></tr>\n",
       "\t<tr><th scope=row>BL05013_033:B_memory</th><td>BL05013_033</td><td>BL05013_033:B_memory      </td><td>B_memory      </td><td>Exp00918_w1_BL05013-033</td><td>6654</td><td>3198</td><td>BL05013</td><td>w1</td><td>BL05013-033</td><td>0.9792252</td><td>⋯</td><td>CD4 TCM</td><td>0.7877114</td><td>CD4 TCM_3</td><td>BL05013-033</td><td>w1</td><td>BL05013</td><td>BL05013</td><td>w1</td><td>B_memory      </td><td>B_memory:BL05013      </td></tr>\n",
       "\t<tr><th scope=row>BL05013_033:B_naive</th><td>BL05013_033</td><td>BL05013_033:B_naive       </td><td>B_naive       </td><td>Exp00918_w1_BL05013-033</td><td>6654</td><td>3198</td><td>BL05013</td><td>w1</td><td>BL05013-033</td><td>0.9792252</td><td>⋯</td><td>CD4 TCM</td><td>0.7877114</td><td>CD4 TCM_3</td><td>BL05013-033</td><td>w1</td><td>BL05013</td><td>BL05013</td><td>w1</td><td>B_naive       </td><td>B_naive:BL05013       </td></tr>\n",
       "\t<tr><th scope=row>BL05013_033:CD14_Mono</th><td>BL05013_033</td><td>BL05013_033:CD14_Mono     </td><td>CD14_Mono     </td><td>Exp00918_w1_BL05013-033</td><td>6654</td><td>3198</td><td>BL05013</td><td>w1</td><td>BL05013-033</td><td>0.9792252</td><td>⋯</td><td>CD4 TCM</td><td>0.7877114</td><td>CD4 TCM_3</td><td>BL05013-033</td><td>w1</td><td>BL05013</td><td>BL05013</td><td>w1</td><td>CD14_Mono     </td><td>CD14_Mono:BL05013     </td></tr>\n",
       "\t<tr><th scope=row>BL05013_033:CD16_Mono</th><td>BL05013_033</td><td>BL05013_033:CD16_Mono     </td><td>CD16_Mono     </td><td>Exp00918_w1_BL05013-033</td><td>6654</td><td>3198</td><td>BL05013</td><td>w1</td><td>BL05013-033</td><td>0.9792252</td><td>⋯</td><td>CD4 TCM</td><td>0.7877114</td><td>CD4 TCM_3</td><td>BL05013-033</td><td>w1</td><td>BL05013</td><td>BL05013</td><td>w1</td><td>CD16_Mono     </td><td>CD16_Mono:BL05013     </td></tr>\n",
       "\t<tr><th scope=row>BL05013_033:CD4_CTL</th><td>BL05013_033</td><td>BL05013_033:CD4_CTL       </td><td>CD4_CTL       </td><td>Exp00918_w1_BL05013-033</td><td>6654</td><td>3198</td><td>BL05013</td><td>w1</td><td>BL05013-033</td><td>0.9792252</td><td>⋯</td><td>CD4 TCM</td><td>0.7877114</td><td>CD4 TCM_3</td><td>BL05013-033</td><td>w1</td><td>BL05013</td><td>BL05013</td><td>w1</td><td>CD4_CTL       </td><td>CD4_CTL:BL05013       </td></tr>\n",
       "</tbody>\n",
       "</table>\n"
      ],
      "text/latex": [
       "A data.frame: 6 × 22\n",
       "\\begin{tabular}{r|lllllllllllllllllllll}\n",
       "  & Sample & Sample\\_group & group & orig.ident & nCount\\_RNA & nFeature\\_RNA & donor & well & donor2 & predicted.celltype.l1.score & ⋯ & predicted.celltype.l2 & predicted.celltype.l3.score & predicted.celltype.l3 & Replicate & Pool\\_Well & Donor & PTID & Time & predicted.celltype.l2.1 & Sample\\_group\\_i\\\\\n",
       "  & <chr> & <chr> & <chr> & <chr> & <dbl> & <int> & <chr> & <chr> & <chr> & <dbl> & ⋯ & <chr> & <dbl> & <chr> & <chr> & <chr> & <chr> & <chr> & <chr> & <chr> & <chr>\\\\\n",
       "\\hline\n",
       "\tBL05013\\_033:B\\_intermediate & BL05013\\_033 & BL05013\\_033:B\\_intermediate & B\\_intermediate & Exp00918\\_w1\\_BL05013-033 & 6654 & 3198 & BL05013 & w1 & BL05013-033 & 0.9792252 & ⋯ & CD4 TCM & 0.7877114 & CD4 TCM\\_3 & BL05013-033 & w1 & BL05013 & BL05013 & w1 & B\\_intermediate & B\\_intermediate:BL05013\\\\\n",
       "\tBL05013\\_033:B\\_memory & BL05013\\_033 & BL05013\\_033:B\\_memory       & B\\_memory       & Exp00918\\_w1\\_BL05013-033 & 6654 & 3198 & BL05013 & w1 & BL05013-033 & 0.9792252 & ⋯ & CD4 TCM & 0.7877114 & CD4 TCM\\_3 & BL05013-033 & w1 & BL05013 & BL05013 & w1 & B\\_memory       & B\\_memory:BL05013      \\\\\n",
       "\tBL05013\\_033:B\\_naive & BL05013\\_033 & BL05013\\_033:B\\_naive        & B\\_naive        & Exp00918\\_w1\\_BL05013-033 & 6654 & 3198 & BL05013 & w1 & BL05013-033 & 0.9792252 & ⋯ & CD4 TCM & 0.7877114 & CD4 TCM\\_3 & BL05013-033 & w1 & BL05013 & BL05013 & w1 & B\\_naive        & B\\_naive:BL05013       \\\\\n",
       "\tBL05013\\_033:CD14\\_Mono & BL05013\\_033 & BL05013\\_033:CD14\\_Mono      & CD14\\_Mono      & Exp00918\\_w1\\_BL05013-033 & 6654 & 3198 & BL05013 & w1 & BL05013-033 & 0.9792252 & ⋯ & CD4 TCM & 0.7877114 & CD4 TCM\\_3 & BL05013-033 & w1 & BL05013 & BL05013 & w1 & CD14\\_Mono      & CD14\\_Mono:BL05013     \\\\\n",
       "\tBL05013\\_033:CD16\\_Mono & BL05013\\_033 & BL05013\\_033:CD16\\_Mono      & CD16\\_Mono      & Exp00918\\_w1\\_BL05013-033 & 6654 & 3198 & BL05013 & w1 & BL05013-033 & 0.9792252 & ⋯ & CD4 TCM & 0.7877114 & CD4 TCM\\_3 & BL05013-033 & w1 & BL05013 & BL05013 & w1 & CD16\\_Mono      & CD16\\_Mono:BL05013     \\\\\n",
       "\tBL05013\\_033:CD4\\_CTL & BL05013\\_033 & BL05013\\_033:CD4\\_CTL        & CD4\\_CTL        & Exp00918\\_w1\\_BL05013-033 & 6654 & 3198 & BL05013 & w1 & BL05013-033 & 0.9792252 & ⋯ & CD4 TCM & 0.7877114 & CD4 TCM\\_3 & BL05013-033 & w1 & BL05013 & BL05013 & w1 & CD4\\_CTL        & CD4\\_CTL:BL05013       \\\\\n",
       "\\end{tabular}\n"
      ],
      "text/markdown": [
       "\n",
       "A data.frame: 6 × 22\n",
       "\n",
       "| <!--/--> | Sample &lt;chr&gt; | Sample_group &lt;chr&gt; | group &lt;chr&gt; | orig.ident &lt;chr&gt; | nCount_RNA &lt;dbl&gt; | nFeature_RNA &lt;int&gt; | donor &lt;chr&gt; | well &lt;chr&gt; | donor2 &lt;chr&gt; | predicted.celltype.l1.score &lt;dbl&gt; | ⋯ ⋯ | predicted.celltype.l2 &lt;chr&gt; | predicted.celltype.l3.score &lt;dbl&gt; | predicted.celltype.l3 &lt;chr&gt; | Replicate &lt;chr&gt; | Pool_Well &lt;chr&gt; | Donor &lt;chr&gt; | PTID &lt;chr&gt; | Time &lt;chr&gt; | predicted.celltype.l2.1 &lt;chr&gt; | Sample_group_i &lt;chr&gt; |\n",
       "|---|---|---|---|---|---|---|---|---|---|---|---|---|---|---|---|---|---|---|---|---|---|\n",
       "| BL05013_033:B_intermediate | BL05013_033 | BL05013_033:B_intermediate | B_intermediate | Exp00918_w1_BL05013-033 | 6654 | 3198 | BL05013 | w1 | BL05013-033 | 0.9792252 | ⋯ | CD4 TCM | 0.7877114 | CD4 TCM_3 | BL05013-033 | w1 | BL05013 | BL05013 | w1 | B_intermediate | B_intermediate:BL05013 |\n",
       "| BL05013_033:B_memory | BL05013_033 | BL05013_033:B_memory       | B_memory       | Exp00918_w1_BL05013-033 | 6654 | 3198 | BL05013 | w1 | BL05013-033 | 0.9792252 | ⋯ | CD4 TCM | 0.7877114 | CD4 TCM_3 | BL05013-033 | w1 | BL05013 | BL05013 | w1 | B_memory       | B_memory:BL05013       |\n",
       "| BL05013_033:B_naive | BL05013_033 | BL05013_033:B_naive        | B_naive        | Exp00918_w1_BL05013-033 | 6654 | 3198 | BL05013 | w1 | BL05013-033 | 0.9792252 | ⋯ | CD4 TCM | 0.7877114 | CD4 TCM_3 | BL05013-033 | w1 | BL05013 | BL05013 | w1 | B_naive        | B_naive:BL05013        |\n",
       "| BL05013_033:CD14_Mono | BL05013_033 | BL05013_033:CD14_Mono      | CD14_Mono      | Exp00918_w1_BL05013-033 | 6654 | 3198 | BL05013 | w1 | BL05013-033 | 0.9792252 | ⋯ | CD4 TCM | 0.7877114 | CD4 TCM_3 | BL05013-033 | w1 | BL05013 | BL05013 | w1 | CD14_Mono      | CD14_Mono:BL05013      |\n",
       "| BL05013_033:CD16_Mono | BL05013_033 | BL05013_033:CD16_Mono      | CD16_Mono      | Exp00918_w1_BL05013-033 | 6654 | 3198 | BL05013 | w1 | BL05013-033 | 0.9792252 | ⋯ | CD4 TCM | 0.7877114 | CD4 TCM_3 | BL05013-033 | w1 | BL05013 | BL05013 | w1 | CD16_Mono      | CD16_Mono:BL05013      |\n",
       "| BL05013_033:CD4_CTL | BL05013_033 | BL05013_033:CD4_CTL        | CD4_CTL        | Exp00918_w1_BL05013-033 | 6654 | 3198 | BL05013 | w1 | BL05013-033 | 0.9792252 | ⋯ | CD4 TCM | 0.7877114 | CD4 TCM_3 | BL05013-033 | w1 | BL05013 | BL05013 | w1 | CD4_CTL        | CD4_CTL:BL05013        |\n",
       "\n"
      ],
      "text/plain": [
       "                           Sample      Sample_group              \n",
       "BL05013_033:B_intermediate BL05013_033 BL05013_033:B_intermediate\n",
       "BL05013_033:B_memory       BL05013_033 BL05013_033:B_memory      \n",
       "BL05013_033:B_naive        BL05013_033 BL05013_033:B_naive       \n",
       "BL05013_033:CD14_Mono      BL05013_033 BL05013_033:CD14_Mono     \n",
       "BL05013_033:CD16_Mono      BL05013_033 BL05013_033:CD16_Mono     \n",
       "BL05013_033:CD4_CTL        BL05013_033 BL05013_033:CD4_CTL       \n",
       "                           group          orig.ident              nCount_RNA\n",
       "BL05013_033:B_intermediate B_intermediate Exp00918_w1_BL05013-033 6654      \n",
       "BL05013_033:B_memory       B_memory       Exp00918_w1_BL05013-033 6654      \n",
       "BL05013_033:B_naive        B_naive        Exp00918_w1_BL05013-033 6654      \n",
       "BL05013_033:CD14_Mono      CD14_Mono      Exp00918_w1_BL05013-033 6654      \n",
       "BL05013_033:CD16_Mono      CD16_Mono      Exp00918_w1_BL05013-033 6654      \n",
       "BL05013_033:CD4_CTL        CD4_CTL        Exp00918_w1_BL05013-033 6654      \n",
       "                           nFeature_RNA donor   well donor2     \n",
       "BL05013_033:B_intermediate 3198         BL05013 w1   BL05013-033\n",
       "BL05013_033:B_memory       3198         BL05013 w1   BL05013-033\n",
       "BL05013_033:B_naive        3198         BL05013 w1   BL05013-033\n",
       "BL05013_033:CD14_Mono      3198         BL05013 w1   BL05013-033\n",
       "BL05013_033:CD16_Mono      3198         BL05013 w1   BL05013-033\n",
       "BL05013_033:CD4_CTL        3198         BL05013 w1   BL05013-033\n",
       "                           predicted.celltype.l1.score ⋯ predicted.celltype.l2\n",
       "BL05013_033:B_intermediate 0.9792252                   ⋯ CD4 TCM              \n",
       "BL05013_033:B_memory       0.9792252                   ⋯ CD4 TCM              \n",
       "BL05013_033:B_naive        0.9792252                   ⋯ CD4 TCM              \n",
       "BL05013_033:CD14_Mono      0.9792252                   ⋯ CD4 TCM              \n",
       "BL05013_033:CD16_Mono      0.9792252                   ⋯ CD4 TCM              \n",
       "BL05013_033:CD4_CTL        0.9792252                   ⋯ CD4 TCM              \n",
       "                           predicted.celltype.l3.score predicted.celltype.l3\n",
       "BL05013_033:B_intermediate 0.7877114                   CD4 TCM_3            \n",
       "BL05013_033:B_memory       0.7877114                   CD4 TCM_3            \n",
       "BL05013_033:B_naive        0.7877114                   CD4 TCM_3            \n",
       "BL05013_033:CD14_Mono      0.7877114                   CD4 TCM_3            \n",
       "BL05013_033:CD16_Mono      0.7877114                   CD4 TCM_3            \n",
       "BL05013_033:CD4_CTL        0.7877114                   CD4 TCM_3            \n",
       "                           Replicate   Pool_Well Donor   PTID    Time\n",
       "BL05013_033:B_intermediate BL05013-033 w1        BL05013 BL05013 w1  \n",
       "BL05013_033:B_memory       BL05013-033 w1        BL05013 BL05013 w1  \n",
       "BL05013_033:B_naive        BL05013-033 w1        BL05013 BL05013 w1  \n",
       "BL05013_033:CD14_Mono      BL05013-033 w1        BL05013 BL05013 w1  \n",
       "BL05013_033:CD16_Mono      BL05013-033 w1        BL05013 BL05013 w1  \n",
       "BL05013_033:CD4_CTL        BL05013-033 w1        BL05013 BL05013 w1  \n",
       "                           predicted.celltype.l2.1 Sample_group_i        \n",
       "BL05013_033:B_intermediate B_intermediate          B_intermediate:BL05013\n",
       "BL05013_033:B_memory       B_memory                B_memory:BL05013      \n",
       "BL05013_033:B_naive        B_naive                 B_naive:BL05013       \n",
       "BL05013_033:CD14_Mono      CD14_Mono               CD14_Mono:BL05013     \n",
       "BL05013_033:CD16_Mono      CD16_Mono               CD16_Mono:BL05013     \n",
       "BL05013_033:CD4_CTL        CD4_CTL                 CD4_CTL:BL05013       "
      ]
     },
     "metadata": {},
     "output_type": "display_data"
    },
    {
     "data": {
      "text/html": [
       "<table class=\"dataframe\">\n",
       "<caption>A data.frame: 6 × 1734</caption>\n",
       "<thead>\n",
       "\t<tr><th></th><th scope=col>BL05013_033:B_intermediate</th><th scope=col>BL05013_033:B_memory</th><th scope=col>BL05013_033:B_naive</th><th scope=col>BL05013_033:CD14_Mono</th><th scope=col>BL05013_033:CD16_Mono</th><th scope=col>BL05013_033:CD4_CTL</th><th scope=col>BL05013_033:CD4_Naive</th><th scope=col>BL05013_033:CD4_TCM</th><th scope=col>BL05013_033:CD4_TEM</th><th scope=col>BL05013_033:CD8_Naive</th><th scope=col>⋯</th><th scope=col>PB02183_154:HSPC</th><th scope=col>PB02183_154:ILC</th><th scope=col>PB02183_154:MAIT</th><th scope=col>PB02183_154:NK</th><th scope=col>PB02183_154:NK_CD56bright</th><th scope=col>PB02183_154:NK_Proliferating</th><th scope=col>PB02183_154:pDC</th><th scope=col>PB02183_154:Plasmablast</th><th scope=col>PB02183_154:Platelet</th><th scope=col>PB02183_154:Treg</th></tr>\n",
       "\t<tr><th></th><th scope=col>&lt;dbl&gt;</th><th scope=col>&lt;dbl&gt;</th><th scope=col>&lt;dbl&gt;</th><th scope=col>&lt;dbl&gt;</th><th scope=col>&lt;dbl&gt;</th><th scope=col>&lt;dbl&gt;</th><th scope=col>&lt;dbl&gt;</th><th scope=col>&lt;dbl&gt;</th><th scope=col>&lt;dbl&gt;</th><th scope=col>&lt;dbl&gt;</th><th scope=col>⋯</th><th scope=col>&lt;dbl&gt;</th><th scope=col>&lt;dbl&gt;</th><th scope=col>&lt;dbl&gt;</th><th scope=col>&lt;dbl&gt;</th><th scope=col>&lt;dbl&gt;</th><th scope=col>&lt;dbl&gt;</th><th scope=col>&lt;dbl&gt;</th><th scope=col>&lt;dbl&gt;</th><th scope=col>&lt;dbl&gt;</th><th scope=col>&lt;dbl&gt;</th></tr>\n",
       "</thead>\n",
       "<tbody>\n",
       "\t<tr><th scope=row>SAMD11</th><td>0.000000000</td><td>0.00000000</td><td>0.000000000</td><td>0.00000000</td><td>0.000000000</td><td>0.0000000</td><td>0.000000000</td><td>0.00000000</td><td>0.000000000</td><td>0.000000000</td><td>⋯</td><td>0.00000000</td><td>0.00000000</td><td>0.00000000</td><td>0.00000000</td><td>0.00000000</td><td>0.0000000</td><td>0.00000000</td><td>0.00000000</td><td>0.00000000</td><td>0.000000000</td></tr>\n",
       "\t<tr><th scope=row>NOC2L</th><td>0.443490380</td><td>0.58341719</td><td>0.383972509</td><td>0.36038458</td><td>0.518069828</td><td>0.5345803</td><td>0.354632196</td><td>0.39515952</td><td>0.386427729</td><td>0.417125626</td><td>⋯</td><td>0.54319943</td><td>0.44563517</td><td>0.37151779</td><td>0.35280330</td><td>0.43172844</td><td>0.4778630</td><td>0.41043756</td><td>0.28166190</td><td>0.16673007</td><td>0.376312102</td></tr>\n",
       "\t<tr><th scope=row>KLHL17</th><td>0.044120600</td><td>0.05334357</td><td>0.030081104</td><td>0.05460716</td><td>0.048457063</td><td>0.1572286</td><td>0.036623134</td><td>0.05932611</td><td>0.012595222</td><td>0.044672004</td><td>⋯</td><td>0.02955328</td><td>0.09756137</td><td>0.05923401</td><td>0.07139917</td><td>0.06382553</td><td>0.1923709</td><td>0.03897028</td><td>0.02278437</td><td>0.03614159</td><td>0.061108670</td></tr>\n",
       "\t<tr><th scope=row>PLEKHN1</th><td>0.007772261</td><td>0.02341622</td><td>0.000000000</td><td>0.03657502</td><td>0.003986524</td><td>0.0000000</td><td>0.003903531</td><td>0.02042372</td><td>0.039879236</td><td>0.004684816</td><td>⋯</td><td>0.00000000</td><td>0.10558783</td><td>0.02583291</td><td>0.00450549</td><td>0.05503091</td><td>0.0000000</td><td>0.00000000</td><td>0.01434690</td><td>0.00000000</td><td>0.036630826</td></tr>\n",
       "\t<tr><th scope=row>PERM1</th><td>0.000000000</td><td>0.00000000</td><td>0.000000000</td><td>0.00000000</td><td>0.010197240</td><td>0.0000000</td><td>0.001342253</td><td>0.00000000</td><td>0.000000000</td><td>0.000000000</td><td>⋯</td><td>0.00000000</td><td>0.00000000</td><td>0.00000000</td><td>0.00000000</td><td>0.00000000</td><td>0.0000000</td><td>0.00000000</td><td>0.00000000</td><td>0.00000000</td><td>0.000000000</td></tr>\n",
       "\t<tr><th scope=row>HES4</th><td>0.000000000</td><td>0.00000000</td><td>0.003914393</td><td>0.02537862</td><td>0.698528890</td><td>0.0000000</td><td>0.006719092</td><td>0.00000000</td><td>0.004756554</td><td>0.001862687</td><td>⋯</td><td>0.06316092</td><td>0.04538295</td><td>0.01883914</td><td>0.06887408</td><td>0.01854243</td><td>0.1934718</td><td>0.07966705</td><td>0.02637866</td><td>0.00000000</td><td>0.006709108</td></tr>\n",
       "</tbody>\n",
       "</table>\n"
      ],
      "text/latex": [
       "A data.frame: 6 × 1734\n",
       "\\begin{tabular}{r|lllllllllllllllllllll}\n",
       "  & BL05013\\_033:B\\_intermediate & BL05013\\_033:B\\_memory & BL05013\\_033:B\\_naive & BL05013\\_033:CD14\\_Mono & BL05013\\_033:CD16\\_Mono & BL05013\\_033:CD4\\_CTL & BL05013\\_033:CD4\\_Naive & BL05013\\_033:CD4\\_TCM & BL05013\\_033:CD4\\_TEM & BL05013\\_033:CD8\\_Naive & ⋯ & PB02183\\_154:HSPC & PB02183\\_154:ILC & PB02183\\_154:MAIT & PB02183\\_154:NK & PB02183\\_154:NK\\_CD56bright & PB02183\\_154:NK\\_Proliferating & PB02183\\_154:pDC & PB02183\\_154:Plasmablast & PB02183\\_154:Platelet & PB02183\\_154:Treg\\\\\n",
       "  & <dbl> & <dbl> & <dbl> & <dbl> & <dbl> & <dbl> & <dbl> & <dbl> & <dbl> & <dbl> & ⋯ & <dbl> & <dbl> & <dbl> & <dbl> & <dbl> & <dbl> & <dbl> & <dbl> & <dbl> & <dbl>\\\\\n",
       "\\hline\n",
       "\tSAMD11 & 0.000000000 & 0.00000000 & 0.000000000 & 0.00000000 & 0.000000000 & 0.0000000 & 0.000000000 & 0.00000000 & 0.000000000 & 0.000000000 & ⋯ & 0.00000000 & 0.00000000 & 0.00000000 & 0.00000000 & 0.00000000 & 0.0000000 & 0.00000000 & 0.00000000 & 0.00000000 & 0.000000000\\\\\n",
       "\tNOC2L & 0.443490380 & 0.58341719 & 0.383972509 & 0.36038458 & 0.518069828 & 0.5345803 & 0.354632196 & 0.39515952 & 0.386427729 & 0.417125626 & ⋯ & 0.54319943 & 0.44563517 & 0.37151779 & 0.35280330 & 0.43172844 & 0.4778630 & 0.41043756 & 0.28166190 & 0.16673007 & 0.376312102\\\\\n",
       "\tKLHL17 & 0.044120600 & 0.05334357 & 0.030081104 & 0.05460716 & 0.048457063 & 0.1572286 & 0.036623134 & 0.05932611 & 0.012595222 & 0.044672004 & ⋯ & 0.02955328 & 0.09756137 & 0.05923401 & 0.07139917 & 0.06382553 & 0.1923709 & 0.03897028 & 0.02278437 & 0.03614159 & 0.061108670\\\\\n",
       "\tPLEKHN1 & 0.007772261 & 0.02341622 & 0.000000000 & 0.03657502 & 0.003986524 & 0.0000000 & 0.003903531 & 0.02042372 & 0.039879236 & 0.004684816 & ⋯ & 0.00000000 & 0.10558783 & 0.02583291 & 0.00450549 & 0.05503091 & 0.0000000 & 0.00000000 & 0.01434690 & 0.00000000 & 0.036630826\\\\\n",
       "\tPERM1 & 0.000000000 & 0.00000000 & 0.000000000 & 0.00000000 & 0.010197240 & 0.0000000 & 0.001342253 & 0.00000000 & 0.000000000 & 0.000000000 & ⋯ & 0.00000000 & 0.00000000 & 0.00000000 & 0.00000000 & 0.00000000 & 0.0000000 & 0.00000000 & 0.00000000 & 0.00000000 & 0.000000000\\\\\n",
       "\tHES4 & 0.000000000 & 0.00000000 & 0.003914393 & 0.02537862 & 0.698528890 & 0.0000000 & 0.006719092 & 0.00000000 & 0.004756554 & 0.001862687 & ⋯ & 0.06316092 & 0.04538295 & 0.01883914 & 0.06887408 & 0.01854243 & 0.1934718 & 0.07966705 & 0.02637866 & 0.00000000 & 0.006709108\\\\\n",
       "\\end{tabular}\n"
      ],
      "text/markdown": [
       "\n",
       "A data.frame: 6 × 1734\n",
       "\n",
       "| <!--/--> | BL05013_033:B_intermediate &lt;dbl&gt; | BL05013_033:B_memory &lt;dbl&gt; | BL05013_033:B_naive &lt;dbl&gt; | BL05013_033:CD14_Mono &lt;dbl&gt; | BL05013_033:CD16_Mono &lt;dbl&gt; | BL05013_033:CD4_CTL &lt;dbl&gt; | BL05013_033:CD4_Naive &lt;dbl&gt; | BL05013_033:CD4_TCM &lt;dbl&gt; | BL05013_033:CD4_TEM &lt;dbl&gt; | BL05013_033:CD8_Naive &lt;dbl&gt; | ⋯ ⋯ | PB02183_154:HSPC &lt;dbl&gt; | PB02183_154:ILC &lt;dbl&gt; | PB02183_154:MAIT &lt;dbl&gt; | PB02183_154:NK &lt;dbl&gt; | PB02183_154:NK_CD56bright &lt;dbl&gt; | PB02183_154:NK_Proliferating &lt;dbl&gt; | PB02183_154:pDC &lt;dbl&gt; | PB02183_154:Plasmablast &lt;dbl&gt; | PB02183_154:Platelet &lt;dbl&gt; | PB02183_154:Treg &lt;dbl&gt; |\n",
       "|---|---|---|---|---|---|---|---|---|---|---|---|---|---|---|---|---|---|---|---|---|---|\n",
       "| SAMD11 | 0.000000000 | 0.00000000 | 0.000000000 | 0.00000000 | 0.000000000 | 0.0000000 | 0.000000000 | 0.00000000 | 0.000000000 | 0.000000000 | ⋯ | 0.00000000 | 0.00000000 | 0.00000000 | 0.00000000 | 0.00000000 | 0.0000000 | 0.00000000 | 0.00000000 | 0.00000000 | 0.000000000 |\n",
       "| NOC2L | 0.443490380 | 0.58341719 | 0.383972509 | 0.36038458 | 0.518069828 | 0.5345803 | 0.354632196 | 0.39515952 | 0.386427729 | 0.417125626 | ⋯ | 0.54319943 | 0.44563517 | 0.37151779 | 0.35280330 | 0.43172844 | 0.4778630 | 0.41043756 | 0.28166190 | 0.16673007 | 0.376312102 |\n",
       "| KLHL17 | 0.044120600 | 0.05334357 | 0.030081104 | 0.05460716 | 0.048457063 | 0.1572286 | 0.036623134 | 0.05932611 | 0.012595222 | 0.044672004 | ⋯ | 0.02955328 | 0.09756137 | 0.05923401 | 0.07139917 | 0.06382553 | 0.1923709 | 0.03897028 | 0.02278437 | 0.03614159 | 0.061108670 |\n",
       "| PLEKHN1 | 0.007772261 | 0.02341622 | 0.000000000 | 0.03657502 | 0.003986524 | 0.0000000 | 0.003903531 | 0.02042372 | 0.039879236 | 0.004684816 | ⋯ | 0.00000000 | 0.10558783 | 0.02583291 | 0.00450549 | 0.05503091 | 0.0000000 | 0.00000000 | 0.01434690 | 0.00000000 | 0.036630826 |\n",
       "| PERM1 | 0.000000000 | 0.00000000 | 0.000000000 | 0.00000000 | 0.010197240 | 0.0000000 | 0.001342253 | 0.00000000 | 0.000000000 | 0.000000000 | ⋯ | 0.00000000 | 0.00000000 | 0.00000000 | 0.00000000 | 0.00000000 | 0.0000000 | 0.00000000 | 0.00000000 | 0.00000000 | 0.000000000 |\n",
       "| HES4 | 0.000000000 | 0.00000000 | 0.003914393 | 0.02537862 | 0.698528890 | 0.0000000 | 0.006719092 | 0.00000000 | 0.004756554 | 0.001862687 | ⋯ | 0.06316092 | 0.04538295 | 0.01883914 | 0.06887408 | 0.01854243 | 0.1934718 | 0.07966705 | 0.02637866 | 0.00000000 | 0.006709108 |\n",
       "\n"
      ],
      "text/plain": [
       "        BL05013_033:B_intermediate BL05013_033:B_memory BL05013_033:B_naive\n",
       "SAMD11  0.000000000                0.00000000           0.000000000        \n",
       "NOC2L   0.443490380                0.58341719           0.383972509        \n",
       "KLHL17  0.044120600                0.05334357           0.030081104        \n",
       "PLEKHN1 0.007772261                0.02341622           0.000000000        \n",
       "PERM1   0.000000000                0.00000000           0.000000000        \n",
       "HES4    0.000000000                0.00000000           0.003914393        \n",
       "        BL05013_033:CD14_Mono BL05013_033:CD16_Mono BL05013_033:CD4_CTL\n",
       "SAMD11  0.00000000            0.000000000           0.0000000          \n",
       "NOC2L   0.36038458            0.518069828           0.5345803          \n",
       "KLHL17  0.05460716            0.048457063           0.1572286          \n",
       "PLEKHN1 0.03657502            0.003986524           0.0000000          \n",
       "PERM1   0.00000000            0.010197240           0.0000000          \n",
       "HES4    0.02537862            0.698528890           0.0000000          \n",
       "        BL05013_033:CD4_Naive BL05013_033:CD4_TCM BL05013_033:CD4_TEM\n",
       "SAMD11  0.000000000           0.00000000          0.000000000        \n",
       "NOC2L   0.354632196           0.39515952          0.386427729        \n",
       "KLHL17  0.036623134           0.05932611          0.012595222        \n",
       "PLEKHN1 0.003903531           0.02042372          0.039879236        \n",
       "PERM1   0.001342253           0.00000000          0.000000000        \n",
       "HES4    0.006719092           0.00000000          0.004756554        \n",
       "        BL05013_033:CD8_Naive ⋯ PB02183_154:HSPC PB02183_154:ILC\n",
       "SAMD11  0.000000000           ⋯ 0.00000000       0.00000000     \n",
       "NOC2L   0.417125626           ⋯ 0.54319943       0.44563517     \n",
       "KLHL17  0.044672004           ⋯ 0.02955328       0.09756137     \n",
       "PLEKHN1 0.004684816           ⋯ 0.00000000       0.10558783     \n",
       "PERM1   0.000000000           ⋯ 0.00000000       0.00000000     \n",
       "HES4    0.001862687           ⋯ 0.06316092       0.04538295     \n",
       "        PB02183_154:MAIT PB02183_154:NK PB02183_154:NK_CD56bright\n",
       "SAMD11  0.00000000       0.00000000     0.00000000               \n",
       "NOC2L   0.37151779       0.35280330     0.43172844               \n",
       "KLHL17  0.05923401       0.07139917     0.06382553               \n",
       "PLEKHN1 0.02583291       0.00450549     0.05503091               \n",
       "PERM1   0.00000000       0.00000000     0.00000000               \n",
       "HES4    0.01883914       0.06887408     0.01854243               \n",
       "        PB02183_154:NK_Proliferating PB02183_154:pDC PB02183_154:Plasmablast\n",
       "SAMD11  0.0000000                    0.00000000      0.00000000             \n",
       "NOC2L   0.4778630                    0.41043756      0.28166190             \n",
       "KLHL17  0.1923709                    0.03897028      0.02278437             \n",
       "PLEKHN1 0.0000000                    0.00000000      0.01434690             \n",
       "PERM1   0.0000000                    0.00000000      0.00000000             \n",
       "HES4    0.1934718                    0.07966705      0.02637866             \n",
       "        PB02183_154:Platelet PB02183_154:Treg\n",
       "SAMD11  0.00000000           0.000000000     \n",
       "NOC2L   0.16673007           0.376312102     \n",
       "KLHL17  0.03614159           0.061108670     \n",
       "PLEKHN1 0.00000000           0.036630826     \n",
       "PERM1   0.00000000           0.000000000     \n",
       "HES4    0.00000000           0.006709108     "
      ]
     },
     "metadata": {},
     "output_type": "display_data"
    }
   ],
   "source": [
    "palmo_obj <- avgExpCalc(data_object=palmo_obj,\n",
    "assay=\"RNA\", group_column=\"predicted.celltype.l2\")\n",
    "head(palmo_obj@curated[[\"anndata\"]]) #merged annotation data\n",
    "head(palmo_obj@curated[[\"data\"]]) #scRNA average expression data"
   ]
  },
  {
   "cell_type": "code",
   "execution_count": 17,
   "id": "60508bcc-37ac-40f8-ba9c-85f162302983",
   "metadata": {},
   "outputs": [],
   "source": [
    "# options(repr.plot.width = 20, repr.plot.height = 8)\n",
    "# palmo_obj <- cvCalcSCProfile(data_object=palmo_obj,\n",
    "#     housekeeping_genes= \"ACTB\",\n",
    "#     fileName=\"scrna\")"
   ]
  },
  {
   "cell_type": "code",
   "execution_count": 20,
   "id": "eb03b277-ffb6-44fc-b8bf-da7702853acb",
   "metadata": {},
   "outputs": [
    {
     "name": "stderr",
     "output_type": "stream",
     "text": [
      "Fri Mar 22 19:06:35 2024: Performing Coefficient of variance analysis\n",
      "\n",
      "Fri Mar 22 19:06:35 2024: Performing CV calculations\n",
      "\n"
     ]
    },
    {
     "name": "stdout",
     "output_type": "stream",
     "text": [
      "  |++++++++++++++++++++++++++++++++++++++++++++++++++| 100% elapsed=02m 29s\n"
     ]
    },
    {
     "name": "stderr",
     "output_type": "stream",
     "text": [
      "Warning message:\n",
      "“\u001b[1m\u001b[22mTransformation introduced infinite values in continuous x-axis”\n",
      "Warning message:\n",
      "“\u001b[1m\u001b[22mRemoved 776252 rows containing non-finite values (`stat_bin()`).”\n",
      "Warning message:\n",
      "“\u001b[1m\u001b[22mTransformation introduced infinite values in continuous x-axis”\n",
      "Warning message:\n",
      "“\u001b[1m\u001b[22mRemoved 776252 rows containing non-finite values (`stat_bin()`).”\n",
      "Fri Mar 22 19:09:14 2024: Done. Please check output directory for Plots/results.\n",
      "\n"
     ]
    },
    {
     "data": {
      "image/png": "[encoded data removed]",
      "text/plain": [
       "plot without title"
      ]
     },
     "metadata": {
      "image/png": {
       "height": 480,
       "width": 1200
      }
     },
     "output_type": "display_data"
    }
   ],
   "source": [
    "options(repr.plot.width = 20, repr.plot.height = 8)\n",
    "palmo_obj <- cvCalcSCProfile(data_object=palmo_obj, meanThreshold = 0.1,\n",
    "    housekeeping_genes= \"ACTB\",\n",
    "    fileName=\"scrna\")"
   ]
  },
  {
   "cell_type": "code",
   "execution_count": 19,
   "id": "aeb2f59e-c611-437b-9c10-2160844ab642",
   "metadata": {},
   "outputs": [
    {
     "data": {
      "text/html": [
       "<table class=\"dataframe\">\n",
       "<caption>A data.frame: 6 × 22</caption>\n",
       "<thead>\n",
       "\t<tr><th></th><th scope=col>Sample</th><th scope=col>Sample_group</th><th scope=col>group</th><th scope=col>orig.ident</th><th scope=col>nCount_RNA</th><th scope=col>nFeature_RNA</th><th scope=col>donor</th><th scope=col>well</th><th scope=col>donor2</th><th scope=col>predicted.celltype.l1.score</th><th scope=col>⋯</th><th scope=col>predicted.celltype.l2</th><th scope=col>predicted.celltype.l3.score</th><th scope=col>predicted.celltype.l3</th><th scope=col>Replicate</th><th scope=col>Pool_Well</th><th scope=col>Donor</th><th scope=col>PTID</th><th scope=col>Time</th><th scope=col>predicted.celltype.l2.1</th><th scope=col>Sample_group_i</th></tr>\n",
       "\t<tr><th></th><th scope=col>&lt;chr&gt;</th><th scope=col>&lt;chr&gt;</th><th scope=col>&lt;chr&gt;</th><th scope=col>&lt;chr&gt;</th><th scope=col>&lt;dbl&gt;</th><th scope=col>&lt;int&gt;</th><th scope=col>&lt;chr&gt;</th><th scope=col>&lt;chr&gt;</th><th scope=col>&lt;chr&gt;</th><th scope=col>&lt;dbl&gt;</th><th scope=col>⋯</th><th scope=col>&lt;chr&gt;</th><th scope=col>&lt;dbl&gt;</th><th scope=col>&lt;chr&gt;</th><th scope=col>&lt;chr&gt;</th><th scope=col>&lt;chr&gt;</th><th scope=col>&lt;chr&gt;</th><th scope=col>&lt;chr&gt;</th><th scope=col>&lt;chr&gt;</th><th scope=col>&lt;chr&gt;</th><th scope=col>&lt;chr&gt;</th></tr>\n",
       "</thead>\n",
       "<tbody>\n",
       "\t<tr><th scope=row>BL05013_033:B_intermediate</th><td>BL05013_033</td><td>BL05013_033:B_intermediate</td><td>B_intermediate</td><td>Exp00918_w1_BL05013-033</td><td>6654</td><td>3198</td><td>BL05013</td><td>w1</td><td>BL05013-033</td><td>0.9792252</td><td>⋯</td><td>CD4 TCM</td><td>0.7877114</td><td>CD4 TCM_3</td><td>BL05013-033</td><td>w1</td><td>BL05013</td><td>BL05013</td><td>w1</td><td>B_intermediate</td><td>B_intermediate:BL05013</td></tr>\n",
       "\t<tr><th scope=row>BL05013_033:B_memory</th><td>BL05013_033</td><td>BL05013_033:B_memory      </td><td>B_memory      </td><td>Exp00918_w1_BL05013-033</td><td>6654</td><td>3198</td><td>BL05013</td><td>w1</td><td>BL05013-033</td><td>0.9792252</td><td>⋯</td><td>CD4 TCM</td><td>0.7877114</td><td>CD4 TCM_3</td><td>BL05013-033</td><td>w1</td><td>BL05013</td><td>BL05013</td><td>w1</td><td>B_memory      </td><td>B_memory:BL05013      </td></tr>\n",
       "\t<tr><th scope=row>BL05013_033:B_naive</th><td>BL05013_033</td><td>BL05013_033:B_naive       </td><td>B_naive       </td><td>Exp00918_w1_BL05013-033</td><td>6654</td><td>3198</td><td>BL05013</td><td>w1</td><td>BL05013-033</td><td>0.9792252</td><td>⋯</td><td>CD4 TCM</td><td>0.7877114</td><td>CD4 TCM_3</td><td>BL05013-033</td><td>w1</td><td>BL05013</td><td>BL05013</td><td>w1</td><td>B_naive       </td><td>B_naive:BL05013       </td></tr>\n",
       "\t<tr><th scope=row>BL05013_033:CD14_Mono</th><td>BL05013_033</td><td>BL05013_033:CD14_Mono     </td><td>CD14_Mono     </td><td>Exp00918_w1_BL05013-033</td><td>6654</td><td>3198</td><td>BL05013</td><td>w1</td><td>BL05013-033</td><td>0.9792252</td><td>⋯</td><td>CD4 TCM</td><td>0.7877114</td><td>CD4 TCM_3</td><td>BL05013-033</td><td>w1</td><td>BL05013</td><td>BL05013</td><td>w1</td><td>CD14_Mono     </td><td>CD14_Mono:BL05013     </td></tr>\n",
       "\t<tr><th scope=row>BL05013_033:CD16_Mono</th><td>BL05013_033</td><td>BL05013_033:CD16_Mono     </td><td>CD16_Mono     </td><td>Exp00918_w1_BL05013-033</td><td>6654</td><td>3198</td><td>BL05013</td><td>w1</td><td>BL05013-033</td><td>0.9792252</td><td>⋯</td><td>CD4 TCM</td><td>0.7877114</td><td>CD4 TCM_3</td><td>BL05013-033</td><td>w1</td><td>BL05013</td><td>BL05013</td><td>w1</td><td>CD16_Mono     </td><td>CD16_Mono:BL05013     </td></tr>\n",
       "\t<tr><th scope=row>BL05013_033:CD4_CTL</th><td>BL05013_033</td><td>BL05013_033:CD4_CTL       </td><td>CD4_CTL       </td><td>Exp00918_w1_BL05013-033</td><td>6654</td><td>3198</td><td>BL05013</td><td>w1</td><td>BL05013-033</td><td>0.9792252</td><td>⋯</td><td>CD4 TCM</td><td>0.7877114</td><td>CD4 TCM_3</td><td>BL05013-033</td><td>w1</td><td>BL05013</td><td>BL05013</td><td>w1</td><td>CD4_CTL       </td><td>CD4_CTL:BL05013       </td></tr>\n",
       "</tbody>\n",
       "</table>\n"
      ],
      "text/latex": [
       "A data.frame: 6 × 22\n",
       "\\begin{tabular}{r|lllllllllllllllllllll}\n",
       "  & Sample & Sample\\_group & group & orig.ident & nCount\\_RNA & nFeature\\_RNA & donor & well & donor2 & predicted.celltype.l1.score & ⋯ & predicted.celltype.l2 & predicted.celltype.l3.score & predicted.celltype.l3 & Replicate & Pool\\_Well & Donor & PTID & Time & predicted.celltype.l2.1 & Sample\\_group\\_i\\\\\n",
       "  & <chr> & <chr> & <chr> & <chr> & <dbl> & <int> & <chr> & <chr> & <chr> & <dbl> & ⋯ & <chr> & <dbl> & <chr> & <chr> & <chr> & <chr> & <chr> & <chr> & <chr> & <chr>\\\\\n",
       "\\hline\n",
       "\tBL05013\\_033:B\\_intermediate & BL05013\\_033 & BL05013\\_033:B\\_intermediate & B\\_intermediate & Exp00918\\_w1\\_BL05013-033 & 6654 & 3198 & BL05013 & w1 & BL05013-033 & 0.9792252 & ⋯ & CD4 TCM & 0.7877114 & CD4 TCM\\_3 & BL05013-033 & w1 & BL05013 & BL05013 & w1 & B\\_intermediate & B\\_intermediate:BL05013\\\\\n",
       "\tBL05013\\_033:B\\_memory & BL05013\\_033 & BL05013\\_033:B\\_memory       & B\\_memory       & Exp00918\\_w1\\_BL05013-033 & 6654 & 3198 & BL05013 & w1 & BL05013-033 & 0.9792252 & ⋯ & CD4 TCM & 0.7877114 & CD4 TCM\\_3 & BL05013-033 & w1 & BL05013 & BL05013 & w1 & B\\_memory       & B\\_memory:BL05013      \\\\\n",
       "\tBL05013\\_033:B\\_naive & BL05013\\_033 & BL05013\\_033:B\\_naive        & B\\_naive        & Exp00918\\_w1\\_BL05013-033 & 6654 & 3198 & BL05013 & w1 & BL05013-033 & 0.9792252 & ⋯ & CD4 TCM & 0.7877114 & CD4 TCM\\_3 & BL05013-033 & w1 & BL05013 & BL05013 & w1 & B\\_naive        & B\\_naive:BL05013       \\\\\n",
       "\tBL05013\\_033:CD14\\_Mono & BL05013\\_033 & BL05013\\_033:CD14\\_Mono      & CD14\\_Mono      & Exp00918\\_w1\\_BL05013-033 & 6654 & 3198 & BL05013 & w1 & BL05013-033 & 0.9792252 & ⋯ & CD4 TCM & 0.7877114 & CD4 TCM\\_3 & BL05013-033 & w1 & BL05013 & BL05013 & w1 & CD14\\_Mono      & CD14\\_Mono:BL05013     \\\\\n",
       "\tBL05013\\_033:CD16\\_Mono & BL05013\\_033 & BL05013\\_033:CD16\\_Mono      & CD16\\_Mono      & Exp00918\\_w1\\_BL05013-033 & 6654 & 3198 & BL05013 & w1 & BL05013-033 & 0.9792252 & ⋯ & CD4 TCM & 0.7877114 & CD4 TCM\\_3 & BL05013-033 & w1 & BL05013 & BL05013 & w1 & CD16\\_Mono      & CD16\\_Mono:BL05013     \\\\\n",
       "\tBL05013\\_033:CD4\\_CTL & BL05013\\_033 & BL05013\\_033:CD4\\_CTL        & CD4\\_CTL        & Exp00918\\_w1\\_BL05013-033 & 6654 & 3198 & BL05013 & w1 & BL05013-033 & 0.9792252 & ⋯ & CD4 TCM & 0.7877114 & CD4 TCM\\_3 & BL05013-033 & w1 & BL05013 & BL05013 & w1 & CD4\\_CTL        & CD4\\_CTL:BL05013       \\\\\n",
       "\\end{tabular}\n"
      ],
      "text/markdown": [
       "\n",
       "A data.frame: 6 × 22\n",
       "\n",
       "| <!--/--> | Sample &lt;chr&gt; | Sample_group &lt;chr&gt; | group &lt;chr&gt; | orig.ident &lt;chr&gt; | nCount_RNA &lt;dbl&gt; | nFeature_RNA &lt;int&gt; | donor &lt;chr&gt; | well &lt;chr&gt; | donor2 &lt;chr&gt; | predicted.celltype.l1.score &lt;dbl&gt; | ⋯ ⋯ | predicted.celltype.l2 &lt;chr&gt; | predicted.celltype.l3.score &lt;dbl&gt; | predicted.celltype.l3 &lt;chr&gt; | Replicate &lt;chr&gt; | Pool_Well &lt;chr&gt; | Donor &lt;chr&gt; | PTID &lt;chr&gt; | Time &lt;chr&gt; | predicted.celltype.l2.1 &lt;chr&gt; | Sample_group_i &lt;chr&gt; |\n",
       "|---|---|---|---|---|---|---|---|---|---|---|---|---|---|---|---|---|---|---|---|---|---|\n",
       "| BL05013_033:B_intermediate | BL05013_033 | BL05013_033:B_intermediate | B_intermediate | Exp00918_w1_BL05013-033 | 6654 | 3198 | BL05013 | w1 | BL05013-033 | 0.9792252 | ⋯ | CD4 TCM | 0.7877114 | CD4 TCM_3 | BL05013-033 | w1 | BL05013 | BL05013 | w1 | B_intermediate | B_intermediate:BL05013 |\n",
       "| BL05013_033:B_memory | BL05013_033 | BL05013_033:B_memory       | B_memory       | Exp00918_w1_BL05013-033 | 6654 | 3198 | BL05013 | w1 | BL05013-033 | 0.9792252 | ⋯ | CD4 TCM | 0.7877114 | CD4 TCM_3 | BL05013-033 | w1 | BL05013 | BL05013 | w1 | B_memory       | B_memory:BL05013       |\n",
       "| BL05013_033:B_naive | BL05013_033 | BL05013_033:B_naive        | B_naive        | Exp00918_w1_BL05013-033 | 6654 | 3198 | BL05013 | w1 | BL05013-033 | 0.9792252 | ⋯ | CD4 TCM | 0.7877114 | CD4 TCM_3 | BL05013-033 | w1 | BL05013 | BL05013 | w1 | B_naive        | B_naive:BL05013        |\n",
       "| BL05013_033:CD14_Mono | BL05013_033 | BL05013_033:CD14_Mono      | CD14_Mono      | Exp00918_w1_BL05013-033 | 6654 | 3198 | BL05013 | w1 | BL05013-033 | 0.9792252 | ⋯ | CD4 TCM | 0.7877114 | CD4 TCM_3 | BL05013-033 | w1 | BL05013 | BL05013 | w1 | CD14_Mono      | CD14_Mono:BL05013      |\n",
       "| BL05013_033:CD16_Mono | BL05013_033 | BL05013_033:CD16_Mono      | CD16_Mono      | Exp00918_w1_BL05013-033 | 6654 | 3198 | BL05013 | w1 | BL05013-033 | 0.9792252 | ⋯ | CD4 TCM | 0.7877114 | CD4 TCM_3 | BL05013-033 | w1 | BL05013 | BL05013 | w1 | CD16_Mono      | CD16_Mono:BL05013      |\n",
       "| BL05013_033:CD4_CTL | BL05013_033 | BL05013_033:CD4_CTL        | CD4_CTL        | Exp00918_w1_BL05013-033 | 6654 | 3198 | BL05013 | w1 | BL05013-033 | 0.9792252 | ⋯ | CD4 TCM | 0.7877114 | CD4 TCM_3 | BL05013-033 | w1 | BL05013 | BL05013 | w1 | CD4_CTL        | CD4_CTL:BL05013        |\n",
       "\n"
      ],
      "text/plain": [
       "                           Sample      Sample_group              \n",
       "BL05013_033:B_intermediate BL05013_033 BL05013_033:B_intermediate\n",
       "BL05013_033:B_memory       BL05013_033 BL05013_033:B_memory      \n",
       "BL05013_033:B_naive        BL05013_033 BL05013_033:B_naive       \n",
       "BL05013_033:CD14_Mono      BL05013_033 BL05013_033:CD14_Mono     \n",
       "BL05013_033:CD16_Mono      BL05013_033 BL05013_033:CD16_Mono     \n",
       "BL05013_033:CD4_CTL        BL05013_033 BL05013_033:CD4_CTL       \n",
       "                           group          orig.ident              nCount_RNA\n",
       "BL05013_033:B_intermediate B_intermediate Exp00918_w1_BL05013-033 6654      \n",
       "BL05013_033:B_memory       B_memory       Exp00918_w1_BL05013-033 6654      \n",
       "BL05013_033:B_naive        B_naive        Exp00918_w1_BL05013-033 6654      \n",
       "BL05013_033:CD14_Mono      CD14_Mono      Exp00918_w1_BL05013-033 6654      \n",
       "BL05013_033:CD16_Mono      CD16_Mono      Exp00918_w1_BL05013-033 6654      \n",
       "BL05013_033:CD4_CTL        CD4_CTL        Exp00918_w1_BL05013-033 6654      \n",
       "                           nFeature_RNA donor   well donor2     \n",
       "BL05013_033:B_intermediate 3198         BL05013 w1   BL05013-033\n",
       "BL05013_033:B_memory       3198         BL05013 w1   BL05013-033\n",
       "BL05013_033:B_naive        3198         BL05013 w1   BL05013-033\n",
       "BL05013_033:CD14_Mono      3198         BL05013 w1   BL05013-033\n",
       "BL05013_033:CD16_Mono      3198         BL05013 w1   BL05013-033\n",
       "BL05013_033:CD4_CTL        3198         BL05013 w1   BL05013-033\n",
       "                           predicted.celltype.l1.score ⋯ predicted.celltype.l2\n",
       "BL05013_033:B_intermediate 0.9792252                   ⋯ CD4 TCM              \n",
       "BL05013_033:B_memory       0.9792252                   ⋯ CD4 TCM              \n",
       "BL05013_033:B_naive        0.9792252                   ⋯ CD4 TCM              \n",
       "BL05013_033:CD14_Mono      0.9792252                   ⋯ CD4 TCM              \n",
       "BL05013_033:CD16_Mono      0.9792252                   ⋯ CD4 TCM              \n",
       "BL05013_033:CD4_CTL        0.9792252                   ⋯ CD4 TCM              \n",
       "                           predicted.celltype.l3.score predicted.celltype.l3\n",
       "BL05013_033:B_intermediate 0.7877114                   CD4 TCM_3            \n",
       "BL05013_033:B_memory       0.7877114                   CD4 TCM_3            \n",
       "BL05013_033:B_naive        0.7877114                   CD4 TCM_3            \n",
       "BL05013_033:CD14_Mono      0.7877114                   CD4 TCM_3            \n",
       "BL05013_033:CD16_Mono      0.7877114                   CD4 TCM_3            \n",
       "BL05013_033:CD4_CTL        0.7877114                   CD4 TCM_3            \n",
       "                           Replicate   Pool_Well Donor   PTID    Time\n",
       "BL05013_033:B_intermediate BL05013-033 w1        BL05013 BL05013 w1  \n",
       "BL05013_033:B_memory       BL05013-033 w1        BL05013 BL05013 w1  \n",
       "BL05013_033:B_naive        BL05013-033 w1        BL05013 BL05013 w1  \n",
       "BL05013_033:CD14_Mono      BL05013-033 w1        BL05013 BL05013 w1  \n",
       "BL05013_033:CD16_Mono      BL05013-033 w1        BL05013 BL05013 w1  \n",
       "BL05013_033:CD4_CTL        BL05013-033 w1        BL05013 BL05013 w1  \n",
       "                           predicted.celltype.l2.1 Sample_group_i        \n",
       "BL05013_033:B_intermediate B_intermediate          B_intermediate:BL05013\n",
       "BL05013_033:B_memory       B_memory                B_memory:BL05013      \n",
       "BL05013_033:B_naive        B_naive                 B_naive:BL05013       \n",
       "BL05013_033:CD14_Mono      CD14_Mono               CD14_Mono:BL05013     \n",
       "BL05013_033:CD16_Mono      CD16_Mono               CD16_Mono:BL05013     \n",
       "BL05013_033:CD4_CTL        CD4_CTL                 CD4_CTL:BL05013       "
      ]
     },
     "metadata": {},
     "output_type": "display_data"
    }
   ],
   "source": [
    "#Check the group of interest\n",
    "head(palmo_obj@curated$anndata)"
   ]
  },
  {
   "cell_type": "code",
   "execution_count": null,
   "id": "445f2d10-bf29-421f-935e-feae0bbb5c3d",
   "metadata": {},
   "outputs": [],
   "source": [
    "#Variance decomposition\n",
    "featureSet <- c(\"Replicate\", \"Donor\", \"Pool_Well\")\n",
    "\n",
    "palmo_obj <- lmeVariance(data_object=palmo_obj,\n",
    "    featureSet=featureSet,\n",
    "    meanThreshold=0.05, cl=4,\n",
    "    fileName=\"scrna\")"
   ]
  },
  {
   "cell_type": "code",
   "execution_count": null,
   "id": "5b2bc881-5894-4665-91c7-e85531be52a8",
   "metadata": {},
   "outputs": [],
   "source": [
    "#Get the result\n",
    "var_decomp <- palmo_obj@result$variance_decomposition\n",
    "var_decomp"
   ]
  },
  {
   "cell_type": "code",
   "execution_count": null,
   "id": "1a360bd8-0362-4ec8-99d0-a8fb4c1b3d6e",
   "metadata": {},
   "outputs": [],
   "source": []
  }
 ],
 "metadata": {
  "kernelspec": {
   "display_name": "R",
   "language": "R",
   "name": "ir"
  },
  "language_info": {
   "codemirror_mode": "r",
   "file_extension": ".r",
   "mimetype": "text/x-r-source",
   "name": "R",
   "pygments_lexer": "r",
   "version": "4.2.2"
  }
 },
 "nbformat": 4,
 "nbformat_minor": 5
}

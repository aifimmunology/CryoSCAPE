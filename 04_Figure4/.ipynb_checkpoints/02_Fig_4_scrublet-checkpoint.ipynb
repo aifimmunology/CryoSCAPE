{
 "cells": [
  {
   "cell_type": "code",
   "execution_count": 2,
   "id": "37970de1-99e2-41cc-a1a2-fc2635ee9388",
   "metadata": {},
   "outputs": [],
   "source": [
    "import sys\n",
    "import getopt\n",
    "import shutil\n",
    "import h5py\n",
    "import pandas\n",
    "import scanpy as sc\n",
    "import scrublet\n",
    "import re\n",
    "import os"
   ]
  },
  {
   "cell_type": "code",
   "execution_count": 3,
   "id": "95625866-0dc1-48a7-a805-f51bc4b7742e",
   "metadata": {},
   "outputs": [
    {
     "data": {
      "text/plain": [
       "['/home/jupyter/CS15_WHBL/CWB_Paper/01_Final_Data/01_Data/scrublet/PB05402_sample_filtered_feature_bc_matrix.h5',\n",
       " '/home/jupyter/CS15_WHBL/CWB_Paper/01_Final_Data/01_Data/scrublet/BL05401_sample_filtered_feature_bc_matrix.h5',\n",
       " '/home/jupyter/CS15_WHBL/CWB_Paper/01_Final_Data/01_Data/scrublet/PB05113_sample_filtered_feature_bc_matrix.h5',\n",
       " '/home/jupyter/CS15_WHBL/CWB_Paper/01_Final_Data/01_Data/scrublet/PB05401_sample_filtered_feature_bc_matrix.h5',\n",
       " '/home/jupyter/CS15_WHBL/CWB_Paper/01_Final_Data/01_Data/scrublet/PB05111_sample_filtered_feature_bc_matrix.h5',\n",
       " '/home/jupyter/CS15_WHBL/CWB_Paper/01_Final_Data/01_Data/scrublet/BL05113_sample_filtered_feature_bc_matrix.h5',\n",
       " '/home/jupyter/CS15_WHBL/CWB_Paper/01_Final_Data/01_Data/scrublet/BL05111_sample_filtered_feature_bc_matrix.h5',\n",
       " '/home/jupyter/CS15_WHBL/CWB_Paper/01_Final_Data/01_Data/scrublet/BL05402_sample_filtered_feature_bc_matrix.h5']"
      ]
     },
     "execution_count": 3,
     "metadata": {},
     "output_type": "execute_result"
    }
   ],
   "source": [
    "path = '/home/jupyter/CS15_WHBL/CWB_Paper/01_Final_Data/01_Data/scrublet/'\n",
    "paths = [path+i for i in os.listdir(path) if i[0] != '.']\n",
    "paths"
   ]
  },
  {
   "cell_type": "code",
   "execution_count": 6,
   "id": "5787482b-9ae9-45ef-9e11-9d43ec83e245",
   "metadata": {},
   "outputs": [],
   "source": [
    "# for i in paths:\n",
    "def scrubby(x):\n",
    "    name = x.split('/')[-1].split('_sample')[0]\n",
    "    \n",
    "    if x.split('.')[1] == 'h5':\n",
    "        adata = sc.read_10x_h5(x)\n",
    "        \n",
    "        scrub = scrublet.Scrublet(adata.X)\n",
    "        doublet_scores, predicted_doublets = scrub.scrub_doublets(verbose=False)\n",
    "\n",
    "        df = adata.obs\n",
    "        df['Doublet_Score'] = doublet_scores\n",
    "        df['Predicted_Doublet'] = predicted_doublets\n",
    "\n",
    "\n",
    "        df.to_csv(path+name+'_2.csv')\n",
    "    # return(df_merge)"
   ]
  },
  {
   "cell_type": "code",
   "execution_count": 7,
   "id": "8be74dfe-a7a2-45d7-b9d4-0e2b081a40e8",
   "metadata": {
    "scrolled": true,
    "tags": []
   },
   "outputs": [
    {
     "name": "stderr",
     "output_type": "stream",
     "text": [
      "/opt/conda/lib/python3.7/site-packages/anndata/_core/anndata.py:1830: UserWarning: Variable names are not unique. To make them unique, call `.var_names_make_unique`.\n",
      "  utils.warn_names_duplicates(\"var\")\n",
      "/opt/conda/lib/python3.7/site-packages/anndata/_core/anndata.py:1830: UserWarning: Variable names are not unique. To make them unique, call `.var_names_make_unique`.\n",
      "  utils.warn_names_duplicates(\"var\")\n",
      "/opt/conda/lib/python3.7/site-packages/anndata/_core/anndata.py:1830: UserWarning: Variable names are not unique. To make them unique, call `.var_names_make_unique`.\n",
      "  utils.warn_names_duplicates(\"var\")\n",
      "/opt/conda/lib/python3.7/site-packages/anndata/_core/anndata.py:1830: UserWarning: Variable names are not unique. To make them unique, call `.var_names_make_unique`.\n",
      "  utils.warn_names_duplicates(\"var\")\n",
      "/opt/conda/lib/python3.7/site-packages/anndata/_core/anndata.py:1830: UserWarning: Variable names are not unique. To make them unique, call `.var_names_make_unique`.\n",
      "  utils.warn_names_duplicates(\"var\")\n",
      "/opt/conda/lib/python3.7/site-packages/anndata/_core/anndata.py:1830: UserWarning: Variable names are not unique. To make them unique, call `.var_names_make_unique`.\n",
      "  utils.warn_names_duplicates(\"var\")\n",
      "/opt/conda/lib/python3.7/site-packages/anndata/_core/anndata.py:1830: UserWarning: Variable names are not unique. To make them unique, call `.var_names_make_unique`.\n",
      "  utils.warn_names_duplicates(\"var\")\n",
      "/opt/conda/lib/python3.7/site-packages/anndata/_core/anndata.py:1830: UserWarning: Variable names are not unique. To make them unique, call `.var_names_make_unique`.\n",
      "  utils.warn_names_duplicates(\"var\")\n"
     ]
    }
   ],
   "source": [
    "for i in paths: scrubby(i)"
   ]
  },
  {
   "cell_type": "code",
   "execution_count": null,
   "id": "730bb980-9c47-4049-9746-cea53e9a0362",
   "metadata": {},
   "outputs": [],
   "source": []
  }
 ],
 "metadata": {
  "kernelspec": {
   "display_name": "Python 3 (ipykernel)",
   "language": "python",
   "name": "python3"
  },
  "language_info": {
   "codemirror_mode": {
    "name": "ipython",
    "version": 3
   },
   "file_extension": ".py",
   "mimetype": "text/x-python",
   "name": "python",
   "nbconvert_exporter": "python",
   "pygments_lexer": "ipython3",
   "version": "3.7.12"
  }
 },
 "nbformat": 4,
 "nbformat_minor": 5
}

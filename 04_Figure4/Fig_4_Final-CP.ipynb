{
 "cells": [
  {
   "cell_type": "markdown",
   "id": "28d5beb9-1b34-4ba1-975c-7d2fdba205c6",
   "metadata": {
    "tags": []
   },
   "source": [
    "### Load Libraries"
   ]
  },
  {
   "cell_type": "code",
   "execution_count": null,
   "id": "31fe6cf1-3c9a-46b6-98a3-fd422e0447d4",
   "metadata": {},
   "outputs": [],
   "source": []
  },
  {
   "cell_type": "code",
   "execution_count": 1,
   "id": "189029b9-9249-4f5f-9ad2-e9e9011f087e",
   "metadata": {
    "scrolled": true,
    "tags": []
   },
   "outputs": [
    {
     "name": "stderr",
     "output_type": "stream",
     "text": [
      "Installing package into ‘/usr/local/lib/R/site-library’\n",
      "(as ‘lib’ is unspecified)\n",
      "\n",
      "'getOption(\"repos\")' replaces Bioconductor standard repositories, see\n",
      "'help(\"repositories\", package = \"BiocManager\")' for details.\n",
      "Replacement repositories:\n",
      "    CRAN: https://cloud.r-project.org\n",
      "\n",
      "Bioconductor version 3.14 (BiocManager 1.30.23), R 4.1.3 (2022-03-10)\n",
      "\n",
      "Warning message:\n",
      "“package(s) not installed when version(s) same as or greater than current; use\n",
      "  `force = TRUE` to re-install: 'multtest'”\n",
      "Old packages: 'acepack', 'ade4', 'ape', 'askpass', 'backports', 'BH', 'bibtex',\n",
      "  'bigrquery', 'bit', 'blob', 'brew', 'brio', 'brotli', 'bslib', 'cachem',\n",
      "  'Cairo', 'callr', 'checkmate', 'circlize', 'classInt', 'clue', 'coda',\n",
      "  'colorspace', 'commonmark', 'config', 'copula', 'covr', 'cowplot', 'crayon',\n",
      "  'credentials', 'crosstalk', 'crul', 'cyclocomp', 'data.table', 'DBI',\n",
      "  'DBItest', 'deldir', 'dendextend', 'densityClust', 'DEoptimR', 'desc',\n",
      "  'deSolve', 'devtools', 'dichromat', 'digest', 'diptest', 'dotCall64',\n",
      "  'downlit', 'dqrng', 'drake', 'DT', 'e1071', 'ellipse', 'eulerr', 'evaluate',\n",
      "  'expm', 'fansi', 'farver', 'fastcluster', 'fastICA', 'fastmatch', 'fda',\n",
      "  'ff', 'fields', 'fiery', 'filelock', 'fitdistrplus', 'FNN', 'foghorn',\n",
      "  'fontawesome', 'formatR', 'Formula', 'fs', 'furrr', 'future', 'future.apply',\n",
      "  'gbRd', 'gdata', 'GenSA', 'gert', 'getopt', 'GGally', 'ggbeeswarm',\n",
      "  'ggdendro', 'ggplot2', 'ggridges', 'ggsci', 'ggsignif', 'gh', 'git2r',\n",
      "  'gitcreds', 'glmnet', 'globals', 'glue', 'gmailr', 'gmodels', 'goeveg',\n",
      "  'googleAnalyticsR', 'googleAuthR', 'gower', 'gplots', 'gsl', 'gtable',\n",
      "  'gtools', 'h2o', 'hardhat', 'harmony', 'hdf5r', 'hexbin', 'highr', 'Hmisc',\n",
      "  'htmlTable', 'htmltools', 'htmlwidgets', 'httpuv', 'hunspell', 'ica',\n",
      "  'IDPmisc', 'igraph', 'ipred', 'IRkernel', 'irlba', 'isoband', 'jpeg',\n",
      "  'keras', 'kernlab', 'knitr', 'ks', 'labeling', 'Lahman', 'later',\n",
      "  'latticeExtra', 'lava', 'leaflet.providers', 'leiden', 'lintr', 'listenv',\n",
      "  'lobstr', 'locfit', 'lsa', 'mapproj', 'maps', 'markdown', 'MatrixModels',\n",
      "  'matrixStats', 'mclust', 'measurementProtocol', 'microbenchmark', 'minqa',\n",
      "  'mixtools', 'mlbench', 'mnormt', 'mockery', 'multcomp', 'multicool',\n",
      "  'munsell', 'mutoss', 'mvtnorm', 'narray', 'NMF', 'openssl', 'openxlsx',\n",
      "  'optparse', 'packrat', 'palmerpenguins', 'parallelly', 'parsedate',\n",
      "  'patchwork', 'pbapply', 'pbdZMQ', 'pbmcapply', 'pcaPP', 'pingr', 'pixmap',\n",
      "  'pkgbuild', 'pkgload', 'pkgmaker', 'plot3D', 'plot3Drgl', 'plotly',\n",
      "  'plotrix', 'plyr', 'png', 'polyclip', 'poweRlaw', 'pracma', 'prettyunits',\n",
      "  'processx', 'prodlim', 'progress', 'progressr', 'promises', 'proxy', 'pryr',\n",
      "  'ps', 'pscl', 'pspline', 'qlcMatrix', 'quantmod', 'quantreg', 'R.methodsS3',\n",
      "  'R.oo', 'R.utils', 'rainbow', 'randomForest', 'ranger', 'rbibutils', 'Rcpp',\n",
      "  'RcppAnnoy', 'RcppArmadillo', 'RcppHNSW', 'RcppParallel', 'RcppTOML',\n",
      "  'RCurl', 'Rdpack', 'rematch', 'remotes', 'renv', 'repr', 'reqres',\n",
      "  'restfulr', 'reticulate', 'rgl', 'RhpcBLASctl', 'rhub', 'rio', 'rlang',\n",
      "  'rmarkdown', 'robust', 'robustbase', 'routr', 'roxygen2', 'rprojroot',\n",
      "  'rrcov', 'rsample', 'RSQLite', 'Rtsne', 'RUnit', 'rversions', 's2',\n",
      "  'sandwich', 'sass', 'scatterplot3d', 'segmented', 'shape', 'shiny', 'slider',\n",
      "  'sn', 'SnowballC', 'sodium', 'sourcetools', 'spam', 'SparseM', 'sparsesvd',\n",
      "  'speedglm', 'spelling', 'stringi', 'sys', 'tensorflow', 'testthat',\n",
      "  'TFMPvalue', 'tfruns', 'TH.data', 'timeDate', 'tinytex', 'triebeard', 'TTR',\n",
      "  'umap', 'usethis', 'utf8', 'uuid', 'uwot', 'vegan', 'VGAM', 'vipor',\n",
      "  'viridis', 'viridisLite', 'visdat', 'visNetwork', 'waldo', 'warp', 'webshot',\n",
      "  'webutils', 'WGCNA', 'whisker', 'withr', 'wk', 'xfun', 'XML', 'xml2',\n",
      "  'xopen', 'xts', 'yaml', 'zip', 'zoo', 'boot', 'class', 'cluster',\n",
      "  'codetools', 'foreign', 'KernSmooth', 'lattice', 'mgcv', 'nlme', 'nnet',\n",
      "  'rpart', 'spatial', 'survival'\n",
      "\n",
      "Installing package into ‘/usr/local/lib/R/site-library’\n",
      "(as ‘lib’ is unspecified)\n",
      "\n",
      "also installing the dependencies ‘spatstat.model’, ‘spatstat.linnet’\n",
      "\n",
      "\n",
      "Warning message in install.packages(\"spatstat\"):\n",
      "“installation of package ‘spatstat.model’ had non-zero exit status”\n",
      "Warning message in install.packages(\"spatstat\"):\n",
      "“installation of package ‘spatstat.linnet’ had non-zero exit status”\n",
      "Warning message in install.packages(\"spatstat\"):\n",
      "“installation of package ‘spatstat’ had non-zero exit status”\n",
      "Installing package into ‘/usr/local/lib/R/site-library’\n",
      "(as ‘lib’ is unspecified)\n",
      "\n"
     ]
    }
   ],
   "source": [
    "install.packages('BiocManager')\n",
    "BiocManager::install('multtest')\n",
    "install.packages('spatstat')\n",
    "install.packages('Seurat')"
   ]
  },
  {
   "cell_type": "code",
   "execution_count": 2,
   "id": "afdf3a0c-5d1e-42d6-b311-80a90d39882a",
   "metadata": {
    "scrolled": true,
    "tags": []
   },
   "outputs": [
    {
     "name": "stderr",
     "output_type": "stream",
     "text": [
      "Warning message in system(\"timedatectl\", intern = TRUE):\n",
      "“running command 'timedatectl' had status 1”\n",
      "── \u001b[1mAttaching core tidyverse packages\u001b[22m ──────────────────────── tidyverse 2.0.0 ──\n",
      "\u001b[32m✔\u001b[39m \u001b[34mdplyr    \u001b[39m 1.1.4     \u001b[32m✔\u001b[39m \u001b[34mreadr    \u001b[39m 2.1.5\n",
      "\u001b[32m✔\u001b[39m \u001b[34mforcats  \u001b[39m 1.0.0     \u001b[32m✔\u001b[39m \u001b[34mstringr  \u001b[39m 1.5.1\n",
      "\u001b[32m✔\u001b[39m \u001b[34mggplot2  \u001b[39m 3.4.3     \u001b[32m✔\u001b[39m \u001b[34mtibble   \u001b[39m 3.2.1\n",
      "\u001b[32m✔\u001b[39m \u001b[34mlubridate\u001b[39m 1.9.3     \u001b[32m✔\u001b[39m \u001b[34mtidyr    \u001b[39m 1.3.1\n",
      "\u001b[32m✔\u001b[39m \u001b[34mpurrr    \u001b[39m 1.0.2     \n",
      "── \u001b[1mConflicts\u001b[22m ────────────────────────────────────────── tidyverse_conflicts() ──\n",
      "\u001b[31m✖\u001b[39m \u001b[34mdplyr\u001b[39m::\u001b[32mfilter()\u001b[39m masks \u001b[34mstats\u001b[39m::filter()\n",
      "\u001b[31m✖\u001b[39m \u001b[34mdplyr\u001b[39m::\u001b[32mlag()\u001b[39m    masks \u001b[34mstats\u001b[39m::lag()\n",
      "\u001b[36mℹ\u001b[39m Use the conflicted package (\u001b[3m\u001b[34m<http://conflicted.r-lib.org/>\u001b[39m\u001b[23m) to force all conflicts to become errors\n",
      "Loading required package: SeuratObject\n",
      "\n",
      "Loading required package: sp\n",
      "\n",
      "\n",
      "Attaching package: ‘SeuratObject’\n",
      "\n",
      "\n",
      "The following objects are masked from ‘package:base’:\n",
      "\n",
      "    intersect, t\n",
      "\n",
      "\n",
      "Loading required package: viridisLite\n",
      "\n",
      "\n",
      "Attaching package: ‘gridExtra’\n",
      "\n",
      "\n",
      "The following object is masked from ‘package:dplyr’:\n",
      "\n",
      "    combine\n",
      "\n",
      "\n",
      "\n",
      "Attaching package: ‘cowplot’\n",
      "\n",
      "\n",
      "The following object is masked from ‘package:lubridate’:\n",
      "\n",
      "    stamp\n",
      "\n",
      "\n",
      "\n",
      "Attaching package: ‘scales’\n",
      "\n",
      "\n",
      "The following object is masked from ‘package:viridis’:\n",
      "\n",
      "    viridis_pal\n",
      "\n",
      "\n",
      "The following object is masked from ‘package:purrr’:\n",
      "\n",
      "    discard\n",
      "\n",
      "\n",
      "The following object is masked from ‘package:readr’:\n",
      "\n",
      "    col_factor\n",
      "\n",
      "\n"
     ]
    }
   ],
   "source": [
    "library('tidyverse')\n",
    "library('Seurat')\n",
    "# library('scCustomize')\n",
    "library('pheatmap')\n",
    "# library('colorRamp2')\n",
    "library('stringr')\n",
    "# library('caret')\n",
    "library(\"viridis\")  \n",
    "library('RColorBrewer')\n",
    "library('UpSetR')\n",
    "library('gridExtra')\n",
    "library('cowplot')\n",
    "# library('ggpubr')\n",
    "library('scales')\n",
    "suppressMessages(library('ComplexHeatmap'))"
   ]
  },
  {
   "cell_type": "markdown",
   "id": "b5dfcb4a-e789-4fb3-b9e9-c96128a45609",
   "metadata": {
    "tags": []
   },
   "source": [
    "### Load RDS Files"
   ]
  },
  {
   "cell_type": "code",
   "execution_count": 3,
   "id": "e8f92d5d-7291-4b95-be2d-e76e3a05dce8",
   "metadata": {
    "scrolled": true,
    "tags": []
   },
   "outputs": [
    {
     "data": {
      "text/plain": [
       "An object of class Seurat \n",
       "18082 features across 411871 samples within 1 assay \n",
       "Active assay: RNA (18082 features, 2000 variable features)\n",
       " 3 layers present: counts, data, scale.data\n",
       " 2 dimensional reductions calculated: pca, umap"
      ]
     },
     "metadata": {},
     "output_type": "display_data"
    }
   ],
   "source": [
    "# cwb_64 <- readRDS('/home/jupyter/Manuscript Plots/Fig_3c_split_object.rds')\n",
    "# cwb_64 <- readRDS('/home/jupyter/CS15_WHBL/CWB_Paper/01_Final_Data/04_Data/Exp918_fully.rds')\n",
    "cwb_64 <- readRDS('/home/jupyter/CS15_WHBL/CWB_Paper/01_Final_Data/04_Data/Fig_4_fully.rds')\n",
    "cwb_64"
   ]
  },
  {
   "cell_type": "code",
   "execution_count": 4,
   "id": "646d4819-691b-4050-bfeb-41eaf54f18b5",
   "metadata": {},
   "outputs": [
    {
     "data": {
      "text/html": [
       "<table class=\"dataframe\">\n",
       "<caption>A data.frame: 10 × 12</caption>\n",
       "<thead>\n",
       "\t<tr><th></th><th scope=col>orig.ident</th><th scope=col>nCount_RNA</th><th scope=col>nFeature_RNA</th><th scope=col>Barcodes</th><th scope=col>Doublet_Score</th><th scope=col>Predicted_Doublet</th><th scope=col>percent.mt</th><th scope=col>well</th><th scope=col>donor</th><th scope=col>donor2</th><th scope=col>RNA_snn_res.0.5</th><th scope=col>seurat_clusters</th></tr>\n",
       "\t<tr><th></th><th scope=col>&lt;chr&gt;</th><th scope=col>&lt;dbl&gt;</th><th scope=col>&lt;int&gt;</th><th scope=col>&lt;chr&gt;</th><th scope=col>&lt;dbl&gt;</th><th scope=col>&lt;chr&gt;</th><th scope=col>&lt;dbl&gt;</th><th scope=col>&lt;chr&gt;</th><th scope=col>&lt;chr&gt;</th><th scope=col>&lt;chr&gt;</th><th scope=col>&lt;fct&gt;</th><th scope=col>&lt;fct&gt;</th></tr>\n",
       "</thead>\n",
       "<tbody>\n",
       "\t<tr><th scope=row>AAACAAGCACCGGTAGACTTTAGG-1_1</th><td>BL05013-033_w1</td><td> 6654</td><td>3198</td><td>AAACAAGCACCGGTAGACTTTAGG-1</td><td>0.04133545</td><td>False</td><td>2.1791404</td><td>w1</td><td>BL05013</td><td>BL05013-033</td><td>3 </td><td>3 </td></tr>\n",
       "\t<tr><th scope=row>AAACAAGCACTCCCTTACTTTAGG-1_1</th><td>BL05013-033_w1</td><td>14577</td><td>4339</td><td>AAACAAGCACTCCCTTACTTTAGG-1</td><td>0.01758642</td><td>False</td><td>0.4047472</td><td>w1</td><td>BL05013</td><td>BL05013-033</td><td>2 </td><td>2 </td></tr>\n",
       "\t<tr><th scope=row>AAACAAGCATTCCTTTACTTTAGG-1_1</th><td>BL05013-033_w1</td><td>11459</td><td>4099</td><td>AAACAAGCATTCCTTTACTTTAGG-1</td><td>0.01044530</td><td>False</td><td>0.9424906</td><td>w1</td><td>BL05013</td><td>BL05013-033</td><td>10</td><td>10</td></tr>\n",
       "\t<tr><th scope=row>AAACAAGCATTTAGCCACTTTAGG-1_1</th><td>BL05013-033_w1</td><td> 5790</td><td>2967</td><td>AAACAAGCATTTAGCCACTTTAGG-1</td><td>0.02735978</td><td>False</td><td>2.6943005</td><td>w1</td><td>BL05013</td><td>BL05013-033</td><td>5 </td><td>5 </td></tr>\n",
       "\t<tr><th scope=row>AAACCAATCAGTAGCGACTTTAGG-1_1</th><td>BL05013-033_w1</td><td> 4833</td><td>2662</td><td>AAACCAATCAGTAGCGACTTTAGG-1</td><td>0.05347594</td><td>False</td><td>1.6139044</td><td>w1</td><td>BL05013</td><td>BL05013-033</td><td>0 </td><td>0 </td></tr>\n",
       "\t<tr><th scope=row>AAACCAATCCCTGGTGACTTTAGG-1_1</th><td>BL05013-033_w1</td><td> 7424</td><td>3490</td><td>AAACCAATCCCTGGTGACTTTAGG-1</td><td>0.01680672</td><td>False</td><td>0.8890086</td><td>w1</td><td>BL05013</td><td>BL05013-033</td><td>9 </td><td>9 </td></tr>\n",
       "\t<tr><th scope=row>AAACCAATCCTGACTAACTTTAGG-1_1</th><td>BL05013-033_w1</td><td> 7406</td><td>3448</td><td>AAACCAATCCTGACTAACTTTAGG-1</td><td>0.07843137</td><td>False</td><td>1.5527950</td><td>w1</td><td>BL05013</td><td>BL05013-033</td><td>3 </td><td>3 </td></tr>\n",
       "\t<tr><th scope=row>AAACCAATCGACCGTTACTTTAGG-1_1</th><td>BL05013-033_w1</td><td> 6069</td><td>3089</td><td>AAACCAATCGACCGTTACTTTAGG-1</td><td>0.08371041</td><td>False</td><td>2.2903279</td><td>w1</td><td>BL05013</td><td>BL05013-033</td><td>1 </td><td>1 </td></tr>\n",
       "\t<tr><th scope=row>AAACCAATCGGTTATTACTTTAGG-1_1</th><td>BL05013-033_w1</td><td> 5214</td><td>2816</td><td>AAACCAATCGGTTATTACTTTAGG-1</td><td>0.06072106</td><td>False</td><td>1.7453011</td><td>w1</td><td>BL05013</td><td>BL05013-033</td><td>1 </td><td>1 </td></tr>\n",
       "\t<tr><th scope=row>AAACCAGGTAGCCATTACTTTAGG-1_1</th><td>BL05013-033_w1</td><td>15516</td><td>4468</td><td>AAACCAGGTAGCCATTACTTTAGG-1</td><td>0.01529412</td><td>False</td><td>0.0322248</td><td>w1</td><td>BL05013</td><td>BL05013-033</td><td>2 </td><td>2 </td></tr>\n",
       "</tbody>\n",
       "</table>\n"
      ],
      "text/latex": [
       "A data.frame: 10 × 12\n",
       "\\begin{tabular}{r|llllllllllll}\n",
       "  & orig.ident & nCount\\_RNA & nFeature\\_RNA & Barcodes & Doublet\\_Score & Predicted\\_Doublet & percent.mt & well & donor & donor2 & RNA\\_snn\\_res.0.5 & seurat\\_clusters\\\\\n",
       "  & <chr> & <dbl> & <int> & <chr> & <dbl> & <chr> & <dbl> & <chr> & <chr> & <chr> & <fct> & <fct>\\\\\n",
       "\\hline\n",
       "\tAAACAAGCACCGGTAGACTTTAGG-1\\_1 & BL05013-033\\_w1 &  6654 & 3198 & AAACAAGCACCGGTAGACTTTAGG-1 & 0.04133545 & False & 2.1791404 & w1 & BL05013 & BL05013-033 & 3  & 3 \\\\\n",
       "\tAAACAAGCACTCCCTTACTTTAGG-1\\_1 & BL05013-033\\_w1 & 14577 & 4339 & AAACAAGCACTCCCTTACTTTAGG-1 & 0.01758642 & False & 0.4047472 & w1 & BL05013 & BL05013-033 & 2  & 2 \\\\\n",
       "\tAAACAAGCATTCCTTTACTTTAGG-1\\_1 & BL05013-033\\_w1 & 11459 & 4099 & AAACAAGCATTCCTTTACTTTAGG-1 & 0.01044530 & False & 0.9424906 & w1 & BL05013 & BL05013-033 & 10 & 10\\\\\n",
       "\tAAACAAGCATTTAGCCACTTTAGG-1\\_1 & BL05013-033\\_w1 &  5790 & 2967 & AAACAAGCATTTAGCCACTTTAGG-1 & 0.02735978 & False & 2.6943005 & w1 & BL05013 & BL05013-033 & 5  & 5 \\\\\n",
       "\tAAACCAATCAGTAGCGACTTTAGG-1\\_1 & BL05013-033\\_w1 &  4833 & 2662 & AAACCAATCAGTAGCGACTTTAGG-1 & 0.05347594 & False & 1.6139044 & w1 & BL05013 & BL05013-033 & 0  & 0 \\\\\n",
       "\tAAACCAATCCCTGGTGACTTTAGG-1\\_1 & BL05013-033\\_w1 &  7424 & 3490 & AAACCAATCCCTGGTGACTTTAGG-1 & 0.01680672 & False & 0.8890086 & w1 & BL05013 & BL05013-033 & 9  & 9 \\\\\n",
       "\tAAACCAATCCTGACTAACTTTAGG-1\\_1 & BL05013-033\\_w1 &  7406 & 3448 & AAACCAATCCTGACTAACTTTAGG-1 & 0.07843137 & False & 1.5527950 & w1 & BL05013 & BL05013-033 & 3  & 3 \\\\\n",
       "\tAAACCAATCGACCGTTACTTTAGG-1\\_1 & BL05013-033\\_w1 &  6069 & 3089 & AAACCAATCGACCGTTACTTTAGG-1 & 0.08371041 & False & 2.2903279 & w1 & BL05013 & BL05013-033 & 1  & 1 \\\\\n",
       "\tAAACCAATCGGTTATTACTTTAGG-1\\_1 & BL05013-033\\_w1 &  5214 & 2816 & AAACCAATCGGTTATTACTTTAGG-1 & 0.06072106 & False & 1.7453011 & w1 & BL05013 & BL05013-033 & 1  & 1 \\\\\n",
       "\tAAACCAGGTAGCCATTACTTTAGG-1\\_1 & BL05013-033\\_w1 & 15516 & 4468 & AAACCAGGTAGCCATTACTTTAGG-1 & 0.01529412 & False & 0.0322248 & w1 & BL05013 & BL05013-033 & 2  & 2 \\\\\n",
       "\\end{tabular}\n"
      ],
      "text/markdown": [
       "\n",
       "A data.frame: 10 × 12\n",
       "\n",
       "| <!--/--> | orig.ident &lt;chr&gt; | nCount_RNA &lt;dbl&gt; | nFeature_RNA &lt;int&gt; | Barcodes &lt;chr&gt; | Doublet_Score &lt;dbl&gt; | Predicted_Doublet &lt;chr&gt; | percent.mt &lt;dbl&gt; | well &lt;chr&gt; | donor &lt;chr&gt; | donor2 &lt;chr&gt; | RNA_snn_res.0.5 &lt;fct&gt; | seurat_clusters &lt;fct&gt; |\n",
       "|---|---|---|---|---|---|---|---|---|---|---|---|---|\n",
       "| AAACAAGCACCGGTAGACTTTAGG-1_1 | BL05013-033_w1 |  6654 | 3198 | AAACAAGCACCGGTAGACTTTAGG-1 | 0.04133545 | False | 2.1791404 | w1 | BL05013 | BL05013-033 | 3  | 3  |\n",
       "| AAACAAGCACTCCCTTACTTTAGG-1_1 | BL05013-033_w1 | 14577 | 4339 | AAACAAGCACTCCCTTACTTTAGG-1 | 0.01758642 | False | 0.4047472 | w1 | BL05013 | BL05013-033 | 2  | 2  |\n",
       "| AAACAAGCATTCCTTTACTTTAGG-1_1 | BL05013-033_w1 | 11459 | 4099 | AAACAAGCATTCCTTTACTTTAGG-1 | 0.01044530 | False | 0.9424906 | w1 | BL05013 | BL05013-033 | 10 | 10 |\n",
       "| AAACAAGCATTTAGCCACTTTAGG-1_1 | BL05013-033_w1 |  5790 | 2967 | AAACAAGCATTTAGCCACTTTAGG-1 | 0.02735978 | False | 2.6943005 | w1 | BL05013 | BL05013-033 | 5  | 5  |\n",
       "| AAACCAATCAGTAGCGACTTTAGG-1_1 | BL05013-033_w1 |  4833 | 2662 | AAACCAATCAGTAGCGACTTTAGG-1 | 0.05347594 | False | 1.6139044 | w1 | BL05013 | BL05013-033 | 0  | 0  |\n",
       "| AAACCAATCCCTGGTGACTTTAGG-1_1 | BL05013-033_w1 |  7424 | 3490 | AAACCAATCCCTGGTGACTTTAGG-1 | 0.01680672 | False | 0.8890086 | w1 | BL05013 | BL05013-033 | 9  | 9  |\n",
       "| AAACCAATCCTGACTAACTTTAGG-1_1 | BL05013-033_w1 |  7406 | 3448 | AAACCAATCCTGACTAACTTTAGG-1 | 0.07843137 | False | 1.5527950 | w1 | BL05013 | BL05013-033 | 3  | 3  |\n",
       "| AAACCAATCGACCGTTACTTTAGG-1_1 | BL05013-033_w1 |  6069 | 3089 | AAACCAATCGACCGTTACTTTAGG-1 | 0.08371041 | False | 2.2903279 | w1 | BL05013 | BL05013-033 | 1  | 1  |\n",
       "| AAACCAATCGGTTATTACTTTAGG-1_1 | BL05013-033_w1 |  5214 | 2816 | AAACCAATCGGTTATTACTTTAGG-1 | 0.06072106 | False | 1.7453011 | w1 | BL05013 | BL05013-033 | 1  | 1  |\n",
       "| AAACCAGGTAGCCATTACTTTAGG-1_1 | BL05013-033_w1 | 15516 | 4468 | AAACCAGGTAGCCATTACTTTAGG-1 | 0.01529412 | False | 0.0322248 | w1 | BL05013 | BL05013-033 | 2  | 2  |\n",
       "\n"
      ],
      "text/plain": [
       "                             orig.ident     nCount_RNA nFeature_RNA\n",
       "AAACAAGCACCGGTAGACTTTAGG-1_1 BL05013-033_w1  6654      3198        \n",
       "AAACAAGCACTCCCTTACTTTAGG-1_1 BL05013-033_w1 14577      4339        \n",
       "AAACAAGCATTCCTTTACTTTAGG-1_1 BL05013-033_w1 11459      4099        \n",
       "AAACAAGCATTTAGCCACTTTAGG-1_1 BL05013-033_w1  5790      2967        \n",
       "AAACCAATCAGTAGCGACTTTAGG-1_1 BL05013-033_w1  4833      2662        \n",
       "AAACCAATCCCTGGTGACTTTAGG-1_1 BL05013-033_w1  7424      3490        \n",
       "AAACCAATCCTGACTAACTTTAGG-1_1 BL05013-033_w1  7406      3448        \n",
       "AAACCAATCGACCGTTACTTTAGG-1_1 BL05013-033_w1  6069      3089        \n",
       "AAACCAATCGGTTATTACTTTAGG-1_1 BL05013-033_w1  5214      2816        \n",
       "AAACCAGGTAGCCATTACTTTAGG-1_1 BL05013-033_w1 15516      4468        \n",
       "                             Barcodes                   Doublet_Score\n",
       "AAACAAGCACCGGTAGACTTTAGG-1_1 AAACAAGCACCGGTAGACTTTAGG-1 0.04133545   \n",
       "AAACAAGCACTCCCTTACTTTAGG-1_1 AAACAAGCACTCCCTTACTTTAGG-1 0.01758642   \n",
       "AAACAAGCATTCCTTTACTTTAGG-1_1 AAACAAGCATTCCTTTACTTTAGG-1 0.01044530   \n",
       "AAACAAGCATTTAGCCACTTTAGG-1_1 AAACAAGCATTTAGCCACTTTAGG-1 0.02735978   \n",
       "AAACCAATCAGTAGCGACTTTAGG-1_1 AAACCAATCAGTAGCGACTTTAGG-1 0.05347594   \n",
       "AAACCAATCCCTGGTGACTTTAGG-1_1 AAACCAATCCCTGGTGACTTTAGG-1 0.01680672   \n",
       "AAACCAATCCTGACTAACTTTAGG-1_1 AAACCAATCCTGACTAACTTTAGG-1 0.07843137   \n",
       "AAACCAATCGACCGTTACTTTAGG-1_1 AAACCAATCGACCGTTACTTTAGG-1 0.08371041   \n",
       "AAACCAATCGGTTATTACTTTAGG-1_1 AAACCAATCGGTTATTACTTTAGG-1 0.06072106   \n",
       "AAACCAGGTAGCCATTACTTTAGG-1_1 AAACCAGGTAGCCATTACTTTAGG-1 0.01529412   \n",
       "                             Predicted_Doublet percent.mt well donor  \n",
       "AAACAAGCACCGGTAGACTTTAGG-1_1 False             2.1791404  w1   BL05013\n",
       "AAACAAGCACTCCCTTACTTTAGG-1_1 False             0.4047472  w1   BL05013\n",
       "AAACAAGCATTCCTTTACTTTAGG-1_1 False             0.9424906  w1   BL05013\n",
       "AAACAAGCATTTAGCCACTTTAGG-1_1 False             2.6943005  w1   BL05013\n",
       "AAACCAATCAGTAGCGACTTTAGG-1_1 False             1.6139044  w1   BL05013\n",
       "AAACCAATCCCTGGTGACTTTAGG-1_1 False             0.8890086  w1   BL05013\n",
       "AAACCAATCCTGACTAACTTTAGG-1_1 False             1.5527950  w1   BL05013\n",
       "AAACCAATCGACCGTTACTTTAGG-1_1 False             2.2903279  w1   BL05013\n",
       "AAACCAATCGGTTATTACTTTAGG-1_1 False             1.7453011  w1   BL05013\n",
       "AAACCAGGTAGCCATTACTTTAGG-1_1 False             0.0322248  w1   BL05013\n",
       "                             donor2      RNA_snn_res.0.5 seurat_clusters\n",
       "AAACAAGCACCGGTAGACTTTAGG-1_1 BL05013-033 3               3              \n",
       "AAACAAGCACTCCCTTACTTTAGG-1_1 BL05013-033 2               2              \n",
       "AAACAAGCATTCCTTTACTTTAGG-1_1 BL05013-033 10              10             \n",
       "AAACAAGCATTTAGCCACTTTAGG-1_1 BL05013-033 5               5              \n",
       "AAACCAATCAGTAGCGACTTTAGG-1_1 BL05013-033 0               0              \n",
       "AAACCAATCCCTGGTGACTTTAGG-1_1 BL05013-033 9               9              \n",
       "AAACCAATCCTGACTAACTTTAGG-1_1 BL05013-033 3               3              \n",
       "AAACCAATCGACCGTTACTTTAGG-1_1 BL05013-033 1               1              \n",
       "AAACCAATCGGTTATTACTTTAGG-1_1 BL05013-033 1               1              \n",
       "AAACCAGGTAGCCATTACTTTAGG-1_1 BL05013-033 2               2              "
      ]
     },
     "metadata": {},
     "output_type": "display_data"
    }
   ],
   "source": [
    "head(cwb_64)"
   ]
  },
  {
   "cell_type": "code",
   "execution_count": null,
   "id": "31f40b09-32dd-4053-8e4c-4a39b12f14cb",
   "metadata": {},
   "outputs": [],
   "source": [
    "cwb_64 <- JoinLayers(cwb_64)"
   ]
  },
  {
   "cell_type": "code",
   "execution_count": null,
   "id": "9445f14f-74ec-42dd-81ab-65ac43c07555",
   "metadata": {},
   "outputs": [],
   "source": [
    "cwb_64"
   ]
  },
  {
   "cell_type": "markdown",
   "id": "578f8a2f-ba5b-4754-ad83-a7a0e8914d48",
   "metadata": {
    "tags": []
   },
   "source": [
    "### Color Definitions"
   ]
  },
  {
   "cell_type": "code",
   "execution_count": null,
   "id": "1dea84b6-3c14-41f1-bd69-e8234f16e57a",
   "metadata": {},
   "outputs": [],
   "source": [
    "red <- '#F8766D'\n",
    "blue <- '#619CFF'\n",
    "green <- '#00BA38'\n",
    "yl_or <- '#FAC05E'\n",
    "\n",
    "palette <- c(red, blue)\n",
    "palette2 <- c(red, blue, green, yl_or)"
   ]
  },
  {
   "cell_type": "markdown",
   "id": "5b59f31c-2ccc-4baf-b9fa-7b5a5d1d27fb",
   "metadata": {
    "tags": []
   },
   "source": [
    "### 64 Sample UMAP"
   ]
  },
  {
   "cell_type": "code",
   "execution_count": null,
   "id": "20f7bbfc-79ec-458a-a14e-a91b673d7dc5",
   "metadata": {},
   "outputs": [],
   "source": [
    "cwb_64_merge <- Merge_Seurat_List(cwb_64)"
   ]
  },
  {
   "cell_type": "code",
   "execution_count": null,
   "id": "5191f916-d385-4dfe-8425-e044160c0409",
   "metadata": {
    "scrolled": true,
    "tags": []
   },
   "outputs": [],
   "source": [
    "# cwb_64_merge <- NormalizeData(cwb_64_merge) %>% \n",
    "#     FindVariableFeatures() %>% \n",
    "#     ScaleData() %>% \n",
    "#     RunPCA() %>% \n",
    "#     RunUMAP(dims = 1:20) %>% \n",
    "#     FindNeighbors(dims = 1:20) %>% \n",
    "#     FindClusters(resolution = 0.5)"
   ]
  },
  {
   "cell_type": "code",
   "execution_count": null,
   "id": "784dbe6b-2164-41af-a725-328258263554",
   "metadata": {},
   "outputs": [],
   "source": [
    "options(repr.plot.width=15,repr.plot.height=5)\n",
    "\n",
    "p <- DimPlot_scCustom(seurat_object = cwb_64_merge,             \n",
    "                      reduction = \"umap\", \n",
    "                      group.by = \"well\", \n",
    "                      label = FALSE,\n",
    "                      split.by='well',\n",
    "                      split_seurat = TRUE,\n",
    "                      colors_use = hue_pal()(4),\n",
    "                     ) +\n",
    "            theme(text = element_text(family=\"sans\", size = 6),\n",
    "                  legend.text=element_text(size=6),\n",
    "                  plot.title = element_blank()) +\n",
    "            guides(color = guide_legend(override.aes = list(size = 2)))\n",
    "p"
   ]
  },
  {
   "cell_type": "code",
   "execution_count": null,
   "id": "31009efe-de58-4f42-a2dd-1846e0db809d",
   "metadata": {},
   "outputs": [],
   "source": [
    "pdf(\"Fig3C_64_UMAP.pdf\", width = 7, height = 2.6, onefile=TRUE)\n",
    "p\n",
    "invisible(dev.off())"
   ]
  },
  {
   "cell_type": "markdown",
   "id": "ab6b45ea-fc8a-4dd4-92fb-345fb51d3c40",
   "metadata": {
    "tags": []
   },
   "source": [
    "### Cross Well Gene Violin Plots"
   ]
  },
  {
   "cell_type": "code",
   "execution_count": null,
   "id": "d95a6aa7-8557-46c3-b461-ce8ffc6f78ff",
   "metadata": {},
   "outputs": [],
   "source": [
    "Idents(cwb_64_merge) <- \"donor\"\n",
    "cwb_64_d1 <- subset(x = cwb_64_merge, idents = \"BL05013\")"
   ]
  },
  {
   "cell_type": "code",
   "execution_count": null,
   "id": "8a3aa2fa-5978-4181-a20b-6c1e12d7d483",
   "metadata": {},
   "outputs": [],
   "source": [
    "cwb_64_d1$donor2 <- gsub('BL05013-033','Pool 1 Rep 1', cwb_64_d1$donor2)\n",
    "cwb_64_d1$donor2 <- gsub('BL05013-034','Pool 1 Rep 2', cwb_64_d1$donor2)\n",
    "cwb_64_d1$donor2 <- gsub('BL05013-035','Pool 1 Rep 3', cwb_64_d1$donor2)\n",
    "cwb_64_d1$donor2 <- gsub('BL05013-036','Pool 2 Rep 1', cwb_64_d1$donor2)\n",
    "cwb_64_d1$donor2 <- gsub('BL05013-037','Pool 2 Rep 2', cwb_64_d1$donor2)\n",
    "cwb_64_d1$donor2 <- gsub('BL05013-038','Pool 2 Rep 3', cwb_64_d1$donor2)\n",
    "cwb_64_d1$donor2 <- gsub('BL05013-039','Pool 3 Rep 1', cwb_64_d1$donor2)\n",
    "cwb_64_d1$donor2 <- gsub('BL05013-040','Pool 3 Rep 2', cwb_64_d1$donor2)\n",
    "cwb_64_d1$donor2 <- gsub('BL05013-041','Pool 3 Rep 3', cwb_64_d1$donor2)\n",
    "cwb_64_d1$donor2 <- gsub('BL05013-042','Pool 4 Rep 1', cwb_64_d1$donor2)\n",
    "cwb_64_d1$donor2 <- gsub('BL05013-043','Pool 4 Rep 2', cwb_64_d1$donor2)\n",
    "cwb_64_d1$donor2 <- gsub('BL05013-044','Pool 4 Rep 3', cwb_64_d1$donor2)"
   ]
  },
  {
   "cell_type": "code",
   "execution_count": null,
   "id": "a0fffa4a-67d4-4340-adab-e61945108c55",
   "metadata": {},
   "outputs": [],
   "source": [
    "options(repr.plot.width=6,repr.plot.height=6)\n",
    "\n",
    "hk_genes <- c('ACTB','ARF1','B2M','CWC15','UBC','YWHAZ')\n",
    "colors <- DiscretePalette_scCustomize(num_colors = 12,palette = \"varibow\")\n",
    "\n",
    "# Create Plots\n",
    "p1 <- Stacked_VlnPlot(seurat_object = cwb_64_d1, \n",
    "                    features = hk_genes, \n",
    "                    x_lab_rotate = TRUE, \n",
    "                    colors_use = colors, \n",
    "                    group.by = 'donor2'\n",
    "                   )\n",
    "\n",
    "p1"
   ]
  },
  {
   "cell_type": "code",
   "execution_count": null,
   "id": "62951102-5298-4bfa-9e17-1b145e3972a5",
   "metadata": {},
   "outputs": [],
   "source": [
    "pdf(\"Fig3C_Donor1_Violins.pdf\", width = 6, height = 4, onefile=TRUE)\n",
    "p1\n",
    "invisible(dev.off())"
   ]
  },
  {
   "cell_type": "markdown",
   "id": "d6843f49-f7ec-4cad-8d3a-dbcb26afecae",
   "metadata": {
    "tags": []
   },
   "source": [
    "### Correlation Heat Map"
   ]
  },
  {
   "cell_type": "code",
   "execution_count": null,
   "id": "5b5e9ff4-eeaf-4e50-9f90-9be5915ac7a9",
   "metadata": {},
   "outputs": [],
   "source": [
    "cwb_64_merge$donor2_well <- paste0(cwb_64_merge$donor2,'_',cwb_64_merge$well)"
   ]
  },
  {
   "cell_type": "code",
   "execution_count": null,
   "id": "c7064d6d-1c17-4e34-855d-aefaef909f79",
   "metadata": {},
   "outputs": [],
   "source": [
    "Idents(cwb_64_merge)<-'donor2_well'\n",
    "cwb_64_merge_corr <- as.data.frame(AverageExpression(object=cwb_64_merge))"
   ]
  },
  {
   "cell_type": "code",
   "execution_count": null,
   "id": "6d35f7a8-a6d5-465b-a249-169e14a7ba9a",
   "metadata": {},
   "outputs": [],
   "source": [
    "new_order <- c('RNA.BL05013.033.w1','RNA.BL05013.034.w1','RNA.BL05013.035.w1',\n",
    "               'RNA.BL05013.036.w2','RNA.BL05013.037.w2','RNA.BL05013.038.w2',\n",
    "               'RNA.BL05013.039.w3','RNA.BL05013.040.w3','RNA.BL05013.041.w3',\n",
    "               'RNA.BL05013.042.w4','RNA.BL05013.043.w4','RNA.BL05013.044.w4',\n",
    "               'RNA.BL05045.048.w1','RNA.BL05045.049.w1','RNA.BL05045.050.w1',\n",
    "               'RNA.BL05045.051.w2','RNA.BL05045.052.w2','RNA.BL05045.053.w2',\n",
    "               'RNA.BL05045.054.w3','RNA.BL05045.055.w3','RNA.BL05045.056.w3',\n",
    "               'RNA.BL05045.057.w4','RNA.BL05045.058.w4','RNA.BL05045.059.w4',\n",
    "               'RNA.BL05113.013.w1','RNA.BL05113.014.w1','RNA.BL05113.015.w1',\n",
    "               'RNA.BL05113.016.w2','RNA.BL05113.017.w2','RNA.BL05113.018.w2',\n",
    "               'RNA.BL05113.019.w3','RNA.BL05113.020.w3','RNA.BL05113.021.w3',\n",
    "               'RNA.BL05113.022.w4','RNA.BL05113.023.w4','RNA.BL05113.024.w4',\n",
    "               'RNA.BL05759.020.w1','RNA.BL05759.021.w1','RNA.BL05759.022.w1',\n",
    "               'RNA.BL05759.023.w2','RNA.BL05759.024.w2','RNA.BL05759.025.w2',\n",
    "               'RNA.BL05759.026.w3','RNA.BL05759.027.w3','RNA.BL05759.028.w3',\n",
    "               'RNA.BL05759.029.w4','RNA.BL05759.030.w4','RNA.BL05759.031.w4',\n",
    "               'RNA.BL05760.028.w1','RNA.BL05760.029.w1','RNA.BL05760.030.w1',\n",
    "               'RNA.BL05760.031.w2','RNA.BL05760.032.w2','RNA.BL05760.033.w2',\n",
    "               'RNA.BL05760.034.w3','RNA.BL05760.035.w3','RNA.BL05760.036.w3',\n",
    "               'RNA.BL05760.037.w4','RNA.BL05760.038.w4','RNA.BL05760.039.w4',\n",
    "               'RNA.PB02183.154.w1','RNA.PB02183.154.w2','RNA.PB02183.154.w3','RNA.PB02183.154.w4')"
   ]
  },
  {
   "cell_type": "code",
   "execution_count": null,
   "id": "8266fed9-3de6-4461-80ea-6218d74c5f70",
   "metadata": {},
   "outputs": [],
   "source": [
    "test <- cor(cwb_64_merge_corr, use='all.obs', method='pearson')"
   ]
  },
  {
   "cell_type": "code",
   "execution_count": null,
   "id": "5df95ca7-514c-4225-bd77-0a3a42a5a32d",
   "metadata": {},
   "outputs": [],
   "source": []
  },
  {
   "cell_type": "code",
   "execution_count": null,
   "id": "c866cf6a-4329-464c-9d3b-ed2ebd71076c",
   "metadata": {},
   "outputs": [],
   "source": [
    "options(repr.plot.width=15, repr.plot.height=15)\n",
    "\n",
    "p <- test %>%\n",
    "    pheatmap(\n",
    "        # scale='column',\n",
    "        cluster_rows = FALSE,\n",
    "        cluster_cols = FALSE,\n",
    "        # cutree_rows = 25,\n",
    "        # cutree_cols = 20,\n",
    "        # annotation_colors = my_colour,\n",
    "        # annotation_row = my_sample_col,\n",
    "        # color = colorRampPalette(c(\"blue\", \"white\", \"red\"))(100),\n",
    "        # color = rev(RColorBrewer::brewer.pal(name = \"RdBu\", n = 5)),\n",
    "        fontsize = 10,\n",
    "        # angle_col='45',\n",
    "        # show_rownames = FALSE,\n",
    "        # show_colnames = FALSE,\n",
    "        # border_color = \"white\"\n",
    "    ) \n",
    "p"
   ]
  },
  {
   "cell_type": "code",
   "execution_count": null,
   "id": "7eb65679-f9fb-4d41-8f1b-a0e99c3f8113",
   "metadata": {},
   "outputs": [],
   "source": [
    "p <- Heatmap(test, \n",
    "        rect_gp = gpar(type = \"none\"),\n",
    "        col = rev(brewer.pal(9, \"RdYlBu\")),\n",
    "        cluster_rows = FALSE, \n",
    "        cluster_columns = FALSE,\n",
    "        # show_row_names = FALSE,\n",
    "        # show_column_names = FALSE,    \n",
    "        column_order = rev(colnames(test)),\n",
    "    \tcell_fun = function(j, i, x, y, w, h, fill) {\n",
    "    \t\tif(i >= j) {\n",
    "\t\t\tgrid.rect(x, y, w, h, gp = gpar(fill = fill, col = fill))\n",
    "    \t\t}\n",
    "    \t})\n",
    "\n",
    "p"
   ]
  },
  {
   "cell_type": "code",
   "execution_count": null,
   "id": "39fd0010-d347-4fb2-a212-c19514111151",
   "metadata": {},
   "outputs": [],
   "source": [
    "pdf(\"Fig3C_corr_heatmap.pdf\", width = 6, height = 5, onefile=TRUE)\n",
    "p\n",
    "invisible(dev.off())"
   ]
  }
 ],
 "metadata": {
  "kernelspec": {
   "display_name": "R 4",
   "language": "R",
   "name": "ir"
  },
  "language_info": {
   "codemirror_mode": "r",
   "file_extension": ".r",
   "mimetype": "text/x-r-source",
   "name": "R",
   "pygments_lexer": "r",
   "version": "4.1.3"
  }
 },
 "nbformat": 4,
 "nbformat_minor": 5
}

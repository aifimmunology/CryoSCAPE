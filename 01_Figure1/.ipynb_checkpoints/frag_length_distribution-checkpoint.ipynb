{
 "cells": [
  {
   "cell_type": "markdown",
   "id": "223dd7e5-e40f-4959-9bd8-d44074d604e0",
   "metadata": {
    "tags": []
   },
   "source": [
    "### Import Required Packages"
   ]
  },
  {
   "cell_type": "code",
   "execution_count": null,
   "id": "b096ee76-9107-4281-9c89-625661e47dd2",
   "metadata": {},
   "outputs": [],
   "source": [
    "import os\n",
    "import matplotlib.pyplot as plt\n",
    "import pybedtools\n",
    "import pandas as pd\n",
    "import seaborn as sns\n",
    "import matplotlib.pyplot as plt\n",
    "import numpy as np\n",
    "from scipy.stats import gaussian_kde"
   ]
  },
  {
   "cell_type": "markdown",
   "id": "4ba3142c-0b67-4427-8351-ad72c94faf21",
   "metadata": {},
   "source": [
    "### Script to generate fragment length distribution plots using kernel density estime for the fraction of reads"
   ]
  },
  {
   "cell_type": "code",
   "execution_count": null,
   "id": "f336cae5-9dc9-44a6-8d25-a7fcd1366aa5",
   "metadata": {},
   "outputs": [],
   "source": [
    "# Path to directory containing the bed files (not downsampled)\n",
    "input_dir = '/home/jupyter/wb_exp-940-967/cs15_ficoll/cs15_ficoll_bed_files/original_bed_files'\n",
    "\n",
    "# Initialize empty list to store filenames\n",
    "file_names = []\n",
    "\n",
    "# Listing files with progress statements\n",
    "print(\"Listing files in directory...\")\n",
    "for filename in os.listdir(directory):\n",
    "    if filename.endswith('.bed'):\n",
    "        file_names.append(filename[:-4])  # this remove the .bed extension\n",
    "print(\"Files listed.\")\n",
    "\n",
    "\n",
    "# Initialize empty dictionary KDE data for each file\n",
    "kde_dict = {}\n",
    "\n",
    "if file_names:\n",
    "    # Group files based on sample ID (prefix)\n",
    "    prefix_groups = {}\n",
    "    for filename in file_names:\n",
    "        prefix = filename.split('_')[0]  # Extract prefix\n",
    "        if prefix not in prefix_groups:\n",
    "            prefix_groups[prefix] = []\n",
    "        prefix_groups[prefix].append(filename)\n",
    "    \n",
    "    # Defining line styles and colors in list and dictionary\n",
    "    line_styles = ['-', '--', '-.', ':']\n",
    "    colors = {'CS15': '#619CFF', 'Ficoll': '#F8766D'}\n",
    "    \n",
    "    for i, (prefix, filenames) in enumerate(prefix_groups.items()):\n",
    "        for j, filename in enumerate(filenames):\n",
    "            # Read in the bed file and convert to a dataframe\n",
    "            print(f\"Processing file {j+1}/{len(filenames)} of group {i+1}/{len(prefix_groups)}: {filename}.bed\")\n",
    "            bed_df = pd.read_csv(os.path.join(directory, filename + '.bed'), sep='\\t', header=None)\n",
    "            \n",
    "            # Get fragment lengths and total reads\n",
    "            fragment_lengths = bed_df[2] - bed_df[1]\n",
    "            total_reads = len(fragment_lengths)\n",
    "            \n",
    "            # Assign Donor # to corresponing internal donor ID and assign linestyle\n",
    "            if prefix == '1982BW':\n",
    "                donor = 'Donor 1'\n",
    "                linestyle = line_styles[0]\n",
    "            elif prefix == '3620BW':\n",
    "                donor = 'Donor 2'\n",
    "                linestyle = line_styles[1]\n",
    "            elif prefix == '2482BW':\n",
    "                donor = 'Donor 3'\n",
    "                linestyle = line_styles[2]\n",
    "            \n",
    "            # Assign color of linestyle based on condition which is the suffix of filename (CS15 vs Ficoll)\n",
    "            suffix = filename.split('_')[-1]\n",
    "            color = colors.get(suffix, 'black')\n",
    "            \n",
    "            # kernel density estimate\n",
    "            kde = gaussian_kde(fragment_lengths)\n",
    "            x_vals = np.linspace(fragment_lengths.min(), fragment_lengths.max(), 300)\n",
    "            kde_vals = kde(x_vals)\n",
    "            \n",
    "            # normalize the kde values\n",
    "            kde_vals_normalized = kde_vals / np.sum(kde_vals)\n",
    "            \n",
    "            # save the kde values for y-xis\n",
    "            kde_data[filename] = {'x_vals': x_vals, 'kde_vals_normalized': kde_vals_normalized, 'donor': donor, 'linestyle': linestyle, 'color': color}\n",
    "            \n",
    "            print(f\"Processed file {j+1}/{len(filenames)} of group {i+1}/{len(prefix_groups)}: {filename}.bed\")\n",
    "\n",
    "# plot\n",
    "fig, ax = plt.subplots()\n",
    "\n",
    "for filename, data in kde_data.items():\n",
    "    ax.plot(data['x_vals'], data['kde_vals_normalized'], label=data['donor'], linestyle=data['linestyle'], color=data['color'])\n",
    "\n",
    "# Make the legend for linestyle and corresponding donor #\n",
    "legend_elements = [Line2D([0], [0], linestyle='-', color='black', label='Donor 1'),\n",
    "                   Line2D([0], [0], linestyle='--', color='black', label='Donor 2'),\n",
    "                   Line2D([0], [0], linestyle=':', color='black', label='Donor 3')]\n",
    "\n",
    "# Make the color legend for condition variables\n",
    "for suffix, color in colors.items():\n",
    "    legend_elements.append(Line2D([0], [0], linestyle='-', color=color, label=suffix))\n",
    "\n",
    "ax.legend(handles=legend_elements, loc='center left', bbox_to_anchor=(1, 0.5), title='Legend')\n",
    "\n",
    "plt.xlabel('Fragment Length')\n",
    "plt.ylabel('Fraction of Reads')\n",
    "plt.title('Fragment Length Distribution')\n",
    "plt.savefig('fragment_length_distribution.svg', bbox_inches='tight')  # Save as SVG with tight bounding box\n",
    "plt.show()"
   ]
  }
 ],
 "metadata": {
  "kernelspec": {
   "display_name": "Python 3 (ipykernel)",
   "language": "python",
   "name": "python3"
  },
  "language_info": {
   "codemirror_mode": {
    "name": "ipython",
    "version": 3
   },
   "file_extension": ".py",
   "mimetype": "text/x-python",
   "name": "python",
   "nbconvert_exporter": "python",
   "pygments_lexer": "ipython3",
   "version": "3.7.12"
  }
 },
 "nbformat": 4,
 "nbformat_minor": 5
}

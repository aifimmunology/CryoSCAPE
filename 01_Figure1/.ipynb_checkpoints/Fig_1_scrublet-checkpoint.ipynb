{
 "cells": [
  {
   "cell_type": "code",
   "execution_count": 2,
   "id": "5d68650b-413d-4ff6-abf8-cc7d23236004",
   "metadata": {},
   "outputs": [],
   "source": [
    "import sys\n",
    "import getopt\n",
    "import shutil\n",
    "import h5py\n",
    "import pandas\n",
    "import scanpy as sc\n",
    "import scrublet\n",
    "import re\n",
    "import os"
   ]
  },
  {
   "cell_type": "code",
   "execution_count": 4,
   "id": "35e5fbd2-709e-4a9a-b363-e9eebb278e19",
   "metadata": {},
   "outputs": [
    {
     "data": {
      "text/plain": [
       "['/home/jupyter/CS15_WHBL/PAPER/exp964_scrublet/PB05402_sample_filtered_feature_bc_matrix.h5',\n",
       " '/home/jupyter/CS15_WHBL/PAPER/exp964_scrublet/BL05401_sample_filtered_feature_bc_matrix.h5',\n",
       " '/home/jupyter/CS15_WHBL/PAPER/exp964_scrublet/PB05113_sample_filtered_feature_bc_matrix.h5',\n",
       " '/home/jupyter/CS15_WHBL/PAPER/exp964_scrublet/PB05401_sample_filtered_feature_bc_matrix.h5',\n",
       " '/home/jupyter/CS15_WHBL/PAPER/exp964_scrublet/PB05111_sample_filtered_feature_bc_matrix.h5',\n",
       " '/home/jupyter/CS15_WHBL/PAPER/exp964_scrublet/BL05113_sample_filtered_feature_bc_matrix.h5',\n",
       " '/home/jupyter/CS15_WHBL/PAPER/exp964_scrublet/BL05111_sample_filtered_feature_bc_matrix.h5',\n",
       " '/home/jupyter/CS15_WHBL/PAPER/exp964_scrublet/BL05402_sample_filtered_feature_bc_matrix.h5']"
      ]
     },
     "execution_count": 4,
     "metadata": {},
     "output_type": "execute_result"
    }
   ],
   "source": [
    "path = '/home/jupyter/CS15_WHBL/PAPER/exp964_scrublet/'\n",
    "paths = [path+i for i in os.listdir(path) if i[0] != '.']\n",
    "paths"
   ]
  },
  {
   "cell_type": "code",
   "execution_count": 6,
   "id": "89f6f6cc-6948-403a-a19f-98cfc760926f",
   "metadata": {},
   "outputs": [
    {
     "data": {
      "text/plain": [
       "'PB05402'"
      ]
     },
     "execution_count": 6,
     "metadata": {},
     "output_type": "execute_result"
    }
   ],
   "source": [
    "test = paths[0]\n",
    "test.split('/')[-1].split('_sample')[0]"
   ]
  },
  {
   "cell_type": "code",
   "execution_count": 7,
   "id": "b4764057-ef8e-4c66-9bdd-e9f94ce788dd",
   "metadata": {},
   "outputs": [],
   "source": [
    "# for i in paths:\n",
    "def scrubby(x):\n",
    "    name = x.split('/')[-1].split('_sample')[0]\n",
    "    adata = sc.read_10x_h5(x)\n",
    "    scrub = scrublet.Scrublet(adata.X)\n",
    "    doublet_scores, predicted_doublets = scrub.scrub_doublets(verbose=False)\n",
    "    df = pandas.DataFrame(doublet_scores)\n",
    "    df.columns = ['Doublet_Score']\n",
    "    df2 = pandas.DataFrame(predicted_doublets)\n",
    "    df2.columns = ['Predicted_Doublet']\n",
    "    df_merge = df.merge(df2, left_index=True, right_index=True)\n",
    "    df_merge.to_csv(path+name+'.csv')\n",
    "    # return(df_merge)"
   ]
  },
  {
   "cell_type": "code",
   "execution_count": 8,
   "id": "5606c3a4-3216-445e-b97b-ea9bd97c6663",
   "metadata": {
    "scrolled": true,
    "tags": []
   },
   "outputs": [
    {
     "name": "stderr",
     "output_type": "stream",
     "text": [
      "/opt/conda/lib/python3.7/site-packages/anndata/_core/anndata.py:1830: UserWarning: Variable names are not unique. To make them unique, call `.var_names_make_unique`.\n",
      "  utils.warn_names_duplicates(\"var\")\n",
      "/opt/conda/lib/python3.7/site-packages/anndata/_core/anndata.py:1830: UserWarning: Variable names are not unique. To make them unique, call `.var_names_make_unique`.\n",
      "  utils.warn_names_duplicates(\"var\")\n",
      "/opt/conda/lib/python3.7/site-packages/anndata/_core/anndata.py:1830: UserWarning: Variable names are not unique. To make them unique, call `.var_names_make_unique`.\n",
      "  utils.warn_names_duplicates(\"var\")\n",
      "/opt/conda/lib/python3.7/site-packages/anndata/_core/anndata.py:1830: UserWarning: Variable names are not unique. To make them unique, call `.var_names_make_unique`.\n",
      "  utils.warn_names_duplicates(\"var\")\n",
      "/opt/conda/lib/python3.7/site-packages/anndata/_core/anndata.py:1830: UserWarning: Variable names are not unique. To make them unique, call `.var_names_make_unique`.\n",
      "  utils.warn_names_duplicates(\"var\")\n",
      "/opt/conda/lib/python3.7/site-packages/anndata/_core/anndata.py:1830: UserWarning: Variable names are not unique. To make them unique, call `.var_names_make_unique`.\n",
      "  utils.warn_names_duplicates(\"var\")\n",
      "/opt/conda/lib/python3.7/site-packages/anndata/_core/anndata.py:1830: UserWarning: Variable names are not unique. To make them unique, call `.var_names_make_unique`.\n",
      "  utils.warn_names_duplicates(\"var\")\n",
      "/opt/conda/lib/python3.7/site-packages/anndata/_core/anndata.py:1830: UserWarning: Variable names are not unique. To make them unique, call `.var_names_make_unique`.\n",
      "  utils.warn_names_duplicates(\"var\")\n"
     ]
    }
   ],
   "source": [
    "for i in paths: scrubby(i)"
   ]
  },
  {
   "cell_type": "code",
   "execution_count": 9,
   "id": "18dcfe36-799a-4f41-a550-77433f470ba3",
   "metadata": {},
   "outputs": [],
   "source": [
    "# "
   ]
  },
  {
   "cell_type": "code",
   "execution_count": null,
   "id": "0fe15d82-d16e-4f26-b95e-d9f6f361acc2",
   "metadata": {},
   "outputs": [],
   "source": []
  }
 ],
 "metadata": {
  "kernelspec": {
   "display_name": "Python 3 (ipykernel)",
   "language": "python",
   "name": "python3"
  },
  "language_info": {
   "codemirror_mode": {
    "name": "ipython",
    "version": 3
   },
   "file_extension": ".py",
   "mimetype": "text/x-python",
   "name": "python",
   "nbconvert_exporter": "python",
   "pygments_lexer": "ipython3",
   "version": "3.7.12"
  }
 },
 "nbformat": 4,
 "nbformat_minor": 5
}

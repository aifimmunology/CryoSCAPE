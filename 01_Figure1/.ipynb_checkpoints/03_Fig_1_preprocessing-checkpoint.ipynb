{
 "cells": [
  {
   "cell_type": "markdown",
   "id": "2e8947ee-d670-4d8f-8d4f-26294b4e1bc8",
   "metadata": {
    "tags": []
   },
   "source": [
    "\n",
    "# Figure 1 Clustering and ADTs- ResCITE"
   ]
  },
  {
   "cell_type": "markdown",
   "id": "6c2b1393-421e-4157-824b-8d9579cb90b5",
   "metadata": {
    "tags": []
   },
   "source": [
    "## Libraries"
   ]
  },
  {
   "cell_type": "code",
   "execution_count": 18,
   "id": "19166fa5-61f1-4351-a242-6721a31aa87d",
   "metadata": {
    "scrolled": true,
    "tags": []
   },
   "outputs": [
    {
     "data": {
      "text/plain": [
       "R version 4.1.3 (2022-03-10)\n",
       "Platform: x86_64-pc-linux-gnu (64-bit)\n",
       "Running under: Ubuntu 20.04.4 LTS\n",
       "\n",
       "Matrix products: default\n",
       "BLAS:   /usr/lib/x86_64-linux-gnu/openblas-pthread/libblas.so.3\n",
       "LAPACK: /usr/lib/x86_64-linux-gnu/openblas-pthread/liblapack.so.3\n",
       "\n",
       "locale:\n",
       " [1] LC_CTYPE=C.UTF-8       LC_NUMERIC=C           LC_TIME=C.UTF-8       \n",
       " [4] LC_COLLATE=C.UTF-8     LC_MONETARY=C.UTF-8    LC_MESSAGES=C.UTF-8   \n",
       " [7] LC_PAPER=C.UTF-8       LC_NAME=C              LC_ADDRESS=C          \n",
       "[10] LC_TELEPHONE=C         LC_MEASUREMENT=C.UTF-8 LC_IDENTIFICATION=C   \n",
       "\n",
       "attached base packages:\n",
       "[1] stats     graphics  grDevices utils     datasets  methods   base     \n",
       "\n",
       "other attached packages:\n",
       " [1] ggrepel_0.9.5      lubridate_1.9.3    forcats_1.0.0      stringr_1.5.1     \n",
       " [5] purrr_1.0.2        readr_2.1.5        tidyr_1.3.1        tibble_3.2.1      \n",
       " [9] ggplot2_3.4.3      tidyverse_2.0.0    hise_2.15.0        H5weaver_1.2.0    \n",
       "[13] rhdf5_2.38.1       Matrix_1.6-4       data.table_1.14.2  patchwork_1.1.1   \n",
       "[17] Seurat_5.1.0       SeuratObject_5.0.2 sp_2.1-4           dplyr_1.1.4       \n",
       "\n",
       "loaded via a namespace (and not attached):\n",
       "  [1] uuid_1.1-0             spam_2.8-0             plyr_1.8.7            \n",
       "  [4] igraph_1.3.1           repr_1.1.4.9000        lazyeval_0.2.2        \n",
       "  [7] splines_4.1.3          RcppHNSW_0.3.0         listenv_0.8.0         \n",
       " [10] scattermore_1.2        digest_0.6.29          htmltools_0.5.2       \n",
       " [13] fansi_1.0.3            magrittr_2.0.3         tensor_1.5            \n",
       " [16] cluster_2.1.3          ROCR_1.0-11            tzdb_0.4.0            \n",
       " [19] globals_0.14.0         matrixStats_0.62.0     timechange_0.3.0      \n",
       " [22] spatstat.sparse_3.0-3  colorspace_2.0-3       crayon_1.5.1          \n",
       " [25] jsonlite_1.8.8         progressr_0.10.0       spatstat.data_3.0-4   \n",
       " [28] survival_3.3-1         zoo_1.8-10             glue_1.6.2            \n",
       " [31] polyclip_1.10-0        gtable_0.3.0           leiden_0.3.10         \n",
       " [34] Rhdf5lib_1.16.0        future.apply_1.9.0     abind_1.4-5           \n",
       " [37] scales_1.3.0           spatstat.random_3.2-3  miniUI_0.1.1.1        \n",
       " [40] Rcpp_1.0.8.3           viridisLite_0.4.0      xtable_1.8-4          \n",
       " [43] reticulate_1.24        bit_4.0.4              dotCall64_1.0-1       \n",
       " [46] htmlwidgets_1.5.4      httr_1.4.7             RColorBrewer_1.1-3    \n",
       " [49] ellipsis_0.3.2         ica_1.0-2              farver_2.1.0          \n",
       " [52] pkgconfig_2.0.3        uwot_0.1.11            deldir_1.0-6          \n",
       " [55] utf8_1.2.2             tidyselect_1.2.1       labeling_0.4.2        \n",
       " [58] rlang_1.1.3            reshape2_1.4.4         later_1.3.0           \n",
       " [61] munsell_0.5.0          tools_4.1.3            cli_3.6.2             \n",
       " [64] generics_0.1.3         ggridges_0.5.3         evaluate_0.15         \n",
       " [67] fastmap_1.2.0          goftest_1.2-3          bit64_4.0.5           \n",
       " [70] fitdistrplus_1.1-8     RANN_2.6.1             pbapply_1.5-0         \n",
       " [73] future_1.25.0          nlme_3.1-157           mime_0.12             \n",
       " [76] ggrastr_1.0.2          hdf5r_1.3.5            compiler_4.1.3        \n",
       " [79] beeswarm_0.4.0         plotly_4.10.0          png_0.1-7             \n",
       " [82] spatstat.utils_3.0-4   stringi_1.7.6          RSpectra_0.16-1       \n",
       " [85] lattice_0.20-45        IRdisplay_1.1          vctrs_0.6.5           \n",
       " [88] pillar_1.9.0           lifecycle_1.0.4        rhdf5filters_1.6.0    \n",
       " [91] spatstat.geom_3.2-9    lmtest_0.9-40          RcppAnnoy_0.0.19      \n",
       " [94] cowplot_1.1.1          irlba_2.3.5            httpuv_1.6.5          \n",
       " [97] R6_2.5.1               promises_1.2.0.1       KernSmooth_2.23-20    \n",
       "[100] gridExtra_2.3          vipor_0.4.5            parallelly_1.31.1     \n",
       "[103] codetools_0.2-18       fastDummies_1.7.3      MASS_7.3-57           \n",
       "[106] withr_2.5.0            sctransform_0.4.1      parallel_4.1.3        \n",
       "[109] hms_1.1.3              grid_4.1.3             IRkernel_1.3          \n",
       "[112] Cairo_1.5-15           Rtsne_0.16             pbdZMQ_0.3-7          \n",
       "[115] spatstat.explore_3.2-7 shiny_1.7.1            base64enc_0.1-3       \n",
       "[118] ggbeeswarm_0.6.0      "
      ]
     },
     "metadata": {},
     "output_type": "display_data"
    }
   ],
   "source": [
    "sessionInfo()"
   ]
  },
  {
   "cell_type": "code",
   "execution_count": 1,
   "id": "a0101f1c-05a1-416a-ade1-99d1b2a7b827",
   "metadata": {},
   "outputs": [],
   "source": [
    "# install.packages(\"Matrix\", repos=\"http://R-Forge.R-project.org\")\n"
   ]
  },
  {
   "cell_type": "code",
   "execution_count": 2,
   "id": "19d38b56-c18b-4899-9ad2-7e15ca78f887",
   "metadata": {},
   "outputs": [],
   "source": [
    "# install.packages('nloptr')"
   ]
  },
  {
   "cell_type": "code",
   "execution_count": 3,
   "id": "ee0298f1-3fc9-4dbf-96f8-8d94c4edaf5e",
   "metadata": {
    "scrolled": true,
    "tags": []
   },
   "outputs": [],
   "source": [
    "# # devtools::install_github(\"kassambara/ggpubr\")\n",
    "# install.packages(\"ggpubr\")\n"
   ]
  },
  {
   "cell_type": "code",
   "execution_count": 5,
   "id": "78b46e31-59ed-44c4-b381-91d9e5713211",
   "metadata": {},
   "outputs": [],
   "source": [
    "# library(ggpubr)"
   ]
  },
  {
   "cell_type": "code",
   "execution_count": 6,
   "id": "90e7971e-3618-4440-be7f-3bb9dfc7df55",
   "metadata": {},
   "outputs": [],
   "source": [
    "# remotes::install_github(\"satijalab/seurat\", \"seurat5\", quiet = TRUE)"
   ]
  },
  {
   "cell_type": "code",
   "execution_count": 1,
   "id": "bd4d8974-63d9-40a8-b305-665b9aaec69c",
   "metadata": {
    "scrolled": true,
    "tags": []
   },
   "outputs": [
    {
     "name": "stderr",
     "output_type": "stream",
     "text": [
      "\n",
      "Attaching package: ‘dplyr’\n",
      "\n",
      "\n",
      "The following objects are masked from ‘package:stats’:\n",
      "\n",
      "    filter, lag\n",
      "\n",
      "\n",
      "The following objects are masked from ‘package:base’:\n",
      "\n",
      "    intersect, setdiff, setequal, union\n",
      "\n",
      "\n",
      "Loading required package: SeuratObject\n",
      "\n",
      "Loading required package: sp\n",
      "\n",
      "\n",
      "Attaching package: ‘SeuratObject’\n",
      "\n",
      "\n",
      "The following objects are masked from ‘package:base’:\n",
      "\n",
      "    intersect, t\n",
      "\n",
      "\n",
      "Loading required package: data.table\n",
      "\n",
      "\n",
      "Attaching package: ‘data.table’\n",
      "\n",
      "\n",
      "The following objects are masked from ‘package:dplyr’:\n",
      "\n",
      "    between, first, last\n",
      "\n",
      "\n",
      "Loading required package: Matrix\n",
      "\n",
      "Loading required package: rhdf5\n",
      "\n",
      "\n",
      "Attaching package: ‘H5weaver’\n",
      "\n",
      "\n",
      "The following objects are masked from ‘package:rhdf5’:\n",
      "\n",
      "    h5dump, h5ls\n",
      "\n",
      "\n",
      "Warning message in system(\"timedatectl\", intern = TRUE):\n",
      "“running command 'timedatectl' had status 1”\n",
      "── \u001b[1mAttaching core tidyverse packages\u001b[22m ──────────────────────── tidyverse 2.0.0 ──\n",
      "\u001b[32m✔\u001b[39m \u001b[34mforcats  \u001b[39m 1.0.0     \u001b[32m✔\u001b[39m \u001b[34mreadr    \u001b[39m 2.1.5\n",
      "\u001b[32m✔\u001b[39m \u001b[34mggplot2  \u001b[39m 3.4.3     \u001b[32m✔\u001b[39m \u001b[34mstringr  \u001b[39m 1.5.1\n",
      "\u001b[32m✔\u001b[39m \u001b[34mlubridate\u001b[39m 1.9.3     \u001b[32m✔\u001b[39m \u001b[34mtibble   \u001b[39m 3.2.1\n",
      "\u001b[32m✔\u001b[39m \u001b[34mpurrr    \u001b[39m 1.0.2     \u001b[32m✔\u001b[39m \u001b[34mtidyr    \u001b[39m 1.3.1\n",
      "── \u001b[1mConflicts\u001b[22m ────────────────────────────────────────── tidyverse_conflicts() ──\n",
      "\u001b[31m✖\u001b[39m \u001b[34mdata.table\u001b[39m::\u001b[32mbetween()\u001b[39m masks \u001b[34mdplyr\u001b[39m::between()\n",
      "\u001b[31m✖\u001b[39m \u001b[34mtidyr\u001b[39m::\u001b[32mexpand()\u001b[39m       masks \u001b[34mMatrix\u001b[39m::expand()\n",
      "\u001b[31m✖\u001b[39m \u001b[34mdplyr\u001b[39m::\u001b[32mfilter()\u001b[39m       masks \u001b[34mstats\u001b[39m::filter()\n",
      "\u001b[31m✖\u001b[39m \u001b[34mdata.table\u001b[39m::\u001b[32mfirst()\u001b[39m   masks \u001b[34mdplyr\u001b[39m::first()\n",
      "\u001b[31m✖\u001b[39m \u001b[34mlubridate\u001b[39m::\u001b[32mhour()\u001b[39m     masks \u001b[34mdata.table\u001b[39m::hour()\n",
      "\u001b[31m✖\u001b[39m \u001b[34mlubridate\u001b[39m::\u001b[32misoweek()\u001b[39m  masks \u001b[34mdata.table\u001b[39m::isoweek()\n",
      "\u001b[31m✖\u001b[39m \u001b[34mdplyr\u001b[39m::\u001b[32mlag()\u001b[39m          masks \u001b[34mstats\u001b[39m::lag()\n",
      "\u001b[31m✖\u001b[39m \u001b[34mdata.table\u001b[39m::\u001b[32mlast()\u001b[39m    masks \u001b[34mdplyr\u001b[39m::last()\n",
      "\u001b[31m✖\u001b[39m \u001b[34mlubridate\u001b[39m::\u001b[32mmday()\u001b[39m     masks \u001b[34mdata.table\u001b[39m::mday()\n",
      "\u001b[31m✖\u001b[39m \u001b[34mlubridate\u001b[39m::\u001b[32mminute()\u001b[39m   masks \u001b[34mdata.table\u001b[39m::minute()\n",
      "\u001b[31m✖\u001b[39m \u001b[34mlubridate\u001b[39m::\u001b[32mmonth()\u001b[39m    masks \u001b[34mdata.table\u001b[39m::month()\n",
      "\u001b[31m✖\u001b[39m \u001b[34mtidyr\u001b[39m::\u001b[32mpack()\u001b[39m         masks \u001b[34mMatrix\u001b[39m::pack()\n",
      "\u001b[31m✖\u001b[39m \u001b[34mlubridate\u001b[39m::\u001b[32mquarter()\u001b[39m  masks \u001b[34mdata.table\u001b[39m::quarter()\n",
      "\u001b[31m✖\u001b[39m \u001b[34mlubridate\u001b[39m::\u001b[32msecond()\u001b[39m   masks \u001b[34mdata.table\u001b[39m::second()\n",
      "\u001b[31m✖\u001b[39m \u001b[34mpurrr\u001b[39m::\u001b[32mtranspose()\u001b[39m    masks \u001b[34mdata.table\u001b[39m::transpose()\n",
      "\u001b[31m✖\u001b[39m \u001b[34mtidyr\u001b[39m::\u001b[32munpack()\u001b[39m       masks \u001b[34mMatrix\u001b[39m::unpack()\n",
      "\u001b[31m✖\u001b[39m \u001b[34mlubridate\u001b[39m::\u001b[32mwday()\u001b[39m     masks \u001b[34mdata.table\u001b[39m::wday()\n",
      "\u001b[31m✖\u001b[39m \u001b[34mlubridate\u001b[39m::\u001b[32mweek()\u001b[39m     masks \u001b[34mdata.table\u001b[39m::week()\n",
      "\u001b[31m✖\u001b[39m \u001b[34mlubridate\u001b[39m::\u001b[32myday()\u001b[39m     masks \u001b[34mdata.table\u001b[39m::yday()\n",
      "\u001b[31m✖\u001b[39m \u001b[34mlubridate\u001b[39m::\u001b[32myear()\u001b[39m     masks \u001b[34mdata.table\u001b[39m::year()\n",
      "\u001b[36mℹ\u001b[39m Use the conflicted package (\u001b[3m\u001b[34m<http://conflicted.r-lib.org/>\u001b[39m\u001b[23m) to force all conflicts to become errors\n"
     ]
    }
   ],
   "source": [
    "library(dplyr)\n",
    "library(Seurat)\n",
    "library(patchwork)\n",
    "library(H5weaver)\n",
    "library(hise)\n",
    "library(tidyverse)\n",
    "library(SeuratObject)\n",
    "library(SeuratDisk)\n",
    "library(ggrepel)"
   ]
  },
  {
   "cell_type": "markdown",
   "id": "0c3789a1-4230-4d24-b301-2902814fab28",
   "metadata": {
    "tags": []
   },
   "source": [
    "## Reading H5 files"
   ]
  },
  {
   "cell_type": "code",
   "execution_count": 3,
   "id": "3892216c-60be-4fdc-91f9-b649d7641b93",
   "metadata": {},
   "outputs": [
    {
     "data": {
      "text/html": [
       "8"
      ],
      "text/latex": [
       "8"
      ],
      "text/markdown": [
       "8"
      ],
      "text/plain": [
       "[1] 8"
      ]
     },
     "metadata": {},
     "output_type": "display_data"
    },
    {
     "data": {
      "text/html": [
       "<style>\n",
       ".list-inline {list-style: none; margin:0; padding: 0}\n",
       ".list-inline>li {display: inline-block}\n",
       ".list-inline>li:not(:last-child)::after {content: \"\\00b7\"; padding: 0 .5ex}\n",
       "</style>\n",
       "<ol class=list-inline><li>'/home/jupyter/CS15_WHBL/CWB_Paper/01_Final_Data/01_Data/scrublet/BL05111_sample_filtered_feature_bc_matrix.h5'</li><li>'/home/jupyter/CS15_WHBL/CWB_Paper/01_Final_Data/01_Data/scrublet/BL05113_sample_filtered_feature_bc_matrix.h5'</li><li>'/home/jupyter/CS15_WHBL/CWB_Paper/01_Final_Data/01_Data/scrublet/BL05401_sample_filtered_feature_bc_matrix.h5'</li><li>'/home/jupyter/CS15_WHBL/CWB_Paper/01_Final_Data/01_Data/scrublet/BL05402_sample_filtered_feature_bc_matrix.h5'</li><li>'/home/jupyter/CS15_WHBL/CWB_Paper/01_Final_Data/01_Data/scrublet/PB05111_sample_filtered_feature_bc_matrix.h5'</li><li>'/home/jupyter/CS15_WHBL/CWB_Paper/01_Final_Data/01_Data/scrublet/PB05113_sample_filtered_feature_bc_matrix.h5'</li><li>'/home/jupyter/CS15_WHBL/CWB_Paper/01_Final_Data/01_Data/scrublet/PB05401_sample_filtered_feature_bc_matrix.h5'</li><li>'/home/jupyter/CS15_WHBL/CWB_Paper/01_Final_Data/01_Data/scrublet/PB05402_sample_filtered_feature_bc_matrix.h5'</li></ol>\n"
      ],
      "text/latex": [
       "\\begin{enumerate*}\n",
       "\\item '/home/jupyter/CS15\\_WHBL/CWB\\_Paper/01\\_Final\\_Data/01\\_Data/scrublet/BL05111\\_sample\\_filtered\\_feature\\_bc\\_matrix.h5'\n",
       "\\item '/home/jupyter/CS15\\_WHBL/CWB\\_Paper/01\\_Final\\_Data/01\\_Data/scrublet/BL05113\\_sample\\_filtered\\_feature\\_bc\\_matrix.h5'\n",
       "\\item '/home/jupyter/CS15\\_WHBL/CWB\\_Paper/01\\_Final\\_Data/01\\_Data/scrublet/BL05401\\_sample\\_filtered\\_feature\\_bc\\_matrix.h5'\n",
       "\\item '/home/jupyter/CS15\\_WHBL/CWB\\_Paper/01\\_Final\\_Data/01\\_Data/scrublet/BL05402\\_sample\\_filtered\\_feature\\_bc\\_matrix.h5'\n",
       "\\item '/home/jupyter/CS15\\_WHBL/CWB\\_Paper/01\\_Final\\_Data/01\\_Data/scrublet/PB05111\\_sample\\_filtered\\_feature\\_bc\\_matrix.h5'\n",
       "\\item '/home/jupyter/CS15\\_WHBL/CWB\\_Paper/01\\_Final\\_Data/01\\_Data/scrublet/PB05113\\_sample\\_filtered\\_feature\\_bc\\_matrix.h5'\n",
       "\\item '/home/jupyter/CS15\\_WHBL/CWB\\_Paper/01\\_Final\\_Data/01\\_Data/scrublet/PB05401\\_sample\\_filtered\\_feature\\_bc\\_matrix.h5'\n",
       "\\item '/home/jupyter/CS15\\_WHBL/CWB\\_Paper/01\\_Final\\_Data/01\\_Data/scrublet/PB05402\\_sample\\_filtered\\_feature\\_bc\\_matrix.h5'\n",
       "\\end{enumerate*}\n"
      ],
      "text/markdown": [
       "1. '/home/jupyter/CS15_WHBL/CWB_Paper/01_Final_Data/01_Data/scrublet/BL05111_sample_filtered_feature_bc_matrix.h5'\n",
       "2. '/home/jupyter/CS15_WHBL/CWB_Paper/01_Final_Data/01_Data/scrublet/BL05113_sample_filtered_feature_bc_matrix.h5'\n",
       "3. '/home/jupyter/CS15_WHBL/CWB_Paper/01_Final_Data/01_Data/scrublet/BL05401_sample_filtered_feature_bc_matrix.h5'\n",
       "4. '/home/jupyter/CS15_WHBL/CWB_Paper/01_Final_Data/01_Data/scrublet/BL05402_sample_filtered_feature_bc_matrix.h5'\n",
       "5. '/home/jupyter/CS15_WHBL/CWB_Paper/01_Final_Data/01_Data/scrublet/PB05111_sample_filtered_feature_bc_matrix.h5'\n",
       "6. '/home/jupyter/CS15_WHBL/CWB_Paper/01_Final_Data/01_Data/scrublet/PB05113_sample_filtered_feature_bc_matrix.h5'\n",
       "7. '/home/jupyter/CS15_WHBL/CWB_Paper/01_Final_Data/01_Data/scrublet/PB05401_sample_filtered_feature_bc_matrix.h5'\n",
       "8. '/home/jupyter/CS15_WHBL/CWB_Paper/01_Final_Data/01_Data/scrublet/PB05402_sample_filtered_feature_bc_matrix.h5'\n",
       "\n",
       "\n"
      ],
      "text/plain": [
       "[1] \"/home/jupyter/CS15_WHBL/CWB_Paper/01_Final_Data/01_Data/scrublet/BL05111_sample_filtered_feature_bc_matrix.h5\"\n",
       "[2] \"/home/jupyter/CS15_WHBL/CWB_Paper/01_Final_Data/01_Data/scrublet/BL05113_sample_filtered_feature_bc_matrix.h5\"\n",
       "[3] \"/home/jupyter/CS15_WHBL/CWB_Paper/01_Final_Data/01_Data/scrublet/BL05401_sample_filtered_feature_bc_matrix.h5\"\n",
       "[4] \"/home/jupyter/CS15_WHBL/CWB_Paper/01_Final_Data/01_Data/scrublet/BL05402_sample_filtered_feature_bc_matrix.h5\"\n",
       "[5] \"/home/jupyter/CS15_WHBL/CWB_Paper/01_Final_Data/01_Data/scrublet/PB05111_sample_filtered_feature_bc_matrix.h5\"\n",
       "[6] \"/home/jupyter/CS15_WHBL/CWB_Paper/01_Final_Data/01_Data/scrublet/PB05113_sample_filtered_feature_bc_matrix.h5\"\n",
       "[7] \"/home/jupyter/CS15_WHBL/CWB_Paper/01_Final_Data/01_Data/scrublet/PB05401_sample_filtered_feature_bc_matrix.h5\"\n",
       "[8] \"/home/jupyter/CS15_WHBL/CWB_Paper/01_Final_Data/01_Data/scrublet/PB05402_sample_filtered_feature_bc_matrix.h5\""
      ]
     },
     "metadata": {},
     "output_type": "display_data"
    }
   ],
   "source": [
    "# This Little Script walks thru your directories starting in that associated with 'path'\n",
    "# adds the path to a list for future reading into Seurat Objects\n",
    "\n",
    "h5s <- list.files(\n",
    "    # Place your analysis in a folder by number experiment, or whatever might work for you\n",
    "    # It helps if this worksheet in in the same folder\n",
    "    path = '/home/jupyter/CS15_WHBL/CWB_Paper/01_Final_Data/01_Data/scrublet', # fill out the path variable here to point toward whatever directory you have your h5 files in\n",
    "    pattern = 'filtered_feature_bc_matrix.h5$', # change this to 'sample_raw_feature_bc_matrix.h5$' if you need the raw h5s\n",
    "    full.names = TRUE, \n",
    "    recursive = TRUE\n",
    ")\n",
    "\n",
    "length(h5s)\n",
    "h5s"
   ]
  },
  {
   "cell_type": "code",
   "execution_count": 4,
   "id": "4b89857c-98f2-444f-acb8-d23d2eb70b67",
   "metadata": {},
   "outputs": [],
   "source": [
    "x <- h5s[[1]]\n",
    "x <- strsplit(x,'/')[[1]][9]"
   ]
  },
  {
   "cell_type": "code",
   "execution_count": 5,
   "id": "5edadac9-13bc-427a-9b74-f8ee35b42e36",
   "metadata": {},
   "outputs": [
    {
     "data": {
      "text/html": [
       "'BL'"
      ],
      "text/latex": [
       "'BL'"
      ],
      "text/markdown": [
       "'BL'"
      ],
      "text/plain": [
       "[1] \"BL\""
      ]
     },
     "metadata": {},
     "output_type": "display_data"
    }
   ],
   "source": [
    "substr(x, 0,2)"
   ]
  },
  {
   "cell_type": "code",
   "execution_count": 6,
   "id": "fb938386-9712-44c4-ab79-e210f3b52b85",
   "metadata": {
    "scrolled": true,
    "tags": []
   },
   "outputs": [
    {
     "name": "stderr",
     "output_type": "stream",
     "text": [
      "Genome matrix has multiple modalities, returning a list of matrices for this genome\n",
      "\n",
      "Warning message:\n",
      "“Feature names cannot have underscores ('_'), replacing with dashes ('-')”\n",
      "Warning message:\n",
      "“Feature names cannot have underscores ('_'), replacing with dashes ('-')”\n",
      "Genome matrix has multiple modalities, returning a list of matrices for this genome\n",
      "\n",
      "Warning message:\n",
      "“Feature names cannot have underscores ('_'), replacing with dashes ('-')”\n",
      "Warning message:\n",
      "“Feature names cannot have underscores ('_'), replacing with dashes ('-')”\n",
      "Genome matrix has multiple modalities, returning a list of matrices for this genome\n",
      "\n",
      "Warning message:\n",
      "“Feature names cannot have underscores ('_'), replacing with dashes ('-')”\n",
      "Warning message:\n",
      "“Feature names cannot have underscores ('_'), replacing with dashes ('-')”\n",
      "Genome matrix has multiple modalities, returning a list of matrices for this genome\n",
      "\n",
      "Warning message:\n",
      "“Feature names cannot have underscores ('_'), replacing with dashes ('-')”\n",
      "Warning message:\n",
      "“Feature names cannot have underscores ('_'), replacing with dashes ('-')”\n",
      "Genome matrix has multiple modalities, returning a list of matrices for this genome\n",
      "\n",
      "Warning message:\n",
      "“Feature names cannot have underscores ('_'), replacing with dashes ('-')”\n",
      "Warning message:\n",
      "“Feature names cannot have underscores ('_'), replacing with dashes ('-')”\n",
      "Genome matrix has multiple modalities, returning a list of matrices for this genome\n",
      "\n",
      "Warning message:\n",
      "“Feature names cannot have underscores ('_'), replacing with dashes ('-')”\n",
      "Warning message:\n",
      "“Feature names cannot have underscores ('_'), replacing with dashes ('-')”\n",
      "Genome matrix has multiple modalities, returning a list of matrices for this genome\n",
      "\n",
      "Warning message:\n",
      "“Feature names cannot have underscores ('_'), replacing with dashes ('-')”\n",
      "Warning message:\n",
      "“Feature names cannot have underscores ('_'), replacing with dashes ('-')”\n",
      "Genome matrix has multiple modalities, returning a list of matrices for this genome\n",
      "\n",
      "Warning message:\n",
      "“Feature names cannot have underscores ('_'), replacing with dashes ('-')”\n",
      "Warning message:\n",
      "“Feature names cannot have underscores ('_'), replacing with dashes ('-')”\n"
     ]
    }
   ],
   "source": [
    "fully <- lapply(h5s, function(x){\n",
    "\n",
    "    mtx <- Read10X_h5(x) # reading the matrix\n",
    "    \n",
    "    so <- CreateSeuratObject(mtx$`Gene Expression`)\n",
    "    \n",
    "    so[['ADT']] <- CreateAssayObject(mtx$`Antibody Capture`)\n",
    "    \n",
    "    so$orig.ident <- strsplit(x,'/')[[1]][9]\n",
    "    so$orig.ident <- strsplit(so$orig.ident,'_')[[1]][1]\n",
    "    so$type <- substr(so$orig.ident,0,2)\n",
    "\n",
    "    return(so) \n",
    "    })"
   ]
  },
  {
   "cell_type": "code",
   "execution_count": 7,
   "id": "51b8bea8-6003-419b-a77e-f9e58cb217f4",
   "metadata": {
    "scrolled": true,
    "tags": []
   },
   "outputs": [
    {
     "data": {
      "text/plain": [
       "[[1]]\n",
       "An object of class Seurat \n",
       "18222 features across 7790 samples within 2 assays \n",
       "Active assay: RNA (18082 features, 0 variable features)\n",
       " 1 layer present: counts\n",
       " 1 other assay present: ADT\n",
       "\n",
       "[[2]]\n",
       "An object of class Seurat \n",
       "18222 features across 8639 samples within 2 assays \n",
       "Active assay: RNA (18082 features, 0 variable features)\n",
       " 1 layer present: counts\n",
       " 1 other assay present: ADT\n",
       "\n",
       "[[3]]\n",
       "An object of class Seurat \n",
       "18222 features across 9328 samples within 2 assays \n",
       "Active assay: RNA (18082 features, 0 variable features)\n",
       " 1 layer present: counts\n",
       " 1 other assay present: ADT\n",
       "\n",
       "[[4]]\n",
       "An object of class Seurat \n",
       "18222 features across 8024 samples within 2 assays \n",
       "Active assay: RNA (18082 features, 0 variable features)\n",
       " 1 layer present: counts\n",
       " 1 other assay present: ADT\n",
       "\n",
       "[[5]]\n",
       "An object of class Seurat \n",
       "18222 features across 5683 samples within 2 assays \n",
       "Active assay: RNA (18082 features, 0 variable features)\n",
       " 1 layer present: counts\n",
       " 1 other assay present: ADT\n",
       "\n",
       "[[6]]\n",
       "An object of class Seurat \n",
       "18222 features across 8788 samples within 2 assays \n",
       "Active assay: RNA (18082 features, 0 variable features)\n",
       " 1 layer present: counts\n",
       " 1 other assay present: ADT\n",
       "\n",
       "[[7]]\n",
       "An object of class Seurat \n",
       "18222 features across 7548 samples within 2 assays \n",
       "Active assay: RNA (18082 features, 0 variable features)\n",
       " 1 layer present: counts\n",
       " 1 other assay present: ADT\n",
       "\n",
       "[[8]]\n",
       "An object of class Seurat \n",
       "18222 features across 8186 samples within 2 assays \n",
       "Active assay: RNA (18082 features, 0 variable features)\n",
       " 1 layer present: counts\n",
       " 1 other assay present: ADT\n"
      ]
     },
     "metadata": {},
     "output_type": "display_data"
    }
   ],
   "source": [
    "fully"
   ]
  },
  {
   "cell_type": "code",
   "execution_count": 8,
   "id": "7727040d-7868-4866-96f2-9dc319b535ab",
   "metadata": {},
   "outputs": [
    {
     "data": {
      "text/html": [
       "8"
      ],
      "text/latex": [
       "8"
      ],
      "text/markdown": [
       "8"
      ],
      "text/plain": [
       "[1] 8"
      ]
     },
     "metadata": {},
     "output_type": "display_data"
    },
    {
     "data": {
      "text/html": [
       "<style>\n",
       ".list-inline {list-style: none; margin:0; padding: 0}\n",
       ".list-inline>li {display: inline-block}\n",
       ".list-inline>li:not(:last-child)::after {content: \"\\00b7\"; padding: 0 .5ex}\n",
       "</style>\n",
       "<ol class=list-inline><li>'/home/jupyter/CS15_WHBL/CWB_Paper/01_Final_Data/01_Data/scrublet/BL05111_2.csv'</li><li>'/home/jupyter/CS15_WHBL/CWB_Paper/01_Final_Data/01_Data/scrublet/BL05113_2.csv'</li><li>'/home/jupyter/CS15_WHBL/CWB_Paper/01_Final_Data/01_Data/scrublet/BL05401_2.csv'</li><li>'/home/jupyter/CS15_WHBL/CWB_Paper/01_Final_Data/01_Data/scrublet/BL05402_2.csv'</li><li>'/home/jupyter/CS15_WHBL/CWB_Paper/01_Final_Data/01_Data/scrublet/PB05111_2.csv'</li><li>'/home/jupyter/CS15_WHBL/CWB_Paper/01_Final_Data/01_Data/scrublet/PB05113_2.csv'</li><li>'/home/jupyter/CS15_WHBL/CWB_Paper/01_Final_Data/01_Data/scrublet/PB05401_2.csv'</li><li>'/home/jupyter/CS15_WHBL/CWB_Paper/01_Final_Data/01_Data/scrublet/PB05402_2.csv'</li></ol>\n"
      ],
      "text/latex": [
       "\\begin{enumerate*}\n",
       "\\item '/home/jupyter/CS15\\_WHBL/CWB\\_Paper/01\\_Final\\_Data/01\\_Data/scrublet/BL05111\\_2.csv'\n",
       "\\item '/home/jupyter/CS15\\_WHBL/CWB\\_Paper/01\\_Final\\_Data/01\\_Data/scrublet/BL05113\\_2.csv'\n",
       "\\item '/home/jupyter/CS15\\_WHBL/CWB\\_Paper/01\\_Final\\_Data/01\\_Data/scrublet/BL05401\\_2.csv'\n",
       "\\item '/home/jupyter/CS15\\_WHBL/CWB\\_Paper/01\\_Final\\_Data/01\\_Data/scrublet/BL05402\\_2.csv'\n",
       "\\item '/home/jupyter/CS15\\_WHBL/CWB\\_Paper/01\\_Final\\_Data/01\\_Data/scrublet/PB05111\\_2.csv'\n",
       "\\item '/home/jupyter/CS15\\_WHBL/CWB\\_Paper/01\\_Final\\_Data/01\\_Data/scrublet/PB05113\\_2.csv'\n",
       "\\item '/home/jupyter/CS15\\_WHBL/CWB\\_Paper/01\\_Final\\_Data/01\\_Data/scrublet/PB05401\\_2.csv'\n",
       "\\item '/home/jupyter/CS15\\_WHBL/CWB\\_Paper/01\\_Final\\_Data/01\\_Data/scrublet/PB05402\\_2.csv'\n",
       "\\end{enumerate*}\n"
      ],
      "text/markdown": [
       "1. '/home/jupyter/CS15_WHBL/CWB_Paper/01_Final_Data/01_Data/scrublet/BL05111_2.csv'\n",
       "2. '/home/jupyter/CS15_WHBL/CWB_Paper/01_Final_Data/01_Data/scrublet/BL05113_2.csv'\n",
       "3. '/home/jupyter/CS15_WHBL/CWB_Paper/01_Final_Data/01_Data/scrublet/BL05401_2.csv'\n",
       "4. '/home/jupyter/CS15_WHBL/CWB_Paper/01_Final_Data/01_Data/scrublet/BL05402_2.csv'\n",
       "5. '/home/jupyter/CS15_WHBL/CWB_Paper/01_Final_Data/01_Data/scrublet/PB05111_2.csv'\n",
       "6. '/home/jupyter/CS15_WHBL/CWB_Paper/01_Final_Data/01_Data/scrublet/PB05113_2.csv'\n",
       "7. '/home/jupyter/CS15_WHBL/CWB_Paper/01_Final_Data/01_Data/scrublet/PB05401_2.csv'\n",
       "8. '/home/jupyter/CS15_WHBL/CWB_Paper/01_Final_Data/01_Data/scrublet/PB05402_2.csv'\n",
       "\n",
       "\n"
      ],
      "text/plain": [
       "[1] \"/home/jupyter/CS15_WHBL/CWB_Paper/01_Final_Data/01_Data/scrublet/BL05111_2.csv\"\n",
       "[2] \"/home/jupyter/CS15_WHBL/CWB_Paper/01_Final_Data/01_Data/scrublet/BL05113_2.csv\"\n",
       "[3] \"/home/jupyter/CS15_WHBL/CWB_Paper/01_Final_Data/01_Data/scrublet/BL05401_2.csv\"\n",
       "[4] \"/home/jupyter/CS15_WHBL/CWB_Paper/01_Final_Data/01_Data/scrublet/BL05402_2.csv\"\n",
       "[5] \"/home/jupyter/CS15_WHBL/CWB_Paper/01_Final_Data/01_Data/scrublet/PB05111_2.csv\"\n",
       "[6] \"/home/jupyter/CS15_WHBL/CWB_Paper/01_Final_Data/01_Data/scrublet/PB05113_2.csv\"\n",
       "[7] \"/home/jupyter/CS15_WHBL/CWB_Paper/01_Final_Data/01_Data/scrublet/PB05401_2.csv\"\n",
       "[8] \"/home/jupyter/CS15_WHBL/CWB_Paper/01_Final_Data/01_Data/scrublet/PB05402_2.csv\""
      ]
     },
     "metadata": {},
     "output_type": "display_data"
    }
   ],
   "source": [
    "scrub <- list.files(\n",
    "    # Place your analysis in a folder by number experiment, or whatever might work for you\n",
    "    # It helps if this worksheet in in the same folder\n",
    "    path = '/home/jupyter/CS15_WHBL/CWB_Paper/01_Final_Data/01_Data/scrublet',\n",
    "    pattern = '.csv$', # change this to 'sample_raw_feature_bc_matrix.h5$' if you need the raw h5s\n",
    "    full.names = TRUE, \n",
    "    recursive = TRUE\n",
    ")\n",
    "\n",
    "length(scrub)\n",
    "scrub"
   ]
  },
  {
   "cell_type": "code",
   "execution_count": 9,
   "id": "838b1ddb-994a-4cee-b667-4704311e72d8",
   "metadata": {},
   "outputs": [],
   "source": [
    "scrubs <- lapply(scrub,read.csv)\n",
    "\n",
    "scrubs <- scrubs %>% lapply(function(x){\n",
    "    rownames(x) <- x$X\n",
    "    x$X <- NULL\n",
    "    x$Barcodes <- rownames(x)\n",
    "    return(x)\n",
    "})"
   ]
  },
  {
   "cell_type": "code",
   "execution_count": 11,
   "id": "3659dc0d-fe5e-4a8b-9a5a-cf7acb1b26ef",
   "metadata": {},
   "outputs": [],
   "source": [
    "for (i in c(1:8)){\n",
    "    \n",
    "    fully[[i]][[]]$Barcodes <- rownames(scrubs[[i]])\n",
    "    \n",
    "    fully[[i]][[]] <- left_join(fully[[i]][[]], scrubs[[i]], by = 'Barcodes') # , by='row.names', all=TRUE\n",
    "}"
   ]
  },
  {
   "cell_type": "code",
   "execution_count": 12,
   "id": "5548cfc6-fce7-4b5b-b1fa-2f6baf37e266",
   "metadata": {},
   "outputs": [
    {
     "data": {
      "text/html": [
       "<table class=\"dataframe\">\n",
       "<caption>A data.frame: 10 × 9</caption>\n",
       "<thead>\n",
       "\t<tr><th></th><th scope=col>orig.ident</th><th scope=col>nCount_RNA</th><th scope=col>nFeature_RNA</th><th scope=col>nCount_ADT</th><th scope=col>nFeature_ADT</th><th scope=col>type</th><th scope=col>Barcodes</th><th scope=col>Doublet_Score</th><th scope=col>Predicted_Doublet</th></tr>\n",
       "\t<tr><th></th><th scope=col>&lt;chr&gt;</th><th scope=col>&lt;dbl&gt;</th><th scope=col>&lt;int&gt;</th><th scope=col>&lt;dbl&gt;</th><th scope=col>&lt;int&gt;</th><th scope=col>&lt;chr&gt;</th><th scope=col>&lt;chr&gt;</th><th scope=col>&lt;dbl&gt;</th><th scope=col>&lt;chr&gt;</th></tr>\n",
       "</thead>\n",
       "<tbody>\n",
       "\t<tr><th scope=row>AAACAAGCAATTGAACACTTTAGG-1</th><td>BL05111</td><td>13302</td><td>4388</td><td> 13535</td><td>127</td><td>BL</td><td>AAACAAGCAATTGAACACTTTAGG-1</td><td>0.03723764</td><td>False</td></tr>\n",
       "\t<tr><th scope=row>AAACAAGCACAAATACACTTTAGG-1</th><td>BL05111</td><td> 6375</td><td>3124</td><td> 10241</td><td>125</td><td>BL</td><td>AAACAAGCACAAATACACTTTAGG-1</td><td>0.08790072</td><td>False</td></tr>\n",
       "\t<tr><th scope=row>AAACAAGCATACTTCAACTTTAGG-1</th><td>BL05111</td><td>  625</td><td> 431</td><td>144311</td><td>130</td><td>BL</td><td>AAACAAGCATACTTCAACTTTAGG-1</td><td>0.01258178</td><td>False</td></tr>\n",
       "\t<tr><th scope=row>AAACCAATCACTATGTACTTTAGG-1</th><td>BL05111</td><td> 6118</td><td>3041</td><td> 17478</td><td>129</td><td>BL</td><td>AAACCAATCACTATGTACTTTAGG-1</td><td>0.09899889</td><td>False</td></tr>\n",
       "\t<tr><th scope=row>AAACCAATCATGAGGTACTTTAGG-1</th><td>BL05111</td><td>22733</td><td>5900</td><td> 14822</td><td>128</td><td>BL</td><td>AAACCAATCATGAGGTACTTTAGG-1</td><td>0.03723764</td><td>False</td></tr>\n",
       "\t<tr><th scope=row>AAACCAATCCATCCAAACTTTAGG-1</th><td>BL05111</td><td>14844</td><td>5011</td><td> 20066</td><td>129</td><td>BL</td><td>AAACCAATCCATCCAAACTTTAGG-1</td><td>0.70810811</td><td>True </td></tr>\n",
       "\t<tr><th scope=row>AAACCAATCCGCTATAACTTTAGG-1</th><td>BL05111</td><td> 9181</td><td>3722</td><td> 12917</td><td>124</td><td>BL</td><td>AAACCAATCCGCTATAACTTTAGG-1</td><td>0.09052632</td><td>False</td></tr>\n",
       "\t<tr><th scope=row>AAACCAATCTGTGACCACTTTAGG-1</th><td>BL05111</td><td> 7964</td><td>3618</td><td> 19663</td><td>128</td><td>BL</td><td>AAACCAATCTGTGACCACTTTAGG-1</td><td>0.03614458</td><td>False</td></tr>\n",
       "\t<tr><th scope=row>AAACCAGGTGACATTCACTTTAGG-1</th><td>BL05111</td><td> 8798</td><td>3849</td><td> 10989</td><td>125</td><td>BL</td><td>AAACCAGGTGACATTCACTTTAGG-1</td><td>0.03507611</td><td>False</td></tr>\n",
       "\t<tr><th scope=row>AAACCAGGTTAATCCAACTTTAGG-1</th><td>BL05111</td><td>21839</td><td>5801</td><td> 24861</td><td>129</td><td>BL</td><td>AAACCAGGTTAATCCAACTTTAGG-1</td><td>0.58904110</td><td>True </td></tr>\n",
       "</tbody>\n",
       "</table>\n"
      ],
      "text/latex": [
       "A data.frame: 10 × 9\n",
       "\\begin{tabular}{r|lllllllll}\n",
       "  & orig.ident & nCount\\_RNA & nFeature\\_RNA & nCount\\_ADT & nFeature\\_ADT & type & Barcodes & Doublet\\_Score & Predicted\\_Doublet\\\\\n",
       "  & <chr> & <dbl> & <int> & <dbl> & <int> & <chr> & <chr> & <dbl> & <chr>\\\\\n",
       "\\hline\n",
       "\tAAACAAGCAATTGAACACTTTAGG-1 & BL05111 & 13302 & 4388 &  13535 & 127 & BL & AAACAAGCAATTGAACACTTTAGG-1 & 0.03723764 & False\\\\\n",
       "\tAAACAAGCACAAATACACTTTAGG-1 & BL05111 &  6375 & 3124 &  10241 & 125 & BL & AAACAAGCACAAATACACTTTAGG-1 & 0.08790072 & False\\\\\n",
       "\tAAACAAGCATACTTCAACTTTAGG-1 & BL05111 &   625 &  431 & 144311 & 130 & BL & AAACAAGCATACTTCAACTTTAGG-1 & 0.01258178 & False\\\\\n",
       "\tAAACCAATCACTATGTACTTTAGG-1 & BL05111 &  6118 & 3041 &  17478 & 129 & BL & AAACCAATCACTATGTACTTTAGG-1 & 0.09899889 & False\\\\\n",
       "\tAAACCAATCATGAGGTACTTTAGG-1 & BL05111 & 22733 & 5900 &  14822 & 128 & BL & AAACCAATCATGAGGTACTTTAGG-1 & 0.03723764 & False\\\\\n",
       "\tAAACCAATCCATCCAAACTTTAGG-1 & BL05111 & 14844 & 5011 &  20066 & 129 & BL & AAACCAATCCATCCAAACTTTAGG-1 & 0.70810811 & True \\\\\n",
       "\tAAACCAATCCGCTATAACTTTAGG-1 & BL05111 &  9181 & 3722 &  12917 & 124 & BL & AAACCAATCCGCTATAACTTTAGG-1 & 0.09052632 & False\\\\\n",
       "\tAAACCAATCTGTGACCACTTTAGG-1 & BL05111 &  7964 & 3618 &  19663 & 128 & BL & AAACCAATCTGTGACCACTTTAGG-1 & 0.03614458 & False\\\\\n",
       "\tAAACCAGGTGACATTCACTTTAGG-1 & BL05111 &  8798 & 3849 &  10989 & 125 & BL & AAACCAGGTGACATTCACTTTAGG-1 & 0.03507611 & False\\\\\n",
       "\tAAACCAGGTTAATCCAACTTTAGG-1 & BL05111 & 21839 & 5801 &  24861 & 129 & BL & AAACCAGGTTAATCCAACTTTAGG-1 & 0.58904110 & True \\\\\n",
       "\\end{tabular}\n"
      ],
      "text/markdown": [
       "\n",
       "A data.frame: 10 × 9\n",
       "\n",
       "| <!--/--> | orig.ident &lt;chr&gt; | nCount_RNA &lt;dbl&gt; | nFeature_RNA &lt;int&gt; | nCount_ADT &lt;dbl&gt; | nFeature_ADT &lt;int&gt; | type &lt;chr&gt; | Barcodes &lt;chr&gt; | Doublet_Score &lt;dbl&gt; | Predicted_Doublet &lt;chr&gt; |\n",
       "|---|---|---|---|---|---|---|---|---|---|\n",
       "| AAACAAGCAATTGAACACTTTAGG-1 | BL05111 | 13302 | 4388 |  13535 | 127 | BL | AAACAAGCAATTGAACACTTTAGG-1 | 0.03723764 | False |\n",
       "| AAACAAGCACAAATACACTTTAGG-1 | BL05111 |  6375 | 3124 |  10241 | 125 | BL | AAACAAGCACAAATACACTTTAGG-1 | 0.08790072 | False |\n",
       "| AAACAAGCATACTTCAACTTTAGG-1 | BL05111 |   625 |  431 | 144311 | 130 | BL | AAACAAGCATACTTCAACTTTAGG-1 | 0.01258178 | False |\n",
       "| AAACCAATCACTATGTACTTTAGG-1 | BL05111 |  6118 | 3041 |  17478 | 129 | BL | AAACCAATCACTATGTACTTTAGG-1 | 0.09899889 | False |\n",
       "| AAACCAATCATGAGGTACTTTAGG-1 | BL05111 | 22733 | 5900 |  14822 | 128 | BL | AAACCAATCATGAGGTACTTTAGG-1 | 0.03723764 | False |\n",
       "| AAACCAATCCATCCAAACTTTAGG-1 | BL05111 | 14844 | 5011 |  20066 | 129 | BL | AAACCAATCCATCCAAACTTTAGG-1 | 0.70810811 | True  |\n",
       "| AAACCAATCCGCTATAACTTTAGG-1 | BL05111 |  9181 | 3722 |  12917 | 124 | BL | AAACCAATCCGCTATAACTTTAGG-1 | 0.09052632 | False |\n",
       "| AAACCAATCTGTGACCACTTTAGG-1 | BL05111 |  7964 | 3618 |  19663 | 128 | BL | AAACCAATCTGTGACCACTTTAGG-1 | 0.03614458 | False |\n",
       "| AAACCAGGTGACATTCACTTTAGG-1 | BL05111 |  8798 | 3849 |  10989 | 125 | BL | AAACCAGGTGACATTCACTTTAGG-1 | 0.03507611 | False |\n",
       "| AAACCAGGTTAATCCAACTTTAGG-1 | BL05111 | 21839 | 5801 |  24861 | 129 | BL | AAACCAGGTTAATCCAACTTTAGG-1 | 0.58904110 | True  |\n",
       "\n"
      ],
      "text/plain": [
       "                           orig.ident nCount_RNA nFeature_RNA nCount_ADT\n",
       "AAACAAGCAATTGAACACTTTAGG-1 BL05111    13302      4388          13535    \n",
       "AAACAAGCACAAATACACTTTAGG-1 BL05111     6375      3124          10241    \n",
       "AAACAAGCATACTTCAACTTTAGG-1 BL05111      625       431         144311    \n",
       "AAACCAATCACTATGTACTTTAGG-1 BL05111     6118      3041          17478    \n",
       "AAACCAATCATGAGGTACTTTAGG-1 BL05111    22733      5900          14822    \n",
       "AAACCAATCCATCCAAACTTTAGG-1 BL05111    14844      5011          20066    \n",
       "AAACCAATCCGCTATAACTTTAGG-1 BL05111     9181      3722          12917    \n",
       "AAACCAATCTGTGACCACTTTAGG-1 BL05111     7964      3618          19663    \n",
       "AAACCAGGTGACATTCACTTTAGG-1 BL05111     8798      3849          10989    \n",
       "AAACCAGGTTAATCCAACTTTAGG-1 BL05111    21839      5801          24861    \n",
       "                           nFeature_ADT type Barcodes                  \n",
       "AAACAAGCAATTGAACACTTTAGG-1 127          BL   AAACAAGCAATTGAACACTTTAGG-1\n",
       "AAACAAGCACAAATACACTTTAGG-1 125          BL   AAACAAGCACAAATACACTTTAGG-1\n",
       "AAACAAGCATACTTCAACTTTAGG-1 130          BL   AAACAAGCATACTTCAACTTTAGG-1\n",
       "AAACCAATCACTATGTACTTTAGG-1 129          BL   AAACCAATCACTATGTACTTTAGG-1\n",
       "AAACCAATCATGAGGTACTTTAGG-1 128          BL   AAACCAATCATGAGGTACTTTAGG-1\n",
       "AAACCAATCCATCCAAACTTTAGG-1 129          BL   AAACCAATCCATCCAAACTTTAGG-1\n",
       "AAACCAATCCGCTATAACTTTAGG-1 124          BL   AAACCAATCCGCTATAACTTTAGG-1\n",
       "AAACCAATCTGTGACCACTTTAGG-1 128          BL   AAACCAATCTGTGACCACTTTAGG-1\n",
       "AAACCAGGTGACATTCACTTTAGG-1 125          BL   AAACCAGGTGACATTCACTTTAGG-1\n",
       "AAACCAGGTTAATCCAACTTTAGG-1 129          BL   AAACCAGGTTAATCCAACTTTAGG-1\n",
       "                           Doublet_Score Predicted_Doublet\n",
       "AAACAAGCAATTGAACACTTTAGG-1 0.03723764    False            \n",
       "AAACAAGCACAAATACACTTTAGG-1 0.08790072    False            \n",
       "AAACAAGCATACTTCAACTTTAGG-1 0.01258178    False            \n",
       "AAACCAATCACTATGTACTTTAGG-1 0.09899889    False            \n",
       "AAACCAATCATGAGGTACTTTAGG-1 0.03723764    False            \n",
       "AAACCAATCCATCCAAACTTTAGG-1 0.70810811    True             \n",
       "AAACCAATCCGCTATAACTTTAGG-1 0.09052632    False            \n",
       "AAACCAATCTGTGACCACTTTAGG-1 0.03614458    False            \n",
       "AAACCAGGTGACATTCACTTTAGG-1 0.03507611    False            \n",
       "AAACCAGGTTAATCCAACTTTAGG-1 0.58904110    True             "
      ]
     },
     "metadata": {},
     "output_type": "display_data"
    }
   ],
   "source": [
    "head(fully[[1]])"
   ]
  },
  {
   "cell_type": "code",
   "execution_count": 13,
   "id": "1897dc57-3ca4-457d-a000-b5b18a59034b",
   "metadata": {},
   "outputs": [
    {
     "data": {
      "text/html": [
       "<table class=\"dataframe\">\n",
       "<caption>A data.frame: 10 × 9</caption>\n",
       "<thead>\n",
       "\t<tr><th></th><th scope=col>orig.ident</th><th scope=col>nCount_RNA</th><th scope=col>nFeature_RNA</th><th scope=col>nCount_ADT</th><th scope=col>nFeature_ADT</th><th scope=col>type</th><th scope=col>Barcodes</th><th scope=col>Doublet_Score</th><th scope=col>Predicted_Doublet</th></tr>\n",
       "\t<tr><th></th><th scope=col>&lt;chr&gt;</th><th scope=col>&lt;dbl&gt;</th><th scope=col>&lt;int&gt;</th><th scope=col>&lt;dbl&gt;</th><th scope=col>&lt;int&gt;</th><th scope=col>&lt;chr&gt;</th><th scope=col>&lt;chr&gt;</th><th scope=col>&lt;dbl&gt;</th><th scope=col>&lt;chr&gt;</th></tr>\n",
       "</thead>\n",
       "<tbody>\n",
       "\t<tr><th scope=row>AAACAAGCAATTGAACACTTTAGG-1</th><td>BL05111</td><td>13302</td><td>4388</td><td> 13535</td><td>127</td><td>BL</td><td>AAACAAGCAATTGAACACTTTAGG-1</td><td>0.03723764</td><td>False</td></tr>\n",
       "\t<tr><th scope=row>AAACAAGCACAAATACACTTTAGG-1</th><td>BL05111</td><td> 6375</td><td>3124</td><td> 10241</td><td>125</td><td>BL</td><td>AAACAAGCACAAATACACTTTAGG-1</td><td>0.08790072</td><td>False</td></tr>\n",
       "\t<tr><th scope=row>AAACAAGCATACTTCAACTTTAGG-1</th><td>BL05111</td><td>  625</td><td> 431</td><td>144311</td><td>130</td><td>BL</td><td>AAACAAGCATACTTCAACTTTAGG-1</td><td>0.01258178</td><td>False</td></tr>\n",
       "\t<tr><th scope=row>AAACCAATCACTATGTACTTTAGG-1</th><td>BL05111</td><td> 6118</td><td>3041</td><td> 17478</td><td>129</td><td>BL</td><td>AAACCAATCACTATGTACTTTAGG-1</td><td>0.09899889</td><td>False</td></tr>\n",
       "\t<tr><th scope=row>AAACCAATCATGAGGTACTTTAGG-1</th><td>BL05111</td><td>22733</td><td>5900</td><td> 14822</td><td>128</td><td>BL</td><td>AAACCAATCATGAGGTACTTTAGG-1</td><td>0.03723764</td><td>False</td></tr>\n",
       "\t<tr><th scope=row>AAACCAATCCATCCAAACTTTAGG-1</th><td>BL05111</td><td>14844</td><td>5011</td><td> 20066</td><td>129</td><td>BL</td><td>AAACCAATCCATCCAAACTTTAGG-1</td><td>0.70810811</td><td>True </td></tr>\n",
       "\t<tr><th scope=row>AAACCAATCCGCTATAACTTTAGG-1</th><td>BL05111</td><td> 9181</td><td>3722</td><td> 12917</td><td>124</td><td>BL</td><td>AAACCAATCCGCTATAACTTTAGG-1</td><td>0.09052632</td><td>False</td></tr>\n",
       "\t<tr><th scope=row>AAACCAATCTGTGACCACTTTAGG-1</th><td>BL05111</td><td> 7964</td><td>3618</td><td> 19663</td><td>128</td><td>BL</td><td>AAACCAATCTGTGACCACTTTAGG-1</td><td>0.03614458</td><td>False</td></tr>\n",
       "\t<tr><th scope=row>AAACCAGGTGACATTCACTTTAGG-1</th><td>BL05111</td><td> 8798</td><td>3849</td><td> 10989</td><td>125</td><td>BL</td><td>AAACCAGGTGACATTCACTTTAGG-1</td><td>0.03507611</td><td>False</td></tr>\n",
       "\t<tr><th scope=row>AAACCAGGTTAATCCAACTTTAGG-1</th><td>BL05111</td><td>21839</td><td>5801</td><td> 24861</td><td>129</td><td>BL</td><td>AAACCAGGTTAATCCAACTTTAGG-1</td><td>0.58904110</td><td>True </td></tr>\n",
       "</tbody>\n",
       "</table>\n"
      ],
      "text/latex": [
       "A data.frame: 10 × 9\n",
       "\\begin{tabular}{r|lllllllll}\n",
       "  & orig.ident & nCount\\_RNA & nFeature\\_RNA & nCount\\_ADT & nFeature\\_ADT & type & Barcodes & Doublet\\_Score & Predicted\\_Doublet\\\\\n",
       "  & <chr> & <dbl> & <int> & <dbl> & <int> & <chr> & <chr> & <dbl> & <chr>\\\\\n",
       "\\hline\n",
       "\tAAACAAGCAATTGAACACTTTAGG-1 & BL05111 & 13302 & 4388 &  13535 & 127 & BL & AAACAAGCAATTGAACACTTTAGG-1 & 0.03723764 & False\\\\\n",
       "\tAAACAAGCACAAATACACTTTAGG-1 & BL05111 &  6375 & 3124 &  10241 & 125 & BL & AAACAAGCACAAATACACTTTAGG-1 & 0.08790072 & False\\\\\n",
       "\tAAACAAGCATACTTCAACTTTAGG-1 & BL05111 &   625 &  431 & 144311 & 130 & BL & AAACAAGCATACTTCAACTTTAGG-1 & 0.01258178 & False\\\\\n",
       "\tAAACCAATCACTATGTACTTTAGG-1 & BL05111 &  6118 & 3041 &  17478 & 129 & BL & AAACCAATCACTATGTACTTTAGG-1 & 0.09899889 & False\\\\\n",
       "\tAAACCAATCATGAGGTACTTTAGG-1 & BL05111 & 22733 & 5900 &  14822 & 128 & BL & AAACCAATCATGAGGTACTTTAGG-1 & 0.03723764 & False\\\\\n",
       "\tAAACCAATCCATCCAAACTTTAGG-1 & BL05111 & 14844 & 5011 &  20066 & 129 & BL & AAACCAATCCATCCAAACTTTAGG-1 & 0.70810811 & True \\\\\n",
       "\tAAACCAATCCGCTATAACTTTAGG-1 & BL05111 &  9181 & 3722 &  12917 & 124 & BL & AAACCAATCCGCTATAACTTTAGG-1 & 0.09052632 & False\\\\\n",
       "\tAAACCAATCTGTGACCACTTTAGG-1 & BL05111 &  7964 & 3618 &  19663 & 128 & BL & AAACCAATCTGTGACCACTTTAGG-1 & 0.03614458 & False\\\\\n",
       "\tAAACCAGGTGACATTCACTTTAGG-1 & BL05111 &  8798 & 3849 &  10989 & 125 & BL & AAACCAGGTGACATTCACTTTAGG-1 & 0.03507611 & False\\\\\n",
       "\tAAACCAGGTTAATCCAACTTTAGG-1 & BL05111 & 21839 & 5801 &  24861 & 129 & BL & AAACCAGGTTAATCCAACTTTAGG-1 & 0.58904110 & True \\\\\n",
       "\\end{tabular}\n"
      ],
      "text/markdown": [
       "\n",
       "A data.frame: 10 × 9\n",
       "\n",
       "| <!--/--> | orig.ident &lt;chr&gt; | nCount_RNA &lt;dbl&gt; | nFeature_RNA &lt;int&gt; | nCount_ADT &lt;dbl&gt; | nFeature_ADT &lt;int&gt; | type &lt;chr&gt; | Barcodes &lt;chr&gt; | Doublet_Score &lt;dbl&gt; | Predicted_Doublet &lt;chr&gt; |\n",
       "|---|---|---|---|---|---|---|---|---|---|\n",
       "| AAACAAGCAATTGAACACTTTAGG-1 | BL05111 | 13302 | 4388 |  13535 | 127 | BL | AAACAAGCAATTGAACACTTTAGG-1 | 0.03723764 | False |\n",
       "| AAACAAGCACAAATACACTTTAGG-1 | BL05111 |  6375 | 3124 |  10241 | 125 | BL | AAACAAGCACAAATACACTTTAGG-1 | 0.08790072 | False |\n",
       "| AAACAAGCATACTTCAACTTTAGG-1 | BL05111 |   625 |  431 | 144311 | 130 | BL | AAACAAGCATACTTCAACTTTAGG-1 | 0.01258178 | False |\n",
       "| AAACCAATCACTATGTACTTTAGG-1 | BL05111 |  6118 | 3041 |  17478 | 129 | BL | AAACCAATCACTATGTACTTTAGG-1 | 0.09899889 | False |\n",
       "| AAACCAATCATGAGGTACTTTAGG-1 | BL05111 | 22733 | 5900 |  14822 | 128 | BL | AAACCAATCATGAGGTACTTTAGG-1 | 0.03723764 | False |\n",
       "| AAACCAATCCATCCAAACTTTAGG-1 | BL05111 | 14844 | 5011 |  20066 | 129 | BL | AAACCAATCCATCCAAACTTTAGG-1 | 0.70810811 | True  |\n",
       "| AAACCAATCCGCTATAACTTTAGG-1 | BL05111 |  9181 | 3722 |  12917 | 124 | BL | AAACCAATCCGCTATAACTTTAGG-1 | 0.09052632 | False |\n",
       "| AAACCAATCTGTGACCACTTTAGG-1 | BL05111 |  7964 | 3618 |  19663 | 128 | BL | AAACCAATCTGTGACCACTTTAGG-1 | 0.03614458 | False |\n",
       "| AAACCAGGTGACATTCACTTTAGG-1 | BL05111 |  8798 | 3849 |  10989 | 125 | BL | AAACCAGGTGACATTCACTTTAGG-1 | 0.03507611 | False |\n",
       "| AAACCAGGTTAATCCAACTTTAGG-1 | BL05111 | 21839 | 5801 |  24861 | 129 | BL | AAACCAGGTTAATCCAACTTTAGG-1 | 0.58904110 | True  |\n",
       "\n"
      ],
      "text/plain": [
       "                           orig.ident nCount_RNA nFeature_RNA nCount_ADT\n",
       "AAACAAGCAATTGAACACTTTAGG-1 BL05111    13302      4388          13535    \n",
       "AAACAAGCACAAATACACTTTAGG-1 BL05111     6375      3124          10241    \n",
       "AAACAAGCATACTTCAACTTTAGG-1 BL05111      625       431         144311    \n",
       "AAACCAATCACTATGTACTTTAGG-1 BL05111     6118      3041          17478    \n",
       "AAACCAATCATGAGGTACTTTAGG-1 BL05111    22733      5900          14822    \n",
       "AAACCAATCCATCCAAACTTTAGG-1 BL05111    14844      5011          20066    \n",
       "AAACCAATCCGCTATAACTTTAGG-1 BL05111     9181      3722          12917    \n",
       "AAACCAATCTGTGACCACTTTAGG-1 BL05111     7964      3618          19663    \n",
       "AAACCAGGTGACATTCACTTTAGG-1 BL05111     8798      3849          10989    \n",
       "AAACCAGGTTAATCCAACTTTAGG-1 BL05111    21839      5801          24861    \n",
       "                           nFeature_ADT type Barcodes                  \n",
       "AAACAAGCAATTGAACACTTTAGG-1 127          BL   AAACAAGCAATTGAACACTTTAGG-1\n",
       "AAACAAGCACAAATACACTTTAGG-1 125          BL   AAACAAGCACAAATACACTTTAGG-1\n",
       "AAACAAGCATACTTCAACTTTAGG-1 130          BL   AAACAAGCATACTTCAACTTTAGG-1\n",
       "AAACCAATCACTATGTACTTTAGG-1 129          BL   AAACCAATCACTATGTACTTTAGG-1\n",
       "AAACCAATCATGAGGTACTTTAGG-1 128          BL   AAACCAATCATGAGGTACTTTAGG-1\n",
       "AAACCAATCCATCCAAACTTTAGG-1 129          BL   AAACCAATCCATCCAAACTTTAGG-1\n",
       "AAACCAATCCGCTATAACTTTAGG-1 124          BL   AAACCAATCCGCTATAACTTTAGG-1\n",
       "AAACCAATCTGTGACCACTTTAGG-1 128          BL   AAACCAATCTGTGACCACTTTAGG-1\n",
       "AAACCAGGTGACATTCACTTTAGG-1 125          BL   AAACCAGGTGACATTCACTTTAGG-1\n",
       "AAACCAGGTTAATCCAACTTTAGG-1 129          BL   AAACCAGGTTAATCCAACTTTAGG-1\n",
       "                           Doublet_Score Predicted_Doublet\n",
       "AAACAAGCAATTGAACACTTTAGG-1 0.03723764    False            \n",
       "AAACAAGCACAAATACACTTTAGG-1 0.08790072    False            \n",
       "AAACAAGCATACTTCAACTTTAGG-1 0.01258178    False            \n",
       "AAACCAATCACTATGTACTTTAGG-1 0.09899889    False            \n",
       "AAACCAATCATGAGGTACTTTAGG-1 0.03723764    False            \n",
       "AAACCAATCCATCCAAACTTTAGG-1 0.70810811    True             \n",
       "AAACCAATCCGCTATAACTTTAGG-1 0.09052632    False            \n",
       "AAACCAATCTGTGACCACTTTAGG-1 0.03614458    False            \n",
       "AAACCAGGTGACATTCACTTTAGG-1 0.03507611    False            \n",
       "AAACCAGGTTAATCCAACTTTAGG-1 0.58904110    True             "
      ]
     },
     "metadata": {},
     "output_type": "display_data"
    }
   ],
   "source": [
    "fully <- Reduce(merge,fully)\n",
    "head(fully)"
   ]
  },
  {
   "cell_type": "code",
   "execution_count": 16,
   "id": "eeb78e48-4ceb-4833-b2d2-381638bb50cf",
   "metadata": {},
   "outputs": [
    {
     "name": "stderr",
     "output_type": "stream",
     "text": [
      "Warning message:\n",
      "“Default search for \"data\" layer in \"RNA\" assay yielded no results; utilizing \"counts\" layer instead.”\n"
     ]
    },
    {
     "data": {
      "image/png": "[encoded data removed]",
      "text/plain": [
       "plot without title"
      ]
     },
     "metadata": {
      "image/png": {
       "height": 420,
       "width": 420
      }
     },
     "output_type": "display_data"
    }
   ],
   "source": [
    "VlnPlot(fully, features = 'Doublet_Score', group.by = 'Predicted_Doublet', pt.size = 0)"
   ]
  },
  {
   "cell_type": "code",
   "execution_count": 42,
   "id": "6910d5af-78d2-4379-8f44-c9998669910f",
   "metadata": {},
   "outputs": [],
   "source": [
    "fully <- subset(fully, subset=Predicted_Doublet=='False')"
   ]
  },
  {
   "cell_type": "code",
   "execution_count": 43,
   "id": "74f37b5b-c5ed-4b6e-b925-58074baa87ee",
   "metadata": {},
   "outputs": [],
   "source": [
    "fully <- JoinLayers(fully)"
   ]
  },
  {
   "cell_type": "markdown",
   "id": "e20e39d3-5d7b-4cb1-87c2-d9ac40b45022",
   "metadata": {
    "tags": []
   },
   "source": [
    "### Figure 1"
   ]
  },
  {
   "cell_type": "code",
   "execution_count": 44,
   "id": "62a40685-ef3d-44db-8fa8-eb89a9d75bca",
   "metadata": {},
   "outputs": [
    {
     "data": {
      "text/html": [
       "<style>\n",
       ".list-inline {list-style: none; margin:0; padding: 0}\n",
       ".list-inline>li {display: inline-block}\n",
       ".list-inline>li:not(:last-child)::after {content: \"\\00b7\"; padding: 0 .5ex}\n",
       "</style>\n",
       "<ol class=list-inline><li>'BL05111'</li><li>'BL05113'</li><li>'BL05401'</li><li>'BL05402'</li><li>'PB05111'</li><li>'PB05113'</li><li>'PB05401'</li><li>'PB05402'</li></ol>\n"
      ],
      "text/latex": [
       "\\begin{enumerate*}\n",
       "\\item 'BL05111'\n",
       "\\item 'BL05113'\n",
       "\\item 'BL05401'\n",
       "\\item 'BL05402'\n",
       "\\item 'PB05111'\n",
       "\\item 'PB05113'\n",
       "\\item 'PB05401'\n",
       "\\item 'PB05402'\n",
       "\\end{enumerate*}\n"
      ],
      "text/markdown": [
       "1. 'BL05111'\n",
       "2. 'BL05113'\n",
       "3. 'BL05401'\n",
       "4. 'BL05402'\n",
       "5. 'PB05111'\n",
       "6. 'PB05113'\n",
       "7. 'PB05401'\n",
       "8. 'PB05402'\n",
       "\n",
       "\n"
      ],
      "text/plain": [
       "[1] \"BL05111\" \"BL05113\" \"BL05401\" \"BL05402\" \"PB05111\" \"PB05113\" \"PB05401\"\n",
       "[8] \"PB05402\""
      ]
     },
     "metadata": {},
     "output_type": "display_data"
    }
   ],
   "source": [
    "Idents(fully) <- 'orig.ident'\n",
    "levels(fully)"
   ]
  },
  {
   "cell_type": "code",
   "execution_count": 45,
   "id": "d51207ce-d07f-4195-8541-9b047582ee03",
   "metadata": {},
   "outputs": [],
   "source": [
    "fully$sample2 <- fully$orig.ident\n",
    "\n",
    "fully$sample2 <- gsub('BL05111','CWB-1', fully$sample2)\n",
    "fully$sample2 <- gsub('BL05113','CWB-2', fully$sample2)\n",
    "fully$sample2 <- gsub('BL05401','drop', fully$sample2) # dropping Sample05401\n",
    "fully$sample2 <- gsub('BL05402','CWB-3', fully$sample2)\n",
    "fully$sample2 <- gsub('PB05111','Ficoll-1', fully$sample2)\n",
    "fully$sample2 <- gsub('PB05113','Ficoll-2', fully$sample2)\n",
    "fully$sample2 <- gsub('PB05401','drop', fully$sample2) # dropping Sample05401\n",
    "fully$sample2 <- gsub('PB05402','Ficoll-3', fully$sample2)\n"
   ]
  },
  {
   "cell_type": "code",
   "execution_count": 46,
   "id": "7dc86fce-b2ac-413c-bcd2-cedc5b92848b",
   "metadata": {},
   "outputs": [
    {
     "data": {
      "text/html": [
       "<style>\n",
       ".list-inline {list-style: none; margin:0; padding: 0}\n",
       ".list-inline>li {display: inline-block}\n",
       ".list-inline>li:not(:last-child)::after {content: \"\\00b7\"; padding: 0 .5ex}\n",
       "</style>\n",
       "<ol class=list-inline><li>'CWB-1'</li><li>'CWB-2'</li><li>'CWB-3'</li><li>'Ficoll-1'</li><li>'Ficoll-2'</li><li>'Ficoll-3'</li></ol>\n"
      ],
      "text/latex": [
       "\\begin{enumerate*}\n",
       "\\item 'CWB-1'\n",
       "\\item 'CWB-2'\n",
       "\\item 'CWB-3'\n",
       "\\item 'Ficoll-1'\n",
       "\\item 'Ficoll-2'\n",
       "\\item 'Ficoll-3'\n",
       "\\end{enumerate*}\n"
      ],
      "text/markdown": [
       "1. 'CWB-1'\n",
       "2. 'CWB-2'\n",
       "3. 'CWB-3'\n",
       "4. 'Ficoll-1'\n",
       "5. 'Ficoll-2'\n",
       "6. 'Ficoll-3'\n",
       "\n",
       "\n"
      ],
      "text/plain": [
       "[1] \"CWB-1\"    \"CWB-2\"    \"CWB-3\"    \"Ficoll-1\" \"Ficoll-2\" \"Ficoll-3\""
      ]
     },
     "metadata": {},
     "output_type": "display_data"
    }
   ],
   "source": [
    "fully <- subset(fully, subset=sample2!='drop')\n",
    "Idents(fully) <- 'sample2'\n",
    "levels(fully)"
   ]
  },
  {
   "cell_type": "code",
   "execution_count": 47,
   "id": "bd84d73f-d833-4055-a1a7-d40639211152",
   "metadata": {},
   "outputs": [],
   "source": [
    "fully$pres <- fully$type\n",
    "\n",
    "fully$pres <- gsub('BL','CWB',fully$pres)\n",
    "fully$pres <- gsub('PB','Ficoll',fully$pres)\n"
   ]
  },
  {
   "cell_type": "code",
   "execution_count": 48,
   "id": "f2fff062-9e5d-4430-b184-41129ba7d516",
   "metadata": {},
   "outputs": [],
   "source": [
    "fully$sample3 <- fully$orig.ident\n",
    "\n",
    "fully$sample3 <- gsub('BL05111','Sample-1', fully$sample3)\n",
    "fully$sample3 <- gsub('BL05113','Sample-2', fully$sample3)\n",
    "# fully$sample3 <- gsub('BL05401','Sample-3', fully$sample3) # dropping Sample05401\n",
    "fully$sample3 <- gsub('BL05402','Sample-3', fully$sample3)\n",
    "fully$sample3 <- gsub('PB05111','Sample-1', fully$sample3)\n",
    "fully$sample3 <- gsub('PB05113','Sample-2', fully$sample3)\n",
    "# fully$sample3 <- gsub('PB05401','Sample-3', fully$sample3) # dropping Sample05401\n",
    "fully$sample3 <- gsub('PB05402','Sample-3', fully$sample3)\n"
   ]
  },
  {
   "cell_type": "code",
   "execution_count": 49,
   "id": "0acac0d0-98c7-45d1-ad54-c0f745356e98",
   "metadata": {},
   "outputs": [
    {
     "data": {
      "text/html": [
       "<table class=\"dataframe\">\n",
       "<caption>A data.frame: 10 × 12</caption>\n",
       "<thead>\n",
       "\t<tr><th></th><th scope=col>orig.ident</th><th scope=col>nCount_RNA</th><th scope=col>nFeature_RNA</th><th scope=col>nCount_ADT</th><th scope=col>nFeature_ADT</th><th scope=col>type</th><th scope=col>Barcodes</th><th scope=col>Doublet_Score</th><th scope=col>Predicted_Doublet</th><th scope=col>sample2</th><th scope=col>pres</th><th scope=col>sample3</th></tr>\n",
       "\t<tr><th></th><th scope=col>&lt;chr&gt;</th><th scope=col>&lt;dbl&gt;</th><th scope=col>&lt;int&gt;</th><th scope=col>&lt;dbl&gt;</th><th scope=col>&lt;int&gt;</th><th scope=col>&lt;chr&gt;</th><th scope=col>&lt;chr&gt;</th><th scope=col>&lt;dbl&gt;</th><th scope=col>&lt;chr&gt;</th><th scope=col>&lt;chr&gt;</th><th scope=col>&lt;chr&gt;</th><th scope=col>&lt;chr&gt;</th></tr>\n",
       "</thead>\n",
       "<tbody>\n",
       "\t<tr><th scope=row>AAACAAGCAATTGAACACTTTAGG-1</th><td>BL05111</td><td>13302</td><td>4388</td><td> 13535</td><td>127</td><td>BL</td><td>AAACAAGCAATTGAACACTTTAGG-1</td><td>0.03723764</td><td>False</td><td>CWB-1</td><td>CWB</td><td>Sample-1</td></tr>\n",
       "\t<tr><th scope=row>AAACAAGCACAAATACACTTTAGG-1</th><td>BL05111</td><td> 6375</td><td>3124</td><td> 10241</td><td>125</td><td>BL</td><td>AAACAAGCACAAATACACTTTAGG-1</td><td>0.08790072</td><td>False</td><td>CWB-1</td><td>CWB</td><td>Sample-1</td></tr>\n",
       "\t<tr><th scope=row>AAACAAGCATACTTCAACTTTAGG-1</th><td>BL05111</td><td>  625</td><td> 431</td><td>144311</td><td>130</td><td>BL</td><td>AAACAAGCATACTTCAACTTTAGG-1</td><td>0.01258178</td><td>False</td><td>CWB-1</td><td>CWB</td><td>Sample-1</td></tr>\n",
       "\t<tr><th scope=row>AAACCAATCACTATGTACTTTAGG-1</th><td>BL05111</td><td> 6118</td><td>3041</td><td> 17478</td><td>129</td><td>BL</td><td>AAACCAATCACTATGTACTTTAGG-1</td><td>0.09899889</td><td>False</td><td>CWB-1</td><td>CWB</td><td>Sample-1</td></tr>\n",
       "\t<tr><th scope=row>AAACCAATCATGAGGTACTTTAGG-1</th><td>BL05111</td><td>22733</td><td>5900</td><td> 14822</td><td>128</td><td>BL</td><td>AAACCAATCATGAGGTACTTTAGG-1</td><td>0.03723764</td><td>False</td><td>CWB-1</td><td>CWB</td><td>Sample-1</td></tr>\n",
       "\t<tr><th scope=row>AAACCAATCCGCTATAACTTTAGG-1</th><td>BL05111</td><td> 9181</td><td>3722</td><td> 12917</td><td>124</td><td>BL</td><td>AAACCAATCCGCTATAACTTTAGG-1</td><td>0.09052632</td><td>False</td><td>CWB-1</td><td>CWB</td><td>Sample-1</td></tr>\n",
       "\t<tr><th scope=row>AAACCAATCTGTGACCACTTTAGG-1</th><td>BL05111</td><td> 7964</td><td>3618</td><td> 19663</td><td>128</td><td>BL</td><td>AAACCAATCTGTGACCACTTTAGG-1</td><td>0.03614458</td><td>False</td><td>CWB-1</td><td>CWB</td><td>Sample-1</td></tr>\n",
       "\t<tr><th scope=row>AAACCAGGTGACATTCACTTTAGG-1</th><td>BL05111</td><td> 8798</td><td>3849</td><td> 10989</td><td>125</td><td>BL</td><td>AAACCAGGTGACATTCACTTTAGG-1</td><td>0.03507611</td><td>False</td><td>CWB-1</td><td>CWB</td><td>Sample-1</td></tr>\n",
       "\t<tr><th scope=row>AAACGGGCAAACTGGCACTTTAGG-1</th><td>BL05111</td><td> 8204</td><td>3595</td><td> 12555</td><td>121</td><td>BL</td><td>AAACGGGCAAACTGGCACTTTAGG-1</td><td>0.02644231</td><td>False</td><td>CWB-1</td><td>CWB</td><td>Sample-1</td></tr>\n",
       "\t<tr><th scope=row>AAACGGGCAGGATCCGACTTTAGG-1</th><td>BL05111</td><td>  840</td><td> 674</td><td> 70401</td><td>130</td><td>BL</td><td>AAACGGGCAGGATCCGACTTTAGG-1</td><td>0.02151755</td><td>False</td><td>CWB-1</td><td>CWB</td><td>Sample-1</td></tr>\n",
       "</tbody>\n",
       "</table>\n"
      ],
      "text/latex": [
       "A data.frame: 10 × 12\n",
       "\\begin{tabular}{r|llllllllllll}\n",
       "  & orig.ident & nCount\\_RNA & nFeature\\_RNA & nCount\\_ADT & nFeature\\_ADT & type & Barcodes & Doublet\\_Score & Predicted\\_Doublet & sample2 & pres & sample3\\\\\n",
       "  & <chr> & <dbl> & <int> & <dbl> & <int> & <chr> & <chr> & <dbl> & <chr> & <chr> & <chr> & <chr>\\\\\n",
       "\\hline\n",
       "\tAAACAAGCAATTGAACACTTTAGG-1 & BL05111 & 13302 & 4388 &  13535 & 127 & BL & AAACAAGCAATTGAACACTTTAGG-1 & 0.03723764 & False & CWB-1 & CWB & Sample-1\\\\\n",
       "\tAAACAAGCACAAATACACTTTAGG-1 & BL05111 &  6375 & 3124 &  10241 & 125 & BL & AAACAAGCACAAATACACTTTAGG-1 & 0.08790072 & False & CWB-1 & CWB & Sample-1\\\\\n",
       "\tAAACAAGCATACTTCAACTTTAGG-1 & BL05111 &   625 &  431 & 144311 & 130 & BL & AAACAAGCATACTTCAACTTTAGG-1 & 0.01258178 & False & CWB-1 & CWB & Sample-1\\\\\n",
       "\tAAACCAATCACTATGTACTTTAGG-1 & BL05111 &  6118 & 3041 &  17478 & 129 & BL & AAACCAATCACTATGTACTTTAGG-1 & 0.09899889 & False & CWB-1 & CWB & Sample-1\\\\\n",
       "\tAAACCAATCATGAGGTACTTTAGG-1 & BL05111 & 22733 & 5900 &  14822 & 128 & BL & AAACCAATCATGAGGTACTTTAGG-1 & 0.03723764 & False & CWB-1 & CWB & Sample-1\\\\\n",
       "\tAAACCAATCCGCTATAACTTTAGG-1 & BL05111 &  9181 & 3722 &  12917 & 124 & BL & AAACCAATCCGCTATAACTTTAGG-1 & 0.09052632 & False & CWB-1 & CWB & Sample-1\\\\\n",
       "\tAAACCAATCTGTGACCACTTTAGG-1 & BL05111 &  7964 & 3618 &  19663 & 128 & BL & AAACCAATCTGTGACCACTTTAGG-1 & 0.03614458 & False & CWB-1 & CWB & Sample-1\\\\\n",
       "\tAAACCAGGTGACATTCACTTTAGG-1 & BL05111 &  8798 & 3849 &  10989 & 125 & BL & AAACCAGGTGACATTCACTTTAGG-1 & 0.03507611 & False & CWB-1 & CWB & Sample-1\\\\\n",
       "\tAAACGGGCAAACTGGCACTTTAGG-1 & BL05111 &  8204 & 3595 &  12555 & 121 & BL & AAACGGGCAAACTGGCACTTTAGG-1 & 0.02644231 & False & CWB-1 & CWB & Sample-1\\\\\n",
       "\tAAACGGGCAGGATCCGACTTTAGG-1 & BL05111 &   840 &  674 &  70401 & 130 & BL & AAACGGGCAGGATCCGACTTTAGG-1 & 0.02151755 & False & CWB-1 & CWB & Sample-1\\\\\n",
       "\\end{tabular}\n"
      ],
      "text/markdown": [
       "\n",
       "A data.frame: 10 × 12\n",
       "\n",
       "| <!--/--> | orig.ident &lt;chr&gt; | nCount_RNA &lt;dbl&gt; | nFeature_RNA &lt;int&gt; | nCount_ADT &lt;dbl&gt; | nFeature_ADT &lt;int&gt; | type &lt;chr&gt; | Barcodes &lt;chr&gt; | Doublet_Score &lt;dbl&gt; | Predicted_Doublet &lt;chr&gt; | sample2 &lt;chr&gt; | pres &lt;chr&gt; | sample3 &lt;chr&gt; |\n",
       "|---|---|---|---|---|---|---|---|---|---|---|---|---|\n",
       "| AAACAAGCAATTGAACACTTTAGG-1 | BL05111 | 13302 | 4388 |  13535 | 127 | BL | AAACAAGCAATTGAACACTTTAGG-1 | 0.03723764 | False | CWB-1 | CWB | Sample-1 |\n",
       "| AAACAAGCACAAATACACTTTAGG-1 | BL05111 |  6375 | 3124 |  10241 | 125 | BL | AAACAAGCACAAATACACTTTAGG-1 | 0.08790072 | False | CWB-1 | CWB | Sample-1 |\n",
       "| AAACAAGCATACTTCAACTTTAGG-1 | BL05111 |   625 |  431 | 144311 | 130 | BL | AAACAAGCATACTTCAACTTTAGG-1 | 0.01258178 | False | CWB-1 | CWB | Sample-1 |\n",
       "| AAACCAATCACTATGTACTTTAGG-1 | BL05111 |  6118 | 3041 |  17478 | 129 | BL | AAACCAATCACTATGTACTTTAGG-1 | 0.09899889 | False | CWB-1 | CWB | Sample-1 |\n",
       "| AAACCAATCATGAGGTACTTTAGG-1 | BL05111 | 22733 | 5900 |  14822 | 128 | BL | AAACCAATCATGAGGTACTTTAGG-1 | 0.03723764 | False | CWB-1 | CWB | Sample-1 |\n",
       "| AAACCAATCCGCTATAACTTTAGG-1 | BL05111 |  9181 | 3722 |  12917 | 124 | BL | AAACCAATCCGCTATAACTTTAGG-1 | 0.09052632 | False | CWB-1 | CWB | Sample-1 |\n",
       "| AAACCAATCTGTGACCACTTTAGG-1 | BL05111 |  7964 | 3618 |  19663 | 128 | BL | AAACCAATCTGTGACCACTTTAGG-1 | 0.03614458 | False | CWB-1 | CWB | Sample-1 |\n",
       "| AAACCAGGTGACATTCACTTTAGG-1 | BL05111 |  8798 | 3849 |  10989 | 125 | BL | AAACCAGGTGACATTCACTTTAGG-1 | 0.03507611 | False | CWB-1 | CWB | Sample-1 |\n",
       "| AAACGGGCAAACTGGCACTTTAGG-1 | BL05111 |  8204 | 3595 |  12555 | 121 | BL | AAACGGGCAAACTGGCACTTTAGG-1 | 0.02644231 | False | CWB-1 | CWB | Sample-1 |\n",
       "| AAACGGGCAGGATCCGACTTTAGG-1 | BL05111 |   840 |  674 |  70401 | 130 | BL | AAACGGGCAGGATCCGACTTTAGG-1 | 0.02151755 | False | CWB-1 | CWB | Sample-1 |\n",
       "\n"
      ],
      "text/plain": [
       "                           orig.ident nCount_RNA nFeature_RNA nCount_ADT\n",
       "AAACAAGCAATTGAACACTTTAGG-1 BL05111    13302      4388          13535    \n",
       "AAACAAGCACAAATACACTTTAGG-1 BL05111     6375      3124          10241    \n",
       "AAACAAGCATACTTCAACTTTAGG-1 BL05111      625       431         144311    \n",
       "AAACCAATCACTATGTACTTTAGG-1 BL05111     6118      3041          17478    \n",
       "AAACCAATCATGAGGTACTTTAGG-1 BL05111    22733      5900          14822    \n",
       "AAACCAATCCGCTATAACTTTAGG-1 BL05111     9181      3722          12917    \n",
       "AAACCAATCTGTGACCACTTTAGG-1 BL05111     7964      3618          19663    \n",
       "AAACCAGGTGACATTCACTTTAGG-1 BL05111     8798      3849          10989    \n",
       "AAACGGGCAAACTGGCACTTTAGG-1 BL05111     8204      3595          12555    \n",
       "AAACGGGCAGGATCCGACTTTAGG-1 BL05111      840       674          70401    \n",
       "                           nFeature_ADT type Barcodes                  \n",
       "AAACAAGCAATTGAACACTTTAGG-1 127          BL   AAACAAGCAATTGAACACTTTAGG-1\n",
       "AAACAAGCACAAATACACTTTAGG-1 125          BL   AAACAAGCACAAATACACTTTAGG-1\n",
       "AAACAAGCATACTTCAACTTTAGG-1 130          BL   AAACAAGCATACTTCAACTTTAGG-1\n",
       "AAACCAATCACTATGTACTTTAGG-1 129          BL   AAACCAATCACTATGTACTTTAGG-1\n",
       "AAACCAATCATGAGGTACTTTAGG-1 128          BL   AAACCAATCATGAGGTACTTTAGG-1\n",
       "AAACCAATCCGCTATAACTTTAGG-1 124          BL   AAACCAATCCGCTATAACTTTAGG-1\n",
       "AAACCAATCTGTGACCACTTTAGG-1 128          BL   AAACCAATCTGTGACCACTTTAGG-1\n",
       "AAACCAGGTGACATTCACTTTAGG-1 125          BL   AAACCAGGTGACATTCACTTTAGG-1\n",
       "AAACGGGCAAACTGGCACTTTAGG-1 121          BL   AAACGGGCAAACTGGCACTTTAGG-1\n",
       "AAACGGGCAGGATCCGACTTTAGG-1 130          BL   AAACGGGCAGGATCCGACTTTAGG-1\n",
       "                           Doublet_Score Predicted_Doublet sample2 pres\n",
       "AAACAAGCAATTGAACACTTTAGG-1 0.03723764    False             CWB-1   CWB \n",
       "AAACAAGCACAAATACACTTTAGG-1 0.08790072    False             CWB-1   CWB \n",
       "AAACAAGCATACTTCAACTTTAGG-1 0.01258178    False             CWB-1   CWB \n",
       "AAACCAATCACTATGTACTTTAGG-1 0.09899889    False             CWB-1   CWB \n",
       "AAACCAATCATGAGGTACTTTAGG-1 0.03723764    False             CWB-1   CWB \n",
       "AAACCAATCCGCTATAACTTTAGG-1 0.09052632    False             CWB-1   CWB \n",
       "AAACCAATCTGTGACCACTTTAGG-1 0.03614458    False             CWB-1   CWB \n",
       "AAACCAGGTGACATTCACTTTAGG-1 0.03507611    False             CWB-1   CWB \n",
       "AAACGGGCAAACTGGCACTTTAGG-1 0.02644231    False             CWB-1   CWB \n",
       "AAACGGGCAGGATCCGACTTTAGG-1 0.02151755    False             CWB-1   CWB \n",
       "                           sample3 \n",
       "AAACAAGCAATTGAACACTTTAGG-1 Sample-1\n",
       "AAACAAGCACAAATACACTTTAGG-1 Sample-1\n",
       "AAACAAGCATACTTCAACTTTAGG-1 Sample-1\n",
       "AAACCAATCACTATGTACTTTAGG-1 Sample-1\n",
       "AAACCAATCATGAGGTACTTTAGG-1 Sample-1\n",
       "AAACCAATCCGCTATAACTTTAGG-1 Sample-1\n",
       "AAACCAATCTGTGACCACTTTAGG-1 Sample-1\n",
       "AAACCAGGTGACATTCACTTTAGG-1 Sample-1\n",
       "AAACGGGCAAACTGGCACTTTAGG-1 Sample-1\n",
       "AAACGGGCAGGATCCGACTTTAGG-1 Sample-1"
      ]
     },
     "metadata": {},
     "output_type": "display_data"
    }
   ],
   "source": [
    "head(fully)"
   ]
  },
  {
   "cell_type": "code",
   "execution_count": 50,
   "id": "20d79a80-714c-4c4d-aeaf-e2af3d3e065d",
   "metadata": {},
   "outputs": [
    {
     "data": {
      "text/html": [
       "<style>\n",
       ".list-inline {list-style: none; margin:0; padding: 0}\n",
       ".list-inline>li {display: inline-block}\n",
       ".list-inline>li:not(:last-child)::after {content: \"\\00b7\"; padding: 0 .5ex}\n",
       "</style>\n",
       "<ol class=list-inline><li>'Sample-1'</li><li>'Sample-2'</li><li>'Sample-3'</li></ol>\n"
      ],
      "text/latex": [
       "\\begin{enumerate*}\n",
       "\\item 'Sample-1'\n",
       "\\item 'Sample-2'\n",
       "\\item 'Sample-3'\n",
       "\\end{enumerate*}\n"
      ],
      "text/markdown": [
       "1. 'Sample-1'\n",
       "2. 'Sample-2'\n",
       "3. 'Sample-3'\n",
       "\n",
       "\n"
      ],
      "text/plain": [
       "[1] \"Sample-1\" \"Sample-2\" \"Sample-3\""
      ]
     },
     "metadata": {},
     "output_type": "display_data"
    }
   ],
   "source": [
    "Idents(fully) <- 'sample3'\n",
    "levels(fully)"
   ]
  },
  {
   "cell_type": "code",
   "execution_count": 51,
   "id": "49ae3ab8-a83d-4314-a849-5f6eacea8409",
   "metadata": {},
   "outputs": [],
   "source": [
    "yl_or <- '#FAC05E'\n",
    "blu <- '#1593CD'\n",
    "sage <- '#91C7B1'\n",
    "red <- '#B33951'\n",
    "pal4 <- c(yl_or,blu,sage,red)\n",
    "pal2 <- c(blu,red)"
   ]
  },
  {
   "cell_type": "code",
   "execution_count": 52,
   "id": "8a3b98b4-aae2-4379-8d64-74fc79c14787",
   "metadata": {},
   "outputs": [],
   "source": [
    "fully$pres <- factor(fully$pres, levels = c('Ficoll','CWB'))"
   ]
  },
  {
   "cell_type": "code",
   "execution_count": 53,
   "id": "538f1d6f-078a-4c9b-a61e-d4f28ff94e19",
   "metadata": {},
   "outputs": [],
   "source": [
    "# saveRDS(fully,'/home/jupyter/CS15_WHBL/PAPER/Fig1_scrublet.rds') # writing \n"
   ]
  },
  {
   "cell_type": "code",
   "execution_count": 54,
   "id": "ad4df839-f269-4cbd-9204-210b0e17cf5c",
   "metadata": {},
   "outputs": [],
   "source": [
    "# The [[ operator can add columns to object metadata. This is a great place to stash QC stats\n",
    "fully[[\"percent.mt\"]] <- PercentageFeatureSet(fully, pattern = \"^MT-\")"
   ]
  },
  {
   "cell_type": "code",
   "execution_count": 55,
   "id": "5b805df1-8e36-42eb-b687-0b1fd5e3a410",
   "metadata": {},
   "outputs": [
    {
     "name": "stderr",
     "output_type": "stream",
     "text": [
      "Warning message:\n",
      "“Default search for \"data\" layer in \"RNA\" assay yielded no results; utilizing \"counts\" layer instead.”\n",
      "\u001b[1m\u001b[22mScale for \u001b[32my\u001b[39m is already present.\n",
      "Adding another scale for \u001b[32my\u001b[39m, which will replace the existing scale.\n",
      "Warning message:\n",
      "“Default search for \"data\" layer in \"RNA\" assay yielded no results; utilizing \"counts\" layer instead.”\n",
      "\u001b[1m\u001b[22mScale for \u001b[32my\u001b[39m is already present.\n",
      "Adding another scale for \u001b[32my\u001b[39m, which will replace the existing scale.\n",
      "Warning message:\n",
      "“\u001b[1m\u001b[22mRemoved 40 rows containing non-finite outside the scale range\n",
      "(`stat_ydensity()`).”\n",
      "Warning message:\n",
      "“\u001b[1m\u001b[22mRemoved 466 rows containing non-finite outside the scale range\n",
      "(`stat_ydensity()`).”\n"
     ]
    },
    {
     "data": {
      "image/png": "[encoded data removed]",
      "text/plain": [
       "plot without title"
      ]
     },
     "metadata": {
      "image/png": {
       "height": 420,
       "width": 420
      }
     },
     "output_type": "display_data"
    }
   ],
   "source": [
    "# Visualize QC metrics as a violin plot\n",
    "Idents(fully) <- 'sample2'\n",
    "\n",
    "p1<-VlnPlot(fully, features = \"percent.mt\", ncol = 1, pt.size = 0,) +ylim(0,100)\n",
    "p2<-VlnPlot(fully, features = \"percent.mt\", ncol = 1, pt.size = 0,) +ylim(0,10) +geom_hline(yintercept=2.5) +geom_hline(yintercept=3)\n",
    "\n",
    "p1 + p2"
   ]
  },
  {
   "cell_type": "code",
   "execution_count": 56,
   "id": "7a001346-abcd-4767-b218-0173bc864146",
   "metadata": {},
   "outputs": [
    {
     "data": {
      "text/plain": [
       "An object of class Seurat \n",
       "18222 features across 44054 samples within 2 assays \n",
       "Active assay: RNA (18082 features, 0 variable features)\n",
       " 1 layer present: counts\n",
       " 1 other assay present: ADT"
      ]
     },
     "metadata": {},
     "output_type": "display_data"
    }
   ],
   "source": [
    "fully"
   ]
  },
  {
   "cell_type": "code",
   "execution_count": 57,
   "id": "d4a2a867-8444-4a72-a720-f51194c5a86f",
   "metadata": {},
   "outputs": [],
   "source": [
    "fully <- subset(fully, subset=percent.mt < 5)"
   ]
  },
  {
   "cell_type": "code",
   "execution_count": 58,
   "id": "f2ca0db0-947b-467f-b84d-34ccf582c99a",
   "metadata": {
    "scrolled": true,
    "tags": []
   },
   "outputs": [
    {
     "name": "stderr",
     "output_type": "stream",
     "text": [
      "Normalizing layer: counts\n",
      "\n",
      "Finding variable features for layer counts\n",
      "\n",
      "Centering and scaling data matrix\n",
      "\n",
      "PC_ 1 \n",
      "Positive:  CD247, CD5, IL7R, PYHIN1, LTB, CD7, TRBC1, SAMD3, LEF1, CD69 \n",
      "\t   TRAT1, PCED1B, CD28, IL2RB, TRIB2, CD27, BCL2, CTSW, KLRK1, ITGA6 \n",
      "\t   KLRG1, CCR7, HIST1H1C, PRF1, ITM2A, CST7, MAL, CCL5, TRABD2A, MYBL1 \n",
      "Negative:  NCF2, SPI1, SERPINA1, IFI30, CST3, CLEC7A, EMILIN2, MNDA, CD68, HCK \n",
      "\t   PLXNB2, LILRB2, TNFAIP2, ZNF385A, LRRC25, TYMP, MEFV, SULF2, MPEG1, CYBB \n",
      "\t   TIMP2, LYZ, FGL2, CPVL, LRP1, PILRA, CSTA, SLC7A7, CSF3R, HK3 \n",
      "PC_ 2 \n",
      "Positive:  NKG7, PRF1, CST7, SRGN, KLRD1, S100A4, GZMA, MYO1F, SYNE1, CCL5 \n",
      "\t   CTSW, ADGRG1, SAMD3, TBX21, IL2RB, ANXA1, GNLY, FGFBP2, TGFBR3, CX3CR1 \n",
      "\t   KLRK1, GZMH, C1orf21, MYBL1, FCRL6, PYHIN1, DOK2, CD300A, PRSS23, MATK \n",
      "Negative:  NIBAN3, IGHM, BANK1, CD79A, FCRL1, CD22, MS4A1, PAX5, IGHD, FCRL2 \n",
      "\t   TCL1A, RUBCNL, BCL11A, TNFRSF13C, POU2AF1, RALGPS2, FCER2, COBLL1, BLK, BLNK \n",
      "\t   AFF3, TSPAN13, FCRLA, CD79B, CXCR5, IGKC, WDFY4, OSBPL10, COL19A1, SNX22 \n",
      "PC_ 3 \n",
      "Positive:  MAL, LEF1, IL7R, CD28, TRABD2A, CCR7, CD4, TRAT1, LTB, ACTN1 \n",
      "\t   MYC, NELL2, ITGA6, CD27, IL6R, RNF157, RGCC, FHIT, CD40LG, TCEA3 \n",
      "\t   NOG, AQP3, PDE3B, VIM, ICOS, HAPLN3, OBSCN, ADTRP, TSHZ2, SESN3 \n",
      "Negative:  GZMB, NKG7, PLEK, ADGRG1, KLRD1, PRF1, CST7, GNLY, TBX21, FGFBP2 \n",
      "\t   SYNE1, GZMA, C1orf21, ADGRG5, ZEB2, ADRB2, SLAMF7, CX3CR1, PRSS23, FCRL6 \n",
      "\t   GZMH, MCTP2, CCL5, CLIC3, CTSW, MAP3K8, KLRK1, S1PR5, HOPX, CD300A \n",
      "PC_ 4 \n",
      "Positive:  CLEC4C, PTPRS, SERPINF1, TNFRSF21, LILRA4, SCAMP5, EPHA2, PPM1J, LAMP5, SCN9A \n",
      "\t   SCT, DNASE1L3, NRP1, IL3RA, GAS6, EPHB1, P3H2, MAP1A, PACSIN1, PTCRA \n",
      "\t   PAPLN, LRRC26, PHEX, TIFAB, SLC41A2, FAM160A1, SMPD3, SLC12A3, SLC7A11, KCNK17 \n",
      "Negative:  FCRL1, MS4A1, PAX5, FCRL2, CD22, FCER2, IGHD, CD79A, CD79B, TNFRSF13C \n",
      "\t   POU2AF1, BANK1, COL19A1, CXCR5, SWAP70, OSBPL10, SNX22, CD19, FCRLA, P2RX5 \n",
      "\t   RALGPS2, CD40, CD24, EBF1, ADAM28, CLEC17A, MTSS1, STAP1, SEMA4B, CD72 \n",
      "PC_ 5 \n",
      "Positive:  S100A12, QPCT, PADI4, CRISPLD2, PADI2, CLEC4E, CD14, CLEC4D, VCAN, CD163 \n",
      "\t   S100A8, MCEMP1, MARC1, MGST1, RNASE2, DYSF, FOLR3, CYP1B1, CES1, RNASE6 \n",
      "\t   ASGR2, TREM1, WLS, ITGAM, FCAR, PLA2G7, STAB1, SIRPA, CCR2, STEAP4 \n",
      "Negative:  CDKN1C, HES4, TCF7L2, CKB, NEURL1, SIGLEC10, PTP4A3, ZNF703, CTSL, FCGR3A \n",
      "\t   FMNL2, CEACAM3, FCGR3B, TAGLN, MYOF, IFITM3, KNDC1, ADGRE1, PAPSS2, LYPD2 \n",
      "\t   MS4A4A, MS4A7, CLEC4F, MERTK, MTSS1, RHOC, MGLL, TBC1D8, LPL, PPP1R17 \n",
      "\n",
      "Warning message:\n",
      "“The default method for RunUMAP has changed from calling Python UMAP via reticulate to the R-native UWOT using the cosine metric\n",
      "To use Python UMAP via reticulate, set umap.method to 'umap-learn' and metric to 'correlation'\n",
      "This message will be shown once per session”\n",
      "22:39:12 UMAP embedding parameters a = 0.9922 b = 1.112\n",
      "\n",
      "22:39:12 Read 38791 rows and found 20 numeric columns\n",
      "\n",
      "22:39:12 Using Annoy for neighbor search, n_neighbors = 30\n",
      "\n",
      "22:39:12 Building Annoy index with metric = cosine, n_trees = 50\n",
      "\n",
      "0%   10   20   30   40   50   60   70   80   90   100%\n",
      "\n",
      "[----|----|----|----|----|----|----|----|----|----|\n",
      "\n",
      "*\n",
      "*\n",
      "*\n",
      "*\n",
      "*\n",
      "*\n",
      "*\n",
      "*\n",
      "*\n",
      "*\n",
      "*\n",
      "*\n",
      "*\n",
      "*\n",
      "*\n",
      "*\n",
      "*\n",
      "*\n",
      "*\n",
      "*\n",
      "*\n",
      "*\n",
      "*\n",
      "*\n",
      "*\n",
      "*\n",
      "*\n",
      "*\n",
      "*\n",
      "*\n",
      "*\n",
      "*\n",
      "*\n",
      "*\n",
      "*\n",
      "*\n",
      "*\n",
      "*\n",
      "*\n",
      "*\n",
      "*\n",
      "*\n",
      "*\n",
      "*\n",
      "*\n",
      "*\n",
      "*\n",
      "*\n",
      "*\n",
      "*\n",
      "|\n",
      "\n",
      "22:39:18 Writing NN index file to temp file /tmp/Rtmp5rwxUL/file112657384b972\n",
      "\n",
      "22:39:18 Searching Annoy index using 1 thread, search_k = 3000\n",
      "\n",
      "22:39:32 Annoy recall = 100%\n",
      "\n",
      "22:39:33 Commencing smooth kNN distance calibration using 1 thread\n",
      " with target n_neighbors = 30\n",
      "\n",
      "22:39:35 Initializing from normalized Laplacian + noise (using RSpectra)\n",
      "\n",
      "22:39:40 Commencing optimization for 200 epochs, with 1670474 positive edges\n",
      "\n",
      "22:39:57 Optimization finished\n",
      "\n",
      "Computing nearest neighbor graph\n",
      "\n",
      "Computing SNN\n",
      "\n"
     ]
    },
    {
     "name": "stdout",
     "output_type": "stream",
     "text": [
      "Modularity Optimizer version 1.3.0 by Ludo Waltman and Nees Jan van Eck\n",
      "\n",
      "Number of nodes: 38791\n",
      "Number of edges: 1338027\n",
      "\n",
      "Running Louvain algorithm...\n",
      "Maximum modularity in 10 random starts: 0.9334\n",
      "Number of communities: 20\n",
      "Elapsed time: 20 seconds\n"
     ]
    }
   ],
   "source": [
    "fully_2.5pMT <- NormalizeData(fully_2.5pMT) %>% \n",
    "    FindVariableFeatures() %>% \n",
    "    ScaleData() %>% \n",
    "    RunPCA() %>% \n",
    "    RunUMAP(dims = 1:20) %>% \n",
    "    FindNeighbors(dims = 1:20) %>% \n",
    "    FindClusters(resolution = 0.5)\n"
   ]
  },
  {
   "cell_type": "markdown",
   "id": "774e24ba-1505-4dc7-9cd3-0e8160d87aff",
   "metadata": {
    "tags": []
   },
   "source": [
    "## Celltype Label Transfer"
   ]
  },
  {
   "cell_type": "code",
   "execution_count": 60,
   "id": "8dce7208-b675-4411-8f9d-1ab9527b7a44",
   "metadata": {
    "scrolled": true,
    "tags": []
   },
   "outputs": [
    {
     "name": "stderr",
     "output_type": "stream",
     "text": [
      "Validating h5Seurat file\n",
      "\n",
      "Initializing ADT with data\n",
      "\n",
      "Adding counts for ADT\n",
      "\n",
      "Adding variable feature information for ADT\n",
      "\n",
      "Adding miscellaneous information for ADT\n",
      "\n",
      "Initializing SCT with data\n",
      "\n",
      "Adding counts for SCT\n",
      "\n",
      "Adding variable feature information for SCT\n",
      "\n",
      "Adding miscellaneous information for SCT\n",
      "\n",
      "Adding reduction apca\n",
      "\n",
      "Adding cell embeddings for apca\n",
      "\n",
      "Adding feature loadings for apca\n",
      "\n",
      "Adding miscellaneous information for apca\n",
      "\n",
      "Adding reduction aumap\n",
      "\n",
      "Adding cell embeddings for aumap\n",
      "\n",
      "Adding miscellaneous information for aumap\n",
      "\n",
      "Adding reduction pca\n",
      "\n",
      "Adding cell embeddings for pca\n",
      "\n",
      "Adding feature loadings for pca\n",
      "\n",
      "Adding miscellaneous information for pca\n",
      "\n",
      "Adding reduction spca\n",
      "\n",
      "Adding cell embeddings for spca\n",
      "\n",
      "Adding feature loadings for spca\n",
      "\n",
      "Adding miscellaneous information for spca\n",
      "\n",
      "Adding reduction umap\n",
      "\n",
      "Adding cell embeddings for umap\n",
      "\n",
      "Adding miscellaneous information for umap\n",
      "\n",
      "Adding reduction wnn.umap\n",
      "\n",
      "Adding cell embeddings for wnn.umap\n",
      "\n",
      "Adding miscellaneous information for wnn.umap\n",
      "\n",
      "Adding graph wknn\n",
      "\n",
      "Adding graph wsnn\n",
      "\n",
      "Adding command information\n",
      "\n",
      "Adding cell-level metadata\n",
      "\n",
      "Adding miscellaneous information\n",
      "\n",
      "Adding tool-specific results\n",
      "\n"
     ]
    }
   ],
   "source": [
    "ref <- LoadH5Seurat(file = '/home/jupyter/pbmc_multimodal.h5seurat')\n"
   ]
  },
  {
   "cell_type": "code",
   "execution_count": 62,
   "id": "3475f651-3c82-4ce2-9a4e-39de526625bc",
   "metadata": {
    "scrolled": true,
    "tags": []
   },
   "outputs": [
    {
     "name": "stderr",
     "output_type": "stream",
     "text": [
      "Normalizing query using reference SCT model\n",
      "\n",
      "Projecting cell embeddings\n",
      "\n",
      "Finding neighborhoods\n",
      "\n",
      "Finding anchors\n",
      "\n",
      "\tFound 6148 anchors\n",
      "\n"
     ]
    }
   ],
   "source": [
    "anchors <- FindTransferAnchors(\n",
    "    reference = ref,\n",
    "    query = fully_2.5pMT,\n",
    "    normalization.method = \"SCT\",\n",
    "    reference.reduction = \"spca\",\n",
    "    dims = 1:50\n",
    ")\n"
   ]
  },
  {
   "cell_type": "code",
   "execution_count": 63,
   "id": "6a931087-4f2e-43ae-8cc2-f3c6d68a68fb",
   "metadata": {
    "scrolled": true,
    "tags": []
   },
   "outputs": [
    {
     "name": "stderr",
     "output_type": "stream",
     "text": [
      "Finding integration vectors\n",
      "\n",
      "Finding integration vector weights\n",
      "\n",
      "Predicting cell labels\n",
      "\n",
      "Warning message:\n",
      "“Layer counts isn't present in the assay object; returning NULL”\n",
      "Predicting cell labels\n",
      "\n",
      "Warning message:\n",
      "“Feature names cannot have underscores ('_'), replacing with dashes ('-')”\n",
      "Warning message:\n",
      "“Layer counts isn't present in the assay object; returning NULL”\n",
      "Predicting cell labels\n",
      "\n",
      "Warning message:\n",
      "“Feature names cannot have underscores ('_'), replacing with dashes ('-')”\n",
      "Warning message:\n",
      "“Layer counts isn't present in the assay object; returning NULL”\n",
      "Transfering 228 features onto reference data\n",
      "\n",
      "Warning message:\n",
      "“Layer counts isn't present in the assay object; returning NULL”\n"
     ]
    }
   ],
   "source": [
    "fully_2.5pMT <- TransferData(\n",
    "    anchorset = anchors, \n",
    "    reference = ref, \n",
    "    query = fully_2.5pMT,\n",
    "    refdata = list(\n",
    "        celltype.l1 = \"celltype.l1\",\n",
    "        celltype.l2 = \"celltype.l2\",\n",
    "        celltype.l3 = \"celltype.l3\",\n",
    "        predicted_ADT = 'ADT'\n",
    "    )\n",
    ")\n"
   ]
  },
  {
   "cell_type": "code",
   "execution_count": 83,
   "id": "54c73f1d-6a2f-42fa-8f1e-4b14c605dbd1",
   "metadata": {},
   "outputs": [],
   "source": [
    "DefaultAssay(fully_2.5pMT)<- 'ADT'"
   ]
  },
  {
   "cell_type": "code",
   "execution_count": 85,
   "id": "114de83a-4188-41ab-abb5-cbfe9169b862",
   "metadata": {
    "scrolled": true,
    "tags": []
   },
   "outputs": [],
   "source": [
    "adt_cluster <- function(so){\n",
    "    DefaultAssay(so) <- 'ADT'\n",
    "    so <- so %>%\n",
    "    NormalizeData(normalization.method='CLR',margin=2) %>%\n",
    "    ScaleData() %>%\n",
    "    RunPCA(features = rownames(so), reduction.name = \"pca_adt\", reduction.key = \"pca_adt_\", verbose = FALSE) %>% \n",
    "    RunUMAP(dims = 1:20, reduction='pca_adt', assay='ADT', reduction.name = 'adt.UMAP', reduction.key='adtUMAP_') %>% \n",
    "    FindNeighbors(dims = 1:20, graph.name = 'adt_snn') %>% \n",
    "    FindClusters(resolution = 0.5, 'adt_snn')\n",
    "    return(so)\n",
    "}"
   ]
  },
  {
   "cell_type": "code",
   "execution_count": 86,
   "id": "9ace2a41-6bc1-4f5a-a765-b2507e828990",
   "metadata": {
    "scrolled": true,
    "tags": []
   },
   "outputs": [
    {
     "name": "stderr",
     "output_type": "stream",
     "text": [
      "Normalizing across cells\n",
      "\n",
      "Centering and scaling data matrix\n",
      "\n",
      "22:52:46 UMAP embedding parameters a = 0.9922 b = 1.112\n",
      "\n",
      "22:52:46 Read 38791 rows and found 20 numeric columns\n",
      "\n",
      "22:52:46 Using Annoy for neighbor search, n_neighbors = 30\n",
      "\n",
      "22:52:46 Building Annoy index with metric = cosine, n_trees = 50\n",
      "\n",
      "0%   10   20   30   40   50   60   70   80   90   100%\n",
      "\n",
      "[----|----|----|----|----|----|----|----|----|----|\n",
      "\n",
      "*\n",
      "*\n",
      "*\n",
      "*\n",
      "*\n",
      "*\n",
      "*\n",
      "*\n",
      "*\n",
      "*\n",
      "*\n",
      "*\n",
      "*\n",
      "*\n",
      "*\n",
      "*\n",
      "*\n",
      "*\n",
      "*\n",
      "*\n",
      "*\n",
      "*\n",
      "*\n",
      "*\n",
      "*\n",
      "*\n",
      "*\n",
      "*\n",
      "*\n",
      "*\n",
      "*\n",
      "*\n",
      "*\n",
      "*\n",
      "*\n",
      "*\n",
      "*\n",
      "*\n",
      "*\n",
      "*\n",
      "*\n",
      "*\n",
      "*\n",
      "*\n",
      "*\n",
      "*\n",
      "*\n",
      "*\n",
      "*\n",
      "*\n",
      "|\n",
      "\n",
      "22:52:52 Writing NN index file to temp file /tmp/Rtmp5rwxUL/file1126561a7e543\n",
      "\n",
      "22:52:52 Searching Annoy index using 1 thread, search_k = 3000\n",
      "\n",
      "22:53:07 Annoy recall = 100%\n",
      "\n",
      "22:53:07 Commencing smooth kNN distance calibration using 1 thread\n",
      " with target n_neighbors = 30\n",
      "\n",
      "22:53:09 Initializing from normalized Laplacian + noise (using RSpectra)\n",
      "\n",
      "22:53:12 Commencing optimization for 200 epochs, with 1685122 positive edges\n",
      "\n",
      "22:53:34 Optimization finished\n",
      "\n",
      "Computing nearest neighbor graph\n",
      "\n",
      "Computing SNN\n",
      "\n",
      "Only one graph name supplied, storing nearest-neighbor graph only\n",
      "\n"
     ]
    },
    {
     "name": "stdout",
     "output_type": "stream",
     "text": [
      "Modularity Optimizer version 1.3.0 by Ludo Waltman and Nees Jan van Eck\n",
      "\n",
      "Number of nodes: 38791\n",
      "Number of edges: 364154\n",
      "\n",
      "Running Louvain algorithm...\n",
      "Maximum modularity in 10 random starts: 0.9183\n",
      "Number of communities: 33\n",
      "Elapsed time: 6 seconds\n"
     ]
    },
    {
     "name": "stderr",
     "output_type": "stream",
     "text": [
      "17 singletons identified. 16 final clusters.\n",
      "\n"
     ]
    },
    {
     "data": {
      "text/plain": [
       "An object of class Seurat \n",
       "18547 features across 38791 samples within 6 assays \n",
       "Active assay: ADT (140 features, 0 variable features)\n",
       " 3 layers present: counts, data, scale.data\n",
       " 5 other assays present: RNA, prediction.score.celltype.l1, prediction.score.celltype.l2, prediction.score.celltype.l3, predicted_ADT\n",
       " 4 dimensional reductions calculated: pca, umap, pca_adt, adt.UMAP"
      ]
     },
     "metadata": {},
     "output_type": "display_data"
    }
   ],
   "source": [
    "fully_2.5pMT <- adt_cluster(fully_2.5pMT)\n",
    "fully_2.5pMT"
   ]
  },
  {
   "cell_type": "code",
   "execution_count": 88,
   "id": "3badb74b-cfd2-4052-a283-269c1954e1a1",
   "metadata": {},
   "outputs": [],
   "source": [
    "saveRDS(fully_2.5pMT,'/home/jupyter/CS15_WHBL/CWB_Paper/01_Final_Data/01_Data/Fig_1_Final.rds') # writing \n"
   ]
  },
  {
   "cell_type": "code",
   "execution_count": null,
   "id": "1e9a6b32-ee66-4d8e-b633-85982847bb73",
   "metadata": {},
   "outputs": [],
   "source": [
    "sessionInfo()"
   ]
  }
 ],
 "metadata": {
  "kernelspec": {
   "display_name": "R 4",
   "language": "R",
   "name": "ir"
  },
  "language_info": {
   "codemirror_mode": "r",
   "file_extension": ".r",
   "mimetype": "text/x-r-source",
   "name": "R",
   "pygments_lexer": "r",
   "version": "4.1.3"
  }
 },
 "nbformat": 4,
 "nbformat_minor": 5
}

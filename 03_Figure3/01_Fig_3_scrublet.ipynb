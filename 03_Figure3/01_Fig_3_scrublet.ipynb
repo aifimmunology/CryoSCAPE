{
 "cells": [
  {
   "cell_type": "code",
   "execution_count": 2,
   "id": "5d68650b-413d-4ff6-abf8-cc7d23236004",
   "metadata": {},
   "outputs": [],
   "source": [
    "import sys\n",
    "import getopt\n",
    "import shutil\n",
    "import h5py\n",
    "import pandas\n",
    "import scanpy as sc\n",
    "import scrublet\n",
    "import re\n",
    "import os"
   ]
  },
  {
   "cell_type": "code",
   "execution_count": 3,
   "id": "4c83617c-e40a-47a7-98d2-8bca9f345608",
   "metadata": {},
   "outputs": [],
   "source": [
    "h5_out = '/home/jupyter/CS15_WHBL/CWB_Paper/01_Final_Data/03_Data/exp888_scrublet/BL05012_Bead_sample_filtered_feature_bc_matrix.h5'"
   ]
  },
  {
   "cell_type": "code",
   "execution_count": 4,
   "id": "87de5a9e-136e-4b20-8d73-53a365c6185b",
   "metadata": {},
   "outputs": [],
   "source": [
    "h5_con = h5py.File(h5_out, 'r')\n",
    "# h5_con['matrix']['scrublet_score'] = doublet_scores\n",
    "# h5_con['matrix']['scrublet_call'] = predicted_doublets.astype(int)\n",
    "# h5_con.close()"
   ]
  },
  {
   "cell_type": "code",
   "execution_count": 5,
   "id": "02f43e0e-2987-4ea4-a10f-6201616a6c38",
   "metadata": {},
   "outputs": [
    {
     "data": {
      "text/plain": [
       "<HDF5 dataset \"scrublet_score\": shape (13440,), type \"<f8\">"
      ]
     },
     "execution_count": 5,
     "metadata": {},
     "output_type": "execute_result"
    }
   ],
   "source": [
    "h5_con['matrix']['scrublet_score'] "
   ]
  },
  {
   "cell_type": "code",
   "execution_count": 6,
   "id": "4bdf8bda-a01a-4c76-ac19-b99ccceb1143",
   "metadata": {},
   "outputs": [
    {
     "data": {
      "text/plain": [
       "<HDF5 dataset \"scrublet_call\": shape (13440,), type \"<i8\">"
      ]
     },
     "execution_count": 6,
     "metadata": {},
     "output_type": "execute_result"
    }
   ],
   "source": [
    "h5_con['matrix']['scrublet_call']"
   ]
  },
  {
   "cell_type": "code",
   "execution_count": 7,
   "id": "b221948c-3fba-4c94-bfba-c184c76cb6cc",
   "metadata": {},
   "outputs": [],
   "source": [
    "h5_con.close()"
   ]
  },
  {
   "cell_type": "code",
   "execution_count": 9,
   "id": "ca684577-2ca5-4517-af5a-525b69b440e6",
   "metadata": {},
   "outputs": [
    {
     "name": "stderr",
     "output_type": "stream",
     "text": [
      "/opt/conda/lib/python3.7/site-packages/anndata/_core/anndata.py:1830: UserWarning: Variable names are not unique. To make them unique, call `.var_names_make_unique`.\n",
      "  utils.warn_names_duplicates(\"var\")\n"
     ]
    }
   ],
   "source": [
    "adata= sc.read_10x_h5('/home/jupyter/CS15_WHBL/CWB_Paper/01_Final_Data/03_Data/exp888_scrublet/BL05012_Bead_sample_filtered_feature_bc_matrix.h5')"
   ]
  },
  {
   "cell_type": "code",
   "execution_count": 10,
   "id": "fa2e7619-f034-4dd7-b7b9-2775d676cc93",
   "metadata": {},
   "outputs": [],
   "source": [
    "scrub = scrublet.Scrublet(adata.X)"
   ]
  },
  {
   "cell_type": "code",
   "execution_count": 11,
   "id": "813a1e6f-ae1d-473c-b28c-4ce0971185fa",
   "metadata": {},
   "outputs": [],
   "source": [
    "doublet_scores, predicted_doublets = scrub.scrub_doublets(verbose=False)"
   ]
  },
  {
   "cell_type": "code",
   "execution_count": 19,
   "id": "b6d990ff-b29c-4d0a-9b7a-a485ce2b3d6a",
   "metadata": {},
   "outputs": [],
   "source": [
    "df = adata.obs"
   ]
  },
  {
   "cell_type": "code",
   "execution_count": 20,
   "id": "84454472-86fd-40e6-afbd-2364576d45e3",
   "metadata": {},
   "outputs": [
    {
     "data": {
      "text/html": [
       "<div>\n",
       "<style scoped>\n",
       "    .dataframe tbody tr th:only-of-type {\n",
       "        vertical-align: middle;\n",
       "    }\n",
       "\n",
       "    .dataframe tbody tr th {\n",
       "        vertical-align: top;\n",
       "    }\n",
       "\n",
       "    .dataframe thead th {\n",
       "        text-align: right;\n",
       "    }\n",
       "</style>\n",
       "<table border=\"1\" class=\"dataframe\">\n",
       "  <thead>\n",
       "    <tr style=\"text-align: right;\">\n",
       "      <th></th>\n",
       "    </tr>\n",
       "  </thead>\n",
       "  <tbody>\n",
       "    <tr>\n",
       "      <th>AAACAAGCAAGCTCAAACTTTAGG-1</th>\n",
       "    </tr>\n",
       "    <tr>\n",
       "      <th>AAACAAGCAAGTTAACACTTTAGG-1</th>\n",
       "    </tr>\n",
       "    <tr>\n",
       "      <th>AAACAAGCACATACCTACTTTAGG-1</th>\n",
       "    </tr>\n",
       "    <tr>\n",
       "      <th>AAACAAGCACCTGGTCACTTTAGG-1</th>\n",
       "    </tr>\n",
       "    <tr>\n",
       "      <th>AAACAAGCACTTTATGACTTTAGG-1</th>\n",
       "    </tr>\n",
       "    <tr>\n",
       "      <th>...</th>\n",
       "    </tr>\n",
       "    <tr>\n",
       "      <th>TTTGTGAGTCCAATACACTTTAGG-1</th>\n",
       "    </tr>\n",
       "    <tr>\n",
       "      <th>TTTGTGAGTCCATCAGACTTTAGG-1</th>\n",
       "    </tr>\n",
       "    <tr>\n",
       "      <th>TTTGTGAGTCCGGGTTACTTTAGG-1</th>\n",
       "    </tr>\n",
       "    <tr>\n",
       "      <th>TTTGTGAGTTGGCGAGACTTTAGG-1</th>\n",
       "    </tr>\n",
       "    <tr>\n",
       "      <th>TTTGTGAGTTTACGACACTTTAGG-1</th>\n",
       "    </tr>\n",
       "  </tbody>\n",
       "</table>\n",
       "<p>13440 rows × 0 columns</p>\n",
       "</div>"
      ],
      "text/plain": [
       "Empty DataFrame\n",
       "Columns: []\n",
       "Index: [AAACAAGCAAGCTCAAACTTTAGG-1, AAACAAGCAAGTTAACACTTTAGG-1, AAACAAGCACATACCTACTTTAGG-1, AAACAAGCACCTGGTCACTTTAGG-1, AAACAAGCACTTTATGACTTTAGG-1, AAACAAGCAGGAGCAAACTTTAGG-1, AAACAAGCAGGTCAACACTTTAGG-1, AAACAAGCATCAGGTAACTTTAGG-1, AAACAAGCATTGGGTAACTTTAGG-1, AAACAAGCATTTGGGAACTTTAGG-1, AAACCAATCAACCTATACTTTAGG-1, AAACCAATCACAAACAACTTTAGG-1, AAACCAATCACAAATGACTTTAGG-1, AAACCAATCAGTTAGAACTTTAGG-1, AAACCAATCCTGGAAGACTTTAGG-1, AAACCAATCGCCTCGAACTTTAGG-1, AAACCAATCGGTAAACACTTTAGG-1, AAACCAATCTAGCCTAACTTTAGG-1, AAACCAATCTGTGATTACTTTAGG-1, AAACCAATCTTGAAAGACTTTAGG-1, AAACCAATCTTGATCGACTTTAGG-1, AAACCAGGTAAAGCATACTTTAGG-1, AAACCAGGTAACGGGTACTTTAGG-1, AAACCAGGTACTGCCAACTTTAGG-1, AAACCAGGTACTTCCCACTTTAGG-1, AAACCAGGTCCTTATTACTTTAGG-1, AAACCGGTCAGGAGCCACTTTAGG-1, AAACCGGTCGACCGTTACTTTAGG-1, AAACCGGTCGAGGCGTACTTTAGG-1, AAACCGGTCTTCGCCCACTTTAGG-1, AAACCGGTCTTGATCGACTTTAGG-1, AAACGGGCAAAGGTAAACTTTAGG-1, AAACGGGCAATAAGGAACTTTAGG-1, AAACGGGCAGATAACTACTTTAGG-1, AAACGGGCAGCTTAAGACTTTAGG-1, AAACGGGCATGACCAAACTTTAGG-1, AAACGTTCAAACACGCACTTTAGG-1, AAACGTTCAACCGGATACTTTAGG-1, AAACGTTCAAGGAATAACTTTAGG-1, AAACGTTCAAGTAAGAACTTTAGG-1, AAACGTTCAATTCGGAACTTTAGG-1, AAACGTTCACCACAAAACTTTAGG-1, AAACGTTCATATAGGTACTTTAGG-1, AAACGTTCATCAGGACACTTTAGG-1, AAACTGGGTAAGGTTGACTTTAGG-1, AAACTGGGTACTTCAAACTTTAGG-1, AAACTGGGTAGTAGGCACTTTAGG-1, AAACTGGGTAGTCATCACTTTAGG-1, AAACTGGGTGATCCTGACTTTAGG-1, AAACTGGGTTAGAGGCACTTTAGG-1, AAACTGGGTTATGAGGACTTTAGG-1, AAACTGGGTTGTTTGAACTTTAGG-1, AAACTGTCAAATCACGACTTTAGG-1, AAACTGTCAACTGTTCACTTTAGG-1, AAACTGTCAATCATCCACTTTAGG-1, AAACTGTCACACAAATACTTTAGG-1, AAACTGTCAGACTCAAACTTTAGG-1, AAAGATGCAACCATTCACTTTAGG-1, AAAGATGCAACTTAGGACTTTAGG-1, AAAGATGCAATTAGGTACTTTAGG-1, AAAGATGCACCACAAAACTTTAGG-1, AAAGATGCACCTTTGGACTTTAGG-1, AAAGATGCACGTAATGACTTTAGG-1, AAAGATGCACTCCCTTACTTTAGG-1, AAAGATGCAGCTGCTCACTTTAGG-1, AAAGCATGTATGTTGCACTTTAGG-1, AAAGCATGTGTTAGTCACTTTAGG-1, AAAGCATGTTAAGCTCACTTTAGG-1, AAAGCATGTTGCCTGAACTTTAGG-1, AAAGCATGTTGCGCTAACTTTAGG-1, AAAGCATGTTGGGTTTACTTTAGG-1, AAAGCATGTTGTGAGAACTTTAGG-1, AAAGCCTAGACCTTGCACTTTAGG-1, AAAGCCTAGATAACGCACTTTAGG-1, AAAGCCTAGCAGCTAGACTTTAGG-1, AAAGCCTAGCCATAAAACTTTAGG-1, AAAGCCTAGGCCATTCACTTTAGG-1, AAAGCCTAGGTATTTCACTTTAGG-1, AAAGCCTAGGTCACAGACTTTAGG-1, AAAGCCTAGGTTAGCGACTTTAGG-1, AAAGCCTAGGTTTCCAACTTTAGG-1, AAAGCCTAGTGAGTTAACTTTAGG-1, AAAGCGAAGGATTATGACTTTAGG-1, AAAGCGAAGTATGGTAACTTTAGG-1, AAAGGCAAGCAAAGCTACTTTAGG-1, AAAGGCAAGCACTACCACTTTAGG-1, AAAGGCAAGCGATGGCACTTTAGG-1, AAAGGCAAGGAACCATACTTTAGG-1, AAAGGCAAGGCTCCATACTTTAGG-1, AAAGGCAAGGTATGGTACTTTAGG-1, AAAGGCAAGTAACTTCACTTTAGG-1, AAAGGCAAGTCATTCGACTTTAGG-1, AAAGGCTTCATGAGGTACTTTAGG-1, AAAGGCTTCCAACAGGACTTTAGG-1, AAAGGCTTCCGGACAAACTTTAGG-1, AAAGGCTTCCTGGAAGACTTTAGG-1, AAAGGCTTCGACTTGCACTTTAGG-1, AAAGGCTTCGGTAAGTACTTTAGG-1, AAAGGCTTCTGCCATAACTTTAGG-1, AAAGGCTTCTGGCCATACTTTAGG-1, ...]\n",
       "\n",
       "[13440 rows x 0 columns]"
      ]
     },
     "execution_count": 20,
     "metadata": {},
     "output_type": "execute_result"
    }
   ],
   "source": [
    "df"
   ]
  },
  {
   "cell_type": "code",
   "execution_count": 23,
   "id": "05be5ef3-4f3b-4248-8f14-4b41080ebcfa",
   "metadata": {},
   "outputs": [
    {
     "data": {
      "text/html": [
       "<div>\n",
       "<style scoped>\n",
       "    .dataframe tbody tr th:only-of-type {\n",
       "        vertical-align: middle;\n",
       "    }\n",
       "\n",
       "    .dataframe tbody tr th {\n",
       "        vertical-align: top;\n",
       "    }\n",
       "\n",
       "    .dataframe thead th {\n",
       "        text-align: right;\n",
       "    }\n",
       "</style>\n",
       "<table border=\"1\" class=\"dataframe\">\n",
       "  <thead>\n",
       "    <tr style=\"text-align: right;\">\n",
       "      <th></th>\n",
       "      <th>Doublet_Score</th>\n",
       "      <th>Predicted_Doublet</th>\n",
       "    </tr>\n",
       "  </thead>\n",
       "  <tbody>\n",
       "    <tr>\n",
       "      <th>AAACAAGCAAGCTCAAACTTTAGG-1</th>\n",
       "      <td>0.111517</td>\n",
       "      <td>False</td>\n",
       "    </tr>\n",
       "    <tr>\n",
       "      <th>AAACAAGCAAGTTAACACTTTAGG-1</th>\n",
       "      <td>0.373550</td>\n",
       "      <td>True</td>\n",
       "    </tr>\n",
       "    <tr>\n",
       "      <th>AAACAAGCACATACCTACTTTAGG-1</th>\n",
       "      <td>0.014085</td>\n",
       "      <td>False</td>\n",
       "    </tr>\n",
       "    <tr>\n",
       "      <th>AAACAAGCACCTGGTCACTTTAGG-1</th>\n",
       "      <td>0.034586</td>\n",
       "      <td>False</td>\n",
       "    </tr>\n",
       "    <tr>\n",
       "      <th>AAACAAGCACTTTATGACTTTAGG-1</th>\n",
       "      <td>0.006289</td>\n",
       "      <td>False</td>\n",
       "    </tr>\n",
       "    <tr>\n",
       "      <th>...</th>\n",
       "      <td>...</td>\n",
       "      <td>...</td>\n",
       "    </tr>\n",
       "    <tr>\n",
       "      <th>TTTGTGAGTCCAATACACTTTAGG-1</th>\n",
       "      <td>0.058601</td>\n",
       "      <td>False</td>\n",
       "    </tr>\n",
       "    <tr>\n",
       "      <th>TTTGTGAGTCCATCAGACTTTAGG-1</th>\n",
       "      <td>0.019840</td>\n",
       "      <td>False</td>\n",
       "    </tr>\n",
       "    <tr>\n",
       "      <th>TTTGTGAGTCCGGGTTACTTTAGG-1</th>\n",
       "      <td>0.013603</td>\n",
       "      <td>False</td>\n",
       "    </tr>\n",
       "    <tr>\n",
       "      <th>TTTGTGAGTTGGCGAGACTTTAGG-1</th>\n",
       "      <td>0.037883</td>\n",
       "      <td>False</td>\n",
       "    </tr>\n",
       "    <tr>\n",
       "      <th>TTTGTGAGTTTACGACACTTTAGG-1</th>\n",
       "      <td>0.431579</td>\n",
       "      <td>True</td>\n",
       "    </tr>\n",
       "  </tbody>\n",
       "</table>\n",
       "<p>13440 rows × 2 columns</p>\n",
       "</div>"
      ],
      "text/plain": [
       "                            Doublet_Score  Predicted_Doublet\n",
       "AAACAAGCAAGCTCAAACTTTAGG-1       0.111517              False\n",
       "AAACAAGCAAGTTAACACTTTAGG-1       0.373550               True\n",
       "AAACAAGCACATACCTACTTTAGG-1       0.014085              False\n",
       "AAACAAGCACCTGGTCACTTTAGG-1       0.034586              False\n",
       "AAACAAGCACTTTATGACTTTAGG-1       0.006289              False\n",
       "...                                   ...                ...\n",
       "TTTGTGAGTCCAATACACTTTAGG-1       0.058601              False\n",
       "TTTGTGAGTCCATCAGACTTTAGG-1       0.019840              False\n",
       "TTTGTGAGTCCGGGTTACTTTAGG-1       0.013603              False\n",
       "TTTGTGAGTTGGCGAGACTTTAGG-1       0.037883              False\n",
       "TTTGTGAGTTTACGACACTTTAGG-1       0.431579               True\n",
       "\n",
       "[13440 rows x 2 columns]"
      ]
     },
     "execution_count": 23,
     "metadata": {},
     "output_type": "execute_result"
    }
   ],
   "source": [
    "df['Doublet_Score'] = doublet_scores\n",
    "df['Predicted_Doublet'] = predicted_doublets\n",
    "df"
   ]
  },
  {
   "cell_type": "code",
   "execution_count": 23,
   "id": "1d5ccadd-d8e6-4867-8648-cf9c9cc5d7ed",
   "metadata": {},
   "outputs": [],
   "source": [
    "# df_merge"
   ]
  },
  {
   "cell_type": "code",
   "execution_count": 25,
   "id": "35e5fbd2-709e-4a9a-b363-e9eebb278e19",
   "metadata": {},
   "outputs": [
    {
     "data": {
      "text/plain": [
       "['/home/jupyter/CS15_WHBL/CWB_Paper/01_Final_Data/03_Data/exp888_scrublet/BL05012_FACS.csv',\n",
       " '/home/jupyter/CS15_WHBL/CWB_Paper/01_Final_Data/03_Data/exp888_scrublet/BL05013_FACS.csv',\n",
       " '/home/jupyter/CS15_WHBL/CWB_Paper/01_Final_Data/03_Data/exp888_scrublet/BL05730_FACS_sample_filtered_feature_bc_matrix.h5',\n",
       " '/home/jupyter/CS15_WHBL/CWB_Paper/01_Final_Data/03_Data/exp888_scrublet/BL05045_Bead.csv',\n",
       " '/home/jupyter/CS15_WHBL/CWB_Paper/01_Final_Data/03_Data/exp888_scrublet/BL05729_Bead.csv',\n",
       " '/home/jupyter/CS15_WHBL/CWB_Paper/01_Final_Data/03_Data/exp888_scrublet/BL05012_Bead_sample_filtered_feature_bc_matrix.h5',\n",
       " '/home/jupyter/CS15_WHBL/CWB_Paper/01_Final_Data/03_Data/exp888_scrublet/BL05731_FACS.csv',\n",
       " '/home/jupyter/CS15_WHBL/CWB_Paper/01_Final_Data/03_Data/exp888_scrublet/BL05044_Bead.csv',\n",
       " '/home/jupyter/CS15_WHBL/CWB_Paper/01_Final_Data/03_Data/exp888_scrublet/BL05045_Bead_sample_filtered_feature_bc_matrix.h5',\n",
       " '/home/jupyter/CS15_WHBL/CWB_Paper/01_Final_Data/03_Data/exp888_scrublet/BL05044_Bead_sample_filtered_feature_bc_matrix.h5',\n",
       " '/home/jupyter/CS15_WHBL/CWB_Paper/01_Final_Data/03_Data/exp888_scrublet/BL05045_FACS_sample_filtered_feature_bc_matrix.h5',\n",
       " '/home/jupyter/CS15_WHBL/CWB_Paper/01_Final_Data/03_Data/exp888_scrublet/.ipynb_checkpoints',\n",
       " '/home/jupyter/CS15_WHBL/CWB_Paper/01_Final_Data/03_Data/exp888_scrublet/BL05729_Bead_sample_filtered_feature_bc_matrix.h5',\n",
       " '/home/jupyter/CS15_WHBL/CWB_Paper/01_Final_Data/03_Data/exp888_scrublet/BL05045_FACS.csv',\n",
       " '/home/jupyter/CS15_WHBL/CWB_Paper/01_Final_Data/03_Data/exp888_scrublet/BL05013_Bead.csv',\n",
       " '/home/jupyter/CS15_WHBL/CWB_Paper/01_Final_Data/03_Data/exp888_scrublet/BL05731_Bead_sample_filtered_feature_bc_matrix.h5',\n",
       " '/home/jupyter/CS15_WHBL/CWB_Paper/01_Final_Data/03_Data/exp888_scrublet/BL05730_Bead.csv',\n",
       " '/home/jupyter/CS15_WHBL/CWB_Paper/01_Final_Data/03_Data/exp888_scrublet/BL05013_FACS_sample_filtered_feature_bc_matrix.h5',\n",
       " '/home/jupyter/CS15_WHBL/CWB_Paper/01_Final_Data/03_Data/exp888_scrublet/PB02183_Bead.csv',\n",
       " '/home/jupyter/CS15_WHBL/CWB_Paper/01_Final_Data/03_Data/exp888_scrublet/BL05730_FACS.csv',\n",
       " '/home/jupyter/CS15_WHBL/CWB_Paper/01_Final_Data/03_Data/exp888_scrublet/BL05044_FACS.csv',\n",
       " '/home/jupyter/CS15_WHBL/CWB_Paper/01_Final_Data/03_Data/exp888_scrublet/BL05729_FACS.csv',\n",
       " '/home/jupyter/CS15_WHBL/CWB_Paper/01_Final_Data/03_Data/exp888_scrublet/BL05044_FACS_sample_filtered_feature_bc_matrix.h5',\n",
       " '/home/jupyter/CS15_WHBL/CWB_Paper/01_Final_Data/03_Data/exp888_scrublet/PB02183_FACS.csv',\n",
       " '/home/jupyter/CS15_WHBL/CWB_Paper/01_Final_Data/03_Data/exp888_scrublet/PB02183_Bead_sample_filtered_feature_bc_matrix.h5',\n",
       " '/home/jupyter/CS15_WHBL/CWB_Paper/01_Final_Data/03_Data/exp888_scrublet/BL05729_FACS_sample_filtered_feature_bc_matrix.h5',\n",
       " '/home/jupyter/CS15_WHBL/CWB_Paper/01_Final_Data/03_Data/exp888_scrublet/BL05731_FACS_sample_filtered_feature_bc_matrix.h5',\n",
       " '/home/jupyter/CS15_WHBL/CWB_Paper/01_Final_Data/03_Data/exp888_scrublet/BL05012_FACS_sample_filtered_feature_bc_matrix.h5',\n",
       " '/home/jupyter/CS15_WHBL/CWB_Paper/01_Final_Data/03_Data/exp888_scrublet/BL05012_Bead.csv',\n",
       " '/home/jupyter/CS15_WHBL/CWB_Paper/01_Final_Data/03_Data/exp888_scrublet/PB02183_FACS_sample_filtered_feature_bc_matrix.h5',\n",
       " '/home/jupyter/CS15_WHBL/CWB_Paper/01_Final_Data/03_Data/exp888_scrublet/BL05730_Bead_sample_filtered_feature_bc_matrix.h5',\n",
       " '/home/jupyter/CS15_WHBL/CWB_Paper/01_Final_Data/03_Data/exp888_scrublet/BL05731_Bead.csv',\n",
       " '/home/jupyter/CS15_WHBL/CWB_Paper/01_Final_Data/03_Data/exp888_scrublet/BL05013_Bead_sample_filtered_feature_bc_matrix.h5']"
      ]
     },
     "execution_count": 25,
     "metadata": {},
     "output_type": "execute_result"
    }
   ],
   "source": [
    "path = '/home/jupyter/CS15_WHBL/CWB_Paper/01_Final_Data/03_Data/exp888_scrublet/'\n",
    "paths = [path+i for i in os.listdir(path) if i[0] != '.']\n",
    "paths"
   ]
  },
  {
   "cell_type": "code",
   "execution_count": 27,
   "id": "89f6f6cc-6948-403a-a19f-98cfc760926f",
   "metadata": {},
   "outputs": [
    {
     "data": {
      "text/plain": [
       "'BL05730_FACS'"
      ]
     },
     "execution_count": 27,
     "metadata": {},
     "output_type": "execute_result"
    }
   ],
   "source": [
    "test = '/home/jupyter/CS15_WHBL/PAPER/scrublet/BL05730_FACS_sample_filtered_feature_bc_matrix.h5'\n",
    "test.split('/')[-1].split('_sample')[0]"
   ]
  },
  {
   "cell_type": "code",
   "execution_count": 29,
   "id": "d9f818ee-f12f-4889-a3d5-a3dbf23dc927",
   "metadata": {},
   "outputs": [
    {
     "data": {
      "text/plain": [
       "'h5'"
      ]
     },
     "execution_count": 29,
     "metadata": {},
     "output_type": "execute_result"
    }
   ],
   "source": [
    "test.split('.')[1]"
   ]
  },
  {
   "cell_type": "code",
   "execution_count": 32,
   "id": "b4764057-ef8e-4c66-9bdd-e9f94ce788dd",
   "metadata": {},
   "outputs": [],
   "source": [
    "# for i in paths:\n",
    "def scrubby(x):\n",
    "    name = x.split('/')[-1].split('_sample')[0]\n",
    "    \n",
    "    if x.split('.')[1] == 'h5':\n",
    "        adata = sc.read_10x_h5(x)\n",
    "        \n",
    "        scrub = scrublet.Scrublet(adata.X)\n",
    "        doublet_scores, predicted_doublets = scrub.scrub_doublets(verbose=False)\n",
    "\n",
    "        df = adata.obs\n",
    "        df['Doublet_Score'] = doublet_scores\n",
    "        df['Predicted_Doublet'] = predicted_doublets\n",
    "\n",
    "\n",
    "        df.to_csv(path+name+'_2.csv')\n",
    "    # return(df_merge)"
   ]
  },
  {
   "cell_type": "code",
   "execution_count": 33,
   "id": "5606c3a4-3216-445e-b97b-ea9bd97c6663",
   "metadata": {
    "scrolled": true,
    "tags": []
   },
   "outputs": [
    {
     "name": "stderr",
     "output_type": "stream",
     "text": [
      "/opt/conda/lib/python3.7/site-packages/anndata/_core/anndata.py:1830: UserWarning: Variable names are not unique. To make them unique, call `.var_names_make_unique`.\n",
      "  utils.warn_names_duplicates(\"var\")\n",
      "/opt/conda/lib/python3.7/site-packages/anndata/_core/anndata.py:1830: UserWarning: Variable names are not unique. To make them unique, call `.var_names_make_unique`.\n",
      "  utils.warn_names_duplicates(\"var\")\n",
      "/opt/conda/lib/python3.7/site-packages/anndata/_core/anndata.py:1830: UserWarning: Variable names are not unique. To make them unique, call `.var_names_make_unique`.\n",
      "  utils.warn_names_duplicates(\"var\")\n",
      "/opt/conda/lib/python3.7/site-packages/anndata/_core/anndata.py:1830: UserWarning: Variable names are not unique. To make them unique, call `.var_names_make_unique`.\n",
      "  utils.warn_names_duplicates(\"var\")\n",
      "/opt/conda/lib/python3.7/site-packages/anndata/_core/anndata.py:1830: UserWarning: Variable names are not unique. To make them unique, call `.var_names_make_unique`.\n",
      "  utils.warn_names_duplicates(\"var\")\n",
      "/opt/conda/lib/python3.7/site-packages/anndata/_core/anndata.py:1830: UserWarning: Variable names are not unique. To make them unique, call `.var_names_make_unique`.\n",
      "  utils.warn_names_duplicates(\"var\")\n",
      "/opt/conda/lib/python3.7/site-packages/anndata/_core/anndata.py:1830: UserWarning: Variable names are not unique. To make them unique, call `.var_names_make_unique`.\n",
      "  utils.warn_names_duplicates(\"var\")\n",
      "/opt/conda/lib/python3.7/site-packages/anndata/_core/anndata.py:1830: UserWarning: Variable names are not unique. To make them unique, call `.var_names_make_unique`.\n",
      "  utils.warn_names_duplicates(\"var\")\n",
      "/opt/conda/lib/python3.7/site-packages/anndata/_core/anndata.py:1830: UserWarning: Variable names are not unique. To make them unique, call `.var_names_make_unique`.\n",
      "  utils.warn_names_duplicates(\"var\")\n",
      "/opt/conda/lib/python3.7/site-packages/anndata/_core/anndata.py:1830: UserWarning: Variable names are not unique. To make them unique, call `.var_names_make_unique`.\n",
      "  utils.warn_names_duplicates(\"var\")\n",
      "/opt/conda/lib/python3.7/site-packages/anndata/_core/anndata.py:1830: UserWarning: Variable names are not unique. To make them unique, call `.var_names_make_unique`.\n",
      "  utils.warn_names_duplicates(\"var\")\n",
      "/opt/conda/lib/python3.7/site-packages/anndata/_core/anndata.py:1830: UserWarning: Variable names are not unique. To make them unique, call `.var_names_make_unique`.\n",
      "  utils.warn_names_duplicates(\"var\")\n",
      "/opt/conda/lib/python3.7/site-packages/anndata/_core/anndata.py:1830: UserWarning: Variable names are not unique. To make them unique, call `.var_names_make_unique`.\n",
      "  utils.warn_names_duplicates(\"var\")\n",
      "/opt/conda/lib/python3.7/site-packages/anndata/_core/anndata.py:1830: UserWarning: Variable names are not unique. To make them unique, call `.var_names_make_unique`.\n",
      "  utils.warn_names_duplicates(\"var\")\n",
      "/opt/conda/lib/python3.7/site-packages/anndata/_core/anndata.py:1830: UserWarning: Variable names are not unique. To make them unique, call `.var_names_make_unique`.\n",
      "  utils.warn_names_duplicates(\"var\")\n",
      "/opt/conda/lib/python3.7/site-packages/anndata/_core/anndata.py:1830: UserWarning: Variable names are not unique. To make them unique, call `.var_names_make_unique`.\n",
      "  utils.warn_names_duplicates(\"var\")\n"
     ]
    }
   ],
   "source": [
    "for i in paths: scrubby(i)"
   ]
  },
  {
   "cell_type": "code",
   "execution_count": null,
   "id": "0fe15d82-d16e-4f26-b95e-d9f6f361acc2",
   "metadata": {},
   "outputs": [],
   "source": []
  }
 ],
 "metadata": {
  "kernelspec": {
   "display_name": "Python 3 (ipykernel)",
   "language": "python",
   "name": "python3"
  },
  "language_info": {
   "codemirror_mode": {
    "name": "ipython",
    "version": 3
   },
   "file_extension": ".py",
   "mimetype": "text/x-python",
   "name": "python",
   "nbconvert_exporter": "python",
   "pygments_lexer": "ipython3",
   "version": "3.7.12"
  }
 },
 "nbformat": 4,
 "nbformat_minor": 5
}

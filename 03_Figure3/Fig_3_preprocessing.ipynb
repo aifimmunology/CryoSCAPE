{
 "cells": [
  {
   "cell_type": "markdown",
   "id": "c433b7b7-f4c9-4f36-a56c-2e51332378ea",
   "metadata": {},
   "source": [
    "# Standard Seurat Processing for Mol Bio sequencing"
   ]
  },
  {
   "cell_type": "markdown",
   "id": "21aa6fcc-4f4b-4b22-9819-6ef491a7c777",
   "metadata": {},
   "source": [
    "## Importing commonly used Libraries:"
   ]
  },
  {
   "cell_type": "code",
   "execution_count": 1,
   "id": "5c7dff40-12f4-4543-bd78-e10fc4afe9cd",
   "metadata": {
    "scrolled": true,
    "tags": []
   },
   "outputs": [
    {
     "name": "stderr",
     "output_type": "stream",
     "text": [
      "\n",
      "Attaching package: ‘dplyr’\n",
      "\n",
      "\n",
      "The following objects are masked from ‘package:stats’:\n",
      "\n",
      "    filter, lag\n",
      "\n",
      "\n",
      "The following objects are masked from ‘package:base’:\n",
      "\n",
      "    intersect, setdiff, setequal, union\n",
      "\n",
      "\n",
      "Loading required package: SeuratObject\n",
      "\n",
      "Loading required package: sp\n",
      "\n",
      "\n",
      "Attaching package: ‘SeuratObject’\n",
      "\n",
      "\n",
      "The following objects are masked from ‘package:base’:\n",
      "\n",
      "    intersect, t\n",
      "\n",
      "\n",
      "Loading required package: data.table\n",
      "\n",
      "\n",
      "Attaching package: ‘data.table’\n",
      "\n",
      "\n",
      "The following objects are masked from ‘package:dplyr’:\n",
      "\n",
      "    between, first, last\n",
      "\n",
      "\n",
      "Loading required package: Matrix\n",
      "\n",
      "Loading required package: rhdf5\n",
      "\n",
      "\n",
      "Attaching package: ‘H5weaver’\n",
      "\n",
      "\n",
      "The following objects are masked from ‘package:rhdf5’:\n",
      "\n",
      "    h5dump, h5ls\n",
      "\n",
      "\n",
      "Warning message in system(\"timedatectl\", intern = TRUE):\n",
      "“running command 'timedatectl' had status 1”\n",
      "── \u001b[1mAttaching core tidyverse packages\u001b[22m ──────────────────────── tidyverse 2.0.0 ──\n",
      "\u001b[32m✔\u001b[39m \u001b[34mforcats  \u001b[39m 1.0.0     \u001b[32m✔\u001b[39m \u001b[34mreadr    \u001b[39m 2.1.5\n",
      "\u001b[32m✔\u001b[39m \u001b[34mggplot2  \u001b[39m 3.4.3     \u001b[32m✔\u001b[39m \u001b[34mstringr  \u001b[39m 1.5.1\n",
      "\u001b[32m✔\u001b[39m \u001b[34mlubridate\u001b[39m 1.9.3     \u001b[32m✔\u001b[39m \u001b[34mtibble   \u001b[39m 3.2.1\n",
      "\u001b[32m✔\u001b[39m \u001b[34mpurrr    \u001b[39m 1.0.2     \u001b[32m✔\u001b[39m \u001b[34mtidyr    \u001b[39m 1.3.1\n",
      "── \u001b[1mConflicts\u001b[22m ────────────────────────────────────────── tidyverse_conflicts() ──\n",
      "\u001b[31m✖\u001b[39m \u001b[34mdata.table\u001b[39m::\u001b[32mbetween()\u001b[39m masks \u001b[34mdplyr\u001b[39m::between()\n",
      "\u001b[31m✖\u001b[39m \u001b[34mtidyr\u001b[39m::\u001b[32mexpand()\u001b[39m       masks \u001b[34mMatrix\u001b[39m::expand()\n",
      "\u001b[31m✖\u001b[39m \u001b[34mdplyr\u001b[39m::\u001b[32mfilter()\u001b[39m       masks \u001b[34mstats\u001b[39m::filter()\n",
      "\u001b[31m✖\u001b[39m \u001b[34mdata.table\u001b[39m::\u001b[32mfirst()\u001b[39m   masks \u001b[34mdplyr\u001b[39m::first()\n",
      "\u001b[31m✖\u001b[39m \u001b[34mlubridate\u001b[39m::\u001b[32mhour()\u001b[39m     masks \u001b[34mdata.table\u001b[39m::hour()\n",
      "\u001b[31m✖\u001b[39m \u001b[34mlubridate\u001b[39m::\u001b[32misoweek()\u001b[39m  masks \u001b[34mdata.table\u001b[39m::isoweek()\n",
      "\u001b[31m✖\u001b[39m \u001b[34mdplyr\u001b[39m::\u001b[32mlag()\u001b[39m          masks \u001b[34mstats\u001b[39m::lag()\n",
      "\u001b[31m✖\u001b[39m \u001b[34mdata.table\u001b[39m::\u001b[32mlast()\u001b[39m    masks \u001b[34mdplyr\u001b[39m::last()\n",
      "\u001b[31m✖\u001b[39m \u001b[34mlubridate\u001b[39m::\u001b[32mmday()\u001b[39m     masks \u001b[34mdata.table\u001b[39m::mday()\n",
      "\u001b[31m✖\u001b[39m \u001b[34mlubridate\u001b[39m::\u001b[32mminute()\u001b[39m   masks \u001b[34mdata.table\u001b[39m::minute()\n",
      "\u001b[31m✖\u001b[39m \u001b[34mlubridate\u001b[39m::\u001b[32mmonth()\u001b[39m    masks \u001b[34mdata.table\u001b[39m::month()\n",
      "\u001b[31m✖\u001b[39m \u001b[34mtidyr\u001b[39m::\u001b[32mpack()\u001b[39m         masks \u001b[34mMatrix\u001b[39m::pack()\n",
      "\u001b[31m✖\u001b[39m \u001b[34mlubridate\u001b[39m::\u001b[32mquarter()\u001b[39m  masks \u001b[34mdata.table\u001b[39m::quarter()\n",
      "\u001b[31m✖\u001b[39m \u001b[34mlubridate\u001b[39m::\u001b[32msecond()\u001b[39m   masks \u001b[34mdata.table\u001b[39m::second()\n",
      "\u001b[31m✖\u001b[39m \u001b[34mpurrr\u001b[39m::\u001b[32mtranspose()\u001b[39m    masks \u001b[34mdata.table\u001b[39m::transpose()\n",
      "\u001b[31m✖\u001b[39m \u001b[34mtidyr\u001b[39m::\u001b[32munpack()\u001b[39m       masks \u001b[34mMatrix\u001b[39m::unpack()\n",
      "\u001b[31m✖\u001b[39m \u001b[34mlubridate\u001b[39m::\u001b[32mwday()\u001b[39m     masks \u001b[34mdata.table\u001b[39m::wday()\n",
      "\u001b[31m✖\u001b[39m \u001b[34mlubridate\u001b[39m::\u001b[32mweek()\u001b[39m     masks \u001b[34mdata.table\u001b[39m::week()\n",
      "\u001b[31m✖\u001b[39m \u001b[34mlubridate\u001b[39m::\u001b[32myday()\u001b[39m     masks \u001b[34mdata.table\u001b[39m::yday()\n",
      "\u001b[31m✖\u001b[39m \u001b[34mlubridate\u001b[39m::\u001b[32myear()\u001b[39m     masks \u001b[34mdata.table\u001b[39m::year()\n",
      "\u001b[36mℹ\u001b[39m Use the conflicted package (\u001b[3m\u001b[34m<http://conflicted.r-lib.org/>\u001b[39m\u001b[23m) to force all conflicts to become errors\n",
      "Registered S3 method overwritten by 'SeuratDisk':\n",
      "  method            from  \n",
      "  as.sparse.H5Group Seurat\n",
      "\n"
     ]
    }
   ],
   "source": [
    "library(dplyr)\n",
    "library(Seurat)\n",
    "library(patchwork)\n",
    "library(H5weaver)\n",
    "library(hise)\n",
    "library(tidyverse)\n",
    "library(SeuratObject)\n",
    "library(ggrepel)\n",
    "library(SeuratDisk)\n"
   ]
  },
  {
   "cell_type": "markdown",
   "id": "c7cd619c-7bb3-4f86-8a61-60b65edcc625",
   "metadata": {},
   "source": [
    "## Creating Seurat Objects from h5 outs from Cellranger"
   ]
  },
  {
   "cell_type": "markdown",
   "id": "fd2d359f-886c-401d-9150-266a550463eb",
   "metadata": {},
   "source": [
    "### Reading h5 files into memory"
   ]
  },
  {
   "cell_type": "code",
   "execution_count": 2,
   "id": "02c3305b-690f-4f8a-bcc9-91436cffd77e",
   "metadata": {},
   "outputs": [],
   "source": [
    "h5s <- list.files(\n",
    "\n",
    "    path = '/home/jupyter/CS15_WHBL/CWB_Paper/01_Final_Data/03_Data/exp888_scrublet', \n",
    "    pattern = 'filtered_feature_bc_matrix.h5$',\n",
    "    full.names = TRUE, \n",
    "    recursive = TRUE\n",
    ")"
   ]
  },
  {
   "cell_type": "markdown",
   "id": "0418a6ac-efb9-45bc-b905-270c27dfda6c",
   "metadata": {},
   "source": [
    "### Creating Seurat Objects"
   ]
  },
  {
   "cell_type": "code",
   "execution_count": 3,
   "id": "22bd4800-826b-46e1-880c-b6346fe510e1",
   "metadata": {},
   "outputs": [],
   "source": [
    "fully <- lapply(h5s, function(x){\n",
    "    pro <- strsplit(strsplit(x,'/exp888_scrublet/')[[1]][2],'_sample_')[[1]][1]\n",
    "\n",
    "    mtx <- Read10X_h5(x) \n",
    "    so <- CreateSeuratObject(mtx,project=pro) \n",
    "    return(so) \n",
    "    })\n"
   ]
  },
  {
   "cell_type": "code",
   "execution_count": 4,
   "id": "932f57c7-68fc-4045-a5bf-1f51e36f32cd",
   "metadata": {
    "tags": []
   },
   "outputs": [],
   "source": [
    "scrub <- list.files(\n",
    "    path = '/home/jupyter/CS15_WHBL/CWB_Paper/01_Final_Data/03_Data/exp888_scrublet', \n",
    "    pattern = '_2.csv$',\n",
    "    full.names = TRUE, \n",
    "    recursive = TRUE\n",
    ")\n"
   ]
  },
  {
   "cell_type": "code",
   "execution_count": 5,
   "id": "715068c1-e27c-46fb-b5f0-be25e5230d07",
   "metadata": {},
   "outputs": [],
   "source": [
    "scrubs <- lapply(scrub,read.csv)"
   ]
  },
  {
   "cell_type": "code",
   "execution_count": 6,
   "id": "7ef2aafe-2d49-45b2-a3cb-cc98cc7eb7f1",
   "metadata": {
    "scrolled": true,
    "tags": []
   },
   "outputs": [],
   "source": [
    "scrubs <- scrubs %>% lapply(function(x){\n",
    "    rownames(x) <- x$X\n",
    "    x$X <- NULL\n",
    "    x$Barcodes <- rownames(x)\n",
    "    return(x)\n",
    "})"
   ]
  },
  {
   "cell_type": "code",
   "execution_count": 7,
   "id": "019c5c84-039d-4497-aa5b-e277d418dc5f",
   "metadata": {
    "scrolled": true,
    "tags": []
   },
   "outputs": [],
   "source": [
    "for (i in c(1:16)){\n",
    "\n",
    "    fully[[i]][[]]$Barcodes <- rownames(scrubs[[i]])\n",
    "    \n",
    "    fully[[i]][[]] <- left_join(fully[[i]][[]], scrubs[[i]], by = 'Barcodes') # , by='row.names', all=TRUE\n",
    "}"
   ]
  },
  {
   "cell_type": "code",
   "execution_count": 8,
   "id": "55a1f9a5-3e18-4641-80f0-dd351c4e3557",
   "metadata": {},
   "outputs": [],
   "source": [
    "fully <- Reduce(merge,fully) %>% JoinLayers()\n"
   ]
  },
  {
   "cell_type": "code",
   "execution_count": 9,
   "id": "4f74d4f4-6b05-4a51-b40a-dbdaa13ead20",
   "metadata": {},
   "outputs": [],
   "source": [
    "fully$tech <- substr(fully$orig.ident,9,12)\n",
    "fully$donor <- substr(fully$orig.ident,1,7)\n"
   ]
  },
  {
   "cell_type": "code",
   "execution_count": 10,
   "id": "40caa19a-f141-4907-8dd8-1e1b2767df10",
   "metadata": {},
   "outputs": [],
   "source": [
    "fully <- fully %>% subset(subset = Predicted_Doublet == 'False')"
   ]
  },
  {
   "cell_type": "code",
   "execution_count": 11,
   "id": "e478a455-c6cc-4964-bdaa-1f401cb6de79",
   "metadata": {},
   "outputs": [],
   "source": [
    "fully[[\"percent.mt\"]] <- PercentageFeatureSet(fully, pattern = \"^MT-\")\n",
    "fully <- subset(fully, subset = percent.mt < 5)\n"
   ]
  },
  {
   "cell_type": "markdown",
   "id": "ef79ccb9-6c22-45df-9d5c-b464cb51ab0c",
   "metadata": {
    "tags": []
   },
   "source": [
    "### Normalizing, running PCA and UMAP clustering"
   ]
  },
  {
   "cell_type": "code",
   "execution_count": 12,
   "id": "aa3ea36d-cffb-4c6e-aed6-ae535edf8e09",
   "metadata": {
    "scrolled": true,
    "tags": []
   },
   "outputs": [
    {
     "name": "stderr",
     "output_type": "stream",
     "text": [
      "Normalizing layer: counts\n",
      "\n",
      "Finding variable features for layer counts\n",
      "\n",
      "Centering and scaling data matrix\n",
      "\n",
      "PC_ 1 \n",
      "Positive:  SPI1, IFI30, CST3, LYZ, SERPINA1, NCF2, CD68, TYMP, S100A9, MNDA \n",
      "\t   MPEG1, PLXNB2, FGL2, CYBB, CLEC7A, EMILIN2, HCK, VCAN, GRN, CFP \n",
      "\t   LILRB2, CSF3R, ZNF385A, S100A8, KCTD12, MS4A6A, LRP1, KLF4, FCER1G, CD14 \n",
      "Negative:  TRBC2, TRAC, IL32, TCF7, IL7R, FCMR, LTB, TRBC1, RORA, IKZF3 \n",
      "\t   LEF1, FAM102A, CD247, CD5, CD7, SAMD3, CCR7, PYHIN1, KLRK1, TRAT1 \n",
      "\t   THEMIS, CD69, PIM2, CTSW, MAL, NELL2, CCL5, PCED1B, IL2RB, PRF1 \n",
      "PC_ 2 \n",
      "Positive:  NKG7, PRF1, CST7, ANXA1, IL32, CCL5, GZMA, GNLY, SAMD3, CTSW \n",
      "\t   SYNE1, KLRK1, KLRD1, IL2RB, ADGRG1, FGFBP2, SRGN, CD247, MYBL1, GZMH \n",
      "\t   RORA, FCRL6, TGFBR3, ID2, MATK, CD7, GZMM, DOK2, CX3CR1, HOPX \n",
      "Negative:  IGHM, NIBAN3, CD79A, MS4A1, IGKC, IGHD, BANK1, CD22, FCRL1, PAX5 \n",
      "\t   FCRL2, CD79B, BLK, TNFRSF13C, BCL11A, POU2AF1, RALGPS2, TCL1A, RUBCNL, AFF3 \n",
      "\t   OSBPL10, COBLL1, FCRLA, WDFY4, BLNK, FCER2, IRF8, TCF4, SWAP70, CD24 \n",
      "PC_ 3 \n",
      "Positive:  NKG7, GNLY, PRF1, GZMB, CST7, KLRD1, ADGRG1, FGFBP2, GZMA, SYNE1 \n",
      "\t   KLRF1, GZMH, CCL5, TBX21, FCRL6, CLIC3, IL2RB, PRSS23, CX3CR1, TRDC \n",
      "\t   PLEK, CTSW, FCGR3A, SPON2, HOPX, CD300A, MATK, C1orf21, SLAMF7, KLRK1 \n",
      "Negative:  LEF1, LTB, TCF7, MAL, CCR7, IL7R, FAM102A, NELL2, TRABD2A, MYC \n",
      "\t   TRAC, TRAT1, CD28, CD27, FHIT, CD4, SESN3, ITGA6, RNF157, NOG \n",
      "\t   VIM, EGR1, CD5, PIM2, JUN, OBSCN, PCED1B, CISH, TSHZ2, CD40LG \n",
      "PC_ 4 \n",
      "Positive:  MS4A1, CD79A, CD79B, FCRL1, IGHD, PAX5, CD22, FCRL2, BANK1, TNFRSF13C \n",
      "\t   POU2AF1, SWAP70, FCER2, OSBPL10, RALGPS2, BLK, CXCR5, FCRLA, CD19, CD24 \n",
      "\t   P2RX5, MTSS1, COL19A1, IGHG3, CDK14, IGHM, CD72, FCRL5, ADAM28, SNX22 \n",
      "Negative:  CLEC4C, PTPRS, TNFRSF21, SERPINF1, SCAMP5, NRP1, LILRA4, PACSIN1, EPHA2, LAMP5 \n",
      "\t   SCN9A, IL3RA, SCT, PPM1J, DNASE1L3, SMPD3, EPHB1, GAS6, LRRC26, DERL3 \n",
      "\t   MAP1A, PHEX, PTCRA, TIFAB, PLD4, SLC12A3, SLC41A2, PLXNA4, PAPLN, P3H2 \n",
      "PC_ 5 \n",
      "Positive:  S100A12, PADI4, S100A8, VCAN, CD14, CRISPLD2, CSF3R, ITGAM, QPCT, PADI2 \n",
      "\t   DYSF, CD163, MARC1, PLBD1, MCEMP1, FCAR, TREM1, CD36, MS4A6A, CES1 \n",
      "\t   CLEC4E, CLEC4D, CYP1B1, RNASE2, CCR2, STAB1, MGST1, RNASE6, BST1, SIRPA \n",
      "Negative:  CDKN1C, TCF7L2, NEURL1, FCGR3A, SIGLEC10, HES4, PTP4A3, CKB, KNDC1, ZNF703 \n",
      "\t   FMNL2, RHOC, FCGR3B, CTSL, MTSS1, MYOF, TAGLN, IFITM3, LYPD2, CSF1R \n",
      "\t   TBC1D8, CXCL16, C1QA, MS4A7, ADGRE2, ADGRE1, WARS, ABI3, HMOX1, CASP5 \n",
      "\n",
      "Warning message:\n",
      "“The default method for RunUMAP has changed from calling Python UMAP via reticulate to the R-native UWOT using the cosine metric\n",
      "To use Python UMAP via reticulate, set umap.method to 'umap-learn' and metric to 'correlation'\n",
      "This message will be shown once per session”\n",
      "22:27:39 UMAP embedding parameters a = 0.9922 b = 1.112\n",
      "\n",
      "22:27:39 Read 197827 rows and found 20 numeric columns\n",
      "\n",
      "22:27:39 Using Annoy for neighbor search, n_neighbors = 30\n",
      "\n",
      "22:27:39 Building Annoy index with metric = cosine, n_trees = 50\n",
      "\n",
      "0%   10   20   30   40   50   60   70   80   90   100%\n",
      "\n",
      "[----|----|----|----|----|----|----|----|----|----|\n",
      "\n",
      "*\n",
      "*\n",
      "*\n",
      "*\n",
      "*\n",
      "*\n",
      "*\n",
      "*\n",
      "*\n",
      "*\n",
      "*\n",
      "*\n",
      "*\n",
      "*\n",
      "*\n",
      "*\n",
      "*\n",
      "*\n",
      "*\n",
      "*\n",
      "*\n",
      "*\n",
      "*\n",
      "*\n",
      "*\n",
      "*\n",
      "*\n",
      "*\n",
      "*\n",
      "*\n",
      "*\n",
      "*\n",
      "*\n",
      "*\n",
      "*\n",
      "*\n",
      "*\n",
      "*\n",
      "*\n",
      "*\n",
      "*\n",
      "*\n",
      "*\n",
      "*\n",
      "*\n",
      "*\n",
      "*\n",
      "*\n",
      "*\n",
      "*\n",
      "|\n",
      "\n",
      "22:28:08 Writing NN index file to temp file /tmp/RtmpYaGZOm/file10de13b2a724b\n",
      "\n",
      "22:28:08 Searching Annoy index using 1 thread, search_k = 3000\n",
      "\n",
      "22:29:48 Annoy recall = 100%\n",
      "\n",
      "22:29:49 Commencing smooth kNN distance calibration using 1 thread\n",
      "\n",
      "22:29:55 Initializing from normalized Laplacian + noise\n",
      "\n",
      "22:31:33 Commencing optimization for 200 epochs, with 8763446 positive edges\n",
      "\n",
      "22:33:15 Optimization finished\n",
      "\n",
      "Computing nearest neighbor graph\n",
      "\n",
      "Computing SNN\n",
      "\n"
     ]
    },
    {
     "name": "stdout",
     "output_type": "stream",
     "text": [
      "Modularity Optimizer version 1.3.0 by Ludo Waltman and Nees Jan van Eck\n",
      "\n",
      "Number of nodes: 197827\n",
      "Number of edges: 5536651\n",
      "\n",
      "Running Louvain algorithm...\n",
      "Maximum modularity in 10 random starts: 0.9312\n",
      "Number of communities: 26\n",
      "Elapsed time: 276 seconds\n"
     ]
    }
   ],
   "source": [
    "fully <- NormalizeData(fully) %>% \n",
    "    FindVariableFeatures() %>% \n",
    "    ScaleData() %>% \n",
    "    RunPCA() %>% \n",
    "    RunUMAP(dims = 1:20) %>% \n",
    "    FindNeighbors(dims = 1:20) %>% \n",
    "    FindClusters(resolution = 0.5)\n"
   ]
  },
  {
   "cell_type": "markdown",
   "id": "1ba10c12-1167-487f-bc26-796e738a252d",
   "metadata": {
    "tags": []
   },
   "source": [
    "### Saving the SO to a file that can be read into memory later.\n"
   ]
  },
  {
   "cell_type": "code",
   "execution_count": 13,
   "id": "a9f4385d-9dbb-443a-9eb3-13508bf20947",
   "metadata": {
    "scrolled": true,
    "tags": []
   },
   "outputs": [
    {
     "name": "stderr",
     "output_type": "stream",
     "text": [
      "Validating h5Seurat file\n",
      "\n",
      "Initializing ADT with data\n",
      "\n",
      "Adding counts for ADT\n",
      "\n",
      "Adding variable feature information for ADT\n",
      "\n",
      "Adding miscellaneous information for ADT\n",
      "\n",
      "Initializing SCT with data\n",
      "\n",
      "Adding counts for SCT\n",
      "\n",
      "Adding variable feature information for SCT\n",
      "\n",
      "Adding miscellaneous information for SCT\n",
      "\n",
      "Adding reduction apca\n",
      "\n",
      "Adding cell embeddings for apca\n",
      "\n",
      "Adding feature loadings for apca\n",
      "\n",
      "Adding miscellaneous information for apca\n",
      "\n",
      "Adding reduction aumap\n",
      "\n",
      "Adding cell embeddings for aumap\n",
      "\n",
      "Adding miscellaneous information for aumap\n",
      "\n",
      "Adding reduction pca\n",
      "\n",
      "Adding cell embeddings for pca\n",
      "\n",
      "Adding feature loadings for pca\n",
      "\n",
      "Adding miscellaneous information for pca\n",
      "\n",
      "Adding reduction spca\n",
      "\n",
      "Adding cell embeddings for spca\n",
      "\n",
      "Adding feature loadings for spca\n",
      "\n",
      "Adding miscellaneous information for spca\n",
      "\n",
      "Adding reduction umap\n",
      "\n",
      "Adding cell embeddings for umap\n",
      "\n",
      "Adding miscellaneous information for umap\n",
      "\n",
      "Adding reduction wnn.umap\n",
      "\n",
      "Adding cell embeddings for wnn.umap\n",
      "\n",
      "Adding miscellaneous information for wnn.umap\n",
      "\n",
      "Adding graph wknn\n",
      "\n",
      "Adding graph wsnn\n",
      "\n",
      "Adding command information\n",
      "\n",
      "Adding cell-level metadata\n",
      "\n",
      "Adding miscellaneous information\n",
      "\n",
      "Adding tool-specific results\n",
      "\n"
     ]
    }
   ],
   "source": [
    "ref <- LoadH5Seurat(file = '/home/jupyter/pbmc_multimodal.h5seurat')\n"
   ]
  },
  {
   "cell_type": "code",
   "execution_count": 14,
   "id": "4b4afa07-c00b-40db-97a5-4cb5aa41ee27",
   "metadata": {
    "scrolled": true,
    "tags": []
   },
   "outputs": [
    {
     "name": "stderr",
     "output_type": "stream",
     "text": [
      "Normalizing query using reference SCT model\n",
      "\n",
      "Projecting cell embeddings\n",
      "\n",
      "Finding neighborhoods\n",
      "\n",
      "Finding anchors\n",
      "\n",
      "\tFound 13584 anchors\n",
      "\n"
     ]
    }
   ],
   "source": [
    "anchors <- FindTransferAnchors(\n",
    "    reference = ref,\n",
    "    query = fully,\n",
    "    normalization.method = \"SCT\",\n",
    "    reference.reduction = \"spca\",\n",
    "    dims = 1:50\n",
    ")\n"
   ]
  },
  {
   "cell_type": "code",
   "execution_count": 15,
   "id": "a2df9a20-feaf-4356-8699-c6b18f365096",
   "metadata": {
    "scrolled": true,
    "tags": []
   },
   "outputs": [
    {
     "name": "stderr",
     "output_type": "stream",
     "text": [
      "Finding integration vectors\n",
      "\n",
      "Finding integration vector weights\n",
      "\n",
      "Predicting cell labels\n",
      "\n",
      "Warning message:\n",
      "“Layer counts isn't present in the assay object; returning NULL”\n",
      "Predicting cell labels\n",
      "\n",
      "Warning message:\n",
      "“Feature names cannot have underscores ('_'), replacing with dashes ('-')”\n",
      "Warning message:\n",
      "“Layer counts isn't present in the assay object; returning NULL”\n",
      "Predicting cell labels\n",
      "\n",
      "Warning message:\n",
      "“Feature names cannot have underscores ('_'), replacing with dashes ('-')”\n",
      "Warning message:\n",
      "“Layer counts isn't present in the assay object; returning NULL”\n",
      "Transfering 228 features onto reference data\n",
      "\n",
      "Warning message:\n",
      "“Layer counts isn't present in the assay object; returning NULL”\n"
     ]
    }
   ],
   "source": [
    "fully <- TransferData(\n",
    "    anchorset = anchors, \n",
    "    reference = ref, \n",
    "    query = fully,\n",
    "    refdata = list(\n",
    "        celltype.l1 = \"celltype.l1\",\n",
    "        celltype.l2 = \"celltype.l2\",\n",
    "        celltype.l3 = \"celltype.l3\",\n",
    "        predicted_ADT = 'ADT'\n",
    "    )\n",
    ")"
   ]
  },
  {
   "cell_type": "markdown",
   "id": "4c3311a3-97da-4d80-a4a5-cdedc7e912fc",
   "metadata": {},
   "source": [
    "### Messing with Metadata, helpful with plotting!"
   ]
  },
  {
   "cell_type": "code",
   "execution_count": 16,
   "id": "a564a252-07ed-4542-964f-cf9e12b96fc8",
   "metadata": {},
   "outputs": [],
   "source": [
    "saveRDS(fully, '/home/jupyter/CS15_WHBL/CWB_Paper/01_Final_Data/03_Data/Fig_3_Final.rds')"
   ]
  },
  {
   "cell_type": "code",
   "execution_count": 17,
   "id": "a8f5c537-3a0e-497d-94e5-26820b037852",
   "metadata": {},
   "outputs": [
    {
     "data": {
      "text/plain": [
       "R version 4.1.3 (2022-03-10)\n",
       "Platform: x86_64-pc-linux-gnu (64-bit)\n",
       "Running under: Ubuntu 20.04.4 LTS\n",
       "\n",
       "Matrix products: default\n",
       "BLAS:   /usr/lib/x86_64-linux-gnu/openblas-pthread/libblas.so.3\n",
       "LAPACK: /usr/lib/x86_64-linux-gnu/openblas-pthread/liblapack.so.3\n",
       "\n",
       "locale:\n",
       " [1] LC_CTYPE=C.UTF-8       LC_NUMERIC=C           LC_TIME=C.UTF-8       \n",
       " [4] LC_COLLATE=C.UTF-8     LC_MONETARY=C.UTF-8    LC_MESSAGES=C.UTF-8   \n",
       " [7] LC_PAPER=C.UTF-8       LC_NAME=C              LC_ADDRESS=C          \n",
       "[10] LC_TELEPHONE=C         LC_MEASUREMENT=C.UTF-8 LC_IDENTIFICATION=C   \n",
       "\n",
       "attached base packages:\n",
       "[1] stats     graphics  grDevices utils     datasets  methods   base     \n",
       "\n",
       "other attached packages:\n",
       " [1] SeuratDisk_0.0.0.9020 ggrepel_0.9.5         lubridate_1.9.3      \n",
       " [4] forcats_1.0.0         stringr_1.5.1         purrr_1.0.2          \n",
       " [7] readr_2.1.5           tidyr_1.3.1           tibble_3.2.1         \n",
       "[10] ggplot2_3.4.3         tidyverse_2.0.0       hise_2.15.0          \n",
       "[13] H5weaver_1.2.0        rhdf5_2.38.1          Matrix_1.6-4         \n",
       "[16] data.table_1.14.2     patchwork_1.1.1       Seurat_5.1.0         \n",
       "[19] SeuratObject_5.0.2    sp_2.1-4              dplyr_1.1.4          \n",
       "\n",
       "loaded via a namespace (and not attached):\n",
       "  [1] Rtsne_0.16             colorspace_2.0-3       deldir_1.0-6          \n",
       "  [4] ellipsis_0.3.2         ggridges_0.5.3         IRdisplay_1.1         \n",
       "  [7] RcppHNSW_0.3.0         base64enc_0.1-3        spatstat.data_3.0-4   \n",
       " [10] leiden_0.3.10          listenv_0.8.0          bit64_4.0.5           \n",
       " [13] RSpectra_0.16-1        fansi_1.0.3            codetools_0.2-18      \n",
       " [16] splines_4.1.3          polyclip_1.10-0        IRkernel_1.3          \n",
       " [19] spam_2.8-0             jsonlite_1.8.8         ica_1.0-2             \n",
       " [22] cluster_2.1.3          png_0.1-7              uwot_0.1.11           \n",
       " [25] shiny_1.7.1            sctransform_0.4.1      spatstat.sparse_3.0-3 \n",
       " [28] compiler_4.1.3         httr_1.4.7             fastmap_1.2.0         \n",
       " [31] lazyeval_0.2.2         cli_3.6.2              later_1.3.0           \n",
       " [34] htmltools_0.5.2        tools_4.1.3            igraph_1.3.1          \n",
       " [37] dotCall64_1.0-1        gtable_0.3.0           glue_1.6.2            \n",
       " [40] RANN_2.6.1             reshape2_1.4.4         Rcpp_1.0.8.3          \n",
       " [43] scattermore_1.2        rhdf5filters_1.6.0     vctrs_0.6.5           \n",
       " [46] nlme_3.1-157           spatstat.explore_3.2-7 progressr_0.10.0      \n",
       " [49] lmtest_0.9-40          spatstat.random_3.2-3  globals_0.14.0        \n",
       " [52] timechange_0.3.0       mime_0.12              miniUI_0.1.1.1        \n",
       " [55] lifecycle_1.0.4        irlba_2.3.5            goftest_1.2-3         \n",
       " [58] future_1.25.0          MASS_7.3-57            zoo_1.8-10            \n",
       " [61] scales_1.3.0           hms_1.1.3              promises_1.2.0.1      \n",
       " [64] spatstat.utils_3.0-4   parallel_4.1.3         RColorBrewer_1.1-3    \n",
       " [67] reticulate_1.24        pbapply_1.5-0          gridExtra_2.3         \n",
       " [70] stringi_1.7.6          fastDummies_1.7.3      repr_1.1.4.9000       \n",
       " [73] rlang_1.1.3            pkgconfig_2.0.3        matrixStats_0.62.0    \n",
       " [76] evaluate_0.15          lattice_0.20-45        Rhdf5lib_1.16.0       \n",
       " [79] ROCR_1.0-11            tensor_1.5             htmlwidgets_1.5.4     \n",
       " [82] bit_4.0.4              cowplot_1.1.1          tidyselect_1.2.1      \n",
       " [85] parallelly_1.31.1      RcppAnnoy_0.0.19       plyr_1.8.7            \n",
       " [88] magrittr_2.0.3         R6_2.5.1               generics_0.1.3        \n",
       " [91] pbdZMQ_0.3-7           withr_2.5.0            pillar_1.9.0          \n",
       " [94] fitdistrplus_1.1-8     survival_3.3-1         abind_1.4-5           \n",
       " [97] future.apply_1.9.0     hdf5r_1.3.5            crayon_1.5.1          \n",
       "[100] uuid_1.1-0             KernSmooth_2.23-20     utf8_1.2.2            \n",
       "[103] spatstat.geom_3.2-9    plotly_4.10.0          tzdb_0.4.0            \n",
       "[106] grid_4.1.3             digest_0.6.29          xtable_1.8-4          \n",
       "[109] httpuv_1.6.5           munsell_0.5.0          viridisLite_0.4.0     "
      ]
     },
     "metadata": {},
     "output_type": "display_data"
    }
   ],
   "source": [
    "sessionInfo()"
   ]
  }
 ],
 "metadata": {
  "kernelspec": {
   "display_name": "R 4",
   "language": "R",
   "name": "ir"
  },
  "language_info": {
   "codemirror_mode": "r",
   "file_extension": ".r",
   "mimetype": "text/x-r-source",
   "name": "R",
   "pygments_lexer": "r",
   "version": "4.1.3"
  }
 },
 "nbformat": 4,
 "nbformat_minor": 5
}
